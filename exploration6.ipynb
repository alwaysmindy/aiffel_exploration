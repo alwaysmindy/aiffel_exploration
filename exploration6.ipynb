{
 "cells": [
  {
   "cell_type": "markdown",
   "id": "ecb0b7af",
   "metadata": {},
   "source": [
    "##네이버 영화리뷰 감성분석 도전하기  \n",
    "텍스트 형식의 네이버 영화리뷰를 활용하여 그것이 긍정적인지 또는 부정적인지를 예측하는 모델을 구성하였고  \n",
    "이는 RNN  구성방식 중 Many to One에 해당합니다.  \n",
    "IMDB 데이터셋을 분석한 후 딥러닝 모델을 설계하고 훈련에\n",
    "사용한 모델은 LSTM, 1-D CNN, GlovalAveragingPooling layer 총 세가지 입니다.  \n",
    "총 50000개의 리뷰가 있고 긍정은 1, 부정은 0의 값입니다.    \n",
    "train 데이터는 25000개이고 validation 데이터는 train의 40%인 87709개 입니다.  \n",
    "첫번째는 네이버 영화 리뷰 텍스트를 활용했고 두번째는 word2Vec을 적용해서 성능을 개선하는 작업을 했습니다  \n",
    "  \n",
    "<b>전체 구성</b> \n",
    "1. 데이터 준비와 과정  \n",
    "2. 데이터 로더 구성  \n",
    "3. 모델구성 위한  \n",
    "4. validation set 구성  \n",
    "5. 모델구성(LSTM, 1-D CNN, GlovalAveragePooling layer)  \n",
    "6. 모델 훈련  \n",
    "7. 모델 평가  \n",
    "8. 그래프 시각화    \n",
    "9. Embedding layer 분석   \n",
    "10. 한국어 Word2Vec 적용  \n",
    "  \n",
    "<목표>  \n",
    "1. 3가지 이상 모델을 활용하여 Text Classification 구현  \n",
    "2. 한국어 Word2Vec을 활용하여 성능향상 "
   ]
  },
  {
   "cell_type": "code",
   "execution_count": 1,
   "id": "73982c2c",
   "metadata": {},
   "outputs": [],
   "source": [
    "#데이터 로더에 필요한 라이브러리\n",
    "import os\n",
    "from konlpy.tag import Mecab\n",
    "import numpy as np\n",
    "from collections import Counter\n",
    "\n",
    "import pandas as pd\n",
    "import numpy as np\n",
    "\n",
    "import tensorflow as tf\n",
    "from tensorflow import keras\n",
    "from tensorflow.keras.preprocessing.text import Tokenizer\n",
    "from tensorflow.keras.preprocessing.sequence import pad_sequences\n",
    "\n",
    "%matplotlib inline\n",
    "import matplotlib.pyplot as plt\n",
    "\n",
    "import re\n",
    "from konlpy.tag import Okt as okt\n",
    "from tqdm import tqdm\n",
    "\n",
    "import gensim\n",
    "from gensim.models import KeyedVectors\n",
    "from gensim.models import Word2Vec\n",
    "from gensim.models.keyedvectors import Word2VecKeyedVectors\n",
    "from tensorflow.keras.initializers import Constant"
   ]
  },
  {
   "cell_type": "markdown",
   "id": "194e1ee8",
   "metadata": {},
   "source": [
    "<b>1. 데이터 준비와 과정</b> \n",
    "train_data는 150,000개 \n",
    "test_data는 50,000개  \n",
    "columns는 'id', 'document', 'label'로 구성되어 있고 이 중에 'document'와 'label'만 사용 "
   ]
  },
  {
   "cell_type": "code",
   "execution_count": 2,
   "id": "c771da9b",
   "metadata": {},
   "outputs": [
    {
     "data": {
      "text/html": [
       "<div>\n",
       "<style scoped>\n",
       "    .dataframe tbody tr th:only-of-type {\n",
       "        vertical-align: middle;\n",
       "    }\n",
       "\n",
       "    .dataframe tbody tr th {\n",
       "        vertical-align: top;\n",
       "    }\n",
       "\n",
       "    .dataframe thead th {\n",
       "        text-align: right;\n",
       "    }\n",
       "</style>\n",
       "<table border=\"1\" class=\"dataframe\">\n",
       "  <thead>\n",
       "    <tr style=\"text-align: right;\">\n",
       "      <th></th>\n",
       "      <th>id</th>\n",
       "      <th>document</th>\n",
       "      <th>label</th>\n",
       "    </tr>\n",
       "  </thead>\n",
       "  <tbody>\n",
       "    <tr>\n",
       "      <th>0</th>\n",
       "      <td>9976970</td>\n",
       "      <td>아 더빙.. 진짜 짜증나네요 목소리</td>\n",
       "      <td>0</td>\n",
       "    </tr>\n",
       "    <tr>\n",
       "      <th>1</th>\n",
       "      <td>3819312</td>\n",
       "      <td>흠...포스터보고 초딩영화줄....오버연기조차 가볍지 않구나</td>\n",
       "      <td>1</td>\n",
       "    </tr>\n",
       "    <tr>\n",
       "      <th>2</th>\n",
       "      <td>10265843</td>\n",
       "      <td>너무재밓었다그래서보는것을추천한다</td>\n",
       "      <td>0</td>\n",
       "    </tr>\n",
       "    <tr>\n",
       "      <th>3</th>\n",
       "      <td>9045019</td>\n",
       "      <td>교도소 이야기구먼 ..솔직히 재미는 없다..평점 조정</td>\n",
       "      <td>0</td>\n",
       "    </tr>\n",
       "    <tr>\n",
       "      <th>4</th>\n",
       "      <td>6483659</td>\n",
       "      <td>사이몬페그의 익살스런 연기가 돋보였던 영화!스파이더맨에서 늙어보이기만 했던 커스틴 ...</td>\n",
       "      <td>1</td>\n",
       "    </tr>\n",
       "  </tbody>\n",
       "</table>\n",
       "</div>"
      ],
      "text/plain": [
       "         id                                           document  label\n",
       "0   9976970                                아 더빙.. 진짜 짜증나네요 목소리      0\n",
       "1   3819312                  흠...포스터보고 초딩영화줄....오버연기조차 가볍지 않구나      1\n",
       "2  10265843                                  너무재밓었다그래서보는것을추천한다      0\n",
       "3   9045019                      교도소 이야기구먼 ..솔직히 재미는 없다..평점 조정      0\n",
       "4   6483659  사이몬페그의 익살스런 연기가 돋보였던 영화!스파이더맨에서 늙어보이기만 했던 커스틴 ...      1"
      ]
     },
     "execution_count": 2,
     "metadata": {},
     "output_type": "execute_result"
    }
   ],
   "source": [
    "train_data = pd.read_table('~/aiffel/sentiment_classification/data/ratings_train.txt')\n",
    "test_data = pd.read_table('~/aiffel/sentiment_classification/data/ratings_test.txt')\n",
    "\n",
    "train_data.head()"
   ]
  },
  {
   "cell_type": "code",
   "execution_count": 3,
   "id": "82b47acd",
   "metadata": {},
   "outputs": [
    {
     "name": "stdout",
     "output_type": "stream",
     "text": [
      "(150000, 3)\n",
      "(50000, 3)\n"
     ]
    }
   ],
   "source": [
    "print(train_data.shape)\n",
    "print(test_data.shape)"
   ]
  },
  {
   "cell_type": "markdown",
   "id": "f4fd6493",
   "metadata": {},
   "source": [
    "<b>2. 데이터 로더 구성</b>  \n",
    "● 데이터의 중복 제거  \n",
    "● NaN 결측치 제거  \n",
    "● 한국어 토크나이저로 토큰화  \n",
    "● 불용어(Stopwords) 제거  \n",
    "● 사전word_to_index 구성  \n",
    "● 텍스트 스트링을 사전 인덱스 스트링으로 변환  \n",
    "● X_train, y_train, X_test, y_test, word_to_index 리턴  \n",
    "  \n",
    "counter: counter 클래스, 데이터 개수 셀 때 사용\n",
    "most_common(k): 데이터 개수가 많은 순으로 정렬된 배열을 리턴,  \n",
    "                k인자로 넘기면 가장 개수가 많은 k개의 데이터를 얻을 수 있다.  "
   ]
  },
  {
   "cell_type": "code",
   "execution_count": 4,
   "id": "4d8da53b",
   "metadata": {},
   "outputs": [],
   "source": [
    "tokenizer = Mecab() #한국어 형태소 분석에 필요\n",
    "stopwords = ['의','가','이','은','들','는','좀','잘','걍','과','도','를','으로','자','에','와','한','하다']\n",
    "\n",
    "def load_data(train_data, test_data, num_words=10000):\n",
    "    train_data.drop_duplicates(subset=['document'], inplace=True) #subset 중복 제거할 데이터\n",
    "    train_data = train_data.dropna(how = 'any') #결측치 제거 \n",
    "    test_data.drop_duplicates(subset=['document'], inplace=True)\n",
    "    test_data = test_data.dropna(how = 'any') \n",
    "    \n",
    "    X_train = []\n",
    "    for sentence in train_data['document']: \n",
    "        temp_X = tokenizer.morphs(sentence) #문장 토큰화\n",
    "        temp_X = [word for word in temp_X if not word in stopwords] # 토큰화한 문장 중 stopwords 제거\n",
    "        X_train.append(temp_X)\n",
    "\n",
    "    X_test = []\n",
    "    for sentence in test_data['document']:\n",
    "        temp_X = tokenizer.morphs(sentence) \n",
    "        temp_X = [word for word in temp_X if not word in stopwords] \n",
    "        X_test.append(temp_X)\n",
    "    \n",
    "    words = np.concatenate(X_train).tolist() #numpy array list로 반환 \n",
    "    counter = Counter(words) \n",
    "    counter = counter.most_common(10000-4)\n",
    "    vocab = ['', '', '', ''] + [key for key, _ in counter]\n",
    "    word_to_index = {word:index for index, word in enumerate(vocab)} #word _ndex 구성\n",
    "        \n",
    "    def wordlist_to_indexlist(wordlist):#텍스트 스트링을 사전 인덱스 스트링으로 변환 \n",
    "        return [word_to_index[word] if word in word_to_index else word_to_index[''] for word in wordlist]\n",
    "        \n",
    "    X_train = list(map(wordlist_to_indexlist, X_train))\n",
    "    X_test = list(map(wordlist_to_indexlist, X_test))\n",
    "        \n",
    "    return X_train, np.array(list(train_data['label'])), X_test, np.array(list(test_data['label'])), word_to_index\n",
    "    \n",
    "X_train, y_train, X_test, y_test, word_to_index = load_data(train_data, test_data)"
   ]
  },
  {
   "cell_type": "markdown",
   "id": "818c45f8",
   "metadata": {},
   "source": [
    "print(words[:5]) => ['아', '더', '빙', '.', '.']  \n",
    "print(counter[:10]) => [('.', 159415), ('영화', 57338), ('다', 54971), ('고', 47196), ('하', 44376), ('을', 29832), ('보', 25603), ('..', 22655), ('게', 22161), (',', 22047)]  \n",
    "print(vocab[:10]) => ['', '', '', '', '.', '영화', '다', '고', '하', '을']\n",
    "word_to_index 10개만 출력 \n",
    ": 3\n",
    ".: 4\n",
    "영화: 5\n",
    "다: 6\n",
    "고: 7\n",
    "하: 8\n",
    "을: 9\n",
    "보: 10\n",
    "..: 11\n",
    "게: 12"
   ]
  },
  {
   "cell_type": "markdown",
   "id": "d1752efe",
   "metadata": {},
   "source": [
    "<b>3. Encode, decode 함수 정의</b>  \n",
    "이미 위에서 word_to_index와 index_to_word를 구했기 때문에 아래 함수들이 필요 없지만 encode된 텍스트가 정상적으로 decode 되는지 확인하기 위해 get_decoded_sentence와 get_encoded_sentence 함수가 필요하다. "
   ]
  },
  {
   "cell_type": "code",
   "execution_count": 5,
   "id": "ad36eff1",
   "metadata": {},
   "outputs": [],
   "source": [
    "#문장 1개, 딕셔너리를 인수로 주면 단어 인덱스 리스트 벡터로 변환, 모든 문장은 <BOS>로 시작\n",
    "def get_encoded_sentence(sentence, word_to_index):  \n",
    "    return [word_to_index['<BOS>']]+[word_to_index[word] if word in word_to_index else word_to_index['<UNK>'] for word in sentence.split()]\n",
    "\n",
    "#여러 문장 리스트를 한꺼번에 단어 인덱스 리스트 벡터로 encode해 주는 함수\n",
    "#def get_encoded_sentences(sentences, word_to_index):\n",
    "#    return [get_encoded_sentence(sentence, word_to_index) for sentence in sentences]\n",
    "\n",
    "#encode된 문장을 decode하는 함수 \n",
    "def get_decoded_sentence(encoded_sentence, index_to_word):\n",
    "    return ' '.join(index_to_word[index] if index in index_to_word else '<UNK>' for index in encoded_sentence[1:])  #[1:]를 통해 <BOS>를 제외\n",
    "\n",
    "# 여러 개의 숫자 벡터로 encode된 문장을 한꺼번에 원래대로 decode하는 함수 \n",
    "#def get_decoded_sentences(encoded_sentences, index_to_word):\n",
    "#    return [get_decoded_sentence(encoded_sentence, index_to_word) for encoded_sentence in encoded_sentences]"
   ]
  },
  {
   "cell_type": "code",
   "execution_count": 6,
   "id": "e8924dee",
   "metadata": {},
   "outputs": [],
   "source": [
    "index_to_word = {index:word for word, index in word_to_index.items()}"
   ]
  },
  {
   "cell_type": "code",
   "execution_count": 7,
   "id": "83f28b4b",
   "metadata": {},
   "outputs": [
    {
     "name": "stdout",
     "output_type": "stream",
     "text": [
      "더 빙 . . 진짜 짜증 나 네요 목소리\n",
      "라벨:  0\n"
     ]
    }
   ],
   "source": [
    "#encode된 텍스트가 정상적으로 decode되는지 확인\n",
    "print(get_decoded_sentence(X_train[0], index_to_word))\n",
    "print('라벨: ', y_train[0])  # 1번째 리뷰데이터의 라벨"
   ]
  },
  {
   "cell_type": "code",
   "execution_count": 8,
   "id": "56a0c01f",
   "metadata": {},
   "outputs": [],
   "source": [
    "#확인해보니 word_to_index에 PAD, BOS, UNK, UNUSED가 없어 추가해줬다. \n",
    "word_to_index[\"<PAD>\"] = 0\n",
    "word_to_index[\"<BOS>\"] = 1\n",
    "word_to_index[\"<UNK>\"] = 2  \n",
    "word_to_index[\"<UNUSED>\"] = 3"
   ]
  },
  {
   "cell_type": "markdown",
   "id": "76e4d812",
   "metadata": {},
   "source": [
    "<b>4. 모델구성 위한 준비</b>  \n",
    "●max_len 설정  \n",
    "●train dataset과 test dataset에 sequence padding 적용"
   ]
  },
  {
   "cell_type": "code",
   "execution_count": 9,
   "id": "2c377dd9",
   "metadata": {},
   "outputs": [
    {
     "name": "stdout",
     "output_type": "stream",
     "text": [
      "문장길이 평균 :  15.96940191154864\n",
      "문장길이 최대 :  116\n",
      "문장길이 표준편차 :  12.843571191092\n",
      "pad_sequences maxlen :  41\n",
      "전체 문장의 0.9342988343341575%가 maxlen 설정값 이내에 포함됩니다. \n"
     ]
    }
   ],
   "source": [
    "total_data_text = list(X_train) + list(X_test)\n",
    "\n",
    "num_tokens = [len(tokens) for tokens in total_data_text] #토큰 길이\n",
    "num_tokens = np.array(num_tokens)\n",
    "\n",
    "print('문장길이 평균 : ', np.mean(num_tokens))\n",
    "print('문장길이 최대 : ', np.max(num_tokens))\n",
    "print('문장길이 표준편차 : ', np.std(num_tokens))\n",
    "\n",
    "max_tokens = np.mean(num_tokens) + 2 * np.std(num_tokens)\n",
    "maxlen = int(max_tokens) #토큰 최대 길이\n",
    "print('pad_sequences maxlen : ', maxlen)\n",
    "print('전체 문장의 {}%가 maxlen 설정값 이내에 포함됩니다. '.format(np.sum(num_tokens < max_tokens) / len(num_tokens)))\n",
    "\n",
    "# 패딩 추가\n",
    "# 마지막에 위치한 단어가 최종 state 값에 가장 많은 영향을 미치므로 padding을 pre로 지정.\n",
    "X_train = keras.preprocessing.sequence.pad_sequences(X_train,\n",
    "                                                        value=word_to_index[\"<PAD>\"],\n",
    "                                                        padding='pre',\n",
    "                                                        maxlen=maxlen)\n",
    "\n",
    "X_test = keras.preprocessing.sequence.pad_sequences(X_test,\n",
    "                                                       value=word_to_index[\"<PAD>\"],\n",
    "                                                       padding='pre',\n",
    "                                                       maxlen=maxlen)"
   ]
  },
  {
   "cell_type": "code",
   "execution_count": 10,
   "id": "ad5600d2",
   "metadata": {},
   "outputs": [
    {
     "name": "stdout",
     "output_type": "stream",
     "text": [
      "(146182, 41)\n",
      "(146182,)\n",
      "(49157, 41)\n"
     ]
    }
   ],
   "source": [
    "print(X_train.shape)\n",
    "print(y_train.shape)\n",
    "print(X_test.shape)"
   ]
  },
  {
   "cell_type": "markdown",
   "id": "6ebe3240",
   "metadata": {},
   "source": [
    "<b>5. Validation set 정의</b>"
   ]
  },
  {
   "cell_type": "code",
   "execution_count": 11,
   "id": "69c85454",
   "metadata": {},
   "outputs": [
    {
     "name": "stdout",
     "output_type": "stream",
     "text": [
      "(87709, 41)\n",
      "(87709,)\n"
     ]
    }
   ],
   "source": [
    "#학습 데이터의 40%를 validation set으로 사용\n",
    "X_val = X_train[:58473]   \n",
    "y_val = y_train[:58473]\n",
    "\n",
    "partial_X_train = X_train[58473:]  \n",
    "partial_y_train = y_train[58473:]\n",
    "\n",
    "print(partial_X_train.shape)\n",
    "print(partial_y_train.shape)"
   ]
  },
  {
   "cell_type": "markdown",
   "id": "f927a4ac",
   "metadata": {},
   "source": [
    "<b>6. Model 설계</b>"
   ]
  },
  {
   "cell_type": "code",
   "execution_count": 12,
   "id": "f493be4a",
   "metadata": {},
   "outputs": [],
   "source": [
    "vocab_size = 10000 #어휘 사전 크기\n",
    "word_vector_dim = 16 #워드 벡터 차원의 수 "
   ]
  },
  {
   "cell_type": "code",
   "execution_count": 13,
   "id": "c456b0ac",
   "metadata": {},
   "outputs": [
    {
     "name": "stdout",
     "output_type": "stream",
     "text": [
      "Model: \"sequential\"\n",
      "_________________________________________________________________\n",
      "Layer (type)                 Output Shape              Param #   \n",
      "=================================================================\n",
      "embedding (Embedding)        (None, None, 16)          160000    \n",
      "_________________________________________________________________\n",
      "lstm (LSTM)                  (None, 512)               1083392   \n",
      "_________________________________________________________________\n",
      "dense (Dense)                (None, 512)               262656    \n",
      "_________________________________________________________________\n",
      "dense_1 (Dense)              (None, 1)                 513       \n",
      "=================================================================\n",
      "Total params: 1,506,561\n",
      "Trainable params: 1,506,561\n",
      "Non-trainable params: 0\n",
      "_________________________________________________________________\n"
     ]
    }
   ],
   "source": [
    "# LSTM\n",
    "lstm = keras.Sequential()\n",
    "lstm.add(keras.layers.Embedding(vocab_size, word_vector_dim, input_shape=(None,)))\n",
    "lstm.add(keras.layers.LSTM(512))\n",
    "lstm.add(keras.layers.Dense(512, activation='relu'))\n",
    "lstm.add(keras.layers.Dense(1, activation='relu'))\n",
    "\n",
    "lstm.summary()"
   ]
  },
  {
   "cell_type": "code",
   "execution_count": 14,
   "id": "8f7af5ce",
   "metadata": {},
   "outputs": [
    {
     "name": "stdout",
     "output_type": "stream",
     "text": [
      "Model: \"sequential_1\"\n",
      "_________________________________________________________________\n",
      "Layer (type)                 Output Shape              Param #   \n",
      "=================================================================\n",
      "embedding_1 (Embedding)      (None, None, 16)          160000    \n",
      "_________________________________________________________________\n",
      "conv1d (Conv1D)              (None, None, 32)          3616      \n",
      "_________________________________________________________________\n",
      "max_pooling1d (MaxPooling1D) (None, None, 32)          0         \n",
      "_________________________________________________________________\n",
      "conv1d_1 (Conv1D)            (None, None, 32)          7200      \n",
      "_________________________________________________________________\n",
      "global_max_pooling1d (Global (None, 32)                0         \n",
      "_________________________________________________________________\n",
      "dense_2 (Dense)              (None, 16)                528       \n",
      "_________________________________________________________________\n",
      "dense_3 (Dense)              (None, 1)                 17        \n",
      "=================================================================\n",
      "Total params: 171,361\n",
      "Trainable params: 171,361\n",
      "Non-trainable params: 0\n",
      "_________________________________________________________________\n"
     ]
    }
   ],
   "source": [
    "# 1-D CNN\n",
    "cnn = keras.Sequential()\n",
    "cnn.add(keras.layers.Embedding(vocab_size, word_vector_dim, input_shape=(None,))) \n",
    "cnn.add(keras.layers.Conv1D(32, 7, activation='relu'))\n",
    "cnn.add(keras.layers.MaxPooling1D(5))\n",
    "cnn.add(keras.layers.Conv1D(32, 7, activation='relu'))\n",
    "cnn.add(keras.layers.GlobalMaxPooling1D())\n",
    "cnn.add(keras.layers.Dense(16, activation='relu'))\n",
    "cnn.add(keras.layers.Dense(1, activation='sigmoid'))\n",
    "\n",
    "cnn.summary()"
   ]
  },
  {
   "cell_type": "code",
   "execution_count": 15,
   "id": "a5a0e7a8",
   "metadata": {},
   "outputs": [
    {
     "name": "stdout",
     "output_type": "stream",
     "text": [
      "Model: \"sequential_2\"\n",
      "_________________________________________________________________\n",
      "Layer (type)                 Output Shape              Param #   \n",
      "=================================================================\n",
      "embedding_2 (Embedding)      (None, None, 16)          160000    \n",
      "_________________________________________________________________\n",
      "global_average_pooling1d (Gl (None, 16)                0         \n",
      "_________________________________________________________________\n",
      "dense_4 (Dense)              (None, 8)                 136       \n",
      "_________________________________________________________________\n",
      "dense_5 (Dense)              (None, 1)                 9         \n",
      "=================================================================\n",
      "Total params: 160,145\n",
      "Trainable params: 160,145\n",
      "Non-trainable params: 0\n",
      "_________________________________________________________________\n"
     ]
    }
   ],
   "source": [
    "# one GlobalAveragePooling layer\n",
    "gap = tf.keras.Sequential()\n",
    "gap.add(keras.layers.Embedding(vocab_size, word_vector_dim, input_shape=(None,)))\n",
    "gap.add(keras.layers.GlobalAveragePooling1D())\n",
    "gap.add(keras.layers.Dense(8, activation='relu'))\n",
    "gap.add(keras.layers.Dense(1, activation='sigmoid')) #sigmoid relu로 변환\n",
    "\n",
    "gap.summary()"
   ]
  },
  {
   "cell_type": "markdown",
   "id": "7cc21c67",
   "metadata": {},
   "source": [
    "<b>7.모델 학습</b>"
   ]
  },
  {
   "cell_type": "code",
   "execution_count": 16,
   "id": "2049c2ea",
   "metadata": {},
   "outputs": [
    {
     "name": "stdout",
     "output_type": "stream",
     "text": [
      "Epoch 1/10\n",
      "172/172 [==============================] - 13s 58ms/step - loss: 7.6168 - accuracy: 0.4981 - val_loss: 7.6420 - val_accuracy: 0.4988\n",
      "Epoch 2/10\n",
      "172/172 [==============================] - 10s 56ms/step - loss: 7.6565 - accuracy: 0.4979 - val_loss: 7.6420 - val_accuracy: 0.4988\n",
      "Epoch 3/10\n",
      "172/172 [==============================] - 10s 56ms/step - loss: 7.6565 - accuracy: 0.4979 - val_loss: 7.6420 - val_accuracy: 0.4988\n",
      "Epoch 4/10\n",
      "172/172 [==============================] - 10s 56ms/step - loss: 7.6565 - accuracy: 0.4979 - val_loss: 7.6420 - val_accuracy: 0.4988\n",
      "Epoch 5/10\n",
      "172/172 [==============================] - 9s 55ms/step - loss: 7.6565 - accuracy: 0.4979 - val_loss: 7.6420 - val_accuracy: 0.4988\n",
      "Epoch 6/10\n",
      "172/172 [==============================] - 9s 55ms/step - loss: 7.6565 - accuracy: 0.4979 - val_loss: 7.6420 - val_accuracy: 0.4988\n",
      "Epoch 7/10\n",
      "172/172 [==============================] - 9s 55ms/step - loss: 7.6565 - accuracy: 0.4979 - val_loss: 7.6420 - val_accuracy: 0.4988\n",
      "Epoch 8/10\n",
      "172/172 [==============================] - 9s 55ms/step - loss: 7.6565 - accuracy: 0.4979 - val_loss: 7.6420 - val_accuracy: 0.4988\n",
      "Epoch 9/10\n",
      "172/172 [==============================] - 9s 55ms/step - loss: 7.6565 - accuracy: 0.4979 - val_loss: 7.6420 - val_accuracy: 0.4988\n",
      "Epoch 10/10\n",
      "172/172 [==============================] - 10s 59ms/step - loss: 7.6565 - accuracy: 0.4979 - val_loss: 7.6420 - val_accuracy: 0.4988\n"
     ]
    }
   ],
   "source": [
    "#lstm 학습 \n",
    "epochs = 10\n",
    "\n",
    "lstm.compile(optimizer='RMSprop',\n",
    "              loss='binary_crossentropy',\n",
    "              metrics=['accuracy'])\n",
    "\n",
    "history_lstm = lstm.fit(partial_X_train,\n",
    "                    partial_y_train,\n",
    "                    epochs=epochs,\n",
    "                    batch_size=512,\n",
    "                    validation_data=(X_val, y_val),\n",
    "                    verbose=1)\n",
    "              "
   ]
  },
  {
   "cell_type": "code",
   "execution_count": 17,
   "id": "460a3756",
   "metadata": {},
   "outputs": [
    {
     "name": "stdout",
     "output_type": "stream",
     "text": [
      "Epoch 1/4\n",
      "172/172 [==============================] - 3s 7ms/step - loss: 0.5154 - accuracy: 0.7313 - val_loss: 0.3689 - val_accuracy: 0.8385\n",
      "Epoch 2/4\n",
      "172/172 [==============================] - 1s 6ms/step - loss: 0.3342 - accuracy: 0.8573 - val_loss: 0.3465 - val_accuracy: 0.8493\n",
      "Epoch 3/4\n",
      "172/172 [==============================] - 1s 6ms/step - loss: 0.2964 - accuracy: 0.8765 - val_loss: 0.3465 - val_accuracy: 0.8506\n",
      "Epoch 4/4\n",
      "172/172 [==============================] - 1s 6ms/step - loss: 0.2680 - accuracy: 0.8915 - val_loss: 0.3508 - val_accuracy: 0.8493\n"
     ]
    }
   ],
   "source": [
    "#1-D CNN 학습 \n",
    "epochs = 4\n",
    "\n",
    "cnn.compile(optimizer='adam',\n",
    "              loss='binary_crossentropy',\n",
    "              metrics=['accuracy'])\n",
    "\n",
    "\n",
    "history_cnn = cnn.fit(partial_X_train,\n",
    "                    partial_y_train,\n",
    "                    epochs=epochs,\n",
    "                    batch_size=512,\n",
    "                    validation_data=(X_val, y_val),\n",
    "                    verbose=1)\n"
   ]
  },
  {
   "cell_type": "code",
   "execution_count": 18,
   "id": "94b3d8d9",
   "metadata": {},
   "outputs": [
    {
     "name": "stdout",
     "output_type": "stream",
     "text": [
      "Epoch 1/10\n",
      "172/172 [==============================] - 1s 4ms/step - loss: 0.6762 - accuracy: 0.6537 - val_loss: 0.6341 - val_accuracy: 0.7827\n",
      "Epoch 2/10\n",
      "172/172 [==============================] - 1s 4ms/step - loss: 0.5524 - accuracy: 0.7941 - val_loss: 0.4788 - val_accuracy: 0.8081\n",
      "Epoch 3/10\n",
      "172/172 [==============================] - 1s 4ms/step - loss: 0.4337 - accuracy: 0.8239 - val_loss: 0.4079 - val_accuracy: 0.8301\n",
      "Epoch 4/10\n",
      "172/172 [==============================] - 1s 4ms/step - loss: 0.3833 - accuracy: 0.8405 - val_loss: 0.3810 - val_accuracy: 0.8388\n",
      "Epoch 5/10\n",
      "172/172 [==============================] - 1s 4ms/step - loss: 0.3582 - accuracy: 0.8502 - val_loss: 0.3672 - val_accuracy: 0.8440\n",
      "Epoch 6/10\n",
      "172/172 [==============================] - 1s 4ms/step - loss: 0.3431 - accuracy: 0.8568 - val_loss: 0.3613 - val_accuracy: 0.8462\n",
      "Epoch 7/10\n",
      "172/172 [==============================] - 1s 4ms/step - loss: 0.3325 - accuracy: 0.8616 - val_loss: 0.3583 - val_accuracy: 0.8469\n",
      "Epoch 8/10\n",
      "172/172 [==============================] - 1s 4ms/step - loss: 0.3247 - accuracy: 0.8649 - val_loss: 0.3568 - val_accuracy: 0.8477\n",
      "Epoch 9/10\n",
      "172/172 [==============================] - 1s 4ms/step - loss: 0.3181 - accuracy: 0.8676 - val_loss: 0.3559 - val_accuracy: 0.8471\n",
      "Epoch 10/10\n",
      "172/172 [==============================] - 1s 4ms/step - loss: 0.3129 - accuracy: 0.8701 - val_loss: 0.3560 - val_accuracy: 0.8477\n"
     ]
    }
   ],
   "source": [
    "epochs = 10\n",
    "gap.compile(optimizer='adam',\n",
    "              loss='binary_crossentropy',\n",
    "              metrics=['accuracy'])\n",
    "\n",
    "history_gap = gap.fit(partial_X_train,\n",
    "                    partial_y_train,\n",
    "                    epochs=epochs,\n",
    "                    batch_size=512,\n",
    "                    validation_data=(X_val, y_val),\n",
    "                    verbose=1)"
   ]
  },
  {
   "cell_type": "markdown",
   "id": "bc141aba",
   "metadata": {},
   "source": [
    "<b>8.모델 평가</b>"
   ]
  },
  {
   "cell_type": "code",
   "execution_count": 19,
   "id": "d8eb489c",
   "metadata": {},
   "outputs": [
    {
     "name": "stdout",
     "output_type": "stream",
     "text": [
      "1537/1537 - 5s - loss: 7.5833 - accuracy: 0.5027\n",
      "LSTM Accuray: [7.583302021026611, 0.5026954412460327]\n",
      "1537/1537 - 3s - loss: 0.3608 - accuracy: 0.8458\n",
      "1-D CNN Accuracy: [0.3608022630214691, 0.8457798361778259]\n",
      "1537/1537 - 2s - loss: 0.3661 - accuracy: 0.8426\n",
      "GlobalAveragePooling1D layer Accuracy: [0.3661467134952545, 0.8426470160484314]\n"
     ]
    }
   ],
   "source": [
    "# LSTM\n",
    "results_lstm = lstm.evaluate(X_test, y_test, verbose=2)\n",
    "print(\"LSTM Accuray: {}\".format(results_lstm))\n",
    "\n",
    "# 1-D CNN\n",
    "results_cnn = cnn.evaluate(X_test, y_test, verbose=2)\n",
    "print(\"1-D CNN Accuracy: {}\".format(results_cnn))\n",
    "\n",
    "# GlobalAveragePooling1D\n",
    "results_gap = gap.evaluate(X_test, y_test, verbose=2)\n",
    "print(\"GlobalAveragePooling1D layer Accuracy: {}\".format(results_gap))"
   ]
  },
  {
   "cell_type": "markdown",
   "id": "d229bbc4",
   "metadata": {},
   "source": [
    "<b>9.모델 시각화</b>"
   ]
  },
  {
   "cell_type": "code",
   "execution_count": 20,
   "id": "4e887464",
   "metadata": {},
   "outputs": [],
   "source": [
    "#사각화 함수  \n",
    "def visualize_history(history):\n",
    "    history_dict = history.history\n",
    "\n",
    "    acc = history_dict['accuracy']\n",
    "    val_acc = history_dict['val_accuracy']\n",
    "    loss = history_dict['loss']\n",
    "    val_loss = history_dict['val_loss']\n",
    "\n",
    "    epochs = range(1, len(acc) + 1)\n",
    "    \n",
    "    plt.plot(epochs, loss, 'bo', label='Training loss')\n",
    "    plt.plot(epochs, val_loss, 'b', label='Validation loss')\n",
    "\n",
    "    plt.title('Training and validation loss')\n",
    "    \n",
    "    plt.xlabel('Epochs')\n",
    "    plt.ylabel('Loss')\n",
    "    plt.legend()\n",
    "\n",
    "    plt.show()\n",
    "\n",
    "    plt.clf()\n",
    "    \n",
    "    plt.plot(epochs, acc, 'bo', label='Training acc')\n",
    "    plt.plot(epochs, val_acc, 'b', label='Validation acc')\n",
    "    plt.title('Training and validation accuracy')\n",
    "    plt.xlabel('Epochs')\n",
    "    plt.ylabel('Accuracy')\n",
    "    plt.legend()\n",
    "\n",
    "    plt.show()"
   ]
  },
  {
   "cell_type": "markdown",
   "id": "fb078326",
   "metadata": {},
   "source": [
    "####LSTM  \n",
    "Trainig loss는 완만하게 감소하나 validation loss는 요동치는 걸 보니 오버피팅이 일어난거 겉다.  \n",
    "accuracy의 경우 training과 validation 모두 완만하게 증가했다.  \n",
    "최종 accuracy 값은  \n"
   ]
  },
  {
   "cell_type": "code",
   "execution_count": 21,
   "id": "b9c9eb1f",
   "metadata": {},
   "outputs": [
    {
     "data": {
      "image/png": "[encoded data removed]",
      "text/plain": [
       "<Figure size 432x288 with 1 Axes>"
      ]
     },
     "metadata": {
      "needs_background": "light"
     },
     "output_type": "display_data"
    },
    {
     "data": {
      "image/png": "[encoded data removed]",
      "text/plain": [
       "<Figure size 432x288 with 1 Axes>"
      ]
     },
     "metadata": {
      "needs_background": "light"
     },
     "output_type": "display_data"
    }
   ],
   "source": [
    "#lstm loss, accuracy 시각화 \n",
    "visualize_history(history_lstm)"
   ]
  },
  {
   "cell_type": "markdown",
   "id": "13003040",
   "metadata": {},
   "source": [
    "####1-D CNN  \n",
    "1-D CNN의 경우 epoch수를 증가 시켰을 때 오히려 성능이 떨어지는 걸 확인해서 epoch 수를 적게 설정한 결과를 보면 train은 loss가 감소한데 비해 validation은 loss가 감소하지 않는 것을 확인할 수 있다. 오버피팅이 일어난듯 하다.  \n",
    "accuracy도 validation은 거의 증가하지 않아 좋은 모델은 아니다.  "
   ]
  },
  {
   "cell_type": "code",
   "execution_count": 22,
   "id": "17cbc2c6",
   "metadata": {},
   "outputs": [
    {
     "data": {
      "image/png": "[encoded data removed]",
      "text/plain": [
       "<Figure size 432x288 with 1 Axes>"
      ]
     },
     "metadata": {
      "needs_background": "light"
     },
     "output_type": "display_data"
    },
    {
     "data": {
      "image/png": "[encoded data removed]",
      "text/plain": [
       "<Figure size 432x288 with 1 Axes>"
      ]
     },
     "metadata": {
      "needs_background": "light"
     },
     "output_type": "display_data"
    }
   ],
   "source": [
    "#1-D CNN loss, accuracy 사각화 \n",
    "visualize_history(history_cnn)"
   ]
  },
  {
   "cell_type": "markdown",
   "id": "355b28b3",
   "metadata": {},
   "source": [
    "####globalMaxPooling1D  \n",
    "세 가지 모델 중에서 가장 안정된 형태의 학습이 이뤄졌다.  \n",
    "성능도 loss: 0.3689 accuracy: 0.8415로 가장 안정된 결과가 나왔다.  "
   ]
  },
  {
   "cell_type": "code",
   "execution_count": 23,
   "id": "f0215b9a",
   "metadata": {},
   "outputs": [
    {
     "data": {
      "image/png": "[encoded data removed]",
      "text/plain": [
       "<Figure size 432x288 with 1 Axes>"
      ]
     },
     "metadata": {
      "needs_background": "light"
     },
     "output_type": "display_data"
    },
    {
     "data": {
      "image/png": "[encoded data removed]",
      "text/plain": [
       "<Figure size 432x288 with 1 Axes>"
      ]
     },
     "metadata": {
      "needs_background": "light"
     },
     "output_type": "display_data"
    }
   ],
   "source": [
    "#GlobalMaxPooling1Dloss, accuracy 사각화 \n",
    "visualize_history(history_gap)"
   ]
  },
  {
   "cell_type": "markdown",
   "id": "c02cacdc",
   "metadata": {},
   "source": [
    "####10. Embedding parameter 파일에 저장  "
   ]
  },
  {
   "cell_type": "code",
   "execution_count": 24,
   "id": "5130816c",
   "metadata": {},
   "outputs": [],
   "source": [
    "#학습한 lstm embedding 파라미터를 파일에 써서 저장 \n",
    "word2vec_lstm_file_path = os.getenv('HOME')+'/aiffel/sentiment_classification/word2vec_lstm.txt'\n",
    "word2vec_cnn_file_path = os.getenv('HOME')+'/aiffel/sentiment_classification/word2vec_cnn.txt'\n",
    "word2vec_gap_file_path = os.getenv('HOME')+'/aiffel/sentiment_classification/word2vec_gap.txt'\n",
    "\n",
    "def embedding_params_save(file_path, model, word_vector_dim, vocab_size): \n",
    "    f = open(file_path, 'w')\n",
    "    f.write('{} {}\\n'.format(vocab_size-4, word_vector_dim))\n",
    "\n",
    "    # 단어 개수(에서 특수문자 4개는 제외하고)만큼의 워드 벡터를 파일에 기록 \n",
    "    vectors = model.get_weights()[0]\n",
    "    for i in range(4,vocab_size):\n",
    "        f.write('{} {}\\n'.format(index_to_word[i], ' '.join(map(str, list(vectors[i, :])))))\n",
    "    f.close()\n",
    "\n",
    "vocab_size = 10000 #어휘 사전 크기\n",
    "word_vector_dim = 16 \n",
    "\n",
    "embedding_params_save(word2vec_lstm_file_path, lstm, word_vector_dim, vocab_size)\n",
    "embedding_params_save(word2vec_cnn_file_path, cnn, word_vector_dim, vocab_size)\n",
    "embedding_params_save(word2vec_gap_file_path, gap, word_vector_dim, vocab_size)"
   ]
  },
  {
   "cell_type": "markdown",
   "id": "54ad1204",
   "metadata": {},
   "source": [
    "####11.연관성 있는 단어 예측  "
   ]
  },
  {
   "cell_type": "code",
   "execution_count": 25,
   "id": "070aa3d6",
   "metadata": {},
   "outputs": [
    {
     "name": "stdout",
     "output_type": "stream",
     "text": [
      "[ 0.06088009  0.04274062  0.10943528 -0.13309568 -0.04686831 -0.09650271\n",
      " -0.05551997 -0.08642636 -0.06591008  0.04608893 -0.11068842  0.09390742\n",
      " -0.03878328  0.0078769   0.26710564 -0.12880225]\n"
     ]
    },
    {
     "data": {
      "text/plain": [
       "[('내', 0.9435185194015503),\n",
       " ('대사', 0.9252885580062866),\n",
       " ('너무', 0.9112926125526428),\n",
       " ('도망', 0.9077329635620117),\n",
       " ('더', 0.8915201425552368),\n",
       " ('나온', 0.8912932276725769),\n",
       " ('해서', 0.8890978693962097),\n",
       " ('같', 0.884670078754425),\n",
       " ('하', 0.8820836544036865),\n",
       " ('까지', 0.8755137920379639)]"
      ]
     },
     "execution_count": 25,
     "metadata": {},
     "output_type": "execute_result"
    }
   ],
   "source": [
    "word_vectors_gap = Word2VecKeyedVectors.load_word2vec_format(word2vec_gap_file_path, binary=False)\n",
    "vector = word_vectors_gap['배우']\n",
    "print(vector)\n",
    "word_vectors_gap.similar_by_word(\"배우\") #학습이 잘 안된거 같음  "
   ]
  },
  {
   "cell_type": "markdown",
   "id": "5d8a7fe9",
   "metadata": {},
   "source": [
    "<b>12.한국어 Word2Vec 임베딩 활용</b>  \n",
    "단어의 특성을 저차원 벡터값으로 표현할 수 있는 워드 임베딩(word embedding) 기법  \n",
    "pip install --upgrade gensim==3.8.3 입력해주기  "
   ]
  },
  {
   "cell_type": "code",
   "execution_count": 26,
   "id": "24812859",
   "metadata": {},
   "outputs": [
    {
     "data": {
      "text/plain": [
       "[('가르치', 0.7075916528701782),\n",
       " ('익히', 0.5947338938713074),\n",
       " ('공부', 0.5693216919898987),\n",
       " ('영화배우', 0.523245096206665),\n",
       " ('연출가', 0.509418249130249),\n",
       " ('후배', 0.49829238653182983),\n",
       " ('연극배우', 0.47326865792274475),\n",
       " ('연마', 0.4723285734653473),\n",
       " ('선보이', 0.471835732460022),\n",
       " ('무용가', 0.46976548433303833)]"
      ]
     },
     "execution_count": 26,
     "metadata": {},
     "output_type": "execute_result"
    }
   ],
   "source": [
    "#한국어 Word2Vec 파일 불러오기 \n",
    "word2vec_path = os.getenv('HOME')+'/aiffel/sentiment_classification/data/ko.bin'\n",
    "word2vec = gensim.models.Word2Vec.load(word2vec_path)\n",
    "similar_words = word2vec.wv.most_similar(\"배우\")\n",
    "\n",
    "word2vec = word2vec.wv\n",
    "\n",
    "similar_words#배우와 연관성이 큰 단어 출력 선보이??"
   ]
  },
  {
   "cell_type": "code",
   "execution_count": 27,
   "id": "b5001eab",
   "metadata": {},
   "outputs": [],
   "source": [
    "#embedding layer를 word2vec의 것으로 교체\n",
    "vocab_size = 10000\n",
    "word_vector_dim = 200 #parameter를 300으로 바꾸고 싶었으나 오류 발생 \n",
    "embedding_matrix = np.random.rand(vocab_size, word_vector_dim)\n",
    "\n",
    "for i in range(4,vocab_size):\n",
    "    if index_to_word[i] in word2vec:\n",
    "        embedding_matrix[i] = word2vec[index_to_word[i]]"
   ]
  },
  {
   "cell_type": "code",
   "execution_count": 28,
   "id": "d7926e98",
   "metadata": {},
   "outputs": [
    {
     "name": "stdout",
     "output_type": "stream",
     "text": [
      "Model: \"sequential_3\"\n",
      "_________________________________________________________________\n",
      "Layer (type)                 Output Shape              Param #   \n",
      "=================================================================\n",
      "embedding_3 (Embedding)      (None, 41, 200)           2000000   \n",
      "_________________________________________________________________\n",
      "lstm_1 (LSTM)                (None, 128)               168448    \n",
      "_________________________________________________________________\n",
      "dense_6 (Dense)              (None, 128)               16512     \n",
      "_________________________________________________________________\n",
      "dense_7 (Dense)              (None, 1)                 129       \n",
      "=================================================================\n",
      "Total params: 2,185,089\n",
      "Trainable params: 2,185,089\n",
      "Non-trainable params: 0\n",
      "_________________________________________________________________\n"
     ]
    }
   ],
   "source": [
    "# LSTM\n",
    "lstm = keras.Sequential()\n",
    "lstm.add(keras.layers.Embedding(vocab_size, \n",
    "                                 word_vector_dim, \n",
    "                                 embeddings_initializer=Constant(embedding_matrix),\n",
    "                                 input_length=maxlen, \n",
    "                                 trainable=True))\n",
    "lstm.add(keras.layers.LSTM(128))\n",
    "lstm.add(keras.layers.Dense(128, activation='relu'))\n",
    "lstm.add(keras.layers.Dense(1, activation='sigmoid'))\n",
    "\n",
    "lstm.summary()"
   ]
  },
  {
   "cell_type": "code",
   "execution_count": 29,
   "id": "8dbcf502",
   "metadata": {},
   "outputs": [
    {
     "name": "stdout",
     "output_type": "stream",
     "text": [
      "Model: \"sequential_4\"\n",
      "_________________________________________________________________\n",
      "Layer (type)                 Output Shape              Param #   \n",
      "=================================================================\n",
      "embedding_4 (Embedding)      (None, 41, 200)           2000000   \n",
      "_________________________________________________________________\n",
      "dropout (Dropout)            (None, 41, 200)           0         \n",
      "_________________________________________________________________\n",
      "conv1d_2 (Conv1D)            (None, 35, 512)           717312    \n",
      "_________________________________________________________________\n",
      "max_pooling1d_1 (MaxPooling1 (None, 7, 512)            0         \n",
      "_________________________________________________________________\n",
      "dropout_1 (Dropout)          (None, 7, 512)            0         \n",
      "_________________________________________________________________\n",
      "conv1d_3 (Conv1D)            (None, 1, 512)            1835520   \n",
      "_________________________________________________________________\n",
      "global_max_pooling1d_1 (Glob (None, 512)               0         \n",
      "_________________________________________________________________\n",
      "dropout_2 (Dropout)          (None, 512)               0         \n",
      "_________________________________________________________________\n",
      "dense_8 (Dense)              (None, 256)               131328    \n",
      "_________________________________________________________________\n",
      "dense_9 (Dense)              (None, 1)                 257       \n",
      "=================================================================\n",
      "Total params: 4,684,417\n",
      "Trainable params: 4,684,417\n",
      "Non-trainable params: 0\n",
      "_________________________________________________________________\n"
     ]
    }
   ],
   "source": [
    "# 1-D CNN\n",
    "cnn = keras.Sequential()\n",
    "cnn.add(keras.layers.Embedding(vocab_size, \n",
    "                                 word_vector_dim, \n",
    "                                 embeddings_initializer=Constant(embedding_matrix),\n",
    "                                 input_length=maxlen, \n",
    "                                 trainable=True))\n",
    "cnn.add(keras.layers.Dropout(0.3))\n",
    "cnn.add(keras.layers.Conv1D(512, 7, activation='relu'))\n",
    "cnn.add(keras.layers.MaxPooling1D(5))\n",
    "cnn.add(keras.layers.Dropout(0.5))\n",
    "cnn.add(keras.layers.Conv1D(512, 7, activation='relu'))\n",
    "cnn.add(keras.layers.GlobalMaxPooling1D())\n",
    "cnn.add(keras.layers.Dropout(0.5))\n",
    "cnn.add(keras.layers.Dense(256, activation='relu'))\n",
    "cnn.add(keras.layers.Dense(1, activation='sigmoid'))\n",
    "\n",
    "cnn.summary()"
   ]
  },
  {
   "cell_type": "code",
   "execution_count": 30,
   "id": "533e0866",
   "metadata": {},
   "outputs": [
    {
     "name": "stdout",
     "output_type": "stream",
     "text": [
      "Model: \"sequential_5\"\n",
      "_________________________________________________________________\n",
      "Layer (type)                 Output Shape              Param #   \n",
      "=================================================================\n",
      "embedding_5 (Embedding)      (None, 41, 200)           2000000   \n",
      "_________________________________________________________________\n",
      "global_average_pooling1d_1 ( (None, 200)               0         \n",
      "_________________________________________________________________\n",
      "dropout_3 (Dropout)          (None, 200)               0         \n",
      "_________________________________________________________________\n",
      "dense_10 (Dense)             (None, 8)                 1608      \n",
      "_________________________________________________________________\n",
      "dense_11 (Dense)             (None, 1)                 9         \n",
      "=================================================================\n",
      "Total params: 2,001,617\n",
      "Trainable params: 2,001,617\n",
      "Non-trainable params: 0\n",
      "_________________________________________________________________\n"
     ]
    }
   ],
   "source": [
    "#GlobalAveragePooling1D layer\n",
    "gap = keras.Sequential()\n",
    "gap.add(keras.layers.Embedding(vocab_size, \n",
    "                                 word_vector_dim, \n",
    "                                 embeddings_initializer=Constant(embedding_matrix),\n",
    "                                 input_length=maxlen, \n",
    "                                 trainable=True))\n",
    "gap.add(keras.layers.GlobalAveragePooling1D())\n",
    "gap.add(keras.layers.Dropout(0.5))\n",
    "gap.add(keras.layers.Dense(8, activation='relu'))\n",
    "gap.add(keras.layers.Dense(1, activation='sigmoid'))\n",
    "\n",
    "gap.summary()"
   ]
  },
  {
   "cell_type": "code",
   "execution_count": 31,
   "id": "30e0cd87",
   "metadata": {},
   "outputs": [
    {
     "name": "stdout",
     "output_type": "stream",
     "text": [
      "Epoch 1/4\n",
      "172/172 [==============================] - 4s 17ms/step - loss: 0.5020 - accuracy: 0.7496 - val_loss: 0.4268 - val_accuracy: 0.8020\n",
      "Epoch 2/4\n",
      "172/172 [==============================] - 3s 15ms/step - loss: 0.3771 - accuracy: 0.8297 - val_loss: 0.3773 - val_accuracy: 0.8303\n",
      "Epoch 3/4\n",
      "172/172 [==============================] - 3s 15ms/step - loss: 0.3246 - accuracy: 0.8589 - val_loss: 0.3458 - val_accuracy: 0.8500\n",
      "Epoch 4/4\n",
      "172/172 [==============================] - 3s 15ms/step - loss: 0.2896 - accuracy: 0.8759 - val_loss: 0.3279 - val_accuracy: 0.8593\n"
     ]
    }
   ],
   "source": [
    "epochs = 4\n",
    "lstm.compile(optimizer='RMSprop',\n",
    "              loss='binary_crossentropy',\n",
    "              metrics=['accuracy'])\n",
    "\n",
    "history_lstm = lstm.fit(partial_X_train,\n",
    "                    partial_y_train,\n",
    "                    epochs=epochs,\n",
    "                    batch_size=512,\n",
    "                    validation_data=(X_val, y_val),\n",
    "                    verbose=1)"
   ]
  },
  {
   "cell_type": "code",
   "execution_count": 32,
   "id": "94faa07d",
   "metadata": {},
   "outputs": [
    {
     "name": "stdout",
     "output_type": "stream",
     "text": [
      "Epoch 1/10\n",
      "172/172 [==============================] - 10s 49ms/step - loss: 0.6806 - accuracy: 0.6080 - val_loss: 0.5170 - val_accuracy: 0.7528\n",
      "Epoch 2/10\n",
      "172/172 [==============================] - 7s 43ms/step - loss: 0.4966 - accuracy: 0.7603 - val_loss: 0.4333 - val_accuracy: 0.8057\n",
      "Epoch 3/10\n",
      "172/172 [==============================] - 7s 43ms/step - loss: 0.4310 - accuracy: 0.8031 - val_loss: 0.3956 - val_accuracy: 0.8317\n",
      "Epoch 4/10\n",
      "172/172 [==============================] - 7s 42ms/step - loss: 0.3883 - accuracy: 0.8260 - val_loss: 0.3785 - val_accuracy: 0.8420\n",
      "Epoch 5/10\n",
      "172/172 [==============================] - 7s 42ms/step - loss: 0.3606 - accuracy: 0.8410 - val_loss: 0.3658 - val_accuracy: 0.8489\n",
      "Epoch 6/10\n",
      "172/172 [==============================] - 7s 42ms/step - loss: 0.3393 - accuracy: 0.8519 - val_loss: 0.3570 - val_accuracy: 0.8528\n",
      "Epoch 7/10\n",
      "172/172 [==============================] - 7s 42ms/step - loss: 0.3192 - accuracy: 0.8617 - val_loss: 0.3514 - val_accuracy: 0.8540\n",
      "Epoch 8/10\n",
      "172/172 [==============================] - 7s 42ms/step - loss: 0.3012 - accuracy: 0.8711 - val_loss: 0.3408 - val_accuracy: 0.8563\n",
      "Epoch 9/10\n",
      "172/172 [==============================] - 7s 42ms/step - loss: 0.2904 - accuracy: 0.8755 - val_loss: 0.3410 - val_accuracy: 0.8574\n",
      "Epoch 10/10\n",
      "172/172 [==============================] - 7s 42ms/step - loss: 0.2753 - accuracy: 0.8833 - val_loss: 0.3324 - val_accuracy: 0.8574\n"
     ]
    }
   ],
   "source": [
    "cnn.compile(optimizer='adam',\n",
    "              loss='binary_crossentropy',\n",
    "              metrics=['accuracy'])\n",
    "\n",
    "epochs = 10\n",
    "\n",
    "history_cnn = cnn.fit(partial_X_train,\n",
    "                    partial_y_train,\n",
    "                    epochs=epochs,\n",
    "                    batch_size=512,\n",
    "                    validation_data=(X_val, y_val),\n",
    "                    verbose=1)"
   ]
  },
  {
   "cell_type": "code",
   "execution_count": 33,
   "id": "c0bd3140",
   "metadata": {},
   "outputs": [
    {
     "name": "stdout",
     "output_type": "stream",
     "text": [
      "Epoch 1/20\n",
      "172/172 [==============================] - 1s 5ms/step - loss: 0.6870 - accuracy: 0.5421 - val_loss: 0.6554 - val_accuracy: 0.6140\n",
      "Epoch 2/20\n",
      "172/172 [==============================] - 1s 4ms/step - loss: 0.6392 - accuracy: 0.6305 - val_loss: 0.5813 - val_accuracy: 0.7504\n",
      "Epoch 3/20\n",
      "172/172 [==============================] - 1s 4ms/step - loss: 0.5825 - accuracy: 0.6902 - val_loss: 0.5224 - val_accuracy: 0.7720\n",
      "Epoch 4/20\n",
      "172/172 [==============================] - 1s 4ms/step - loss: 0.5364 - accuracy: 0.7312 - val_loss: 0.4856 - val_accuracy: 0.7785\n",
      "Epoch 5/20\n",
      "172/172 [==============================] - 1s 4ms/step - loss: 0.5019 - accuracy: 0.7554 - val_loss: 0.4494 - val_accuracy: 0.7980\n",
      "Epoch 6/20\n",
      "172/172 [==============================] - 1s 4ms/step - loss: 0.4755 - accuracy: 0.7741 - val_loss: 0.4260 - val_accuracy: 0.8130\n",
      "Epoch 7/20\n",
      "172/172 [==============================] - 1s 4ms/step - loss: 0.4551 - accuracy: 0.7867 - val_loss: 0.4112 - val_accuracy: 0.8203\n",
      "Epoch 8/20\n",
      "172/172 [==============================] - 1s 4ms/step - loss: 0.4360 - accuracy: 0.7983 - val_loss: 0.4019 - val_accuracy: 0.8221\n",
      "Epoch 9/20\n",
      "172/172 [==============================] - 1s 5ms/step - loss: 0.4247 - accuracy: 0.8046 - val_loss: 0.3921 - val_accuracy: 0.8261\n",
      "Epoch 10/20\n",
      "172/172 [==============================] - 1s 4ms/step - loss: 0.4133 - accuracy: 0.8115 - val_loss: 0.3871 - val_accuracy: 0.8262\n",
      "Epoch 11/20\n",
      "172/172 [==============================] - 1s 4ms/step - loss: 0.4049 - accuracy: 0.8173 - val_loss: 0.3775 - val_accuracy: 0.8340\n",
      "Epoch 12/20\n",
      "172/172 [==============================] - 1s 4ms/step - loss: 0.3970 - accuracy: 0.8213 - val_loss: 0.3744 - val_accuracy: 0.8332\n",
      "Epoch 13/20\n",
      "172/172 [==============================] - 1s 4ms/step - loss: 0.3896 - accuracy: 0.8252 - val_loss: 0.3706 - val_accuracy: 0.8351\n",
      "Epoch 14/20\n",
      "172/172 [==============================] - 1s 4ms/step - loss: 0.3856 - accuracy: 0.8283 - val_loss: 0.3670 - val_accuracy: 0.8379\n",
      "Epoch 15/20\n",
      "172/172 [==============================] - 1s 4ms/step - loss: 0.3808 - accuracy: 0.8304 - val_loss: 0.3641 - val_accuracy: 0.8389\n",
      "Epoch 16/20\n",
      "172/172 [==============================] - 1s 4ms/step - loss: 0.3756 - accuracy: 0.8335 - val_loss: 0.3625 - val_accuracy: 0.8414\n",
      "Epoch 17/20\n",
      "172/172 [==============================] - 1s 4ms/step - loss: 0.3725 - accuracy: 0.8352 - val_loss: 0.3599 - val_accuracy: 0.8431\n",
      "Epoch 18/20\n",
      "172/172 [==============================] - 1s 4ms/step - loss: 0.3678 - accuracy: 0.8380 - val_loss: 0.3577 - val_accuracy: 0.8429\n",
      "Epoch 19/20\n",
      "172/172 [==============================] - 1s 4ms/step - loss: 0.3662 - accuracy: 0.8377 - val_loss: 0.3563 - val_accuracy: 0.8440\n",
      "Epoch 20/20\n",
      "172/172 [==============================] - 1s 4ms/step - loss: 0.3630 - accuracy: 0.8402 - val_loss: 0.3552 - val_accuracy: 0.8444\n"
     ]
    }
   ],
   "source": [
    "epochs = 20\n",
    "\n",
    "gap.compile(optimizer='RMSprop',\n",
    "              loss='binary_crossentropy',\n",
    "              metrics=['accuracy'])\n",
    "\n",
    "history_gap = gap.fit(partial_X_train,\n",
    "                    partial_y_train,\n",
    "                    epochs=epochs,\n",
    "                    batch_size=512,\n",
    "                    validation_data=(X_val, y_val),\n",
    "                    verbose=1)"
   ]
  },
  {
   "cell_type": "code",
   "execution_count": 34,
   "id": "f70ab081",
   "metadata": {},
   "outputs": [
    {
     "name": "stdout",
     "output_type": "stream",
     "text": [
      "1537/1537 - 3s - loss: 0.3353 - accuracy: 0.8548\n",
      "[0.33532658219337463, 0.8548324704170227]\n",
      "1537/1537 - 3s - loss: 0.3388 - accuracy: 0.8534\n",
      "[0.3387944996356964, 0.8534084558486938]\n",
      "1537/1537 - 2s - loss: 0.3637 - accuracy: 0.8398\n",
      "[0.36368927359580994, 0.8397583365440369]\n"
     ]
    }
   ],
   "source": [
    "# LSTM\n",
    "results_lstm = lstm.evaluate(X_test, y_test, verbose=2)\n",
    "print(results_lstm)\n",
    "\n",
    "# 1-D CNN\n",
    "results_cnn = cnn.evaluate(X_test, y_test, verbose=2)\n",
    "print(results_cnn)\n",
    "\n",
    "# one GlobalAveragePooling1D layer\n",
    "results_gap = gap.evaluate(X_test, y_test, verbose=2)\n",
    "print(results_gap)"
   ]
  },
  {
   "cell_type": "markdown",
   "id": "5e322ef9",
   "metadata": {},
   "source": [
    "####LSTM  \n",
    "epoch수가 많은 것 보다 적을 때 더 학습이 잘 되는 것 같다.  \n",
    "train과 validation의 loss가 안정되게 감소하고 accuracy도 안정되게 증가했다.  \n",
    "최종 성능은 loss: 0.3371 - accuracy: 0.8507로 원하던 성능을 달성했다.  "
   ]
  },
  {
   "cell_type": "code",
   "execution_count": 35,
   "id": "fb5316d1",
   "metadata": {},
   "outputs": [
    {
     "data": {
      "image/png": "[encoded data removed]",
      "text/plain": [
       "<Figure size 432x288 with 1 Axes>"
      ]
     },
     "metadata": {
      "needs_background": "light"
     },
     "output_type": "display_data"
    },
    {
     "data": {
      "image/png": "[encoded data removed]",
      "text/plain": [
       "<Figure size 432x288 with 1 Axes>"
      ]
     },
     "metadata": {
      "needs_background": "light"
     },
     "output_type": "display_data"
    }
   ],
   "source": [
    "visualize_history(history_lstm)"
   ]
  },
  {
   "cell_type": "markdown",
   "id": "5874e7a8",
   "metadata": {},
   "source": [
    "####1-D CNN  \n",
    "아이펠에서 제공해준 기본 모델에서 Dropout을 3층 추가했더니 성능이 증가했다.  \n",
    "Dropout이 오버피팅을 막아주는 역할을 한 것 같다.  \n",
    "최종 성능은 loss: 0.3384 - accuracy: 0.8519로 목표를 달성했다.  \n",
    "lstm과 다르게 epoch수가 증가했을 때 성능이 개선되는 것을 확인할 수 있었다.  \n"
   ]
  },
  {
   "cell_type": "code",
   "execution_count": 36,
   "id": "10971f80",
   "metadata": {},
   "outputs": [
    {
     "data": {
      "image/png": "[encoded data removed]",
      "text/plain": [
       "<Figure size 432x288 with 1 Axes>"
      ]
     },
     "metadata": {
      "needs_background": "light"
     },
     "output_type": "display_data"
    },
    {
     "data": {
      "image/png": "[encoded data removed]",
      "text/plain": [
       "<Figure size 432x288 with 1 Axes>"
      ]
     },
     "metadata": {
      "needs_background": "light"
     },
     "output_type": "display_data"
    }
   ],
   "source": [
    "visualize_history(history_cnn)"
   ]
  },
  {
   "cell_type": "markdown",
   "id": "c41ac42d",
   "metadata": {},
   "source": [
    "####globalaveragepooling  \n",
    "word2Vec임베딩을 활용하면 정확도가 0.85는 금방 넘어갈거라 예상했는데 의외로 0.84에서 변하지 않았다.  \n",
    "Dense층을 추가하고 Dropout도 적용했는데 개선이 되지 않았고 기본 모델의 정확도가 가장 높았다.  \n",
    "그래도 그래프 상으로는 loss 감소 정도나 accuracy가 train과 validation 둘 다 비슷한 형태를 보였다.  \n",
    "최종 성능은 loss: 0.3637 - accuracy: 0.8398이었다.  \n"
   ]
  },
  {
   "cell_type": "code",
   "execution_count": 37,
   "id": "e2197a3c",
   "metadata": {},
   "outputs": [
    {
     "data": {
      "image/png": "[encoded data removed]",
      "text/plain": [
       "<Figure size 432x288 with 1 Axes>"
      ]
     },
     "metadata": {
      "needs_background": "light"
     },
     "output_type": "display_data"
    },
    {
     "data": {
      "image/png": "[encoded data removed]",
      "text/plain": [
       "<Figure size 432x288 with 1 Axes>"
      ]
     },
     "metadata": {
      "needs_background": "light"
     },
     "output_type": "display_data"
    }
   ],
   "source": [
    "visualize_history(history_gap)"
   ]
  },
  {
   "cell_type": "code",
   "execution_count": 44,
   "id": "010178e6",
   "metadata": {},
   "outputs": [],
   "source": [
    "word2vec_ko_gap_file_path = os.getenv('HOME')+'/aiffel/sentiment_classification/word2vec_ko_gap.txt'\n",
    "word2vec_ko_cnn_file_path = os.getenv('HOME')+'/aiffel/sentiment_classification/word2vec_ko_cnn.txt'\n",
    "word2vec_ko_lstm_file_path = os.getenv('HOME')+'/aiffel/sentiment_classification/word2vec_ko_lstm.txt'\n",
    "def embedding_params_save(file_path, model, word_vector_dim, vocab_size): \n",
    "    f = open(file_path, 'w')\n",
    "    f.write('{} {}\\n'.format(vocab_size-4, word_vector_dim))\n",
    "\n",
    "    # 단어 개수(에서 특수문자 4개는 제외하고)만큼의 워드 벡터를 파일에 기록 \n",
    "    vectors = model.get_weights()[0]\n",
    "    for i in range(4,vocab_size):\n",
    "        f.write('{} {}\\n'.format(index_to_word[i], ' '.join(map(str, list(vectors[i, :])))))\n",
    "    f.close()\n",
    "\n",
    "vocab_size = 10000 #어휘 사전 크기\n",
    "word_vector_dim = 200\n",
    "\n",
    "embedding_params_save(word2vec_ko_gap_file_path, gap, word_vector_dim, vocab_size)\n",
    "embedding_params_save(word2vec_ko_cnn_file_path, cnn, word_vector_dim, vocab_size)\n",
    "embedding_params_save(word2vec_ko_lstm_file_path, lstm, word_vector_dim, vocab_size)"
   ]
  },
  {
   "cell_type": "code",
   "execution_count": 46,
   "id": "9f13e434",
   "metadata": {},
   "outputs": [
    {
     "data": {
      "text/plain": [
       "[('가르치', 0.7090420722961426),\n",
       " ('공부', 0.5722820162773132),\n",
       " ('영화배우', 0.5202804803848267),\n",
       " ('연출가', 0.5097790956497192),\n",
       " ('후배', 0.5053642392158508),\n",
       " ('좋아하', 0.4645058214664459),\n",
       " ('읽', 0.4623255133628845),\n",
       " ('가수', 0.4579480290412903),\n",
       " ('평론가', 0.4576159715652466),\n",
       " ('스턴트', 0.45149123668670654)]"
      ]
     },
     "execution_count": 46,
     "metadata": {},
     "output_type": "execute_result"
    }
   ],
   "source": [
    "word_vectors_lstm = Word2VecKeyedVectors.load_word2vec_format(word2vec_ko_lstm_file_path, binary=False)\n",
    "vector = word_vectors_lstm['배우']\n",
    "#print(vector)\n",
    "word_vectors_lstm.similar_by_word(\"배우\")"
   ]
  },
  {
   "cell_type": "code",
   "execution_count": 45,
   "id": "4264eff2",
   "metadata": {},
   "outputs": [
    {
     "data": {
      "text/plain": [
       "[('가르치', 0.7079271078109741),\n",
       " ('공부', 0.5695375204086304),\n",
       " ('영화배우', 0.5112304091453552),\n",
       " ('연출가', 0.49914026260375977),\n",
       " ('후배', 0.4930921196937561),\n",
       " ('읽', 0.475610613822937),\n",
       " ('좋아하', 0.4600546658039093),\n",
       " ('가수', 0.44866228103637695),\n",
       " ('선배', 0.4448315501213074),\n",
       " ('제작자', 0.43851974606513977)]"
      ]
     },
     "execution_count": 45,
     "metadata": {},
     "output_type": "execute_result"
    }
   ],
   "source": [
    "word_vectors_cnn = Word2VecKeyedVectors.load_word2vec_format(word2vec_ko_cnn_file_path, binary=False)\n",
    "vector = word_vectors_cnn['배우']\n",
    "#print(vector)\n",
    "word_vectors_cnn.similar_by_word(\"배우\")"
   ]
  },
  {
   "cell_type": "code",
   "execution_count": 47,
   "id": "52bc7c3c",
   "metadata": {},
   "outputs": [
    {
     "data": {
      "text/plain": [
       "[('가르치', 0.71714848279953),\n",
       " ('공부', 0.573783278465271),\n",
       " ('후배', 0.5026363730430603),\n",
       " ('연출가', 0.5001469850540161),\n",
       " ('영화배우', 0.48688653111457825),\n",
       " ('읽', 0.47628462314605713),\n",
       " ('좋아하', 0.4590790271759033),\n",
       " ('여배우', 0.447270005941391),\n",
       " ('가수', 0.44425079226493835),\n",
       " ('연기자', 0.4411121904850006)]"
      ]
     },
     "execution_count": 47,
     "metadata": {},
     "output_type": "execute_result"
    }
   ],
   "source": [
    "word_vectors_gap = Word2VecKeyedVectors.load_word2vec_format(word2vec_ko_gap_file_path, binary=False)\n",
    "vector = word_vectors_gap['배우']\n",
    "#print(vector)\n",
    "word_vectors_gap.similar_by_word(\"배우\")"
   ]
  },
  {
   "cell_type": "code",
   "execution_count": 53,
   "id": "3ad4ce50",
   "metadata": {},
   "outputs": [],
   "source": [
    "words = word_vectors_lstm.similar_by_word(\"범죄\")"
   ]
  },
  {
   "cell_type": "markdown",
   "id": "9b8ddfed",
   "metadata": {},
   "source": [
    "###Discussion  \n",
    "모델링 하기전 pretrained된 word2Vec으로 <b>배우</b>라는 단어를 입력했을 때 다음과 같이 연관성 있는 단어들이 결과로 출력됐다. 선보이라는 단어는 검색해도 나오질 않아 해당 단어의 뜻이 무엇일지 궁금하다.  \n",
    "[('가르치', 0.7075916528701782),  \n",
    " ('익히', 0.5947338938713074),  \n",
    " ('공부', 0.5693216919898987),  \n",
    " ('영화배우', 0.523245096206665),  \n",
    " ('연출가', 0.509418249130249),  \n",
    " ('후배', 0.49829238653182983),  \n",
    " ('연극배우', 0.47326865792274475),  \n",
    " ('연마', 0.4723285734653473),  \n",
    " ('선보이', 0.471835732460022),  \n",
    " ('무용가', 0.46976548433303833)]  \n",
    " cnn으로 학습할 결과로 배우를 입력했을 때 위와 비슷한 결과나 나왔고 '읽'은 아마 배우들이 대본을 읽을 때가 많으니까 연관성이 있다는 것 같다. lstm과 cnn은 거의 비슷한 단어를 예측했고 비슷한 정확도를 보였다.  \n",
    " [('가르치', 0.7079271078109741),  \n",
    " ('공부', 0.5695375204086304),  \n",
    " ('영화배우', 0.5112304091453552),  \n",
    " ('연출가', 0.49914026260375977),  \n",
    " ('후배', 0.4930921196937561),  \n",
    " ('읽', 0.475610613822937),  \n",
    " ('좋아하', 0.4600546658039093),  \n",
    " ('가수', 0.44866228103637695),  \n",
    " ('선배', 0.4448315501213074),  \n",
    " ('제작자', 0.43851974606513977)]  \n",
    " globalaveragepooling의 hyperparameter tuning이 어려웠어서 좀 더 배운다음 다시 시도해봐야겠다.  \n",
    " 마지막으로 가장 성능이 좋게 나왔던 lstm으로 '범죄'를 입력했더니 꽤 연관성이 높아 보이는 단어들을 예측했다.  \n",
    " 범죄라는 단어가 특징이 뚜렷해서 납득할 수 있는 단어들이 예측된 것 같다.  \n",
    " 반면에 중의적 의미가 있거나 모호한 뜻의 단어는 연관성 있는 단어를 정확히 예측하기 어려울 것 같다.  \n",
    " [('행위', 0.6702514886856079),  \n",
    " ('범죄자', 0.6494574546813965),  \n",
    " ('강간', 0.5745567083358765),  \n",
    " ('처벌', 0.5708119869232178),  \n",
    " ('착오', 0.569055438041687),  \n",
    " ('폭력', 0.5344015955924988),  \n",
    " ('테러', 0.5333479642868042),  \n",
    " ('피해자', 0.5302156209945679),  \n",
    " ('살인', 0.524613618850708),  \n",
    " ('가해자', 0.5239765644073486)]  \n",
    "   \n",
    "   \n",
    " \n",
    " "
   ]
  }
 ],
 "metadata": {
  "kernelspec": {
   "display_name": "Python 3 (ipykernel)",
   "language": "python",
   "name": "python3"
  },
  "language_info": {
   "codemirror_mode": {
    "name": "ipython",
    "version": 3
   },
   "file_extension": ".py",
   "mimetype": "text/x-python",
   "name": "python",
   "nbconvert_exporter": "python",
   "pygments_lexer": "ipython3",
   "version": "3.9.7"
  }
 },
 "nbformat": 4,
 "nbformat_minor": 5
}

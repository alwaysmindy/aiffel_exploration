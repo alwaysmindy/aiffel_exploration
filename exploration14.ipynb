{
 "cells": [
  {
   "cell_type": "markdown",
   "id": "ddeff3d5",
   "metadata": {},
   "source": [
    "# exploration 14 영화 추천  \n",
    "● 추천 시스템을 활용해 영화 추천하기  \n",
    "● 시작하기에 앞서 ratings 데이터의 'ratings' 컬럼은 'count'로 바꾸지 않고 그대로 사용하겠습니다.  \n",
    "평점 데이터로 영화 추천 => rating을 높게 준 영화와 같은 장르의 다른 영화 추천  \n",
    "최신 영화 추천 아니면 고전 영화 추천 => 데이터가 최신 영화 평점이 많아 imbalance data로 평가됨 "
   ]
  },
  {
   "cell_type": "markdown",
   "id": "73d39c6b",
   "metadata": {},
   "source": [
    "# 데이터 불러오기"
   ]
  },
  {
   "cell_type": "code",
   "execution_count": 17,
   "id": "01eb46b7",
   "metadata": {},
   "outputs": [],
   "source": [
    "import pandas as pd\n",
    "import os\n",
    "import matplotlib.pyplot as plt\n",
    "%matplotlib inline\n",
    "import seaborn as sns\n",
    "import numpy as np"
   ]
  },
  {
   "cell_type": "code",
   "execution_count": 395,
   "id": "04094b06",
   "metadata": {},
   "outputs": [
    {
     "data": {
      "text/html": [
       "<div>\n",
       "<style scoped>\n",
       "    .dataframe tbody tr th:only-of-type {\n",
       "        vertical-align: middle;\n",
       "    }\n",
       "\n",
       "    .dataframe tbody tr th {\n",
       "        vertical-align: top;\n",
       "    }\n",
       "\n",
       "    .dataframe thead th {\n",
       "        text-align: right;\n",
       "    }\n",
       "</style>\n",
       "<table border=\"1\" class=\"dataframe\">\n",
       "  <thead>\n",
       "    <tr style=\"text-align: right;\">\n",
       "      <th></th>\n",
       "      <th>user_id</th>\n",
       "      <th>movie_id</th>\n",
       "      <th>ratings</th>\n",
       "      <th>timestamp</th>\n",
       "    </tr>\n",
       "  </thead>\n",
       "  <tbody>\n",
       "    <tr>\n",
       "      <th>0</th>\n",
       "      <td>1</td>\n",
       "      <td>1193</td>\n",
       "      <td>5</td>\n",
       "      <td>978300760</td>\n",
       "    </tr>\n",
       "    <tr>\n",
       "      <th>1</th>\n",
       "      <td>1</td>\n",
       "      <td>661</td>\n",
       "      <td>3</td>\n",
       "      <td>978302109</td>\n",
       "    </tr>\n",
       "    <tr>\n",
       "      <th>2</th>\n",
       "      <td>1</td>\n",
       "      <td>914</td>\n",
       "      <td>3</td>\n",
       "      <td>978301968</td>\n",
       "    </tr>\n",
       "    <tr>\n",
       "      <th>3</th>\n",
       "      <td>1</td>\n",
       "      <td>3408</td>\n",
       "      <td>4</td>\n",
       "      <td>978300275</td>\n",
       "    </tr>\n",
       "    <tr>\n",
       "      <th>4</th>\n",
       "      <td>1</td>\n",
       "      <td>2355</td>\n",
       "      <td>5</td>\n",
       "      <td>978824291</td>\n",
       "    </tr>\n",
       "  </tbody>\n",
       "</table>\n",
       "</div>"
      ],
      "text/plain": [
       "   user_id  movie_id  ratings  timestamp\n",
       "0        1      1193        5  978300760\n",
       "1        1       661        3  978302109\n",
       "2        1       914        3  978301968\n",
       "3        1      3408        4  978300275\n",
       "4        1      2355        5  978824291"
      ]
     },
     "execution_count": 395,
     "metadata": {},
     "output_type": "execute_result"
    }
   ],
   "source": [
    "rating_file_path=os.getenv('HOME') + '/aiffel/recommendata_iu/data/ml-1m/ratings.dat'\n",
    "ratings_cols = ['user_id', 'movie_id', 'ratings', 'timestamp']\n",
    "ratings = pd.read_csv(rating_file_path, sep='::', names=ratings_cols, engine='python', encoding = \"ISO-8859-1\")\n",
    "orginal_data_size = len(ratings)\n",
    "ratings.head()"
   ]
  },
  {
   "cell_type": "markdown",
   "id": "f6251857",
   "metadata": {},
   "source": [
    "# 메타 데이터 불러오기"
   ]
  },
  {
   "cell_type": "code",
   "execution_count": 396,
   "id": "f021433a",
   "metadata": {},
   "outputs": [],
   "source": [
    "# 영화 제목을 보기 위해 메타 데이터를 읽어옵니다.\n",
    "movie_file_path=os.getenv('HOME') + '/aiffel/recommendata_iu/data/ml-1m/movies.dat'\n",
    "cols = ['movie_id', 'title', 'genre'] \n",
    "movies = pd.read_csv(movie_file_path, sep='::', names=cols, engine='python', encoding='ISO-8859-1')"
   ]
  },
  {
   "cell_type": "markdown",
   "id": "9f39280a",
   "metadata": {},
   "source": [
    "# 데이터 전처리 및 EDA"
   ]
  },
  {
   "cell_type": "code",
   "execution_count": 397,
   "id": "b6cdd1b0",
   "metadata": {},
   "outputs": [
    {
     "data": {
      "text/plain": [
       "count    1.000209e+06\n",
       "mean     3.581564e+00\n",
       "std      1.117102e+00\n",
       "min      1.000000e+00\n",
       "25%      3.000000e+00\n",
       "50%      4.000000e+00\n",
       "75%      4.000000e+00\n",
       "max      5.000000e+00\n",
       "Name: ratings, dtype: float64"
      ]
     },
     "execution_count": 397,
     "metadata": {},
     "output_type": "execute_result"
    }
   ],
   "source": [
    "ratings['ratings'].describe() "
   ]
  },
  {
   "cell_type": "markdown",
   "id": "8854a644",
   "metadata": {},
   "source": [
    "● counts의 50% 이상이 4.0이므로 유저들이 대체로 영화에 대해 후한 점수를 주었음을 알 수 있음  "
   ]
  },
  {
   "cell_type": "markdown",
   "id": "ef163827",
   "metadata": {},
   "source": [
    "● ratings의 timestamp 열은 유닉스시간으로 표기되어 있음, 이를 알아보기 쉽게 datetime으로 변환  "
   ]
  },
  {
   "cell_type": "code",
   "execution_count": 398,
   "id": "79bc8067",
   "metadata": {},
   "outputs": [
    {
     "data": {
      "text/html": [
       "<div>\n",
       "<style scoped>\n",
       "    .dataframe tbody tr th:only-of-type {\n",
       "        vertical-align: middle;\n",
       "    }\n",
       "\n",
       "    .dataframe tbody tr th {\n",
       "        vertical-align: top;\n",
       "    }\n",
       "\n",
       "    .dataframe thead th {\n",
       "        text-align: right;\n",
       "    }\n",
       "</style>\n",
       "<table border=\"1\" class=\"dataframe\">\n",
       "  <thead>\n",
       "    <tr style=\"text-align: right;\">\n",
       "      <th></th>\n",
       "      <th>user_id</th>\n",
       "      <th>movie_id</th>\n",
       "      <th>ratings</th>\n",
       "      <th>timestamp</th>\n",
       "      <th>date</th>\n",
       "    </tr>\n",
       "  </thead>\n",
       "  <tbody>\n",
       "    <tr>\n",
       "      <th>1000138</th>\n",
       "      <td>6040</td>\n",
       "      <td>858</td>\n",
       "      <td>4</td>\n",
       "      <td>956703932</td>\n",
       "      <td>2000-04-25 23:05:32</td>\n",
       "    </tr>\n",
       "    <tr>\n",
       "      <th>1000153</th>\n",
       "      <td>6040</td>\n",
       "      <td>2384</td>\n",
       "      <td>4</td>\n",
       "      <td>956703954</td>\n",
       "      <td>2000-04-25 23:05:54</td>\n",
       "    </tr>\n",
       "    <tr>\n",
       "      <th>999873</th>\n",
       "      <td>6040</td>\n",
       "      <td>593</td>\n",
       "      <td>5</td>\n",
       "      <td>956703954</td>\n",
       "      <td>2000-04-25 23:05:54</td>\n",
       "    </tr>\n",
       "    <tr>\n",
       "      <th>1000007</th>\n",
       "      <td>6040</td>\n",
       "      <td>1961</td>\n",
       "      <td>4</td>\n",
       "      <td>956703977</td>\n",
       "      <td>2000-04-25 23:06:17</td>\n",
       "    </tr>\n",
       "    <tr>\n",
       "      <th>1000192</th>\n",
       "      <td>6040</td>\n",
       "      <td>2019</td>\n",
       "      <td>5</td>\n",
       "      <td>956703977</td>\n",
       "      <td>2000-04-25 23:06:17</td>\n",
       "    </tr>\n",
       "    <tr>\n",
       "      <th>...</th>\n",
       "      <td>...</td>\n",
       "      <td>...</td>\n",
       "      <td>...</td>\n",
       "      <td>...</td>\n",
       "      <td>...</td>\n",
       "    </tr>\n",
       "    <tr>\n",
       "      <th>825793</th>\n",
       "      <td>4958</td>\n",
       "      <td>2399</td>\n",
       "      <td>1</td>\n",
       "      <td>1046454338</td>\n",
       "      <td>2003-02-28 17:45:38</td>\n",
       "    </tr>\n",
       "    <tr>\n",
       "      <th>825438</th>\n",
       "      <td>4958</td>\n",
       "      <td>1407</td>\n",
       "      <td>5</td>\n",
       "      <td>1046454443</td>\n",
       "      <td>2003-02-28 17:47:23</td>\n",
       "    </tr>\n",
       "    <tr>\n",
       "      <th>825724</th>\n",
       "      <td>4958</td>\n",
       "      <td>3264</td>\n",
       "      <td>4</td>\n",
       "      <td>1046454548</td>\n",
       "      <td>2003-02-28 17:49:08</td>\n",
       "    </tr>\n",
       "    <tr>\n",
       "      <th>825731</th>\n",
       "      <td>4958</td>\n",
       "      <td>2634</td>\n",
       "      <td>3</td>\n",
       "      <td>1046454548</td>\n",
       "      <td>2003-02-28 17:49:08</td>\n",
       "    </tr>\n",
       "    <tr>\n",
       "      <th>825603</th>\n",
       "      <td>4958</td>\n",
       "      <td>1924</td>\n",
       "      <td>4</td>\n",
       "      <td>1046454590</td>\n",
       "      <td>2003-02-28 17:49:50</td>\n",
       "    </tr>\n",
       "  </tbody>\n",
       "</table>\n",
       "<p>1000209 rows × 5 columns</p>\n",
       "</div>"
      ],
      "text/plain": [
       "         user_id  movie_id  ratings   timestamp                date\n",
       "1000138     6040       858        4   956703932 2000-04-25 23:05:32\n",
       "1000153     6040      2384        4   956703954 2000-04-25 23:05:54\n",
       "999873      6040       593        5   956703954 2000-04-25 23:05:54\n",
       "1000007     6040      1961        4   956703977 2000-04-25 23:06:17\n",
       "1000192     6040      2019        5   956703977 2000-04-25 23:06:17\n",
       "...          ...       ...      ...         ...                 ...\n",
       "825793      4958      2399        1  1046454338 2003-02-28 17:45:38\n",
       "825438      4958      1407        5  1046454443 2003-02-28 17:47:23\n",
       "825724      4958      3264        4  1046454548 2003-02-28 17:49:08\n",
       "825731      4958      2634        3  1046454548 2003-02-28 17:49:08\n",
       "825603      4958      1924        4  1046454590 2003-02-28 17:49:50\n",
       "\n",
       "[1000209 rows x 5 columns]"
      ]
     },
     "execution_count": 398,
     "metadata": {},
     "output_type": "execute_result"
    }
   ],
   "source": [
    "ratings['date'] = pd.to_datetime(ratings['timestamp'], unit='s')\n",
    "ratings.sort_values(by='date')"
   ]
  },
  {
   "cell_type": "code",
   "execution_count": 399,
   "id": "7563d601",
   "metadata": {},
   "outputs": [
    {
     "data": {
      "text/html": [
       "<div>\n",
       "<style scoped>\n",
       "    .dataframe tbody tr th:only-of-type {\n",
       "        vertical-align: middle;\n",
       "    }\n",
       "\n",
       "    .dataframe tbody tr th {\n",
       "        vertical-align: top;\n",
       "    }\n",
       "\n",
       "    .dataframe thead th {\n",
       "        text-align: right;\n",
       "    }\n",
       "</style>\n",
       "<table border=\"1\" class=\"dataframe\">\n",
       "  <thead>\n",
       "    <tr style=\"text-align: right;\">\n",
       "      <th></th>\n",
       "      <th>user_id</th>\n",
       "      <th>movie_id</th>\n",
       "      <th>ratings</th>\n",
       "      <th>date</th>\n",
       "    </tr>\n",
       "  </thead>\n",
       "  <tbody>\n",
       "    <tr>\n",
       "      <th>0</th>\n",
       "      <td>1</td>\n",
       "      <td>1193</td>\n",
       "      <td>5</td>\n",
       "      <td>2000-12-31 22:12:40</td>\n",
       "    </tr>\n",
       "    <tr>\n",
       "      <th>1</th>\n",
       "      <td>1</td>\n",
       "      <td>661</td>\n",
       "      <td>3</td>\n",
       "      <td>2000-12-31 22:35:09</td>\n",
       "    </tr>\n",
       "    <tr>\n",
       "      <th>2</th>\n",
       "      <td>1</td>\n",
       "      <td>914</td>\n",
       "      <td>3</td>\n",
       "      <td>2000-12-31 22:32:48</td>\n",
       "    </tr>\n",
       "    <tr>\n",
       "      <th>3</th>\n",
       "      <td>1</td>\n",
       "      <td>3408</td>\n",
       "      <td>4</td>\n",
       "      <td>2000-12-31 22:04:35</td>\n",
       "    </tr>\n",
       "    <tr>\n",
       "      <th>4</th>\n",
       "      <td>1</td>\n",
       "      <td>2355</td>\n",
       "      <td>5</td>\n",
       "      <td>2001-01-06 23:38:11</td>\n",
       "    </tr>\n",
       "  </tbody>\n",
       "</table>\n",
       "</div>"
      ],
      "text/plain": [
       "   user_id  movie_id  ratings                date\n",
       "0        1      1193        5 2000-12-31 22:12:40\n",
       "1        1       661        3 2000-12-31 22:35:09\n",
       "2        1       914        3 2000-12-31 22:32:48\n",
       "3        1      3408        4 2000-12-31 22:04:35\n",
       "4        1      2355        5 2001-01-06 23:38:11"
      ]
     },
     "execution_count": 399,
     "metadata": {},
     "output_type": "execute_result"
    }
   ],
   "source": [
    "del(ratings['timestamp'])#timestamp 삭제 \n",
    "ratings.head()"
   ]
  },
  {
   "cell_type": "code",
   "execution_count": 400,
   "id": "4339c81d",
   "metadata": {},
   "outputs": [
    {
     "name": "stdout",
     "output_type": "stream",
     "text": [
      "평점 최초로 남긴 날: 2000-04-25 23:05:32\n",
      "평점 마지막으로 남긴 날: 2003-02-28 17:49:50\n"
     ]
    }
   ],
   "source": [
    "print(\"평점 최초로 남긴 날: {}\".format(ratings['date'].min()))\n",
    "print(\"평점 마지막으로 남긴 날: {}\".format(ratings['date'].max()))"
   ]
  },
  {
   "cell_type": "markdown",
   "id": "d65c0a46",
   "metadata": {},
   "source": [
    "● 해당 데이터가 2000-04-25부터 2003-02-28까지 기록된 것임을 알 수 있음  \n",
    "● 내가 좋아하는 영화 추가할 때 2003년 2월 28일 이전의 영화를 추천 해야함 "
   ]
  },
  {
   "cell_type": "code",
   "execution_count": 401,
   "id": "d027f8ff",
   "metadata": {},
   "outputs": [
    {
     "data": {
      "text/plain": [
       "3706"
      ]
     },
     "execution_count": 401,
     "metadata": {},
     "output_type": "execute_result"
    }
   ],
   "source": [
    "#루브릭\n",
    "ratings['movie_id'].nunique() #ratings에 있는 유니크한 영화 개수  "
   ]
  },
  {
   "cell_type": "code",
   "execution_count": 402,
   "id": "07f2627c",
   "metadata": {},
   "outputs": [
    {
     "data": {
      "text/plain": [
       "6040"
      ]
     },
     "execution_count": 402,
     "metadata": {},
     "output_type": "execute_result"
    }
   ],
   "source": [
    "#루브릭\n",
    "ratings['user_id'].nunique() #rating에 있는 유니크한 사용자 수"
   ]
  },
  {
   "cell_type": "code",
   "execution_count": 403,
   "id": "d074fa01",
   "metadata": {},
   "outputs": [],
   "source": [
    "# 영화별 평균 평점을 탐색해보자\n",
    "movie_grouped_rating_info = ratings.groupby(\"movie_id\")['ratings'].agg(['count','mean'])\n",
    "movie_grouped_rating_info.columns = ['rated_count', 'rating_mean']"
   ]
  },
  {
   "cell_type": "code",
   "execution_count": 404,
   "id": "f03e90c3",
   "metadata": {},
   "outputs": [
    {
     "data": {
      "text/html": [
       "<div>\n",
       "<style scoped>\n",
       "    .dataframe tbody tr th:only-of-type {\n",
       "        vertical-align: middle;\n",
       "    }\n",
       "\n",
       "    .dataframe tbody tr th {\n",
       "        vertical-align: top;\n",
       "    }\n",
       "\n",
       "    .dataframe thead th {\n",
       "        text-align: right;\n",
       "    }\n",
       "</style>\n",
       "<table border=\"1\" class=\"dataframe\">\n",
       "  <thead>\n",
       "    <tr style=\"text-align: right;\">\n",
       "      <th></th>\n",
       "      <th>rated_count</th>\n",
       "      <th>rating_mean</th>\n",
       "    </tr>\n",
       "  </thead>\n",
       "  <tbody>\n",
       "    <tr>\n",
       "      <th>count</th>\n",
       "      <td>3706.000000</td>\n",
       "      <td>3706.000000</td>\n",
       "    </tr>\n",
       "    <tr>\n",
       "      <th>mean</th>\n",
       "      <td>269.889099</td>\n",
       "      <td>3.238892</td>\n",
       "    </tr>\n",
       "    <tr>\n",
       "      <th>std</th>\n",
       "      <td>384.047838</td>\n",
       "      <td>0.672925</td>\n",
       "    </tr>\n",
       "    <tr>\n",
       "      <th>min</th>\n",
       "      <td>1.000000</td>\n",
       "      <td>1.000000</td>\n",
       "    </tr>\n",
       "    <tr>\n",
       "      <th>25%</th>\n",
       "      <td>33.000000</td>\n",
       "      <td>2.822705</td>\n",
       "    </tr>\n",
       "    <tr>\n",
       "      <th>50%</th>\n",
       "      <td>123.500000</td>\n",
       "      <td>3.331546</td>\n",
       "    </tr>\n",
       "    <tr>\n",
       "      <th>75%</th>\n",
       "      <td>350.000000</td>\n",
       "      <td>3.740741</td>\n",
       "    </tr>\n",
       "    <tr>\n",
       "      <th>max</th>\n",
       "      <td>3428.000000</td>\n",
       "      <td>5.000000</td>\n",
       "    </tr>\n",
       "  </tbody>\n",
       "</table>\n",
       "</div>"
      ],
      "text/plain": [
       "       rated_count  rating_mean\n",
       "count  3706.000000  3706.000000\n",
       "mean    269.889099     3.238892\n",
       "std     384.047838     0.672925\n",
       "min       1.000000     1.000000\n",
       "25%      33.000000     2.822705\n",
       "50%     123.500000     3.331546\n",
       "75%     350.000000     3.740741\n",
       "max    3428.000000     5.000000"
      ]
     },
     "execution_count": 404,
     "metadata": {},
     "output_type": "execute_result"
    }
   ],
   "source": [
    "movie_grouped_rating_info.describe()"
   ]
  },
  {
   "cell_type": "code",
   "execution_count": 405,
   "id": "54b43ea5",
   "metadata": {},
   "outputs": [
    {
     "data": {
      "image/png": "[encoded data removed]",
      "text/plain": [
       "<Figure size 576x576 with 1 Axes>"
      ]
     },
     "metadata": {
      "needs_background": "light"
     },
     "output_type": "display_data"
    }
   ],
   "source": [
    "sns.boxplot(y = \"ratings\", data = ratings)\n",
    "plt.show()"
   ]
  },
  {
   "cell_type": "markdown",
   "id": "9793a9f8",
   "metadata": {},
   "source": [
    "● 영화 평점의 대부분이 3.0~4.0에 몰려 있는 imbalance data 입니다.  \n",
    "● 대부분의 유저가 영화에 후한 점수를 줬습니다.  \n",
    "● 평점이 3.0 이상인 영화를 추천하기 위해 그 이하의 데이터는 삭제합니다.  "
   ]
  },
  {
   "cell_type": "code",
   "execution_count": 406,
   "id": "f728da4d",
   "metadata": {},
   "outputs": [
    {
     "name": "stdout",
     "output_type": "stream",
     "text": [
      "orginal_data_size: 1000209, filtered_data_size: 836478\n",
      "Ratio of Remaining Data is 83.63%\n"
     ]
    }
   ],
   "source": [
    "ratings = ratings[ratings['ratings']>=3] # 3점 이상만 남깁니다.\n",
    "filtered_data_size = len(ratings)\n",
    "print(f'orginal_data_size: {orginal_data_size}, filtered_data_size: {filtered_data_size}')\n",
    "print(f'Ratio of Remaining Data is {filtered_data_size / orginal_data_size:.2%}')"
   ]
  },
  {
   "cell_type": "markdown",
   "id": "49874afa",
   "metadata": {},
   "source": [
    "● 전체 데이터 중 83.63%가 남았습니다.  \n",
    "● date는 평점을 남긴 날인데 일단 삭제 하겠습니다.(아마 분석하면 '어떤 요일 혹은 어떤 시간대에는 어떤 장르의 영화를 많이 봤을 것이다'라는 정보가 나올 것으로 예상하지만 시간 관계상 여기까지 하겠습니다.)   "
   ]
  },
  {
   "cell_type": "code",
   "execution_count": 407,
   "id": "928f2664",
   "metadata": {},
   "outputs": [
    {
     "data": {
      "text/html": [
       "<div>\n",
       "<style scoped>\n",
       "    .dataframe tbody tr th:only-of-type {\n",
       "        vertical-align: middle;\n",
       "    }\n",
       "\n",
       "    .dataframe tbody tr th {\n",
       "        vertical-align: top;\n",
       "    }\n",
       "\n",
       "    .dataframe thead th {\n",
       "        text-align: right;\n",
       "    }\n",
       "</style>\n",
       "<table border=\"1\" class=\"dataframe\">\n",
       "  <thead>\n",
       "    <tr style=\"text-align: right;\">\n",
       "      <th></th>\n",
       "      <th>user_id</th>\n",
       "      <th>movie_id</th>\n",
       "      <th>ratings</th>\n",
       "    </tr>\n",
       "  </thead>\n",
       "  <tbody>\n",
       "    <tr>\n",
       "      <th>0</th>\n",
       "      <td>1</td>\n",
       "      <td>1193</td>\n",
       "      <td>5</td>\n",
       "    </tr>\n",
       "    <tr>\n",
       "      <th>1</th>\n",
       "      <td>1</td>\n",
       "      <td>661</td>\n",
       "      <td>3</td>\n",
       "    </tr>\n",
       "    <tr>\n",
       "      <th>2</th>\n",
       "      <td>1</td>\n",
       "      <td>914</td>\n",
       "      <td>3</td>\n",
       "    </tr>\n",
       "    <tr>\n",
       "      <th>3</th>\n",
       "      <td>1</td>\n",
       "      <td>3408</td>\n",
       "      <td>4</td>\n",
       "    </tr>\n",
       "    <tr>\n",
       "      <th>4</th>\n",
       "      <td>1</td>\n",
       "      <td>2355</td>\n",
       "      <td>5</td>\n",
       "    </tr>\n",
       "  </tbody>\n",
       "</table>\n",
       "</div>"
      ],
      "text/plain": [
       "   user_id  movie_id  ratings\n",
       "0        1      1193        5\n",
       "1        1       661        3\n",
       "2        1       914        3\n",
       "3        1      3408        4\n",
       "4        1      2355        5"
      ]
     },
     "execution_count": 407,
     "metadata": {},
     "output_type": "execute_result"
    }
   ],
   "source": [
    "del(ratings['date'])\n",
    "ratings.head()"
   ]
  },
  {
   "cell_type": "code",
   "execution_count": 408,
   "id": "d496ed98",
   "metadata": {},
   "outputs": [
    {
     "data": {
      "image/png": "[encoded data removed]",
      "text/plain": [
       "<Figure size 576x576 with 1 Axes>"
      ]
     },
     "metadata": {
      "needs_background": "light"
     },
     "output_type": "display_data"
    }
   ],
   "source": [
    "# 각 영화가 평가 받은 횟수를 탐색\n",
    "movie_rate_count = ratings.groupby('movie_id')['ratings'].count().values\n",
    "plt.rcParams['figure.figsize'] = [8,8]\n",
    "fig = plt.hist(movie_rate_count, bins=200)\n",
    "plt.ylabel('Count', fontsize=12)\n",
    "plt.xlabel(\"Movie's rated count\", fontsize=12)\n",
    "plt.show()"
   ]
  },
  {
   "cell_type": "code",
   "execution_count": 409,
   "id": "336bb470",
   "metadata": {},
   "outputs": [
    {
     "name": "stdout",
     "output_type": "stream",
     "text": [
      "total number of movie rated below 100 : 1911\n"
     ]
    }
   ],
   "source": [
    "print(\"total number of movie rated below 100 :\", len(movie_rate_count[movie_rate_count < 100])) #100번 미만으로 평점 받은 경우"
   ]
  },
  {
   "cell_type": "markdown",
   "id": "b6f4a314",
   "metadata": {},
   "source": [
    "● 100번 미만으로 평점 받은 영화의 개수는 1911개 입니다.  "
   ]
  },
  {
   "cell_type": "markdown",
   "id": "ffe0bff2",
   "metadata": {},
   "source": [
    "### movies data 분석"
   ]
  },
  {
   "cell_type": "code",
   "execution_count": 410,
   "id": "bbb30e2a",
   "metadata": {},
   "outputs": [
    {
     "data": {
      "text/html": [
       "<div>\n",
       "<style scoped>\n",
       "    .dataframe tbody tr th:only-of-type {\n",
       "        vertical-align: middle;\n",
       "    }\n",
       "\n",
       "    .dataframe tbody tr th {\n",
       "        vertical-align: top;\n",
       "    }\n",
       "\n",
       "    .dataframe thead th {\n",
       "        text-align: right;\n",
       "    }\n",
       "</style>\n",
       "<table border=\"1\" class=\"dataframe\">\n",
       "  <thead>\n",
       "    <tr style=\"text-align: right;\">\n",
       "      <th></th>\n",
       "      <th>movie_id</th>\n",
       "      <th>title</th>\n",
       "      <th>genre</th>\n",
       "    </tr>\n",
       "  </thead>\n",
       "  <tbody>\n",
       "    <tr>\n",
       "      <th>0</th>\n",
       "      <td>1</td>\n",
       "      <td>Toy Story (1995)</td>\n",
       "      <td>Animation|Children's|Comedy</td>\n",
       "    </tr>\n",
       "    <tr>\n",
       "      <th>1</th>\n",
       "      <td>2</td>\n",
       "      <td>Jumanji (1995)</td>\n",
       "      <td>Adventure|Children's|Fantasy</td>\n",
       "    </tr>\n",
       "    <tr>\n",
       "      <th>2</th>\n",
       "      <td>3</td>\n",
       "      <td>Grumpier Old Men (1995)</td>\n",
       "      <td>Comedy|Romance</td>\n",
       "    </tr>\n",
       "    <tr>\n",
       "      <th>3</th>\n",
       "      <td>4</td>\n",
       "      <td>Waiting to Exhale (1995)</td>\n",
       "      <td>Comedy|Drama</td>\n",
       "    </tr>\n",
       "    <tr>\n",
       "      <th>4</th>\n",
       "      <td>5</td>\n",
       "      <td>Father of the Bride Part II (1995)</td>\n",
       "      <td>Comedy</td>\n",
       "    </tr>\n",
       "  </tbody>\n",
       "</table>\n",
       "</div>"
      ],
      "text/plain": [
       "   movie_id                               title                         genre\n",
       "0         1                    Toy Story (1995)   Animation|Children's|Comedy\n",
       "1         2                      Jumanji (1995)  Adventure|Children's|Fantasy\n",
       "2         3             Grumpier Old Men (1995)                Comedy|Romance\n",
       "3         4            Waiting to Exhale (1995)                  Comedy|Drama\n",
       "4         5  Father of the Bride Part II (1995)                        Comedy"
      ]
     },
     "execution_count": 410,
     "metadata": {},
     "output_type": "execute_result"
    }
   ],
   "source": [
    "movies.head()"
   ]
  },
  {
   "cell_type": "code",
   "execution_count": 411,
   "id": "372f6650",
   "metadata": {},
   "outputs": [],
   "source": [
    "movies['year'] = movies['title'].apply(lambda x:x[-5:-1]) #영화에서 년도만 따로 빼서 컬럼을 만들어줍니다."
   ]
  },
  {
   "cell_type": "code",
   "execution_count": 412,
   "id": "2b2affa3",
   "metadata": {},
   "outputs": [
    {
     "data": {
      "text/plain": [
       "1996    345\n",
       "1995    342\n",
       "1998    337\n",
       "1997    315\n",
       "1999    283\n",
       "1994    257\n",
       "1993    165\n",
       "2000    156\n",
       "1986    104\n",
       "1992    102\n",
       "Name: year, dtype: int64"
      ]
     },
     "execution_count": 412,
     "metadata": {},
     "output_type": "execute_result"
    }
   ],
   "source": [
    "movies['year'].value_counts().head(10) ## 연도별 영화 개수가 많은 top10 연도를 출력한다."
   ]
  },
  {
   "cell_type": "markdown",
   "id": "9af13817",
   "metadata": {},
   "source": [
    "● 상위 10개는 1990년대 영화가 대부분임을 알 수 있습니다. "
   ]
  },
  {
   "cell_type": "code",
   "execution_count": 413,
   "id": "de6b89c4",
   "metadata": {},
   "outputs": [
    {
     "name": "stderr",
     "output_type": "stream",
     "text": [
      "/opt/conda/lib/python3.9/site-packages/seaborn/_decorators.py:36: FutureWarning: Pass the following variables as keyword args: x, y. From version 0.12, the only valid positional argument will be `data`, and passing other arguments without an explicit keyword will result in an error or misinterpretation.\n",
      "  warnings.warn(\n"
     ]
    },
    {
     "data": {
      "image/png": "[encoded data removed]",
      "text/plain": [
       "<Figure size 576x576 with 1 Axes>"
      ]
     },
     "metadata": {
      "needs_background": "light"
     },
     "output_type": "display_data"
    }
   ],
   "source": [
    "# 영화의 연대별 영화 수를 출력한다.(10년 간격으로 구간 설정)\n",
    "movies['year_term'] = movies['title'].apply(lambda x: x[-5:-2]+\"0\")\n",
    "movie_year_term = movies['year_term'].value_counts().sort_index()\n",
    "           \n",
    "           \n",
    "sns.barplot(movie_year_term.index, movie_year_term.values, alpha = 0.8)\n",
    "plt.title('Movie data by years generation')\n",
    "plt.ylabel('Number of Movie', fontsize=12)\n",
    "plt.xlabel('Years', fontsize=12)\n",
    "plt.show()"
   ]
  },
  {
   "cell_type": "markdown",
   "id": "ba213a3b",
   "metadata": {},
   "source": [
    "● 년도별 영화 개수 차이가 커 imbalance data 임을 알 수 있습니다.  \n",
    "● 이러한 imbalance data는 1990년대 영화를 위주로 추천하는데 영향을 줄 것으로 예상됩니다.  "
   ]
  },
  {
   "cell_type": "code",
   "execution_count": 414,
   "id": "e30c8a88",
   "metadata": {},
   "outputs": [
    {
     "name": "stdout",
     "output_type": "stream",
     "text": [
      "total number of movie in data: 3883\n"
     ]
    }
   ],
   "source": [
    "# 총 영화의 개수를 출력한다.\n",
    "print(\"total number of movie in data:\",len(movies['movie_id'].unique()))"
   ]
  },
  {
   "cell_type": "code",
   "execution_count": 415,
   "id": "1f0d2ab7",
   "metadata": {},
   "outputs": [
    {
     "name": "stdout",
     "output_type": "stream",
     "text": [
      "{'Animation': 105, \"Children's\": 251, 'Comedy': 1200, 'Adventure': 283, 'Fantasy': 68, 'Romance': 471, 'Drama': 1603, 'Action': 503, 'Crime': 211, 'Thriller': 492, 'Horror': 343, 'Sci-Fi': 276, 'Documentary': 127, 'War': 143, 'Musical': 114, 'Mystery': 106, 'Film-Noir': 44, 'Western': 68}\n"
     ]
    }
   ],
   "source": [
    "# 가장 많이 등장한 장르의 속성을 추출한다. (예시 : Drama)\n",
    "unique_genre_dict = {}\n",
    "for index, row in movies.iterrows():\n",
    "    \n",
    "    # genre 피처를 ‘|’ 구분자로 분리한다.\n",
    "    genre_combination = row['genre']\n",
    "    parsed_genre = genre_combination.split(\"|\")\n",
    "    \n",
    "    # 구분자로 분리한 장르의 속성을 unique_genre_dict에 각각 계산하여 저장한다.\n",
    "    for genre in parsed_genre:\n",
    "        if genre in unique_genre_dict:\n",
    "            unique_genre_dict[genre] += 1\n",
    "        else:\n",
    "            unique_genre_dict[genre] = 1\n",
    "\n",
    "print(unique_genre_dict)"
   ]
  },
  {
   "cell_type": "code",
   "execution_count": 416,
   "id": "d004b4ec",
   "metadata": {},
   "outputs": [
    {
     "name": "stderr",
     "output_type": "stream",
     "text": [
      "/opt/conda/lib/python3.9/site-packages/seaborn/_decorators.py:36: FutureWarning: Pass the following variables as keyword args: x, y. From version 0.12, the only valid positional argument will be `data`, and passing other arguments without an explicit keyword will result in an error or misinterpretation.\n",
      "  warnings.warn(\n"
     ]
    },
    {
     "data": {
      "image/png": "[encoded data removed]",
      "text/plain": [
       "<Figure size 1440x1152 with 1 Axes>"
      ]
     },
     "metadata": {
      "needs_background": "light"
     },
     "output_type": "display_data"
    }
   ],
   "source": [
    "# unique_genre_dict를 이용하여 장르의 속성을 그래프로 출력한다.\n",
    "plt.rcParams['figure.figsize'] = [20, 16]\n",
    "sns.barplot(list(unique_genre_dict.keys()), list(unique_genre_dict.values()), alpha=0.8)\n",
    "plt.title('Popular genre in movies')\n",
    "plt.ylabel('Count of Genre', fontsize=12)\n",
    "plt.xlabel('Genre', fontsize=12)\n",
    "plt.show()"
   ]
  },
  {
   "cell_type": "markdown",
   "id": "9455a4b2",
   "metadata": {},
   "source": [
    "● 영화 평점은 Drama, Comedy, Action, Thriller 순으로 많았습니다.  \n",
    "● 이는 western이나 documentary 같이 데이터가 적은 경우는 추천이 잘 안될 가능성이 있습니다.  \n",
    "● 혹은 western 장르를 추천하돼 western이 아닌 fantasy 같은 다른 장르의 영화가 추천될 가능성도 있습니다.  "
   ]
  },
  {
   "cell_type": "code",
   "execution_count": 417,
   "id": "c1c54056",
   "metadata": {},
   "outputs": [
    {
     "data": {
      "text/html": [
       "<div>\n",
       "<style scoped>\n",
       "    .dataframe tbody tr th:only-of-type {\n",
       "        vertical-align: middle;\n",
       "    }\n",
       "\n",
       "    .dataframe tbody tr th {\n",
       "        vertical-align: top;\n",
       "    }\n",
       "\n",
       "    .dataframe thead th {\n",
       "        text-align: right;\n",
       "    }\n",
       "</style>\n",
       "<table border=\"1\" class=\"dataframe\">\n",
       "  <thead>\n",
       "    <tr style=\"text-align: right;\">\n",
       "      <th></th>\n",
       "      <th>rating_mean</th>\n",
       "      <th>title</th>\n",
       "      <th>genre</th>\n",
       "    </tr>\n",
       "  </thead>\n",
       "  <tbody>\n",
       "    <tr>\n",
       "      <th>1839</th>\n",
       "      <td>4.560510</td>\n",
       "      <td>Seven Samurai (The Magnificent Seven) (Shichin...</td>\n",
       "      <td>Action|Drama</td>\n",
       "    </tr>\n",
       "    <tr>\n",
       "      <th>309</th>\n",
       "      <td>4.554558</td>\n",
       "      <td>Shawshank Redemption, The (1994)</td>\n",
       "      <td>Drama</td>\n",
       "    </tr>\n",
       "    <tr>\n",
       "      <th>802</th>\n",
       "      <td>4.524966</td>\n",
       "      <td>Godfather, The (1972)</td>\n",
       "      <td>Action|Crime|Drama</td>\n",
       "    </tr>\n",
       "    <tr>\n",
       "      <th>708</th>\n",
       "      <td>4.520548</td>\n",
       "      <td>Close Shave, A (1995)</td>\n",
       "      <td>Animation|Comedy|Thriller</td>\n",
       "    </tr>\n",
       "    <tr>\n",
       "      <th>49</th>\n",
       "      <td>4.517106</td>\n",
       "      <td>Usual Suspects, The (1995)</td>\n",
       "      <td>Crime|Thriller</td>\n",
       "    </tr>\n",
       "    <tr>\n",
       "      <th>513</th>\n",
       "      <td>4.510417</td>\n",
       "      <td>Schindler's List (1993)</td>\n",
       "      <td>Drama|War</td>\n",
       "    </tr>\n",
       "    <tr>\n",
       "      <th>1066</th>\n",
       "      <td>4.507937</td>\n",
       "      <td>Wrong Trousers, The (1993)</td>\n",
       "      <td>Animation|Comedy</td>\n",
       "    </tr>\n",
       "    <tr>\n",
       "      <th>861</th>\n",
       "      <td>4.491489</td>\n",
       "      <td>Sunset Blvd. (a.k.a. Sunset Boulevard) (1950)</td>\n",
       "      <td>Film-Noir</td>\n",
       "    </tr>\n",
       "    <tr>\n",
       "      <th>1108</th>\n",
       "      <td>4.477725</td>\n",
       "      <td>Raiders of the Lost Ark (1981)</td>\n",
       "      <td>Action|Adventure</td>\n",
       "    </tr>\n",
       "    <tr>\n",
       "      <th>843</th>\n",
       "      <td>4.476190</td>\n",
       "      <td>Rear Window (1954)</td>\n",
       "      <td>Mystery|Thriller</td>\n",
       "    </tr>\n",
       "  </tbody>\n",
       "</table>\n",
       "</div>"
      ],
      "text/plain": [
       "      rating_mean                                              title  \\\n",
       "1839     4.560510  Seven Samurai (The Magnificent Seven) (Shichin...   \n",
       "309      4.554558                   Shawshank Redemption, The (1994)   \n",
       "802      4.524966                              Godfather, The (1972)   \n",
       "708      4.520548                              Close Shave, A (1995)   \n",
       "49       4.517106                         Usual Suspects, The (1995)   \n",
       "513      4.510417                            Schindler's List (1993)   \n",
       "1066     4.507937                         Wrong Trousers, The (1993)   \n",
       "861      4.491489      Sunset Blvd. (a.k.a. Sunset Boulevard) (1950)   \n",
       "1108     4.477725                     Raiders of the Lost Ark (1981)   \n",
       "843      4.476190                                 Rear Window (1954)   \n",
       "\n",
       "                          genre  \n",
       "1839               Action|Drama  \n",
       "309                       Drama  \n",
       "802          Action|Crime|Drama  \n",
       "708   Animation|Comedy|Thriller  \n",
       "49               Crime|Thriller  \n",
       "513                   Drama|War  \n",
       "1066           Animation|Comedy  \n",
       "861                   Film-Noir  \n",
       "1108           Action|Adventure  \n",
       "843            Mystery|Thriller  "
      ]
     },
     "execution_count": 417,
     "metadata": {},
     "output_type": "execute_result"
    }
   ],
   "source": [
    "# 100번 이상의 평가를 받은 영화 중, 평점이 높은 10개의 영화를 출력한다.\n",
    "merged_data = movie_grouped_rating_info.merge(movies, on=['movie_id'], how='left')\n",
    "merged_data[merged_data['rated_count'] > 100][['rating_mean', 'title','genre']].nlargest(10, 'rating_mean')"
   ]
  },
  {
   "cell_type": "markdown",
   "id": "98246221",
   "metadata": {},
   "source": [
    "### movies와 ratings 두 데이터를 합치겠습니다."
   ]
  },
  {
   "cell_type": "code",
   "execution_count": 418,
   "id": "befd177a",
   "metadata": {},
   "outputs": [
    {
     "data": {
      "text/html": [
       "<div>\n",
       "<style scoped>\n",
       "    .dataframe tbody tr th:only-of-type {\n",
       "        vertical-align: middle;\n",
       "    }\n",
       "\n",
       "    .dataframe tbody tr th {\n",
       "        vertical-align: top;\n",
       "    }\n",
       "\n",
       "    .dataframe thead th {\n",
       "        text-align: right;\n",
       "    }\n",
       "</style>\n",
       "<table border=\"1\" class=\"dataframe\">\n",
       "  <thead>\n",
       "    <tr style=\"text-align: right;\">\n",
       "      <th></th>\n",
       "      <th>movie_id</th>\n",
       "      <th>title</th>\n",
       "      <th>genre</th>\n",
       "      <th>year</th>\n",
       "      <th>year_term</th>\n",
       "      <th>user_id</th>\n",
       "      <th>ratings</th>\n",
       "    </tr>\n",
       "  </thead>\n",
       "  <tbody>\n",
       "    <tr>\n",
       "      <th>0</th>\n",
       "      <td>1</td>\n",
       "      <td>Toy Story (1995)</td>\n",
       "      <td>Animation|Children's|Comedy</td>\n",
       "      <td>1995</td>\n",
       "      <td>1990</td>\n",
       "      <td>1</td>\n",
       "      <td>5</td>\n",
       "    </tr>\n",
       "    <tr>\n",
       "      <th>1</th>\n",
       "      <td>1</td>\n",
       "      <td>Toy Story (1995)</td>\n",
       "      <td>Animation|Children's|Comedy</td>\n",
       "      <td>1995</td>\n",
       "      <td>1990</td>\n",
       "      <td>6</td>\n",
       "      <td>4</td>\n",
       "    </tr>\n",
       "    <tr>\n",
       "      <th>2</th>\n",
       "      <td>1</td>\n",
       "      <td>Toy Story (1995)</td>\n",
       "      <td>Animation|Children's|Comedy</td>\n",
       "      <td>1995</td>\n",
       "      <td>1990</td>\n",
       "      <td>8</td>\n",
       "      <td>4</td>\n",
       "    </tr>\n",
       "    <tr>\n",
       "      <th>3</th>\n",
       "      <td>1</td>\n",
       "      <td>Toy Story (1995)</td>\n",
       "      <td>Animation|Children's|Comedy</td>\n",
       "      <td>1995</td>\n",
       "      <td>1990</td>\n",
       "      <td>9</td>\n",
       "      <td>5</td>\n",
       "    </tr>\n",
       "    <tr>\n",
       "      <th>4</th>\n",
       "      <td>1</td>\n",
       "      <td>Toy Story (1995)</td>\n",
       "      <td>Animation|Children's|Comedy</td>\n",
       "      <td>1995</td>\n",
       "      <td>1990</td>\n",
       "      <td>10</td>\n",
       "      <td>5</td>\n",
       "    </tr>\n",
       "  </tbody>\n",
       "</table>\n",
       "</div>"
      ],
      "text/plain": [
       "   movie_id             title                        genre  year year_term  \\\n",
       "0         1  Toy Story (1995)  Animation|Children's|Comedy  1995      1990   \n",
       "1         1  Toy Story (1995)  Animation|Children's|Comedy  1995      1990   \n",
       "2         1  Toy Story (1995)  Animation|Children's|Comedy  1995      1990   \n",
       "3         1  Toy Story (1995)  Animation|Children's|Comedy  1995      1990   \n",
       "4         1  Toy Story (1995)  Animation|Children's|Comedy  1995      1990   \n",
       "\n",
       "   user_id  ratings  \n",
       "0        1        5  \n",
       "1        6        4  \n",
       "2        8        4  \n",
       "3        9        5  \n",
       "4       10        5  "
      ]
     },
     "execution_count": 418,
     "metadata": {},
     "output_type": "execute_result"
    }
   ],
   "source": [
    "data = pd.merge(movies, ratings)\n",
    "data.head()"
   ]
  },
  {
   "cell_type": "code",
   "execution_count": 419,
   "id": "1539f53b",
   "metadata": {},
   "outputs": [],
   "source": [
    "del(data['year_term'])"
   ]
  },
  {
   "cell_type": "code",
   "execution_count": 420,
   "id": "6cc6faf7",
   "metadata": {},
   "outputs": [
    {
     "data": {
      "text/plain": [
       "title\n",
       "American Beauty (1999)                                   3211\n",
       "Star Wars: Episode IV - A New Hope (1977)                2910\n",
       "Star Wars: Episode V - The Empire Strikes Back (1980)    2885\n",
       "Star Wars: Episode VI - Return of the Jedi (1983)        2716\n",
       "Saving Private Ryan (1998)                               2561\n",
       "Terminator 2: Judgment Day (1991)                        2509\n",
       "Silence of the Lambs, The (1991)                         2498\n",
       "Raiders of the Lost Ark (1981)                           2473\n",
       "Back to the Future (1985)                                2460\n",
       "Matrix, The (1999)                                       2434\n",
       "Jurassic Park (1993)                                     2413\n",
       "Sixth Sense, The (1999)                                  2385\n",
       "Fargo (1996)                                             2371\n",
       "Braveheart (1995)                                        2314\n",
       "Men in Black (1997)                                      2297\n",
       "Schindler's List (1993)                                  2257\n",
       "Princess Bride, The (1987)                               2252\n",
       "Shakespeare in Love (1998)                               2213\n",
       "L.A. Confidential (1997)                                 2210\n",
       "Shawshank Redemption, The (1994)                         2194\n",
       "Godfather, The (1972)                                    2167\n",
       "Groundhog Day (1993)                                     2121\n",
       "E.T. the Extra-Terrestrial (1982)                        2102\n",
       "Being John Malkovich (1999)                              2066\n",
       "Ghostbusters (1984)                                      2051\n",
       "Pulp Fiction (1994)                                      2030\n",
       "Forrest Gump (1994)                                      2022\n",
       "Terminator, The (1984)                                   2019\n",
       "Toy Story (1995)                                         2000\n",
       "Fugitive, The (1993)                                     1941\n",
       "Name: user_id, dtype: int64"
      ]
     },
     "execution_count": 420,
     "metadata": {},
     "output_type": "execute_result"
    }
   ],
   "source": [
    "#가장 인기있는 영화 30개(인기순)\n",
    "movies_count = data.groupby('title')['user_id'].count()\n",
    "movies_count.sort_values(ascending=False).head(30)"
   ]
  },
  {
   "cell_type": "markdown",
   "id": "f7694da8",
   "metadata": {},
   "source": [
    "● 평점을 가장 많이 준 영화는 아메리칸 뷰티였고 그다음은 스타워즈 시리즈 입니다.  \n",
    "● 스타워즈가 상위권인 것으로 보아 해당 데이터는 미국에서 수집되었음이 예상됩니다.  \n",
    "● 위에서 평점을 100번 이상 받은 영화 리스트랑 겹치는 영화도 있고 없는 영화도 있습니다.  "
   ]
  },
  {
   "cell_type": "code",
   "execution_count": 421,
   "id": "12ea2865",
   "metadata": {},
   "outputs": [
    {
     "name": "stdout",
     "output_type": "stream",
     "text": [
      "Customer minimum times of review: 149.0\n"
     ]
    }
   ],
   "source": [
    "f = ['count','mean']\n",
    "df_cust_summary = data.groupby('user_id')['ratings'].agg(f) #유저별 평점 매긴 개수와 평균 \n",
    "df_cust_summary.index = df_cust_summary.index.map(int) #정수형 형변환 \n",
    "cust_benchmark = round(df_cust_summary['count'].quantile(0.7),0) #70%까지\n",
    "drop_cust_list = df_cust_summary[df_cust_summary['count'] < cust_benchmark].index #30% 미만으로 평점을 매긴 유저들\n",
    "\n",
    "print('Customer minimum times of review: {}'.format(cust_benchmark))"
   ]
  },
  {
   "cell_type": "markdown",
   "id": "f26a1894",
   "metadata": {},
   "source": [
    "● 리뷰를 남긴 유저 중 리뷰를 가장 적게 남긴 149명 추출  \n",
    "● 해당 고객은 충성 고객이 아닐 가능성이 크거나 위 리스트에 있는 영화를 그닥 좋아하지 않았거나 아니면 영화가 좋았지만 평점 남기는 걸 귀찮아하는 성격일 수 있음   "
   ]
  },
  {
   "cell_type": "code",
   "execution_count": 422,
   "id": "f6b3ac4a",
   "metadata": {},
   "outputs": [
    {
     "name": "stdout",
     "output_type": "stream",
     "text": [
      "Original Shape: (836478, 6)\n",
      "After Trim Shape: (577224, 6)\n"
     ]
    }
   ],
   "source": [
    "print('Original Shape: {}'.format(data.shape)) #원래 데이터 크기\n",
    "data = data[~data['user_id'].isin(drop_cust_list)] #평점을 적게 남긴 유저 삭제\n",
    "print('After Trim Shape: {}'.format(data.shape)) #삭제 후 데이터 크기 "
   ]
  },
  {
   "cell_type": "markdown",
   "id": "76f0266b",
   "metadata": {},
   "source": [
    "● 평점을 적게 남긴 유저를 제거하니 836478 -> 577224로 줄어들었습니다.  "
   ]
  },
  {
   "cell_type": "code",
   "execution_count": 423,
   "id": "acda6730",
   "metadata": {},
   "outputs": [
    {
     "data": {
      "text/plain": [
       "6040"
      ]
     },
     "execution_count": 423,
     "metadata": {},
     "output_type": "execute_result"
    }
   ],
   "source": [
    "data['user_id'].max() #data에 있는 user_id의 최댓값"
   ]
  },
  {
   "cell_type": "markdown",
   "id": "7b970346",
   "metadata": {},
   "source": [
    "### 제가 좋아하는 영화 5개를 추가하겠습니다.  \n",
    "● 우선 입력이 편리하도록 영화 제목을 소문자로 바꾸겠습니다."
   ]
  },
  {
   "cell_type": "code",
   "execution_count": 424,
   "id": "5fbf0076",
   "metadata": {},
   "outputs": [],
   "source": [
    "data['title'] = data['title'].str.lower() "
   ]
  },
  {
   "cell_type": "markdown",
   "id": "cc688205",
   "metadata": {},
   "source": [
    "● 노드에 있는 데이터 추가 방식과 다르게 데이터를 추가하겠습니다.  "
   ]
  },
  {
   "cell_type": "code",
   "execution_count": 425,
   "id": "811c1e00",
   "metadata": {},
   "outputs": [],
   "source": [
    "#내가 좋아하는 영화의 장르와 movie_id 찾기 \n",
    "#for idx, i in enumerate(data['title']):\n",
    "#    if 'ghostbusters (1984)' == i: \n",
    "#        #print(data.iloc[idx, 2]) ##Comedy|Sci-Fi\n",
    "        #print(data.iloc[idx, 0]) #1270.0\n",
    "#    elif 'as good as it gets (1997)' == i: \n",
    "        #print(data.iloc[idx, 2]) #Drama\n",
    "        #print(data.iloc[idx, 0]) #1682.0\n",
    "#    elif 'fight club (1999)' == i:\n",
    "        #print(data.iloc[idx, 2]) #Comedy|Drama\n",
    "        #print(data.iloc[idx, 0]) #1784.0\n",
    "#    elif 'back to the future (1985)' == i:\n",
    "        #print(data.iloc[idx, 2]) #Comedy|Horror\n",
    "        #print(data.iloc[idx, 0]) #2716.0\n",
    "#    elif 'truman show, the (1998)' == i:\n",
    "        #print(data.iloc[idx, 2]) #Drama\n",
    "        #print(data.iloc[idx, 0]) #2959.0"
   ]
  },
  {
   "cell_type": "code",
   "execution_count": 426,
   "id": "033eefa9",
   "metadata": {
    "scrolled": true
   },
   "outputs": [
    {
     "data": {
      "text/html": [
       "<div>\n",
       "<style scoped>\n",
       "    .dataframe tbody tr th:only-of-type {\n",
       "        vertical-align: middle;\n",
       "    }\n",
       "\n",
       "    .dataframe tbody tr th {\n",
       "        vertical-align: top;\n",
       "    }\n",
       "\n",
       "    .dataframe thead th {\n",
       "        text-align: right;\n",
       "    }\n",
       "</style>\n",
       "<table border=\"1\" class=\"dataframe\">\n",
       "  <thead>\n",
       "    <tr style=\"text-align: right;\">\n",
       "      <th></th>\n",
       "      <th>movie_id</th>\n",
       "      <th>title</th>\n",
       "      <th>genre</th>\n",
       "      <th>year</th>\n",
       "      <th>user_id</th>\n",
       "      <th>ratings</th>\n",
       "    </tr>\n",
       "  </thead>\n",
       "  <tbody>\n",
       "    <tr>\n",
       "      <th>0</th>\n",
       "      <td>1270.0</td>\n",
       "      <td>ghostbusters (1984)</td>\n",
       "      <td>Comedy|Sci-Fi</td>\n",
       "      <td>1984</td>\n",
       "      <td>6041</td>\n",
       "      <td>5</td>\n",
       "    </tr>\n",
       "    <tr>\n",
       "      <th>1</th>\n",
       "      <td>1682.0</td>\n",
       "      <td>as good as it gets (1997)</td>\n",
       "      <td>Drama</td>\n",
       "      <td>1997</td>\n",
       "      <td>6041</td>\n",
       "      <td>5</td>\n",
       "    </tr>\n",
       "    <tr>\n",
       "      <th>2</th>\n",
       "      <td>1784.0</td>\n",
       "      <td>fight club (1999)</td>\n",
       "      <td>Comedy|Drama</td>\n",
       "      <td>1999</td>\n",
       "      <td>6041</td>\n",
       "      <td>4</td>\n",
       "    </tr>\n",
       "    <tr>\n",
       "      <th>3</th>\n",
       "      <td>2716.0</td>\n",
       "      <td>back to the future (1985)</td>\n",
       "      <td>Comedy|Horror</td>\n",
       "      <td>1985</td>\n",
       "      <td>6041</td>\n",
       "      <td>5</td>\n",
       "    </tr>\n",
       "    <tr>\n",
       "      <th>4</th>\n",
       "      <td>2959.0</td>\n",
       "      <td>truman show, the (1998)</td>\n",
       "      <td>Drama</td>\n",
       "      <td>1998</td>\n",
       "      <td>6041</td>\n",
       "      <td>5</td>\n",
       "    </tr>\n",
       "  </tbody>\n",
       "</table>\n",
       "</div>"
      ],
      "text/plain": [
       "   movie_id                      title          genre  year  user_id  ratings\n",
       "0    1270.0        ghostbusters (1984)  Comedy|Sci-Fi  1984     6041        5\n",
       "1    1682.0  as good as it gets (1997)          Drama  1997     6041        5\n",
       "2    1784.0          fight club (1999)   Comedy|Drama  1999     6041        4\n",
       "3    2716.0  back to the future (1985)  Comedy|Horror  1985     6041        5\n",
       "4    2959.0    truman show, the (1998)          Drama  1998     6041        5"
      ]
     },
     "execution_count": 426,
     "metadata": {},
     "output_type": "execute_result"
    }
   ],
   "source": [
    "my_movies = ['ghostbusters (1984)' , 'as good as it gets (1997)' ,'fight club (1999)' ,\n",
    "               'back to the future (1985)' ,'truman show, the (1998)'] #좋아하는 영화 목록 \n",
    "my_movie_id = [1270.0, 1682.0, 1784.0, 2716.0, 2959.0] #movie_id\n",
    "my_genre = ['Comedy|Sci-Fi', 'Drama', 'Comedy|Drama', 'Comedy|Horror', 'Drama'] #genre\n",
    "my_year = [1984, 1997, 1999, 1985, 1998] #영화 개봉일 \n",
    "my_id = [6041, 6041, 6041, 6041, 6041] #나의 id \n",
    "my_ratings = [5, 5, 4, 5, 5] #내가 준 평점 \n",
    "my_data = pd.DataFrame({'movie_id':my_movie_id, 'title':my_movies, 'genre':my_genre, 'year':my_year, 'user_id':my_id, 'ratings':my_ratings}) #데이터프레임 생성 \n",
    "my_data.head()"
   ]
  },
  {
   "cell_type": "markdown",
   "id": "6c77bbc8",
   "metadata": {},
   "source": [
    "### 1.모델에 사용할 데이터 생성(평점으로 영화 추천)   \n",
    "● 평점을 적게 준 유저를 삭제한 데이터를 사용하겠습니다. 이는 삭제한 데이터를 이상치로 판단했기 때문입니다.  "
   ]
  },
  {
   "cell_type": "code",
   "execution_count": 427,
   "id": "578adee7",
   "metadata": {},
   "outputs": [
    {
     "data": {
      "text/html": [
       "<div>\n",
       "<style scoped>\n",
       "    .dataframe tbody tr th:only-of-type {\n",
       "        vertical-align: middle;\n",
       "    }\n",
       "\n",
       "    .dataframe tbody tr th {\n",
       "        vertical-align: top;\n",
       "    }\n",
       "\n",
       "    .dataframe thead th {\n",
       "        text-align: right;\n",
       "    }\n",
       "</style>\n",
       "<table border=\"1\" class=\"dataframe\">\n",
       "  <thead>\n",
       "    <tr style=\"text-align: right;\">\n",
       "      <th></th>\n",
       "      <th>user_id</th>\n",
       "      <th>title</th>\n",
       "      <th>ratings</th>\n",
       "    </tr>\n",
       "  </thead>\n",
       "  <tbody>\n",
       "    <tr>\n",
       "      <th>0</th>\n",
       "      <td>6041</td>\n",
       "      <td>ghostbusters (1984)</td>\n",
       "      <td>5</td>\n",
       "    </tr>\n",
       "    <tr>\n",
       "      <th>1</th>\n",
       "      <td>6041</td>\n",
       "      <td>as good as it gets (1997)</td>\n",
       "      <td>5</td>\n",
       "    </tr>\n",
       "    <tr>\n",
       "      <th>2</th>\n",
       "      <td>6041</td>\n",
       "      <td>fight club (1999)</td>\n",
       "      <td>4</td>\n",
       "    </tr>\n",
       "    <tr>\n",
       "      <th>3</th>\n",
       "      <td>6041</td>\n",
       "      <td>back to the future (1985)</td>\n",
       "      <td>5</td>\n",
       "    </tr>\n",
       "    <tr>\n",
       "      <th>4</th>\n",
       "      <td>10</td>\n",
       "      <td>toy story (1995)</td>\n",
       "      <td>5</td>\n",
       "    </tr>\n",
       "    <tr>\n",
       "      <th>...</th>\n",
       "      <td>...</td>\n",
       "      <td>...</td>\n",
       "      <td>...</td>\n",
       "    </tr>\n",
       "    <tr>\n",
       "      <th>836471</th>\n",
       "      <td>5475</td>\n",
       "      <td>contender, the (2000)</td>\n",
       "      <td>5</td>\n",
       "    </tr>\n",
       "    <tr>\n",
       "      <th>836473</th>\n",
       "      <td>5682</td>\n",
       "      <td>contender, the (2000)</td>\n",
       "      <td>3</td>\n",
       "    </tr>\n",
       "    <tr>\n",
       "      <th>836474</th>\n",
       "      <td>5812</td>\n",
       "      <td>contender, the (2000)</td>\n",
       "      <td>4</td>\n",
       "    </tr>\n",
       "    <tr>\n",
       "      <th>836475</th>\n",
       "      <td>5831</td>\n",
       "      <td>contender, the (2000)</td>\n",
       "      <td>3</td>\n",
       "    </tr>\n",
       "    <tr>\n",
       "      <th>836476</th>\n",
       "      <td>5837</td>\n",
       "      <td>contender, the (2000)</td>\n",
       "      <td>4</td>\n",
       "    </tr>\n",
       "  </tbody>\n",
       "</table>\n",
       "<p>577229 rows × 3 columns</p>\n",
       "</div>"
      ],
      "text/plain": [
       "        user_id                      title  ratings\n",
       "0          6041        ghostbusters (1984)        5\n",
       "1          6041  as good as it gets (1997)        5\n",
       "2          6041          fight club (1999)        4\n",
       "3          6041  back to the future (1985)        5\n",
       "4            10           toy story (1995)        5\n",
       "...         ...                        ...      ...\n",
       "836471     5475      contender, the (2000)        5\n",
       "836473     5682      contender, the (2000)        3\n",
       "836474     5812      contender, the (2000)        4\n",
       "836475     5831      contender, the (2000)        3\n",
       "836476     5837      contender, the (2000)        4\n",
       "\n",
       "[577229 rows x 3 columns]"
      ]
     },
     "execution_count": 427,
     "metadata": {},
     "output_type": "execute_result"
    }
   ],
   "source": [
    "new_data = pd.concat([data, my_data]) #기존 데이터와 나의 데이터 합치기 \n",
    "new_data = new_data[['user_id', 'title', 'ratings']] #사용할 열만 선별 \n",
    "new_data.sort_index() #인덱스 새로 정렬 "
   ]
  },
  {
   "cell_type": "code",
   "execution_count": 428,
   "id": "579b6381",
   "metadata": {},
   "outputs": [],
   "source": [
    "# 고유한 유저, 타이틀을 찾아내는 코드\n",
    "user_unique = new_data['user_id'].unique()\n",
    "title_unique = new_data['title'].unique()\n",
    "\n",
    "# 유저, 타이틀 indexing 하는 코드 \n",
    "user_to_idx = {v:k for k,v in enumerate(user_unique)}\n",
    "title_to_idx = {v:k for k,v in enumerate(title_unique)}"
   ]
  },
  {
   "cell_type": "code",
   "execution_count": 429,
   "id": "9111058e",
   "metadata": {},
   "outputs": [
    {
     "name": "stdout",
     "output_type": "stream",
     "text": [
      "user_id column indexing OK!!\n",
      "title column indexing OK!!\n"
     ]
    },
    {
     "data": {
      "text/html": [
       "<div>\n",
       "<style scoped>\n",
       "    .dataframe tbody tr th:only-of-type {\n",
       "        vertical-align: middle;\n",
       "    }\n",
       "\n",
       "    .dataframe tbody tr th {\n",
       "        vertical-align: top;\n",
       "    }\n",
       "\n",
       "    .dataframe thead th {\n",
       "        text-align: right;\n",
       "    }\n",
       "</style>\n",
       "<table border=\"1\" class=\"dataframe\">\n",
       "  <thead>\n",
       "    <tr style=\"text-align: right;\">\n",
       "      <th></th>\n",
       "      <th>user_id</th>\n",
       "      <th>title</th>\n",
       "      <th>ratings</th>\n",
       "    </tr>\n",
       "  </thead>\n",
       "  <tbody>\n",
       "    <tr>\n",
       "      <th>4</th>\n",
       "      <td>0</td>\n",
       "      <td>0</td>\n",
       "      <td>5</td>\n",
       "    </tr>\n",
       "    <tr>\n",
       "      <th>5</th>\n",
       "      <td>1</td>\n",
       "      <td>0</td>\n",
       "      <td>4</td>\n",
       "    </tr>\n",
       "    <tr>\n",
       "      <th>6</th>\n",
       "      <td>2</td>\n",
       "      <td>0</td>\n",
       "      <td>5</td>\n",
       "    </tr>\n",
       "    <tr>\n",
       "      <th>8</th>\n",
       "      <td>3</td>\n",
       "      <td>0</td>\n",
       "      <td>4</td>\n",
       "    </tr>\n",
       "    <tr>\n",
       "      <th>9</th>\n",
       "      <td>4</td>\n",
       "      <td>0</td>\n",
       "      <td>3</td>\n",
       "    </tr>\n",
       "    <tr>\n",
       "      <th>...</th>\n",
       "      <td>...</td>\n",
       "      <td>...</td>\n",
       "      <td>...</td>\n",
       "    </tr>\n",
       "    <tr>\n",
       "      <th>0</th>\n",
       "      <td>1818</td>\n",
       "      <td>2437</td>\n",
       "      <td>5</td>\n",
       "    </tr>\n",
       "    <tr>\n",
       "      <th>1</th>\n",
       "      <td>1818</td>\n",
       "      <td>1569</td>\n",
       "      <td>5</td>\n",
       "    </tr>\n",
       "    <tr>\n",
       "      <th>2</th>\n",
       "      <td>1818</td>\n",
       "      <td>2671</td>\n",
       "      <td>4</td>\n",
       "    </tr>\n",
       "    <tr>\n",
       "      <th>3</th>\n",
       "      <td>1818</td>\n",
       "      <td>1141</td>\n",
       "      <td>5</td>\n",
       "    </tr>\n",
       "    <tr>\n",
       "      <th>4</th>\n",
       "      <td>1818</td>\n",
       "      <td>1499</td>\n",
       "      <td>5</td>\n",
       "    </tr>\n",
       "  </tbody>\n",
       "</table>\n",
       "<p>577229 rows × 3 columns</p>\n",
       "</div>"
      ],
      "text/plain": [
       "    user_id  title  ratings\n",
       "4         0      0        5\n",
       "5         1      0        4\n",
       "6         2      0        5\n",
       "8         3      0        4\n",
       "9         4      0        3\n",
       "..      ...    ...      ...\n",
       "0      1818   2437        5\n",
       "1      1818   1569        5\n",
       "2      1818   2671        4\n",
       "3      1818   1141        5\n",
       "4      1818   1499        5\n",
       "\n",
       "[577229 rows x 3 columns]"
      ]
     },
     "execution_count": 429,
     "metadata": {},
     "output_type": "execute_result"
    }
   ],
   "source": [
    "# indexing을 통해 데이터 컬럼 내 값을 바꾸는 코드\n",
    "\n",
    "# user_to_idx.get을 통해 user_id 컬럼의 모든 값을 인덱싱한 Series를 구해 봅시다. \n",
    "# 혹시 정상적으로 인덱싱되지 않은 row가 있다면 인덱스가 NaN이 될 테니 dropna()로 제거합니다. \n",
    "temp_user_data = new_data['user_id'].map(user_to_idx.get).dropna()\n",
    "if len(temp_user_data) == len(new_data):   # 모든 row가 정상적으로 인덱싱되었다면\n",
    "    print('user_id column indexing OK!!')\n",
    "    new_data['user_id'] = temp_user_data   # data['user_id']을 인덱싱된 Series로 교체해 줍니다. \n",
    "else:\n",
    "    print('user_id column indexing Fail!!')\n",
    "\n",
    "# temp_title_data을 통해 title 컬럼도 동일한 방식으로 인덱싱해 줍니다. \n",
    "temp_title_data = new_data['title'].map(title_to_idx.get).dropna()\n",
    "if len(temp_title_data) == len(new_data):\n",
    "    print('title column indexing OK!!')\n",
    "    new_data['title'] = temp_title_data\n",
    "else:\n",
    "    print('title column indexing Fail!!')\n",
    "\n",
    "new_data"
   ]
  },
  {
   "cell_type": "markdown",
   "id": "bea9ae0d",
   "metadata": {},
   "source": [
    "### csr matrix 직접 만들기"
   ]
  },
  {
   "cell_type": "code",
   "execution_count": 430,
   "id": "901cd1e0",
   "metadata": {},
   "outputs": [
    {
     "data": {
      "text/plain": [
       "<1819x3583 sparse matrix of type '<class 'numpy.int64'>'\n",
       "\twith 577229 stored elements in Compressed Sparse Row format>"
      ]
     },
     "execution_count": 430,
     "metadata": {},
     "output_type": "execute_result"
    }
   ],
   "source": [
    "from scipy.sparse import csr_matrix\n",
    "\n",
    "num_user = new_data['user_id'].nunique()\n",
    "num_movie = new_data['title'].nunique()\n",
    "\n",
    "csr_data = csr_matrix((new_data.ratings, (new_data.user_id, new_data.title)), shape=(num_user, num_movie)) #csr matrix 생성 \n",
    "csr_data"
   ]
  },
  {
   "cell_type": "markdown",
   "id": "d23374e1",
   "metadata": {},
   "source": [
    "### AlternatingLeastSquares 모델 구성"
   ]
  },
  {
   "cell_type": "code",
   "execution_count": 431,
   "id": "d195b09d",
   "metadata": {},
   "outputs": [],
   "source": [
    "from implicit.als import AlternatingLeastSquares\n",
    "import os\n",
    "import numpy as np\n",
    "\n",
    "# implicit 라이브러리에서 권장하고 있는 부분입니다. 학습 내용과는 무관합니다.\n",
    "os.environ['OPENBLAS_NUM_THREADS']='1'\n",
    "os.environ['KMP_DUPLICATE_LIB_OK']='True'\n",
    "os.environ['MKL_NUM_THREADS']='1'"
   ]
  },
  {
   "cell_type": "code",
   "execution_count": 432,
   "id": "c678b6be",
   "metadata": {},
   "outputs": [],
   "source": [
    "# Implicit AlternatingLeastSquares 모델의 선언, iteration은 나중에 바꿔주겠습니다.\n",
    "als_model = AlternatingLeastSquares(factors=100, regularization=0.001, use_gpu=False, iterations=1000, dtype=np.float32)"
   ]
  },
  {
   "cell_type": "code",
   "execution_count": 433,
   "id": "e414439a",
   "metadata": {},
   "outputs": [
    {
     "data": {
      "text/plain": [
       "<3583x1819 sparse matrix of type '<class 'numpy.int64'>'\n",
       "\twith 577229 stored elements in Compressed Sparse Column format>"
      ]
     },
     "execution_count": 433,
     "metadata": {},
     "output_type": "execute_result"
    }
   ],
   "source": [
    "# als 모델은 input으로 (item X user 꼴의 matrix를 받기 때문에 Transpose해줍니다.)\n",
    "csr_data_transpose = csr_data.T\n",
    "csr_data_transpose"
   ]
  },
  {
   "cell_type": "code",
   "execution_count": 434,
   "id": "c0386f37",
   "metadata": {},
   "outputs": [
    {
     "data": {
      "application/vnd.jupyter.widget-view+json": {
       "model_id": "d2249395d2144ac5abdab4cb217a650c",
       "version_major": 2,
       "version_minor": 0
      },
      "text/plain": [
       "  0%|          | 0/1000 [00:00<?, ?it/s]"
      ]
     },
     "metadata": {},
     "output_type": "display_data"
    }
   ],
   "source": [
    "als_model.fit(csr_data_transpose) #모델 학습 "
   ]
  },
  {
   "cell_type": "code",
   "execution_count": 435,
   "id": "f8b46f72",
   "metadata": {},
   "outputs": [
    {
     "data": {
      "text/plain": [
       "1818"
      ]
     },
     "execution_count": 435,
     "metadata": {},
     "output_type": "execute_result"
    }
   ],
   "source": [
    "user_to_idx[6041] #변경된 나의 인덱스 확인  "
   ]
  },
  {
   "cell_type": "code",
   "execution_count": 436,
   "id": "83ac34ca",
   "metadata": {},
   "outputs": [],
   "source": [
    "min, back_to_the_future = user_to_idx[6041], title_to_idx['back to the future (1985)']\n",
    "min_vector, back_to_the_future_vector = als_model.user_factors[1818], als_model.item_factors[back_to_the_future]"
   ]
  },
  {
   "cell_type": "code",
   "execution_count": 437,
   "id": "1187a7ea",
   "metadata": {},
   "outputs": [
    {
     "data": {
      "text/plain": [
       "array([ 0.17302683,  0.41958442,  0.04107038, -0.30502304,  0.40468496,\n",
       "        0.16591582,  0.11923205, -0.14640206, -0.01901364, -0.4032445 ,\n",
       "        0.0997691 ,  0.09114903,  0.15491025,  0.14629456,  0.28555325,\n",
       "        0.12760723,  0.27306372, -0.3751205 , -0.17301707, -0.40693477,\n",
       "        0.3042762 ,  0.0559405 , -0.15241379, -0.5289718 , -0.19064009,\n",
       "       -0.30732295, -0.38884604,  0.33387247,  0.09693135,  0.12776145,\n",
       "        0.5440955 ,  0.19416767, -0.1493915 , -0.22254537,  0.3393562 ,\n",
       "        0.30150282,  0.02550085, -0.27371547,  0.12817754,  0.42284554,\n",
       "       -0.01285926,  0.2016598 , -0.4175822 ,  0.081478  , -0.3022858 ,\n",
       "       -0.17817116,  0.16756774,  0.05345111,  0.03779902,  0.25735435,\n",
       "        0.18146645, -0.15233067, -0.26745796, -0.0257952 ,  0.15427293,\n",
       "        0.14742413,  0.02367663,  0.32150105,  0.2576605 ,  0.24714825,\n",
       "        0.09540157,  0.14565958, -0.21746427, -0.01521039,  0.52339214,\n",
       "        0.12475614,  0.20483324, -0.26014954,  0.09414436,  0.13681036,\n",
       "        0.28389698, -0.29602385, -0.46163878, -0.04071914, -0.04850583,\n",
       "       -0.35330653, -0.46137255, -0.10876591,  0.11433478, -0.00162937,\n",
       "        0.0363056 ,  0.06189569,  0.23071882, -0.02276795,  0.34993127,\n",
       "        0.1219783 ,  0.14978363,  0.02705634,  0.00421581,  0.00438698,\n",
       "        0.01630613,  0.17364857,  0.06370702,  0.10437095, -0.09101166,\n",
       "        0.00999388, -0.10064606, -0.0597025 , -0.1278328 ,  0.22500733],\n",
       "      dtype=float32)"
      ]
     },
     "execution_count": 437,
     "metadata": {},
     "output_type": "execute_result"
    }
   ],
   "source": [
    "min_vector"
   ]
  },
  {
   "cell_type": "code",
   "execution_count": 438,
   "id": "e9ce5782",
   "metadata": {},
   "outputs": [
    {
     "data": {
      "text/plain": [
       "array([ 0.01280363,  0.01247119, -0.00734329, -0.01271886,  0.02137759,\n",
       "       -0.00388471,  0.00618805, -0.00274443,  0.00824337, -0.04230862,\n",
       "        0.0062171 ,  0.01030823,  0.02489292,  0.01399615, -0.00258424,\n",
       "        0.0195755 ,  0.04582845, -0.02551896,  0.00817033, -0.00124716,\n",
       "        0.01670256,  0.02024768,  0.00227389,  0.00308142, -0.01502013,\n",
       "       -0.0131571 , -0.01491125,  0.00561123,  0.02353334,  0.02917439,\n",
       "        0.04201834,  0.00693885,  0.00878954,  0.00599533,  0.02949103,\n",
       "        0.00924818,  0.01897951, -0.00280632, -0.02233791,  0.06336085,\n",
       "        0.02177244,  0.01933242, -0.00346275, -0.02241967, -0.01115207,\n",
       "        0.00491574,  0.02549981, -0.00507057,  0.00666442,  0.01610834,\n",
       "        0.00843785,  0.0104203 ,  0.01703425,  0.00546897,  0.01567867,\n",
       "        0.02340543, -0.00359838,  0.01452939,  0.00052996,  0.00237643,\n",
       "       -0.00828195,  0.02645593, -0.00729676,  0.00583957,  0.02033779,\n",
       "        0.01099218,  0.01013503, -0.0080297 ,  0.00907268,  0.02474035,\n",
       "        0.01927102, -0.01939006, -0.0133472 ,  0.01721179, -0.01291815,\n",
       "       -0.00807237, -0.00226932,  0.02007161,  0.00344033, -0.0119068 ,\n",
       "       -0.00694703, -0.00596691,  0.01302533,  0.01940736,  0.00264648,\n",
       "        0.00261352,  0.02160306, -0.00222928,  0.02585948, -0.000527  ,\n",
       "       -0.03005159,  0.0082226 ,  0.00102727,  0.02022659,  0.01580166,\n",
       "        0.0138935 ,  0.00036158,  0.02142913, -0.00138043,  0.03150463],\n",
       "      dtype=float32)"
      ]
     },
     "execution_count": 438,
     "metadata": {},
     "output_type": "execute_result"
    }
   ],
   "source": [
    " back_to_the_future_vector"
   ]
  },
  {
   "cell_type": "markdown",
   "id": "602856f2",
   "metadata": {},
   "source": [
    "### 훈련된 모델이 예측한 나의 선호도 파악 "
   ]
  },
  {
   "cell_type": "code",
   "execution_count": 439,
   "id": "1d48441c",
   "metadata": {},
   "outputs": [
    {
     "data": {
      "text/plain": [
       "0.23104498"
      ]
     },
     "execution_count": 439,
     "metadata": {},
     "output_type": "execute_result"
    }
   ],
   "source": [
    "np.dot(min_vector, back_to_the_future_vector)"
   ]
  },
  {
   "cell_type": "markdown",
   "id": "27b497a3",
   "metadata": {},
   "source": [
    "● iterations를 1000으로 늘려도 그닥 1에 가까워지지 않네요...  "
   ]
  },
  {
   "cell_type": "code",
   "execution_count": 440,
   "id": "35dfeb14",
   "metadata": {},
   "outputs": [
    {
     "data": {
      "text/plain": [
       "0.16777268"
      ]
     },
     "execution_count": 440,
     "metadata": {},
     "output_type": "execute_result"
    }
   ],
   "source": [
    "toy = title_to_idx['toy story (1995)']\n",
    "toy_vector = als_model.item_factors[toy]\n",
    "np.dot(min_vector, toy_vector)"
   ]
  },
  {
   "cell_type": "markdown",
   "id": "902a3f7b",
   "metadata": {},
   "source": [
    "### 내가 좋아하는 영화와 비슷한 영화 추천 받기"
   ]
  },
  {
   "cell_type": "code",
   "execution_count": 441,
   "id": "90a4b1a7",
   "metadata": {},
   "outputs": [],
   "source": [
    "idx_to_title = {v:k for k,v in title_to_idx.items()}\n",
    "\n",
    "def get_similar_title(title_name: str):\n",
    "    title_id = title_to_idx[title_name]\n",
    "    similar_title = als_model.similar_items(title_id)\n",
    "    similar_title = [idx_to_title[i[0]] for i in similar_title]\n",
    "    return similar_title"
   ]
  },
  {
   "cell_type": "code",
   "execution_count": 442,
   "id": "8370de5e",
   "metadata": {},
   "outputs": [
    {
     "data": {
      "text/plain": [
       "['back to the future (1985)',\n",
       " 'star wars: episode vi - return of the jedi (1983)',\n",
       " 'star wars: episode v - the empire strikes back (1980)',\n",
       " 'e.t. the extra-terrestrial (1982)',\n",
       " 'star wars: episode iv - a new hope (1977)',\n",
       " 'ghostbusters (1984)',\n",
       " 'princess bride, the (1987)',\n",
       " 'raiders of the lost ark (1981)',\n",
       " 'men in black (1997)',\n",
       " 'forrest gump (1994)']"
      ]
     },
     "execution_count": 442,
     "metadata": {},
     "output_type": "execute_result"
    }
   ],
   "source": [
    "get_similar_title('back to the future (1985)') "
   ]
  },
  {
   "cell_type": "markdown",
   "id": "3af2f866",
   "metadata": {},
   "source": [
    "● 제가 좋아하는 영화로 추가했던 ghostbusters가 추천되었네요"
   ]
  },
  {
   "cell_type": "markdown",
   "id": "bd088c35",
   "metadata": {},
   "source": [
    "### 내가 좋아할 만한 영화들을 추천 받기"
   ]
  },
  {
   "cell_type": "code",
   "execution_count": 443,
   "id": "22ea713e",
   "metadata": {},
   "outputs": [
    {
     "name": "stdout",
     "output_type": "stream",
     "text": [
      "apollo 13 (1995) 0000.250\n",
      "good will hunting (1997) 0000.210\n",
      "forrest gump (1994) 0000.196\n",
      "jerry maguire (1996) 0000.196\n",
      "big (1988) 0000.194\n",
      "star wars: episode v - the empire strikes back (1980) 0000.194\n",
      "ferris bueller's day off (1986) 0000.193\n",
      "groundhog day (1993) 0000.191\n",
      "rain man (1988) 0000.191\n",
      "american beauty (1999) 0000.191\n",
      "beetlejuice (1988) 0000.188\n",
      "airplane! (1980) 0000.188\n",
      "star wars: episode vi - return of the jedi (1983) 0000.182\n",
      "there's something about mary (1998) 0000.181\n",
      "boogie nights (1997) 0000.179\n",
      "e.t. the extra-terrestrial (1982) 0000.178\n",
      "back to the future part ii (1989) 0000.178\n",
      "men in black (1997) 0000.175\n",
      "star wars: episode iv - a new hope (1977) 0000.174\n",
      "edward scissorhands (1990) 0000.172\n"
     ]
    }
   ],
   "source": [
    "user = user_to_idx[6041]\n",
    "# recommend에서는 user*item CSR Matrix를 받습니다.\n",
    "title_recommended = als_model.recommend(user, csr_data, N=20, filter_already_liked_items=True)\n",
    "for i in title_recommended: \n",
    "    print(\"{} {:08.3f}\".format(idx_to_title[i[0]], i[1]))"
   ]
  },
  {
   "cell_type": "code",
   "execution_count": 444,
   "id": "b4e38a4b",
   "metadata": {},
   "outputs": [
    {
     "data": {
      "text/plain": [
       "[('truman show, the (1998)', 0.03783512778627886),\n",
       " ('ghostbusters (1984)', 0.02813243787999988),\n",
       " ('back to the future (1985)', 0.004708578118475386),\n",
       " ('fight club (1999)', -0.0004237421117895115),\n",
       " ('as good as it gets (1997)', -0.0031019512100531298)]"
      ]
     },
     "execution_count": 444,
     "metadata": {},
     "output_type": "execute_result"
    }
   ],
   "source": [
    "title = title_to_idx['speed (1994)']\n",
    "explain = als_model.explain(user, csr_data, itemid=title)\n",
    "[(idx_to_title[i[0]], i[1]) for i in explain[1]]"
   ]
  },
  {
   "cell_type": "markdown",
   "id": "70082f22",
   "metadata": {},
   "source": [
    "### Case2: 평점을 적게 매긴 유저의 데이터를 삭제하지 않고 그대로 사용하겠습니다.  "
   ]
  },
  {
   "cell_type": "markdown",
   "id": "dc295ae3",
   "metadata": {},
   "source": [
    "● 데이터 생성 "
   ]
  },
  {
   "cell_type": "code",
   "execution_count": 377,
   "id": "06a86f62",
   "metadata": {},
   "outputs": [
    {
     "data": {
      "text/html": [
       "<div>\n",
       "<style scoped>\n",
       "    .dataframe tbody tr th:only-of-type {\n",
       "        vertical-align: middle;\n",
       "    }\n",
       "\n",
       "    .dataframe tbody tr th {\n",
       "        vertical-align: top;\n",
       "    }\n",
       "\n",
       "    .dataframe thead th {\n",
       "        text-align: right;\n",
       "    }\n",
       "</style>\n",
       "<table border=\"1\" class=\"dataframe\">\n",
       "  <thead>\n",
       "    <tr style=\"text-align: right;\">\n",
       "      <th></th>\n",
       "      <th>user_id</th>\n",
       "      <th>title</th>\n",
       "      <th>ratings</th>\n",
       "    </tr>\n",
       "  </thead>\n",
       "  <tbody>\n",
       "    <tr>\n",
       "      <th>0</th>\n",
       "      <td>1</td>\n",
       "      <td>toy story (1995)</td>\n",
       "      <td>5</td>\n",
       "    </tr>\n",
       "    <tr>\n",
       "      <th>1</th>\n",
       "      <td>6</td>\n",
       "      <td>toy story (1995)</td>\n",
       "      <td>4</td>\n",
       "    </tr>\n",
       "    <tr>\n",
       "      <th>2</th>\n",
       "      <td>8</td>\n",
       "      <td>toy story (1995)</td>\n",
       "      <td>4</td>\n",
       "    </tr>\n",
       "    <tr>\n",
       "      <th>3</th>\n",
       "      <td>9</td>\n",
       "      <td>toy story (1995)</td>\n",
       "      <td>5</td>\n",
       "    </tr>\n",
       "    <tr>\n",
       "      <th>4</th>\n",
       "      <td>10</td>\n",
       "      <td>toy story (1995)</td>\n",
       "      <td>5</td>\n",
       "    </tr>\n",
       "  </tbody>\n",
       "</table>\n",
       "</div>"
      ],
      "text/plain": [
       "   user_id             title  ratings\n",
       "0        1  toy story (1995)        5\n",
       "1        6  toy story (1995)        4\n",
       "2        8  toy story (1995)        4\n",
       "3        9  toy story (1995)        5\n",
       "4       10  toy story (1995)        5"
      ]
     },
     "execution_count": 377,
     "metadata": {},
     "output_type": "execute_result"
    }
   ],
   "source": [
    "no_del_data = pd.merge(movies, ratings) \n",
    "no_del_data = pd.concat([no_del_data, my_data])\n",
    "no_del_data = no_trim_data[['user_id', 'title', 'ratings']] #내가 사용할 열만 가져옴 \n",
    "no_del_data.sort_index() #인덱스 정렬\n",
    "no_del_data.head()"
   ]
  },
  {
   "cell_type": "code",
   "execution_count": 378,
   "id": "dae84ef5",
   "metadata": {},
   "outputs": [],
   "source": [
    "# 고유한 유저, 타이틀을 찾아내는 코드\n",
    "user_unique2 = no_del_data['user_id'].unique()\n",
    "title_unique2 = no_del_data['title'].unique()\n",
    "\n",
    "# 유저, 타이틀 indexing 하는 코드 idx는 index의 약자입니다.\n",
    "user_to_idx2 = {v:k for k,v in enumerate(user_unique2)}\n",
    "title_to_idx2 = {v:k for k,v in enumerate(title_unique2)}"
   ]
  },
  {
   "cell_type": "code",
   "execution_count": 379,
   "id": "633c508d",
   "metadata": {},
   "outputs": [
    {
     "name": "stdout",
     "output_type": "stream",
     "text": [
      "user_id column indexing OK!!\n",
      "title column indexing OK!!\n"
     ]
    },
    {
     "data": {
      "text/html": [
       "<div>\n",
       "<style scoped>\n",
       "    .dataframe tbody tr th:only-of-type {\n",
       "        vertical-align: middle;\n",
       "    }\n",
       "\n",
       "    .dataframe tbody tr th {\n",
       "        vertical-align: top;\n",
       "    }\n",
       "\n",
       "    .dataframe thead th {\n",
       "        text-align: right;\n",
       "    }\n",
       "</style>\n",
       "<table border=\"1\" class=\"dataframe\">\n",
       "  <thead>\n",
       "    <tr style=\"text-align: right;\">\n",
       "      <th></th>\n",
       "      <th>user_id</th>\n",
       "      <th>title</th>\n",
       "      <th>ratings</th>\n",
       "    </tr>\n",
       "  </thead>\n",
       "  <tbody>\n",
       "    <tr>\n",
       "      <th>0</th>\n",
       "      <td>0</td>\n",
       "      <td>0</td>\n",
       "      <td>5</td>\n",
       "    </tr>\n",
       "    <tr>\n",
       "      <th>1</th>\n",
       "      <td>1</td>\n",
       "      <td>0</td>\n",
       "      <td>4</td>\n",
       "    </tr>\n",
       "    <tr>\n",
       "      <th>2</th>\n",
       "      <td>2</td>\n",
       "      <td>0</td>\n",
       "      <td>4</td>\n",
       "    </tr>\n",
       "    <tr>\n",
       "      <th>3</th>\n",
       "      <td>3</td>\n",
       "      <td>0</td>\n",
       "      <td>5</td>\n",
       "    </tr>\n",
       "    <tr>\n",
       "      <th>4</th>\n",
       "      <td>4</td>\n",
       "      <td>0</td>\n",
       "      <td>5</td>\n",
       "    </tr>\n",
       "    <tr>\n",
       "      <th>...</th>\n",
       "      <td>...</td>\n",
       "      <td>...</td>\n",
       "      <td>...</td>\n",
       "    </tr>\n",
       "    <tr>\n",
       "      <th>0</th>\n",
       "      <td>6039</td>\n",
       "      <td>2462</td>\n",
       "      <td>5</td>\n",
       "    </tr>\n",
       "    <tr>\n",
       "      <th>1</th>\n",
       "      <td>6039</td>\n",
       "      <td>1584</td>\n",
       "      <td>5</td>\n",
       "    </tr>\n",
       "    <tr>\n",
       "      <th>2</th>\n",
       "      <td>6039</td>\n",
       "      <td>2697</td>\n",
       "      <td>4</td>\n",
       "    </tr>\n",
       "    <tr>\n",
       "      <th>3</th>\n",
       "      <td>6039</td>\n",
       "      <td>1152</td>\n",
       "      <td>5</td>\n",
       "    </tr>\n",
       "    <tr>\n",
       "      <th>4</th>\n",
       "      <td>6039</td>\n",
       "      <td>1514</td>\n",
       "      <td>5</td>\n",
       "    </tr>\n",
       "  </tbody>\n",
       "</table>\n",
       "<p>836483 rows × 3 columns</p>\n",
       "</div>"
      ],
      "text/plain": [
       "    user_id  title  ratings\n",
       "0         0      0        5\n",
       "1         1      0        4\n",
       "2         2      0        4\n",
       "3         3      0        5\n",
       "4         4      0        5\n",
       "..      ...    ...      ...\n",
       "0      6039   2462        5\n",
       "1      6039   1584        5\n",
       "2      6039   2697        4\n",
       "3      6039   1152        5\n",
       "4      6039   1514        5\n",
       "\n",
       "[836483 rows x 3 columns]"
      ]
     },
     "execution_count": 379,
     "metadata": {},
     "output_type": "execute_result"
    }
   ],
   "source": [
    "# indexing을 통해 데이터 컬럼 내 값을 바꾸는 코드\n",
    "\n",
    "# user_to_idx.get을 통해 user_id 컬럼의 모든 값을 인덱싱한 Series를 구해 봅시다. \n",
    "# 혹시 정상적으로 인덱싱되지 않은 row가 있다면 인덱스가 NaN이 될 테니 dropna()로 제거합니다. \n",
    "temp_user_data = no_del_data['user_id'].map(user_to_idx2.get).dropna()\n",
    "if len(temp_user_data) == len(no_del_data):   # 모든 row가 정상적으로 인덱싱되었다면\n",
    "    print('user_id column indexing OK!!')\n",
    "    no_del_data['user_id'] = temp_user_data   # data['user_id']을 인덱싱된 Series로 교체해 줍니다. \n",
    "else:\n",
    "    print('user_id column indexing Fail!!')\n",
    "\n",
    "# temp_title_data을 통해 title 컬럼도 동일한 방식으로 인덱싱해 줍니다. \n",
    "temp_title_data = no_del_data['title'].map(title_to_idx2.get).dropna()\n",
    "if len(temp_title_data) == len(no_del_data):\n",
    "    print('title column indexing OK!!')\n",
    "    no_del_data['title'] = temp_title_data\n",
    "else:\n",
    "    print('title column indexing Fail!!')\n",
    "\n",
    "no_del_data"
   ]
  },
  {
   "cell_type": "code",
   "execution_count": 387,
   "id": "bff0d102",
   "metadata": {},
   "outputs": [
    {
     "data": {
      "text/plain": [
       "<6040x3628 sparse matrix of type '<class 'numpy.int64'>'\n",
       "\twith 836483 stored elements in Compressed Sparse Row format>"
      ]
     },
     "execution_count": 387,
     "metadata": {},
     "output_type": "execute_result"
    }
   ],
   "source": [
    "num_user2 = no_del_data['user_id'].nunique()\n",
    "num_movie2 = no_del_data['title'].nunique()\n",
    "\n",
    "csr_data2 = csr_matrix((no_del_data.ratings, (no_del_data.user_id, no_del_data.title)), shape=(num_user2, num_movie2))\n",
    "csr_data2"
   ]
  },
  {
   "cell_type": "code",
   "execution_count": 388,
   "id": "4f6f8223",
   "metadata": {},
   "outputs": [
    {
     "data": {
      "text/plain": [
       "<3628x6040 sparse matrix of type '<class 'numpy.int64'>'\n",
       "\twith 836483 stored elements in Compressed Sparse Column format>"
      ]
     },
     "execution_count": 388,
     "metadata": {},
     "output_type": "execute_result"
    }
   ],
   "source": [
    "csr_data_transpose2 = csr_data2.T\n",
    "csr_data_transpose2"
   ]
  },
  {
   "cell_type": "code",
   "execution_count": 389,
   "id": "fb54a884",
   "metadata": {},
   "outputs": [],
   "source": [
    "als_model2 = AlternatingLeastSquares(factors=100, regularization=0.001, use_gpu=False, iterations=1000, dtype=np.float32)"
   ]
  },
  {
   "cell_type": "code",
   "execution_count": 390,
   "id": "0a995338",
   "metadata": {},
   "outputs": [
    {
     "data": {
      "application/vnd.jupyter.widget-view+json": {
       "model_id": "8ac21b8f395546a5a1561af92f679242",
       "version_major": 2,
       "version_minor": 0
      },
      "text/plain": [
       "  0%|          | 0/1000 [00:00<?, ?it/s]"
      ]
     },
     "metadata": {},
     "output_type": "display_data"
    }
   ],
   "source": [
    "als_model2.fit(csr_data_transpose2) #모델 학습 "
   ]
  },
  {
   "cell_type": "code",
   "execution_count": 384,
   "id": "1e134853",
   "metadata": {},
   "outputs": [
    {
     "data": {
      "text/plain": [
       "1818"
      ]
     },
     "execution_count": 384,
     "metadata": {},
     "output_type": "execute_result"
    }
   ],
   "source": [
    "user_to_idx[6041]"
   ]
  },
  {
   "cell_type": "code",
   "execution_count": 391,
   "id": "2474554f",
   "metadata": {},
   "outputs": [],
   "source": [
    "min2, back_to_the_future2 = user_to_idx[6041], title_to_idx['back to the future (1985)']\n",
    "min_vector2, back_to_the_future_vector2 = als_model.user_factors[1818], als_model2.item_factors[back_to_the_future2]"
   ]
  },
  {
   "cell_type": "code",
   "execution_count": 392,
   "id": "d4a349af",
   "metadata": {},
   "outputs": [
    {
     "data": {
      "text/plain": [
       "0.6996953"
      ]
     },
     "execution_count": 392,
     "metadata": {},
     "output_type": "execute_result"
    }
   ],
   "source": [
    "np.dot(min_vector2, back_to_the_future_vector2)"
   ]
  },
  {
   "cell_type": "code",
   "execution_count": 393,
   "id": "d19e41fa",
   "metadata": {},
   "outputs": [
    {
     "name": "stdout",
     "output_type": "stream",
     "text": [
      "doctor dolittle (1967) 0001.074\n",
      "friday the 13th: the final chapter (1984) 0001.052\n",
      "amityville: a new generation (1993) 0001.036\n",
      "seventh seal, the (sjunde inseglet, det) (1957) 0001.033\n",
      "outsiders, the (1983) 0001.022\n",
      "synthetic pleasures (1995) 0001.012\n",
      "herbie goes bananas (1980) 0001.000\n",
      "haunted honeymoon (1986) 0000.966\n",
      "drugstore cowboy (1989) 0000.953\n",
      "saltmen of tibet, the (1997) 0000.941\n",
      "whatever it takes (2000) 0000.918\n",
      "ever after: a cinderella story (1998) 0000.912\n",
      "dune (1984) 0000.908\n",
      "keys to tulsa (1997) 0000.897\n",
      "alien³ (1992) 0000.897\n",
      "jungle book, the (1994) 0000.884\n",
      "mass appeal (1984) 0000.875\n",
      "unhook the stars (1996) 0000.872\n",
      "hush (1998) 0000.872\n",
      "halloween (1978) 0000.845\n"
     ]
    }
   ],
   "source": [
    "user2 = user_to_idx[6041]\n",
    "# recommend에서는 user*item CSR Matrix를 받습니다.\n",
    "title_recommended2 = als_model2.recommend(user2, csr_data2, N=20, filter_already_liked_items=True)\n",
    "for i in title_recommended2: \n",
    "    print(\"{} {:08.3f}\".format(idx_to_title[i[0]], i[1]))"
   ]
  },
  {
   "cell_type": "code",
   "execution_count": 394,
   "id": "0bc496c0",
   "metadata": {},
   "outputs": [
    {
     "data": {
      "text/plain": [
       "[('speed (1994)', 0.17666721578957406),\n",
       " ('geronimo: an american legend (1993)', 0.07922743246867242),\n",
       " ('marked for death (1990)', 0.06986771556487786),\n",
       " ('gung ho (1986)', 0.0540717248885262),\n",
       " ('cool hand luke (1967)', 0.051924970173562124),\n",
       " ('fire down below (1997)', 0.049147712541665646),\n",
       " ('tigger movie, the (2000)', 0.04690744469824855),\n",
       " ('thousand acres, a (1997)', 0.04260135392869909),\n",
       " ('true lies (1994)', 0.04166003527727795),\n",
       " ('ghost in the shell (kokaku kidotai) (1995)', 0.041156074004302275)]"
      ]
     },
     "execution_count": 394,
     "metadata": {},
     "output_type": "execute_result"
    }
   ],
   "source": [
    "title2 = title_to_idx['speed (1994)']\n",
    "explain2 = als_model2.explain2(user2, csr_data2, itemid=title2)\n",
    "[(idx_to_title[i[0]], i[1]) for i in explain2[1]]"
   ]
  },
  {
   "cell_type": "markdown",
   "id": "037ff6ff",
   "metadata": {},
   "source": [
    "### 새로운 데이터 생성(장르별로 영화 추천)\n",
    "● 평점이 아닌 장르를 기준으로 영화를 추천하겠습니다.  "
   ]
  },
  {
   "cell_type": "code",
   "execution_count": 456,
   "id": "009db256",
   "metadata": {},
   "outputs": [
    {
     "data": {
      "text/html": [
       "<div>\n",
       "<style scoped>\n",
       "    .dataframe tbody tr th:only-of-type {\n",
       "        vertical-align: middle;\n",
       "    }\n",
       "\n",
       "    .dataframe tbody tr th {\n",
       "        vertical-align: top;\n",
       "    }\n",
       "\n",
       "    .dataframe thead th {\n",
       "        text-align: right;\n",
       "    }\n",
       "</style>\n",
       "<table border=\"1\" class=\"dataframe\">\n",
       "  <thead>\n",
       "    <tr style=\"text-align: right;\">\n",
       "      <th></th>\n",
       "      <th>user_id</th>\n",
       "      <th>title</th>\n",
       "      <th>genre</th>\n",
       "    </tr>\n",
       "  </thead>\n",
       "  <tbody>\n",
       "    <tr>\n",
       "      <th>0</th>\n",
       "      <td>1</td>\n",
       "      <td>Toy Story (1995)</td>\n",
       "      <td>Animation|Children's|Comedy</td>\n",
       "    </tr>\n",
       "    <tr>\n",
       "      <th>1</th>\n",
       "      <td>6</td>\n",
       "      <td>Toy Story (1995)</td>\n",
       "      <td>Animation|Children's|Comedy</td>\n",
       "    </tr>\n",
       "    <tr>\n",
       "      <th>2</th>\n",
       "      <td>8</td>\n",
       "      <td>Toy Story (1995)</td>\n",
       "      <td>Animation|Children's|Comedy</td>\n",
       "    </tr>\n",
       "    <tr>\n",
       "      <th>3</th>\n",
       "      <td>9</td>\n",
       "      <td>Toy Story (1995)</td>\n",
       "      <td>Animation|Children's|Comedy</td>\n",
       "    </tr>\n",
       "    <tr>\n",
       "      <th>4</th>\n",
       "      <td>10</td>\n",
       "      <td>Toy Story (1995)</td>\n",
       "      <td>Animation|Children's|Comedy</td>\n",
       "    </tr>\n",
       "  </tbody>\n",
       "</table>\n",
       "</div>"
      ],
      "text/plain": [
       "   user_id             title                        genre\n",
       "0        1  Toy Story (1995)  Animation|Children's|Comedy\n",
       "1        6  Toy Story (1995)  Animation|Children's|Comedy\n",
       "2        8  Toy Story (1995)  Animation|Children's|Comedy\n",
       "3        9  Toy Story (1995)  Animation|Children's|Comedy\n",
       "4       10  Toy Story (1995)  Animation|Children's|Comedy"
      ]
     },
     "execution_count": 456,
     "metadata": {},
     "output_type": "execute_result"
    }
   ],
   "source": [
    "genre_data = pd.merge(movies, ratings) \n",
    "genre_data = pd.concat([genre_data, my_data])\n",
    "genre_data = genre_data[['user_id', 'title', 'genre']] #내가 사용할 열만 가져옴 \n",
    "genre_data.sort_index() #인덱스 정렬\n",
    "genre_data.head()"
   ]
  },
  {
   "cell_type": "code",
   "execution_count": 457,
   "id": "94f0db92",
   "metadata": {},
   "outputs": [],
   "source": [
    "# 고유한 유저, 타이, 장르틀을 찾아내는 코드\n",
    "user_unique = genre_data['user_id'].unique()\n",
    "title_unique = genre_data['title'].unique()\n",
    "genre_unique = genre_data['genre'].unique()\n",
    "\n",
    "# 유저, 타이틀 indexing 하는 코드 idx는 index의 약자입니다.\n",
    "user_to_idx = {v:k for k,v in enumerate(user_unique)}\n",
    "title_to_idx = {v:k for k,v in enumerate(title_unique)}\n",
    "genre_to_idx = {v:k for k,v in enumerate(genre_unique)}"
   ]
  },
  {
   "cell_type": "code",
   "execution_count": 458,
   "id": "1c4e104e",
   "metadata": {},
   "outputs": [
    {
     "name": "stdout",
     "output_type": "stream",
     "text": [
      "user_id column indexing OK!!\n",
      "title column indexing OK!!\n",
      "genre column indexing OK!!\n"
     ]
    },
    {
     "data": {
      "text/html": [
       "<div>\n",
       "<style scoped>\n",
       "    .dataframe tbody tr th:only-of-type {\n",
       "        vertical-align: middle;\n",
       "    }\n",
       "\n",
       "    .dataframe tbody tr th {\n",
       "        vertical-align: top;\n",
       "    }\n",
       "\n",
       "    .dataframe thead th {\n",
       "        text-align: right;\n",
       "    }\n",
       "</style>\n",
       "<table border=\"1\" class=\"dataframe\">\n",
       "  <thead>\n",
       "    <tr style=\"text-align: right;\">\n",
       "      <th></th>\n",
       "      <th>user_id</th>\n",
       "      <th>title</th>\n",
       "      <th>genre</th>\n",
       "    </tr>\n",
       "  </thead>\n",
       "  <tbody>\n",
       "    <tr>\n",
       "      <th>0</th>\n",
       "      <td>0</td>\n",
       "      <td>0</td>\n",
       "      <td>0</td>\n",
       "    </tr>\n",
       "    <tr>\n",
       "      <th>1</th>\n",
       "      <td>1</td>\n",
       "      <td>0</td>\n",
       "      <td>0</td>\n",
       "    </tr>\n",
       "    <tr>\n",
       "      <th>2</th>\n",
       "      <td>2</td>\n",
       "      <td>0</td>\n",
       "      <td>0</td>\n",
       "    </tr>\n",
       "    <tr>\n",
       "      <th>3</th>\n",
       "      <td>3</td>\n",
       "      <td>0</td>\n",
       "      <td>0</td>\n",
       "    </tr>\n",
       "    <tr>\n",
       "      <th>4</th>\n",
       "      <td>4</td>\n",
       "      <td>0</td>\n",
       "      <td>0</td>\n",
       "    </tr>\n",
       "    <tr>\n",
       "      <th>...</th>\n",
       "      <td>...</td>\n",
       "      <td>...</td>\n",
       "      <td>...</td>\n",
       "    </tr>\n",
       "    <tr>\n",
       "      <th>0</th>\n",
       "      <td>6039</td>\n",
       "      <td>3628</td>\n",
       "      <td>65</td>\n",
       "    </tr>\n",
       "    <tr>\n",
       "      <th>1</th>\n",
       "      <td>6039</td>\n",
       "      <td>3629</td>\n",
       "      <td>12</td>\n",
       "    </tr>\n",
       "    <tr>\n",
       "      <th>2</th>\n",
       "      <td>6039</td>\n",
       "      <td>3630</td>\n",
       "      <td>3</td>\n",
       "    </tr>\n",
       "    <tr>\n",
       "      <th>3</th>\n",
       "      <td>6039</td>\n",
       "      <td>3631</td>\n",
       "      <td>10</td>\n",
       "    </tr>\n",
       "    <tr>\n",
       "      <th>4</th>\n",
       "      <td>6039</td>\n",
       "      <td>3632</td>\n",
       "      <td>12</td>\n",
       "    </tr>\n",
       "  </tbody>\n",
       "</table>\n",
       "<p>836483 rows × 3 columns</p>\n",
       "</div>"
      ],
      "text/plain": [
       "    user_id  title  genre\n",
       "0         0      0      0\n",
       "1         1      0      0\n",
       "2         2      0      0\n",
       "3         3      0      0\n",
       "4         4      0      0\n",
       "..      ...    ...    ...\n",
       "0      6039   3628     65\n",
       "1      6039   3629     12\n",
       "2      6039   3630      3\n",
       "3      6039   3631     10\n",
       "4      6039   3632     12\n",
       "\n",
       "[836483 rows x 3 columns]"
      ]
     },
     "execution_count": 458,
     "metadata": {},
     "output_type": "execute_result"
    }
   ],
   "source": [
    "# indexing을 통해 데이터 컬럼 내 값을 바꾸는 코드\n",
    "\n",
    "# user_to_idx.get을 통해 user_id 컬럼의 모든 값을 인덱싱한 Series를 구해 봅시다. \n",
    "# 혹시 정상적으로 인덱싱되지 않은 row가 있다면 인덱스가 NaN이 될 테니 dropna()로 제거합니다. \n",
    "temp_user_data = genre_data['user_id'].map(user_to_idx.get).dropna()\n",
    "if len(temp_user_data) == len(genre_data):   # 모든 row가 정상적으로 인덱싱되었다면\n",
    "    print('user_id column indexing OK!!')\n",
    "    genre_data['user_id'] = temp_user_data   # data['user_id']을 인덱싱된 Series로 교체해 줍니다. \n",
    "else:\n",
    "    print('user_id column indexing Fail!!')\n",
    "\n",
    "# temp_title_data을 통해 title 컬럼도 동일한 방식으로 인덱싱해 줍니다. \n",
    "temp_title_data = genre_data['title'].map(title_to_idx.get).dropna()\n",
    "if len(temp_title_data) == len(genre_data):\n",
    "    print('title column indexing OK!!')\n",
    "    genre_data['title'] = temp_title_data\n",
    "else:\n",
    "    print('title column indexing Fail!!')\n",
    "    \n",
    "temp_genre_data = genre_data['genre'].map(genre_to_idx.get).dropna()\n",
    "if len(temp_genre_data) == len(genre_data):\n",
    "    print('genre column indexing OK!!')\n",
    "    genre_data['genre'] = temp_genre_data\n",
    "else:\n",
    "    print('genre column indexing Fail!!')\n",
    "\n",
    "genre_data"
   ]
  },
  {
   "cell_type": "markdown",
   "id": "2aa0455e",
   "metadata": {},
   "source": [
    "● csr matrix 생성 "
   ]
  },
  {
   "cell_type": "code",
   "execution_count": 459,
   "id": "e8225d4c",
   "metadata": {},
   "outputs": [
    {
     "data": {
      "text/plain": [
       "<6040x3633 sparse matrix of type '<class 'numpy.int64'>'\n",
       "\twith 836483 stored elements in Compressed Sparse Row format>"
      ]
     },
     "execution_count": 459,
     "metadata": {},
     "output_type": "execute_result"
    }
   ],
   "source": [
    "num_user3 = genre_data['user_id'].nunique()\n",
    "num_movie3 = genre_data['title'].nunique()\n",
    "num_genre3 = genre_data['genre'].nunique()\n",
    "\n",
    "csr_data3 = csr_matrix((genre_data.genre, (genre_data.user_id, genre_data.title)), shape=(num_user3, num_movie3))\n",
    "csr_data3"
   ]
  },
  {
   "cell_type": "markdown",
   "id": "35f5f8f6",
   "metadata": {},
   "source": [
    "● 모델 생성 "
   ]
  },
  {
   "cell_type": "code",
   "execution_count": 460,
   "id": "f8d2b66e",
   "metadata": {},
   "outputs": [],
   "source": [
    "# Implicit AlternatingLeastSquares 모델의 선언, iteration은 나중에 바꿔주겠습니다.\n",
    "als_model3 = AlternatingLeastSquares(factors=100, regularization=0.01, use_gpu=False, iterations=1000, dtype=np.float32)"
   ]
  },
  {
   "cell_type": "code",
   "execution_count": 461,
   "id": "d4a546dd",
   "metadata": {},
   "outputs": [
    {
     "data": {
      "text/plain": [
       "<3633x6040 sparse matrix of type '<class 'numpy.int64'>'\n",
       "\twith 836483 stored elements in Compressed Sparse Column format>"
      ]
     },
     "execution_count": 461,
     "metadata": {},
     "output_type": "execute_result"
    }
   ],
   "source": [
    "# als 모델은 input으로 (item X user 꼴의 matrix를 받기 때문에 Transpose해줍니다.)\n",
    "csr_data_transpose3 = csr_data3.T\n",
    "csr_data_transpose3"
   ]
  },
  {
   "cell_type": "markdown",
   "id": "abaa88e3",
   "metadata": {},
   "source": [
    "● 모델 학습"
   ]
  },
  {
   "cell_type": "code",
   "execution_count": null,
   "id": "11b17c16",
   "metadata": {},
   "outputs": [
    {
     "data": {
      "application/vnd.jupyter.widget-view+json": {
       "model_id": "075fc32b9c2c42ce8bd2327ccc915ec7",
       "version_major": 2,
       "version_minor": 0
      },
      "text/plain": [
       "  0%|          | 0/1000 [00:00<?, ?it/s]"
      ]
     },
     "metadata": {},
     "output_type": "display_data"
    }
   ],
   "source": [
    "als_model3.fit(csr_data_transpose3) #모델 학습 "
   ]
  },
  {
   "cell_type": "code",
   "execution_count": null,
   "id": "69acc8ee",
   "metadata": {},
   "outputs": [],
   "source": [
    "min3, back_to_the_future3 = user_to_idx[6041], title_to_idx['back to the future (1985)']\n",
    "min_vector3, back_to_the_future_vector3 = als_model3.user_factors[1818], als_model3.item_factors[back_to_the_future]"
   ]
  },
  {
   "cell_type": "markdown",
   "id": "063cc23d",
   "metadata": {},
   "source": [
    "### 훈련된 모델이 예측한 나의 선호도 파악"
   ]
  },
  {
   "cell_type": "code",
   "execution_count": null,
   "id": "7c03cbc0",
   "metadata": {},
   "outputs": [],
   "source": [
    "np.dot(min_vector3, back_to_the_future_vector3)"
   ]
  },
  {
   "cell_type": "code",
   "execution_count": null,
   "id": "dc0a3a24",
   "metadata": {},
   "outputs": [],
   "source": [
    "toy = title_to_idx['toy story (1995)']\n",
    "toy_vector3 = als_model3.item_factors[toy]\n",
    "np.dot(min_vector3, toy_vector3)"
   ]
  },
  {
   "cell_type": "markdown",
   "id": "34e6ab81",
   "metadata": {},
   "source": [
    "### 내가 좋아하는 장르와 비슷한 영화 추천 받기"
   ]
  },
  {
   "cell_type": "code",
   "execution_count": null,
   "id": "ad78fe96",
   "metadata": {},
   "outputs": [],
   "source": [
    "get_similar_title('back to the future (1985)') "
   ]
  },
  {
   "cell_type": "markdown",
   "id": "17857952",
   "metadata": {},
   "source": [
    "● big이란 영화는 코미디, 드라마, sci-fi 장르인데 back to the future의 코미디, sci-fi 장르와 꽤 비슷한 영화라 시청해봐야겠다.  "
   ]
  },
  {
   "cell_type": "markdown",
   "id": "70e1fd7a",
   "metadata": {},
   "source": [
    "### 내가 좋아할 만한 영화들을 추천 받기"
   ]
  },
  {
   "cell_type": "code",
   "execution_count": null,
   "id": "53a3b90e",
   "metadata": {},
   "outputs": [],
   "source": [
    "user3 = user_to_idx[6041]\n",
    "# recommend에서는 user*item CSR Matrix를 받습니다.\n",
    "title_recommended3 = als_model3.recommend(user3, csr_data3, N=20, filter_already_liked_items=True)\n",
    "for i in title_recommended3: \n",
    "    print(\"{} {:08.3f}\".format(idx_to_title[i[0]], i[1]))"
   ]
  },
  {
   "cell_type": "code",
   "execution_count": null,
   "id": "d950b956",
   "metadata": {},
   "outputs": [],
   "source": [
    "title3 = title_to_idx['lethal weapon (1987)']\n",
    "explain3 = als_model3.explain(user3, csr_data3, itemid=title3)\n",
    "[(idx_to_title[i[0]], i[1]) for i in explain3[1]]"
   ]
  },
  {
   "cell_type": "markdown",
   "id": "b876317e",
   "metadata": {},
   "source": [
    "# Discusstion  \n",
    "● 평점별 영화추천 보다 장르별 영화추천이 더 선호도 파악을 잘 "
   ]
  }
 ],
 "metadata": {
  "kernelspec": {
   "display_name": "Python 3 (ipykernel)",
   "language": "python",
   "name": "python3"
  },
  "language_info": {
   "codemirror_mode": {
    "name": "ipython",
    "version": 3
   },
   "file_extension": ".py",
   "mimetype": "text/x-python",
   "name": "python",
   "nbconvert_exporter": "python",
   "pygments_lexer": "ipython3",
   "version": "3.9.7"
  }
 },
 "nbformat": 4,
 "nbformat_minor": 5
}

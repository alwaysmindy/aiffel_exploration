{
  "nbformat": 4,
  "nbformat_minor": 0,
  "metadata": {
    "colab": {
      "name": "exploration1.ipynb",
      "provenance": [],
      "collapsed_sections": []
    },
    "kernelspec": {
      "name": "python3",
      "display_name": "Python 3"
    },
    "language_info": {
      "name": "python"
    }
  },
  "cells": [
    {
      "cell_type": "markdown",
      "source": [
        "**가위 바위 보 이미지 분류 모델  **  \n",
        "이번 프로젝트에서는 직접 찍은 가위 바위 보 사진과 아이펠 학우 분의 사진을 가지고 이미지 분류 작업을 하였습니다.  \n",
        "학습 데이터는 학우 분의 사진 100장을 이용했고  \n",
        "테스트 데이터는 저의 사진 25장을 이용해서 8:2 비율로 배분했습니다.  \n",
        "학습과 테스트는 lms에서 제공한 lenet 모델과 hyperparameter tuning을 적용한 모델들을 활용했습니다.  \n",
        "\n",
        "\n"
      ],
      "metadata": {
        "id": "eXkGj7598lQk"
      }
    },
    {
      "cell_type": "code",
      "source": [
        "#필요한 이미지 불러오기 \n",
        "from PIL import Image\n",
        "import glob\n",
        "import os\n",
        "import numpy as np\n",
        "\n",
        "import matplotlib.pyplot as plt\n",
        "import seaborn as sns\n",
        "\n",
        "import tensorflow as tf\n",
        "from tensorflow import keras\n",
        "import numpy as np"
      ],
      "metadata": {
        "id": "0NQ4WQdi8xHz"
      },
      "execution_count": 196,
      "outputs": []
    },
    {
      "cell_type": "code",
      "source": [
        "#train set  경로 설정 \n",
        "train_image_dir_path = \"/content/drive/MyDrive/aiffel/data/mineon_rsp/data/train\"\n",
        "\n",
        "#test set 경로 \n",
        "test_image_dir_path = \"/content/drive/MyDrive/aiffel/data/mineon_rsp/data/test\""
      ],
      "metadata": {
        "id": "AkwFsiY3KeQb"
      },
      "execution_count": 265,
      "outputs": []
    },
    {
      "cell_type": "code",
      "source": [
        "#train data set 개수 확인 \n",
        "print(\"가위 이미지: {0}\".format(len(glob.glob(train_image_dir_path +'/scissor/*.jpg' ))))\n",
        "print(\"바위 이미지: {0}\".format(len(glob.glob(train_image_dir_path + '/rock/*.jpg' ))))\n",
        "print(\"보 이미지: {0}\".format(len(glob.glob(train_image_dir_path + '/paper/*.jpg' ))))\n",
        "print(\"=======================================================\")\n",
        "\n",
        "#test data set 개수 확인 => 100, 100\n",
        "print(\"가위 이미지: {0}\".format(len(glob.glob(test_image_dir_path +'/scissor/*.jpg' ))))\n",
        "print(\"바위 이미지: {0}\".format(len(glob.glob(test_image_dir_path +'/rock/*.jpg' ))))\n",
        "print(\"보 이미지: {0}\".format(len(glob.glob(test_image_dir_path +'/paper/*.jpg' ))))"
      ],
      "metadata": {
        "colab": {
          "base_uri": "https://localhost:8080/"
        },
        "id": "yo1h12nWytAW",
        "outputId": "52f9cac4-c7b0-4ac8-a4a0-bfee92277d7c"
      },
      "execution_count": 266,
      "outputs": [
        {
          "output_type": "stream",
          "name": "stdout",
          "text": [
            "가위 이미지: 100\n",
            "바위 이미지: 100\n",
            "보 이미지: 100\n",
            "=======================================================\n",
            "가위 이미지: 100\n",
            "바위 이미지: 100\n",
            "보 이미지: 100\n"
          ]
        }
      ]
    },
    {
      "cell_type": "code",
      "source": [
        "#이미지 사이즈 28 x 28로 줄이기 \n",
        "def resize_images(img_path):\n",
        "    images=glob.glob(img_path + \"/*.jpg\")  \n",
        "    \n",
        "    print(len(images), \" images to be resized.\")\n",
        "\n",
        "    target_size=(28,28)  \n",
        "    for img in images:\n",
        "        old_img=Image.open(img)\n",
        "        new_img=old_img.resize(target_size,Image.ANTIALIAS)\n",
        "        new_img.save(img, \"JPEG\")\n",
        "\n",
        "    print(len(images), \" images resized.\")\n",
        "\n",
        "#학습 데이터 적용\n",
        "print(\"train image resize\")\n",
        "image_dir_path = train_image_dir_path + \"/scissor\"\n",
        "resize_images(image_dir_path)\n",
        "\n",
        "image_dir_path = train_image_dir_path + \"/rock\"\n",
        "resize_images(image_dir_path)\n",
        "\n",
        "image_dir_path = train_image_dir_path + \"/paper\"\n",
        "resize_images(image_dir_path)\n",
        "\n",
        "print(\"============================================\")\n",
        "\n",
        "#테스트 데이터 적용\n",
        "print(\"test image resize\")\n",
        "image_dir_path = test_image_dir_path + \"/scissor\"\n",
        "resize_images(image_dir_path)\n",
        "\n",
        "image_dir_path = test_image_dir_path + \"/rock\"\n",
        "resize_images(image_dir_path)\n",
        "\n",
        "image_dir_path = test_image_dir_path + \"/paper\"\n",
        "resize_images(image_dir_path)"
      ],
      "metadata": {
        "id": "vXZGDEXCRuP8",
        "colab": {
          "base_uri": "https://localhost:8080/"
        },
        "outputId": "600fd843-b322-4e36-8756-60b2389438cb"
      },
      "execution_count": 267,
      "outputs": [
        {
          "output_type": "stream",
          "name": "stdout",
          "text": [
            "train image resize\n",
            "100  images to be resized.\n",
            "100  images resized.\n",
            "100  images to be resized.\n",
            "100  images resized.\n",
            "100  images to be resized.\n",
            "100  images resized.\n",
            "============================================\n",
            "test image resize\n",
            "100  images to be resized.\n",
            "100  images resized.\n",
            "100  images to be resized.\n",
            "100  images resized.\n",
            "100  images to be resized.\n",
            "100  images resized.\n"
          ]
        }
      ]
    },
    {
      "cell_type": "code",
      "source": [
        "#train data 읽어 들이는 load_data 함수 \n",
        "def load_data(img_path, number_of_data=300): \n",
        "    \n",
        "    img_size=28\n",
        "    color=3\n",
        "   \n",
        "    imgs=np.zeros(number_of_data*img_size*img_size*color,dtype=np.int32).reshape(number_of_data,img_size,img_size,color) #이미지 담을 행렬\n",
        "    labels=np.zeros(number_of_data,dtype=np.int32) #가위, 바위, 보 label 담을 행렬\n",
        "\n",
        "    idx=0\n",
        "    for file in glob.iglob(img_path+'/scissor/*.jpg'):\n",
        "        img = np.array(Image.open(file),dtype=np.int32)\n",
        "        imgs[idx,:,:,:]=img    \n",
        "        labels[idx]=0   # 가위 : 0\n",
        "        idx=idx+1\n",
        "\n",
        "    for file in glob.iglob(img_path+'/rock/*.jpg'):\n",
        "        img = np.array(Image.open(file),dtype=np.int32)\n",
        "        imgs[idx,:,:,:]=img   \n",
        "        labels[idx]=1   # 바위 : 1\n",
        "        idx=idx+1  \n",
        "    \n",
        "    for file in glob.iglob(img_path+'/paper/*.jpg'):\n",
        "        img = np.array(Image.open(file),dtype=np.int32)\n",
        "        imgs[idx,:,:,:]=img    \n",
        "        labels[idx]=2   # 보 : 2\n",
        "        idx=idx+1\n",
        "\n",
        "    if img_path.endswith('train'):\n",
        "      print(\"학습데이터(x_train)의 이미지 개수는\", idx,\"입니다.\")   \n",
        "    else:\n",
        "      print(\"테스트데이터(x_test)의 이미지 개수는\", idx,\"입니다.\")\n",
        "    return imgs, labels \n",
        "\n",
        "(x_train, y_train) = load_data(train_image_dir_path, number_of_data=300) #x_train은 이미지 저장, y_train은 label 저장\n",
        "x_train = x_train/255.0 #정규화\n",
        "\n",
        "print(\"x_train shape: {}\".format(x_train.shape))\n",
        "print(\"y_train shape: {}\".format(y_train.shape))\n",
        "\n",
        "(x_test, y_test) = load_data(test_image_dir_path, number_of_data=300)\n",
        "\n",
        "x_test = x_test[:24] #테스트 데이터 25개만 사용 \n",
        "x_test = x_test/255.0 #테스트 데이터 정규화 \n",
        "\n",
        "y_test = y_test[:24] #테스트 label 25개만 사용\n",
        "\n",
        "print(\"x_test shape: {}\".format(x_test.shape))\n",
        "print(\"y_test shape: {}\".format(y_test.shape))"
      ],
      "metadata": {
        "id": "wTd9K6hr9bNj",
        "colab": {
          "base_uri": "https://localhost:8080/"
        },
        "outputId": "8c566589-e829-42f6-d8d4-fc53607b9d8e"
      },
      "execution_count": 268,
      "outputs": [
        {
          "output_type": "stream",
          "name": "stdout",
          "text": [
            "학습데이터(x_train)의 이미지 개수는 300 입니다.\n",
            "x_train shape: (300, 28, 28, 3)\n",
            "y_train shape: (300,)\n",
            "테스트데이터(x_test)의 이미지 개수는 300 입니다.\n",
            "x_test shape: (24, 28, 28, 3)\n",
            "y_test shape: (24,)\n"
          ]
        }
      ]
    },
    {
      "cell_type": "code",
      "source": [
        "#이미지 불러오기 \n",
        "fig, axs = plt.subplots(nrows=3, ncols=3, figsize=(15,15)) #9개 이미지 \n",
        "axs = np.ravel(axs)\n",
        "\n",
        "for i in range(len(axs)):\n",
        "    plt.sca(axs[i])\n",
        "    plt.imshow(x_train[i])\n",
        "     \n",
        "plt.show()"
      ],
      "metadata": {
        "colab": {
          "base_uri": "https://localhost:8080/",
          "height": 863
        },
        "id": "DiCdNstw1f2g",
        "outputId": "437006dd-fa77-4d3d-d8b3-d44eff663b54"
      },
      "execution_count": 195,
      "outputs": [
        {
          "output_type": "display_data",
          "data": {
            "image/png": "[encoded data removed]",
            "text/plain": [
              "<Figure size 1080x1080 with 9 Axes>"
            ]
          },
          "metadata": {
            "needs_background": "light"
          }
        }
      ]
    },
    {
      "cell_type": "code",
      "source": [
        "#lenet model 7 layers\n",
        "# LeNet-5 model\n",
        "\n",
        "input_shape = (28,28,3) #입력 이미지 형태\n",
        "num_class = 3 #class 3개 \n",
        "\n",
        "model1=keras.models.Sequential()\n",
        "model1.add(keras.layers.Conv2D(16, (3,3), activation='relu', input_shape=input_shape)) #다양한 이미지의 특징, 입력 이미지의 형태\n",
        "model1.add(keras.layers.MaxPool2D(2,2))\n",
        "model1.add(keras.layers.Conv2D(32, (3,3), activation='relu'))\n",
        "model1.add(keras.layers.MaxPooling2D((2,2)))\n",
        "model1.add(keras.layers.Flatten())\n",
        "model1.add(keras.layers.Dense(32, activation='relu')) \n",
        "model1.add(keras.layers.Dense(num_class, activation='softmax'))\n",
        "\n",
        "model1.summary()"
      ],
      "metadata": {
        "colab": {
          "base_uri": "https://localhost:8080/"
        },
        "id": "m3DNvAjk8Ij6",
        "outputId": "4d9ec459-137d-44ee-9740-250f09fe7016"
      },
      "execution_count": 240,
      "outputs": [
        {
          "output_type": "stream",
          "name": "stdout",
          "text": [
            "Model: \"sequential_36\"\n",
            "_________________________________________________________________\n",
            " Layer (type)                Output Shape              Param #   \n",
            "=================================================================\n",
            " conv2d_81 (Conv2D)          (None, 26, 26, 16)        448       \n",
            "                                                                 \n",
            " max_pooling2d_63 (MaxPoolin  (None, 13, 13, 16)       0         \n",
            " g2D)                                                            \n",
            "                                                                 \n",
            " conv2d_82 (Conv2D)          (None, 11, 11, 32)        4640      \n",
            "                                                                 \n",
            " max_pooling2d_64 (MaxPoolin  (None, 5, 5, 32)         0         \n",
            " g2D)                                                            \n",
            "                                                                 \n",
            " flatten_38 (Flatten)        (None, 800)               0         \n",
            "                                                                 \n",
            " dense_84 (Dense)            (None, 32)                25632     \n",
            "                                                                 \n",
            " dense_85 (Dense)            (None, 3)                 99        \n",
            "                                                                 \n",
            "=================================================================\n",
            "Total params: 30,819\n",
            "Trainable params: 30,819\n",
            "Non-trainable params: 0\n",
            "_________________________________________________________________\n"
          ]
        }
      ]
    },
    {
      "cell_type": "code",
      "source": [
        "#학습방식 환경설정 \n",
        "model1.compile(optimizer='adam',\n",
        "              loss='sparse_categorical_crossentropy',\n",
        "              metrics=['accuracy'])"
      ],
      "metadata": {
        "id": "jpWc7rkx2Gum"
      },
      "execution_count": 217,
      "outputs": []
    },
    {
      "cell_type": "code",
      "source": [
        "#epoch: 10\n",
        "model1.fit(x_train, y_train, epochs=10)"
      ],
      "metadata": {
        "colab": {
          "base_uri": "https://localhost:8080/"
        },
        "id": "tMexKA-x2KOJ",
        "outputId": "aa60fd31-57dc-4406-9800-2f3734c7e458"
      },
      "execution_count": 199,
      "outputs": [
        {
          "output_type": "stream",
          "name": "stdout",
          "text": [
            "Epoch 1/10\n",
            "10/10 [==============================] - 0s 19ms/step - loss: 0.9596 - accuracy: 0.7233\n",
            "Epoch 2/10\n",
            "10/10 [==============================] - 0s 18ms/step - loss: 0.9373 - accuracy: 0.7767\n",
            "Epoch 3/10\n",
            "10/10 [==============================] - 0s 20ms/step - loss: 0.9144 - accuracy: 0.7300\n",
            "Epoch 4/10\n",
            "10/10 [==============================] - 0s 21ms/step - loss: 0.8904 - accuracy: 0.7267\n",
            "Epoch 5/10\n",
            "10/10 [==============================] - 0s 20ms/step - loss: 0.8622 - accuracy: 0.7533\n",
            "Epoch 6/10\n",
            "10/10 [==============================] - 0s 20ms/step - loss: 0.8406 - accuracy: 0.7267\n",
            "Epoch 7/10\n",
            "10/10 [==============================] - 0s 20ms/step - loss: 0.7910 - accuracy: 0.7133\n",
            "Epoch 8/10\n",
            "10/10 [==============================] - 0s 20ms/step - loss: 0.7704 - accuracy: 0.7767\n",
            "Epoch 9/10\n",
            "10/10 [==============================] - 0s 22ms/step - loss: 0.7283 - accuracy: 0.7600\n",
            "Epoch 10/10\n",
            "10/10 [==============================] - 0s 21ms/step - loss: 0.7009 - accuracy: 0.8000\n"
          ]
        },
        {
          "output_type": "execute_result",
          "data": {
            "text/plain": [
              "<keras.callbacks.History at 0x7f0e822c2dd0>"
            ]
          },
          "metadata": {},
          "execution_count": 199
        }
      ]
    },
    {
      "cell_type": "code",
      "source": [
        "test_loss, test_accuracy = model1.evaluate(x_test,y_test, verbose=2) #test 정확도가 1인 것으로 보아 label 또는 data의 leakage가 발생해 보임\n",
        "print(\"test_loss: {} \".format(test_loss)) #손실\n",
        "print(\"test_accuracy: {}\".format(test_accuracy)) #정확도"
      ],
      "metadata": {
        "colab": {
          "base_uri": "https://localhost:8080/"
        },
        "id": "nT6XayXt9qgT",
        "outputId": "12b56ed4-1d44-4b7c-b214-353cea431d85"
      },
      "execution_count": 200,
      "outputs": [
        {
          "output_type": "stream",
          "name": "stdout",
          "text": [
            "1/1 - 0s - loss: 0.6969 - accuracy: 1.0000 - 157ms/epoch - 157ms/step\n",
            "test_loss: 0.6969335079193115 \n",
            "test_accuracy: 1.0\n"
          ]
        }
      ]
    },
    {
      "cell_type": "code",
      "source": [
        "model1.fit(x_train, y_train, epochs=20) #epoch: 20 "
      ],
      "metadata": {
        "colab": {
          "base_uri": "https://localhost:8080/"
        },
        "id": "9n6G78fm9G2h",
        "outputId": "1b82437e-6b9a-455f-88bd-98149dd1dcbd"
      },
      "execution_count": 210,
      "outputs": [
        {
          "output_type": "stream",
          "name": "stdout",
          "text": [
            "Epoch 1/20\n",
            "10/10 [==============================] - 1s 22ms/step - loss: 1.0732 - accuracy: 0.3833\n",
            "Epoch 2/20\n",
            "10/10 [==============================] - 0s 22ms/step - loss: 0.9852 - accuracy: 0.6433\n",
            "Epoch 3/20\n",
            "10/10 [==============================] - 0s 21ms/step - loss: 0.8520 - accuracy: 0.7000\n",
            "Epoch 4/20\n",
            "10/10 [==============================] - 0s 22ms/step - loss: 0.7042 - accuracy: 0.7500\n",
            "Epoch 5/20\n",
            "10/10 [==============================] - 0s 20ms/step - loss: 0.5770 - accuracy: 0.8433\n",
            "Epoch 6/20\n",
            "10/10 [==============================] - 0s 22ms/step - loss: 0.5075 - accuracy: 0.8367\n",
            "Epoch 7/20\n",
            "10/10 [==============================] - 0s 22ms/step - loss: 0.4399 - accuracy: 0.8833\n",
            "Epoch 8/20\n",
            "10/10 [==============================] - 0s 22ms/step - loss: 0.3628 - accuracy: 0.9067\n",
            "Epoch 9/20\n",
            "10/10 [==============================] - 0s 23ms/step - loss: 0.3320 - accuracy: 0.9033\n",
            "Epoch 10/20\n",
            "10/10 [==============================] - 0s 22ms/step - loss: 0.2823 - accuracy: 0.9333\n",
            "Epoch 11/20\n",
            "10/10 [==============================] - 0s 22ms/step - loss: 0.3008 - accuracy: 0.9000\n",
            "Epoch 12/20\n",
            "10/10 [==============================] - 0s 24ms/step - loss: 0.2385 - accuracy: 0.9433\n",
            "Epoch 13/20\n",
            "10/10 [==============================] - 0s 24ms/step - loss: 0.2284 - accuracy: 0.9333\n",
            "Epoch 14/20\n",
            "10/10 [==============================] - 0s 23ms/step - loss: 0.2128 - accuracy: 0.9300\n",
            "Epoch 15/20\n",
            "10/10 [==============================] - 0s 22ms/step - loss: 0.2135 - accuracy: 0.9333\n",
            "Epoch 16/20\n",
            "10/10 [==============================] - 0s 21ms/step - loss: 0.1628 - accuracy: 0.9633\n",
            "Epoch 17/20\n",
            "10/10 [==============================] - 0s 21ms/step - loss: 0.1778 - accuracy: 0.9467\n",
            "Epoch 18/20\n",
            "10/10 [==============================] - 0s 21ms/step - loss: 0.2137 - accuracy: 0.9267\n",
            "Epoch 19/20\n",
            "10/10 [==============================] - 0s 21ms/step - loss: 0.1492 - accuracy: 0.9500\n",
            "Epoch 20/20\n",
            "10/10 [==============================] - 0s 21ms/step - loss: 0.1261 - accuracy: 0.9667\n"
          ]
        },
        {
          "output_type": "execute_result",
          "data": {
            "text/plain": [
              "<keras.callbacks.History at 0x7f0e888d86d0>"
            ]
          },
          "metadata": {},
          "execution_count": 210
        }
      ]
    },
    {
      "cell_type": "code",
      "source": [
        "test_loss, test_accuracy = model1.evaluate(x_test,y_test, verbose=2) #정확도 감소 \n",
        "print(\"test_loss: {} \".format(test_loss))\n",
        "print(\"test_accuracy: {}\".format(test_accuracy))"
      ],
      "metadata": {
        "colab": {
          "base_uri": "https://localhost:8080/"
        },
        "id": "_sERkWEd-J2N",
        "outputId": "01f4d82c-ecbc-4afd-dc3f-5e7a81ad1700"
      },
      "execution_count": 211,
      "outputs": [
        {
          "output_type": "stream",
          "name": "stdout",
          "text": [
            "1/1 - 0s - loss: 0.6119 - accuracy: 0.6250 - 150ms/epoch - 150ms/step\n",
            "test_loss: 0.6119138598442078 \n",
            "test_accuracy: 0.625\n"
          ]
        }
      ]
    },
    {
      "cell_type": "code",
      "source": [
        "#epoch: 30\n",
        "model1.fit(x_train, y_train, epochs=30)"
      ],
      "metadata": {
        "colab": {
          "base_uri": "https://localhost:8080/"
        },
        "id": "nqj3HeS57Gw4",
        "outputId": "9e5610b0-2558-48f4-e1fb-2e8c44543bfc"
      },
      "execution_count": 218,
      "outputs": [
        {
          "output_type": "stream",
          "name": "stdout",
          "text": [
            "Epoch 1/30\n",
            "10/10 [==============================] - 1s 22ms/step - loss: 1.0549 - accuracy: 0.4133\n",
            "Epoch 2/30\n",
            "10/10 [==============================] - 0s 21ms/step - loss: 0.9683 - accuracy: 0.5367\n",
            "Epoch 3/30\n",
            "10/10 [==============================] - 0s 21ms/step - loss: 0.8063 - accuracy: 0.7867\n",
            "Epoch 4/30\n",
            "10/10 [==============================] - 0s 20ms/step - loss: 0.6441 - accuracy: 0.7100\n",
            "Epoch 5/30\n",
            "10/10 [==============================] - 0s 23ms/step - loss: 0.5114 - accuracy: 0.8067\n",
            "Epoch 6/30\n",
            "10/10 [==============================] - 0s 21ms/step - loss: 0.4578 - accuracy: 0.8033\n",
            "Epoch 7/30\n",
            "10/10 [==============================] - 0s 21ms/step - loss: 0.3979 - accuracy: 0.8567\n",
            "Epoch 8/30\n",
            "10/10 [==============================] - 0s 22ms/step - loss: 0.4187 - accuracy: 0.8267\n",
            "Epoch 9/30\n",
            "10/10 [==============================] - 0s 21ms/step - loss: 0.3645 - accuracy: 0.8767\n",
            "Epoch 10/30\n",
            "10/10 [==============================] - 0s 23ms/step - loss: 0.3139 - accuracy: 0.9233\n",
            "Epoch 11/30\n",
            "10/10 [==============================] - 0s 20ms/step - loss: 0.3171 - accuracy: 0.8967\n",
            "Epoch 12/30\n",
            "10/10 [==============================] - 0s 22ms/step - loss: 0.3272 - accuracy: 0.9167\n",
            "Epoch 13/30\n",
            "10/10 [==============================] - 0s 22ms/step - loss: 0.2976 - accuracy: 0.9000\n",
            "Epoch 14/30\n",
            "10/10 [==============================] - 0s 22ms/step - loss: 0.2926 - accuracy: 0.8900\n",
            "Epoch 15/30\n",
            "10/10 [==============================] - 0s 21ms/step - loss: 0.2292 - accuracy: 0.9267\n",
            "Epoch 16/30\n",
            "10/10 [==============================] - 0s 21ms/step - loss: 0.2041 - accuracy: 0.9467\n",
            "Epoch 17/30\n",
            "10/10 [==============================] - 0s 23ms/step - loss: 0.1927 - accuracy: 0.9400\n",
            "Epoch 18/30\n",
            "10/10 [==============================] - 0s 20ms/step - loss: 0.1815 - accuracy: 0.9500\n",
            "Epoch 19/30\n",
            "10/10 [==============================] - 0s 23ms/step - loss: 0.1761 - accuracy: 0.9367\n",
            "Epoch 20/30\n",
            "10/10 [==============================] - 0s 21ms/step - loss: 0.1577 - accuracy: 0.9533\n",
            "Epoch 21/30\n",
            "10/10 [==============================] - 0s 20ms/step - loss: 0.1756 - accuracy: 0.9333\n",
            "Epoch 22/30\n",
            "10/10 [==============================] - 0s 20ms/step - loss: 0.1469 - accuracy: 0.9500\n",
            "Epoch 23/30\n",
            "10/10 [==============================] - 0s 21ms/step - loss: 0.1135 - accuracy: 0.9667\n",
            "Epoch 24/30\n",
            "10/10 [==============================] - 0s 23ms/step - loss: 0.1308 - accuracy: 0.9567\n",
            "Epoch 25/30\n",
            "10/10 [==============================] - 0s 33ms/step - loss: 0.0941 - accuracy: 0.9800\n",
            "Epoch 26/30\n",
            "10/10 [==============================] - 0s 22ms/step - loss: 0.0865 - accuracy: 0.9733\n",
            "Epoch 27/30\n",
            "10/10 [==============================] - 0s 21ms/step - loss: 0.0767 - accuracy: 0.9900\n",
            "Epoch 28/30\n",
            "10/10 [==============================] - 0s 24ms/step - loss: 0.0601 - accuracy: 0.9967\n",
            "Epoch 29/30\n",
            "10/10 [==============================] - 0s 21ms/step - loss: 0.0668 - accuracy: 0.9933\n",
            "Epoch 30/30\n",
            "10/10 [==============================] - 0s 22ms/step - loss: 0.0629 - accuracy: 0.9833\n"
          ]
        },
        {
          "output_type": "execute_result",
          "data": {
            "text/plain": [
              "<keras.callbacks.History at 0x7f0e7e041a50>"
            ]
          },
          "metadata": {},
          "execution_count": 218
        }
      ]
    },
    {
      "cell_type": "code",
      "source": [
        "test_loss, test_accuracy = model1.evaluate(x_test,y_test, verbose=2) \n",
        "print(\"test_loss: {} \".format(test_loss))\n",
        "print(\"test_accuracy: {}\".format(test_accuracy))"
      ],
      "metadata": {
        "colab": {
          "base_uri": "https://localhost:8080/"
        },
        "id": "yJzD_eLf2ZMO",
        "outputId": "b187d7a9-cd0b-4440-df1d-71d09516c287"
      },
      "execution_count": 219,
      "outputs": [
        {
          "output_type": "stream",
          "name": "stdout",
          "text": [
            "1/1 - 0s - loss: 0.3760 - accuracy: 0.8333 - 142ms/epoch - 142ms/step\n",
            "test_loss: 0.3759976923465729 \n",
            "test_accuracy: 0.8333333134651184\n"
          ]
        }
      ]
    },
    {
      "cell_type": "markdown",
      "source": [
        "기존 model1에 optimizer를 RMSprop으로 다르게 적용했다.  \n",
        "epoch 수는 기존과 동일하게 10, 20, 30으로 설정하고 비교하였다.  "
      ],
      "metadata": {
        "id": "SNICs64x6GLx"
      }
    },
    {
      "cell_type": "code",
      "source": [
        "model1.compile(optimizer='RMSprop',\n",
        "              loss='sparse_categorical_crossentropy',\n",
        "              metrics=['accuracy'])"
      ],
      "metadata": {
        "id": "vlJCNQGTHeHf"
      },
      "execution_count": 233,
      "outputs": []
    },
    {
      "cell_type": "code",
      "source": [
        "#epoch: 10\n",
        "model1.fit(x_train, y_train, epochs=10)"
      ],
      "metadata": {
        "colab": {
          "base_uri": "https://localhost:8080/"
        },
        "id": "DYjAXnlHHwLw",
        "outputId": "642c1677-34cb-4ebf-9f82-5e942bac0e95"
      },
      "execution_count": 226,
      "outputs": [
        {
          "output_type": "stream",
          "name": "stdout",
          "text": [
            "Epoch 1/10\n",
            "10/10 [==============================] - 1s 21ms/step - loss: 1.0286 - accuracy: 0.4533\n",
            "Epoch 2/10\n",
            "10/10 [==============================] - 0s 21ms/step - loss: 0.8304 - accuracy: 0.7133\n",
            "Epoch 3/10\n",
            "10/10 [==============================] - 0s 20ms/step - loss: 0.6831 - accuracy: 0.7667\n",
            "Epoch 4/10\n",
            "10/10 [==============================] - 0s 24ms/step - loss: 0.5278 - accuracy: 0.8267\n",
            "Epoch 5/10\n",
            "10/10 [==============================] - 0s 23ms/step - loss: 0.4514 - accuracy: 0.8400\n",
            "Epoch 6/10\n",
            "10/10 [==============================] - 0s 21ms/step - loss: 0.3984 - accuracy: 0.8667\n",
            "Epoch 7/10\n",
            "10/10 [==============================] - 0s 21ms/step - loss: 0.3076 - accuracy: 0.9267\n",
            "Epoch 8/10\n",
            "10/10 [==============================] - 0s 20ms/step - loss: 0.3364 - accuracy: 0.8600\n",
            "Epoch 9/10\n",
            "10/10 [==============================] - 0s 24ms/step - loss: 0.2541 - accuracy: 0.9233\n",
            "Epoch 10/10\n",
            "10/10 [==============================] - 0s 20ms/step - loss: 0.2212 - accuracy: 0.9400\n"
          ]
        },
        {
          "output_type": "execute_result",
          "data": {
            "text/plain": [
              "<keras.callbacks.History at 0x7f0e6b78a1d0>"
            ]
          },
          "metadata": {},
          "execution_count": 226
        }
      ]
    },
    {
      "cell_type": "code",
      "source": [
        "test_loss, test_accuracy = model1.evaluate(x_test,y_test, verbose=2) \n",
        "print(\"test_loss: {} \".format(test_loss))\n",
        "print(\"test_accuracy: {}\".format(test_accuracy))"
      ],
      "metadata": {
        "colab": {
          "base_uri": "https://localhost:8080/"
        },
        "id": "VK3YVcd-H2Xx",
        "outputId": "9cd9f55a-d22a-4195-cec6-6313be75b8b9"
      },
      "execution_count": 227,
      "outputs": [
        {
          "output_type": "stream",
          "name": "stdout",
          "text": [
            "1/1 - 0s - loss: 0.4908 - accuracy: 0.9167 - 133ms/epoch - 133ms/step\n",
            "test_loss: 0.49084725975990295 \n",
            "test_accuracy: 0.9166666865348816\n"
          ]
        }
      ]
    },
    {
      "cell_type": "code",
      "source": [
        "#epoch: 20\n",
        "model1.fit(x_train, y_train, epochs=20)"
      ],
      "metadata": {
        "colab": {
          "base_uri": "https://localhost:8080/"
        },
        "id": "p8TyZrUI6pgy",
        "outputId": "eeb426ae-8c1c-4ace-cc5c-7c1ac2dc992f"
      },
      "execution_count": 234,
      "outputs": [
        {
          "output_type": "stream",
          "name": "stdout",
          "text": [
            "Epoch 1/20\n",
            "10/10 [==============================] - 1s 21ms/step - loss: 1.0965 - accuracy: 0.4467\n",
            "Epoch 2/20\n",
            "10/10 [==============================] - 0s 21ms/step - loss: 1.0457 - accuracy: 0.5467\n",
            "Epoch 3/20\n",
            "10/10 [==============================] - 0s 22ms/step - loss: 0.9620 - accuracy: 0.6200\n",
            "Epoch 4/20\n",
            "10/10 [==============================] - 0s 22ms/step - loss: 0.8837 - accuracy: 0.6367\n",
            "Epoch 5/20\n",
            "10/10 [==============================] - 0s 21ms/step - loss: 0.7497 - accuracy: 0.7233\n",
            "Epoch 6/20\n",
            "10/10 [==============================] - 0s 22ms/step - loss: 0.6693 - accuracy: 0.8000\n",
            "Epoch 7/20\n",
            "10/10 [==============================] - 0s 20ms/step - loss: 0.5625 - accuracy: 0.8700\n",
            "Epoch 8/20\n",
            "10/10 [==============================] - 0s 21ms/step - loss: 0.5493 - accuracy: 0.8700\n",
            "Epoch 9/20\n",
            "10/10 [==============================] - 0s 22ms/step - loss: 0.4502 - accuracy: 0.8767\n",
            "Epoch 10/20\n",
            "10/10 [==============================] - 0s 22ms/step - loss: 0.3969 - accuracy: 0.8933\n",
            "Epoch 11/20\n",
            "10/10 [==============================] - 0s 23ms/step - loss: 0.3554 - accuracy: 0.9067\n",
            "Epoch 12/20\n",
            "10/10 [==============================] - 0s 23ms/step - loss: 0.3470 - accuracy: 0.8967\n",
            "Epoch 13/20\n",
            "10/10 [==============================] - 0s 23ms/step - loss: 0.2707 - accuracy: 0.9367\n",
            "Epoch 14/20\n",
            "10/10 [==============================] - 0s 22ms/step - loss: 0.3141 - accuracy: 0.9067\n",
            "Epoch 15/20\n",
            "10/10 [==============================] - 0s 24ms/step - loss: 0.2613 - accuracy: 0.9267\n",
            "Epoch 16/20\n",
            "10/10 [==============================] - 0s 20ms/step - loss: 0.2118 - accuracy: 0.9467\n",
            "Epoch 17/20\n",
            "10/10 [==============================] - 0s 22ms/step - loss: 0.1856 - accuracy: 0.9433\n",
            "Epoch 18/20\n",
            "10/10 [==============================] - 0s 22ms/step - loss: 0.2115 - accuracy: 0.9333\n",
            "Epoch 19/20\n",
            "10/10 [==============================] - 0s 21ms/step - loss: 0.1526 - accuracy: 0.9567\n",
            "Epoch 20/20\n",
            "10/10 [==============================] - 0s 22ms/step - loss: 0.1484 - accuracy: 0.9500\n"
          ]
        },
        {
          "output_type": "execute_result",
          "data": {
            "text/plain": [
              "<keras.callbacks.History at 0x7f0e6b704910>"
            ]
          },
          "metadata": {},
          "execution_count": 234
        }
      ]
    },
    {
      "cell_type": "code",
      "source": [
        "test_loss, test_accuracy = model1.evaluate(x_test,y_test, verbose=2) #epoch 수 증가해도 정확도는 떨어졌다. overfitting이 발생해서 이러한 결과가 나온 것 같다. \n",
        "print(\"test_loss: {} \".format(test_loss))\n",
        "print(\"test_accuracy: {}\".format(test_accuracy))"
      ],
      "metadata": {
        "colab": {
          "base_uri": "https://localhost:8080/"
        },
        "id": "9Cx1T2BU6sMF",
        "outputId": "873f3eb5-b5c1-4990-b2bd-d4113d5d0e1f"
      },
      "execution_count": 235,
      "outputs": [
        {
          "output_type": "stream",
          "name": "stdout",
          "text": [
            "1/1 - 0s - loss: 0.6183 - accuracy: 0.7083 - 142ms/epoch - 142ms/step\n",
            "test_loss: 0.6182637810707092 \n",
            "test_accuracy: 0.7083333134651184\n"
          ]
        }
      ]
    },
    {
      "cell_type": "markdown",
      "source": [
        "model2는 기존 model1에서 layer 수는 그대로 유지하돼 channel 수를 늘려서 설정했다.  \n",
        "optimizer도 그대로 Adam과 RMSprop를 적용했다.  \n"
      ],
      "metadata": {
        "id": "We-MzuJA7GAK"
      }
    },
    {
      "cell_type": "code",
      "source": [
        "#model2 \n",
        "#7layers 동일, channerl수 증가해서 변경 \n",
        "model2=keras.models.Sequential()\n",
        "model2.add(keras.layers.Conv2D(128, (3,3), activation='relu', input_shape=input_shape)) #다양한 이미지의 특징, 입력 이미지의 형태\n",
        "model2.add(keras.layers.MaxPool2D(2,2))\n",
        "model2.add(keras.layers.Conv2D(64, (3,3), activation='relu'))\n",
        "model2.add(keras.layers.MaxPooling2D((2,2)))\n",
        "model2.add(keras.layers.Flatten())\n",
        "model2.add(keras.layers.Dense(32, activation='relu')) #분류기 알고리즘 얼마나 복잡하게 할 것인가?, 32=> 분류기에 사용되는 뉴런의 수, 알파벳 구분 대문자 26개, 소문자 26개 총 52개 클래스 구분 따라서 64, 128 등을 고려해야함\n",
        "model2.add(keras.layers.Dense(num_class, activation='softmax'))#최종 분류기 class 수 0~9 10개\n",
        "\n",
        "model2.summary()\n",
        "\n",
        "model2.compile(#optimizer='adam',\n",
        "               optimizer='RMSProp',\n",
        "              loss='sparse_categorical_crossentropy',\n",
        "              metrics=['accuracy'])"
      ],
      "metadata": {
        "colab": {
          "base_uri": "https://localhost:8080/"
        },
        "id": "mvZoVN4D1hPf",
        "outputId": "42a10710-40db-4b8d-db73-342f84e104e6"
      },
      "execution_count": 269,
      "outputs": [
        {
          "output_type": "stream",
          "name": "stdout",
          "text": [
            "Model: \"sequential_41\"\n",
            "_________________________________________________________________\n",
            " Layer (type)                Output Shape              Param #   \n",
            "=================================================================\n",
            " conv2d_91 (Conv2D)          (None, 26, 26, 128)       3584      \n",
            "                                                                 \n",
            " max_pooling2d_73 (MaxPoolin  (None, 13, 13, 128)      0         \n",
            " g2D)                                                            \n",
            "                                                                 \n",
            " conv2d_92 (Conv2D)          (None, 11, 11, 64)        73792     \n",
            "                                                                 \n",
            " max_pooling2d_74 (MaxPoolin  (None, 5, 5, 64)         0         \n",
            " g2D)                                                            \n",
            "                                                                 \n",
            " flatten_43 (Flatten)        (None, 1600)              0         \n",
            "                                                                 \n",
            " dense_94 (Dense)            (None, 32)                51232     \n",
            "                                                                 \n",
            " dense_95 (Dense)            (None, 3)                 99        \n",
            "                                                                 \n",
            "=================================================================\n",
            "Total params: 128,707\n",
            "Trainable params: 128,707\n",
            "Non-trainable params: 0\n",
            "_________________________________________________________________\n"
          ]
        }
      ]
    },
    {
      "cell_type": "code",
      "source": [
        "#epoch: 10\n",
        "model2.fit(x_train, y_train, epochs=10)"
      ],
      "metadata": {
        "colab": {
          "base_uri": "https://localhost:8080/"
        },
        "id": "lkwYUeHXzQQO",
        "outputId": "8a633223-07d9-4b45-bb4d-c27130a95b76"
      },
      "execution_count": 242,
      "outputs": [
        {
          "output_type": "stream",
          "name": "stdout",
          "text": [
            "Epoch 1/10\n",
            "10/10 [==============================] - 2s 113ms/step - loss: 1.0747 - accuracy: 0.4600\n",
            "Epoch 2/10\n",
            "10/10 [==============================] - 1s 99ms/step - loss: 0.9301 - accuracy: 0.5367\n",
            "Epoch 3/10\n",
            "10/10 [==============================] - 1s 97ms/step - loss: 0.7030 - accuracy: 0.7200\n",
            "Epoch 4/10\n",
            "10/10 [==============================] - 1s 98ms/step - loss: 0.5099 - accuracy: 0.8300\n",
            "Epoch 5/10\n",
            "10/10 [==============================] - 1s 96ms/step - loss: 0.3804 - accuracy: 0.8800\n",
            "Epoch 6/10\n",
            "10/10 [==============================] - 1s 99ms/step - loss: 0.3530 - accuracy: 0.8533\n",
            "Epoch 7/10\n",
            "10/10 [==============================] - 1s 97ms/step - loss: 0.2453 - accuracy: 0.9300\n",
            "Epoch 8/10\n",
            "10/10 [==============================] - 1s 95ms/step - loss: 0.2237 - accuracy: 0.9300\n",
            "Epoch 9/10\n",
            "10/10 [==============================] - 1s 96ms/step - loss: 0.1939 - accuracy: 0.9333\n",
            "Epoch 10/10\n",
            "10/10 [==============================] - 1s 97ms/step - loss: 0.1550 - accuracy: 0.9567\n"
          ]
        },
        {
          "output_type": "execute_result",
          "data": {
            "text/plain": [
              "<keras.callbacks.History at 0x7f0e6b610cd0>"
            ]
          },
          "metadata": {},
          "execution_count": 242
        }
      ]
    },
    {
      "cell_type": "code",
      "source": [
        "test_loss, test_accuracy = model2.evaluate(x_test,y_test, verbose=2) #epoch수 20일 때랑 정확도 동인=> overfitting 때문인것 같음\n",
        "print(\"test_loss: {} \".format(test_loss))\n",
        "print(\"test_accuracy: {}\".format(test_accuracy))"
      ],
      "metadata": {
        "id": "Yb5kqAr55y8U",
        "colab": {
          "base_uri": "https://localhost:8080/"
        },
        "outputId": "9ca97403-9df4-43fd-9d60-fc609a65cb96"
      },
      "execution_count": 243,
      "outputs": [
        {
          "output_type": "stream",
          "name": "stdout",
          "text": [
            "1/1 - 0s - loss: 0.4927 - accuracy: 0.7500 - 161ms/epoch - 161ms/step\n",
            "test_loss: 0.4927407205104828 \n",
            "test_accuracy: 0.75\n"
          ]
        }
      ]
    },
    {
      "cell_type": "code",
      "source": [
        "#epoch: 20\n",
        "model2.fit(x_train, y_train, epochs=20)"
      ],
      "metadata": {
        "colab": {
          "base_uri": "https://localhost:8080/"
        },
        "id": "Sdn8KPtsG3N1",
        "outputId": "d6cbee5c-d484-465a-f6a1-40d63066d25f"
      },
      "execution_count": 249,
      "outputs": [
        {
          "output_type": "stream",
          "name": "stdout",
          "text": [
            "Epoch 1/20\n",
            "10/10 [==============================] - 1s 90ms/step - loss: 1.0821 - accuracy: 0.4033\n",
            "Epoch 2/20\n",
            "10/10 [==============================] - 1s 97ms/step - loss: 0.9743 - accuracy: 0.4867\n",
            "Epoch 3/20\n",
            "10/10 [==============================] - 1s 95ms/step - loss: 0.7865 - accuracy: 0.6600\n",
            "Epoch 4/20\n",
            "10/10 [==============================] - 1s 99ms/step - loss: 0.5945 - accuracy: 0.7533\n",
            "Epoch 5/20\n",
            "10/10 [==============================] - 1s 97ms/step - loss: 0.4816 - accuracy: 0.8733\n",
            "Epoch 6/20\n",
            "10/10 [==============================] - 1s 94ms/step - loss: 0.4241 - accuracy: 0.8333\n",
            "Epoch 7/20\n",
            "10/10 [==============================] - 1s 90ms/step - loss: 0.2981 - accuracy: 0.9333\n",
            "Epoch 8/20\n",
            "10/10 [==============================] - 1s 96ms/step - loss: 0.2540 - accuracy: 0.9300\n",
            "Epoch 9/20\n",
            "10/10 [==============================] - 1s 97ms/step - loss: 0.2211 - accuracy: 0.9367\n",
            "Epoch 10/20\n",
            "10/10 [==============================] - 1s 96ms/step - loss: 0.1631 - accuracy: 0.9467\n",
            "Epoch 11/20\n",
            "10/10 [==============================] - 1s 97ms/step - loss: 0.1435 - accuracy: 0.9633\n",
            "Epoch 12/20\n",
            "10/10 [==============================] - 1s 97ms/step - loss: 0.1064 - accuracy: 0.9800\n",
            "Epoch 13/20\n",
            "10/10 [==============================] - 1s 99ms/step - loss: 0.0837 - accuracy: 0.9800\n",
            "Epoch 14/20\n",
            "10/10 [==============================] - 1s 97ms/step - loss: 0.0693 - accuracy: 0.9933\n",
            "Epoch 15/20\n",
            "10/10 [==============================] - 1s 99ms/step - loss: 0.0521 - accuracy: 0.9967\n",
            "Epoch 16/20\n",
            "10/10 [==============================] - 1s 117ms/step - loss: 0.0376 - accuracy: 0.9967\n",
            "Epoch 17/20\n",
            "10/10 [==============================] - 1s 99ms/step - loss: 0.0513 - accuracy: 0.9900\n",
            "Epoch 18/20\n",
            "10/10 [==============================] - 1s 95ms/step - loss: 0.0635 - accuracy: 0.9900\n",
            "Epoch 19/20\n",
            "10/10 [==============================] - 1s 96ms/step - loss: 0.0357 - accuracy: 1.0000\n",
            "Epoch 20/20\n",
            "10/10 [==============================] - 1s 97ms/step - loss: 0.0174 - accuracy: 1.0000\n"
          ]
        },
        {
          "output_type": "execute_result",
          "data": {
            "text/plain": [
              "<keras.callbacks.History at 0x7f0e653bb090>"
            ]
          },
          "metadata": {},
          "execution_count": 249
        }
      ]
    },
    {
      "cell_type": "code",
      "source": [
        "test_loss, test_accuracy = model2.evaluate(x_test,y_test, verbose=2)\n",
        "print(\"test_loss: {} \".format(test_loss))\n",
        "print(\"test_accuracy: {}\".format(test_accuracy))"
      ],
      "metadata": {
        "colab": {
          "base_uri": "https://localhost:8080/"
        },
        "id": "xZkIYZqJ8_3p",
        "outputId": "2437e9a1-bb1e-4fe8-fadf-d2d7a76ead65"
      },
      "execution_count": 250,
      "outputs": [
        {
          "output_type": "stream",
          "name": "stdout",
          "text": [
            "1/1 - 0s - loss: 0.4137 - accuracy: 0.9167 - 161ms/epoch - 161ms/step\n",
            "test_loss: 0.41374143958091736 \n",
            "test_accuracy: 0.9166666865348816\n"
          ]
        }
      ]
    },
    {
      "cell_type": "code",
      "source": [
        "#epoch: 30\n",
        "model2.fit(x_train, y_train, epochs=30)"
      ],
      "metadata": {
        "colab": {
          "base_uri": "https://localhost:8080/"
        },
        "id": "SyIjP-Jc9Bvj",
        "outputId": "ca9d366f-dc4e-4d72-90c8-8fc53ad67f16"
      },
      "execution_count": 256,
      "outputs": [
        {
          "output_type": "stream",
          "name": "stdout",
          "text": [
            "Epoch 1/30\n",
            "10/10 [==============================] - 1s 98ms/step - loss: 1.0896 - accuracy: 0.3433\n",
            "Epoch 2/30\n",
            "10/10 [==============================] - 1s 95ms/step - loss: 0.9748 - accuracy: 0.5733\n",
            "Epoch 3/30\n",
            "10/10 [==============================] - 1s 96ms/step - loss: 0.8034 - accuracy: 0.6600\n",
            "Epoch 4/30\n",
            "10/10 [==============================] - 1s 98ms/step - loss: 0.5989 - accuracy: 0.8100\n",
            "Epoch 5/30\n",
            "10/10 [==============================] - 1s 97ms/step - loss: 0.4612 - accuracy: 0.7800\n",
            "Epoch 6/30\n",
            "10/10 [==============================] - 1s 98ms/step - loss: 0.4038 - accuracy: 0.8500\n",
            "Epoch 7/30\n",
            "10/10 [==============================] - 1s 103ms/step - loss: 0.3906 - accuracy: 0.7933\n",
            "Epoch 8/30\n",
            "10/10 [==============================] - 1s 97ms/step - loss: 0.2814 - accuracy: 0.8867\n",
            "Epoch 9/30\n",
            "10/10 [==============================] - 1s 94ms/step - loss: 0.2116 - accuracy: 0.9433\n",
            "Epoch 10/30\n",
            "10/10 [==============================] - 1s 96ms/step - loss: 0.1878 - accuracy: 0.9400\n",
            "Epoch 11/30\n",
            "10/10 [==============================] - 1s 96ms/step - loss: 0.1867 - accuracy: 0.9333\n",
            "Epoch 12/30\n",
            "10/10 [==============================] - 1s 98ms/step - loss: 0.1502 - accuracy: 0.9533\n",
            "Epoch 13/30\n",
            "10/10 [==============================] - 1s 99ms/step - loss: 0.1131 - accuracy: 0.9667\n",
            "Epoch 14/30\n",
            "10/10 [==============================] - 1s 100ms/step - loss: 0.1050 - accuracy: 0.9700\n",
            "Epoch 15/30\n",
            "10/10 [==============================] - 1s 98ms/step - loss: 0.0840 - accuracy: 0.9800\n",
            "Epoch 16/30\n",
            "10/10 [==============================] - 1s 96ms/step - loss: 0.0536 - accuracy: 0.9867\n",
            "Epoch 17/30\n",
            "10/10 [==============================] - 1s 96ms/step - loss: 0.0468 - accuracy: 0.9933\n",
            "Epoch 18/30\n",
            "10/10 [==============================] - 1s 98ms/step - loss: 0.0326 - accuracy: 0.9967\n",
            "Epoch 19/30\n",
            "10/10 [==============================] - 1s 99ms/step - loss: 0.0294 - accuracy: 1.0000\n",
            "Epoch 20/30\n",
            "10/10 [==============================] - 1s 98ms/step - loss: 0.0223 - accuracy: 1.0000\n",
            "Epoch 21/30\n",
            "10/10 [==============================] - 1s 106ms/step - loss: 0.0188 - accuracy: 1.0000\n",
            "Epoch 22/30\n",
            "10/10 [==============================] - 1s 100ms/step - loss: 0.0149 - accuracy: 1.0000\n",
            "Epoch 23/30\n",
            "10/10 [==============================] - 1s 98ms/step - loss: 0.0112 - accuracy: 1.0000\n",
            "Epoch 24/30\n",
            "10/10 [==============================] - 1s 98ms/step - loss: 0.0099 - accuracy: 1.0000\n",
            "Epoch 25/30\n",
            "10/10 [==============================] - 1s 92ms/step - loss: 0.0084 - accuracy: 1.0000\n",
            "Epoch 26/30\n",
            "10/10 [==============================] - 1s 98ms/step - loss: 0.0069 - accuracy: 1.0000\n",
            "Epoch 27/30\n",
            "10/10 [==============================] - 1s 98ms/step - loss: 0.0060 - accuracy: 1.0000\n",
            "Epoch 28/30\n",
            "10/10 [==============================] - 1s 99ms/step - loss: 0.0060 - accuracy: 1.0000\n",
            "Epoch 29/30\n",
            "10/10 [==============================] - 1s 98ms/step - loss: 0.0050 - accuracy: 1.0000\n",
            "Epoch 30/30\n",
            "10/10 [==============================] - 1s 98ms/step - loss: 0.0044 - accuracy: 1.0000\n"
          ]
        },
        {
          "output_type": "execute_result",
          "data": {
            "text/plain": [
              "<keras.callbacks.History at 0x7f0e65245b10>"
            ]
          },
          "metadata": {},
          "execution_count": 256
        }
      ]
    },
    {
      "cell_type": "code",
      "source": [
        "test_loss, test_accuracy = model2.evaluate(x_test,y_test, verbose=2) #w정확도 감소 한것으로 보아 overfitting 때문인것 같음\n",
        "print(\"test_loss: {} \".format(test_loss))\n",
        "print(\"test_accuracy: {}\".format(test_accuracy))"
      ],
      "metadata": {
        "colab": {
          "base_uri": "https://localhost:8080/"
        },
        "id": "Y6jw03yo9Taz",
        "outputId": "5beb5b85-70ad-479b-97c6-1252db775614"
      },
      "execution_count": 257,
      "outputs": [
        {
          "output_type": "stream",
          "name": "stdout",
          "text": [
            "1/1 - 0s - loss: 1.2808 - accuracy: 0.1667 - 159ms/epoch - 159ms/step\n",
            "test_loss: 1.2808361053466797 \n",
            "test_accuracy: 0.1666666716337204\n"
          ]
        }
      ]
    },
    {
      "cell_type": "code",
      "source": [
        "#RMSprop & epoch: 10\n",
        "model2.fit(x_train, y_train, epochs=10)"
      ],
      "metadata": {
        "colab": {
          "base_uri": "https://localhost:8080/"
        },
        "id": "o136uMYy9WYQ",
        "outputId": "1f94eef8-532e-4381-884d-4a17ab3205b0"
      },
      "execution_count": 263,
      "outputs": [
        {
          "output_type": "stream",
          "name": "stdout",
          "text": [
            "Epoch 1/10\n",
            "10/10 [==============================] - 2s 95ms/step - loss: 1.1287 - accuracy: 0.3700\n",
            "Epoch 2/10\n",
            "10/10 [==============================] - 1s 94ms/step - loss: 1.0282 - accuracy: 0.4767\n",
            "Epoch 3/10\n",
            "10/10 [==============================] - 1s 99ms/step - loss: 0.8763 - accuracy: 0.6167\n",
            "Epoch 4/10\n",
            "10/10 [==============================] - 1s 100ms/step - loss: 0.7106 - accuracy: 0.6567\n",
            "Epoch 5/10\n",
            "10/10 [==============================] - 1s 97ms/step - loss: 0.5995 - accuracy: 0.7333\n",
            "Epoch 6/10\n",
            "10/10 [==============================] - 1s 100ms/step - loss: 0.4869 - accuracy: 0.8333\n",
            "Epoch 7/10\n",
            "10/10 [==============================] - 1s 101ms/step - loss: 0.5015 - accuracy: 0.7733\n",
            "Epoch 8/10\n",
            "10/10 [==============================] - 1s 99ms/step - loss: 0.3868 - accuracy: 0.8833\n",
            "Epoch 9/10\n",
            "10/10 [==============================] - 1s 98ms/step - loss: 0.3874 - accuracy: 0.8733\n",
            "Epoch 10/10\n",
            "10/10 [==============================] - 1s 100ms/step - loss: 0.3189 - accuracy: 0.8733\n"
          ]
        },
        {
          "output_type": "execute_result",
          "data": {
            "text/plain": [
              "<keras.callbacks.History at 0x7f0e65065590>"
            ]
          },
          "metadata": {},
          "execution_count": 263
        }
      ]
    },
    {
      "cell_type": "code",
      "source": [
        "test_loss, test_accuracy = model2.evaluate(x_test,y_test, verbose=2) \n",
        "print(\"test_accuracy: {}\".format(test_accuracy))"
      ],
      "metadata": {
        "colab": {
          "base_uri": "https://localhost:8080/"
        },
        "id": "32w_n1S19yFh",
        "outputId": "e2380e8a-5fbe-434f-8153-a5fbcbe19201"
      },
      "execution_count": 264,
      "outputs": [
        {
          "output_type": "stream",
          "name": "stdout",
          "text": [
            "1/1 - 0s - loss: 0.4655 - accuracy: 0.7917 - 151ms/epoch - 151ms/step\n",
            "test_accuracy: 0.7916666865348816\n"
          ]
        }
      ]
    },
    {
      "cell_type": "code",
      "source": [
        "#RMSprop & epoch: 20\n",
        "model2.fit(x_train, y_train, epochs=20)"
      ],
      "metadata": {
        "colab": {
          "base_uri": "https://localhost:8080/"
        },
        "id": "m34IwnIG91Fr",
        "outputId": "3cb43f42-0b83-4cc0-e126-60ee45e25d28"
      },
      "execution_count": 270,
      "outputs": [
        {
          "output_type": "stream",
          "name": "stdout",
          "text": [
            "Epoch 1/20\n",
            "10/10 [==============================] - 2s 103ms/step - loss: 1.0896 - accuracy: 0.3633\n",
            "Epoch 2/20\n",
            "10/10 [==============================] - 1s 98ms/step - loss: 0.9549 - accuracy: 0.5100\n",
            "Epoch 3/20\n",
            "10/10 [==============================] - 1s 99ms/step - loss: 0.7675 - accuracy: 0.6467\n",
            "Epoch 4/20\n",
            "10/10 [==============================] - 1s 101ms/step - loss: 0.6417 - accuracy: 0.7400\n",
            "Epoch 5/20\n",
            "10/10 [==============================] - 1s 95ms/step - loss: 0.5428 - accuracy: 0.7700\n",
            "Epoch 6/20\n",
            "10/10 [==============================] - 1s 99ms/step - loss: 0.5157 - accuracy: 0.7300\n",
            "Epoch 7/20\n",
            "10/10 [==============================] - 1s 97ms/step - loss: 0.4209 - accuracy: 0.8700\n",
            "Epoch 8/20\n",
            "10/10 [==============================] - 1s 97ms/step - loss: 0.4147 - accuracy: 0.8467\n",
            "Epoch 9/20\n",
            "10/10 [==============================] - 1s 97ms/step - loss: 0.3662 - accuracy: 0.8367\n",
            "Epoch 10/20\n",
            "10/10 [==============================] - 1s 98ms/step - loss: 0.3338 - accuracy: 0.8867\n",
            "Epoch 11/20\n",
            "10/10 [==============================] - 1s 99ms/step - loss: 0.2626 - accuracy: 0.9233\n",
            "Epoch 12/20\n",
            "10/10 [==============================] - 1s 102ms/step - loss: 0.2820 - accuracy: 0.9267\n",
            "Epoch 13/20\n",
            "10/10 [==============================] - 1s 102ms/step - loss: 0.1780 - accuracy: 0.9433\n",
            "Epoch 14/20\n",
            "10/10 [==============================] - 1s 103ms/step - loss: 0.1753 - accuracy: 0.9567\n",
            "Epoch 15/20\n",
            "10/10 [==============================] - 1s 99ms/step - loss: 0.1365 - accuracy: 0.9633\n",
            "Epoch 16/20\n",
            "10/10 [==============================] - 1s 98ms/step - loss: 0.1314 - accuracy: 0.9633\n",
            "Epoch 17/20\n",
            "10/10 [==============================] - 1s 98ms/step - loss: 0.1003 - accuracy: 0.9600\n",
            "Epoch 18/20\n",
            "10/10 [==============================] - 1s 98ms/step - loss: 0.0736 - accuracy: 0.9767\n",
            "Epoch 19/20\n",
            "10/10 [==============================] - 1s 99ms/step - loss: 0.0359 - accuracy: 0.9967\n",
            "Epoch 20/20\n",
            "10/10 [==============================] - 1s 99ms/step - loss: 0.0512 - accuracy: 0.9900\n"
          ]
        },
        {
          "output_type": "execute_result",
          "data": {
            "text/plain": [
              "<keras.callbacks.History at 0x7f0e64e63dd0>"
            ]
          },
          "metadata": {},
          "execution_count": 270
        }
      ]
    },
    {
      "cell_type": "code",
      "source": [
        "test_loss, test_accuracy = model2.evaluate(x_test,y_test, verbose=2) #training data의 정확도에 비해 현저히 떨어짐 \n",
        "print(\"test_accuracy: {}\".format(test_accuracy))"
      ],
      "metadata": {
        "colab": {
          "base_uri": "https://localhost:8080/"
        },
        "id": "4BScI4Jh-AHL",
        "outputId": "a44ded56-019c-4928-d942-4942458b85ad"
      },
      "execution_count": 272,
      "outputs": [
        {
          "output_type": "stream",
          "name": "stdout",
          "text": [
            "1/1 - 0s - loss: 1.3235 - accuracy: 0.0000e+00 - 38ms/epoch - 38ms/step\n",
            "test_accuracy: 0.0\n"
          ]
        }
      ]
    },
    {
      "cell_type": "markdown",
      "source": [
        "**Discussion**  \n",
        "**model1**의 경우 hidden layer를 7 층으로 구성하고 손실함수는 relu를 적용했습니다.  \n",
        "정확도는  \n",
        "optimizer = adam, epoch = 10 acc: 1.0  \n",
        "optimizer = adam, epoch = 20 acc: 0.625  \n",
        "optimizer = adam, epoch = 30 acc: 0.8333333134651184  \n",
        "optimizer = RMSprop, epoch = 10 acc: 0.9166666865348816  \n",
        "optimizer = RMSprop, epoch = 10 acc: 0.7083333134651184  \n",
        "optimizer가 adam이고 epoch이 10 일때 정확도가 1.0으로 가장 높았는데 데이터에 문제가 있거나 label leakage가 발생했기 때문인 것 같습니다.   \n",
        "RMSprop과 epoch 10일 때의 정확도 0.9166666865348816를 더 신뢰할 수 있을 것 같습니다.  \n",
        "  \n",
        "**model2**의 경우 기존 model1에서 layer 수는 그대로 유지하고 channel 수를 늘려서 설정했습니다. optimizer도 그대로 Adam과 RMSprop를 적용했습니다.    \n",
        "정확도는  \n",
        "optimizer = adam, epoch = 10 acc: 0.75  \n",
        "optimizer = adam, epoch = 20 acc: 0.9166666865348816  \n",
        "optimizer = adam, epoch = 30 acc: 0.1666666716337204  \n",
        "optimizer = RMSprop, epoch = 10 acc: 0.7916666865348816  \n",
        "optimizer = RMSprop, epoch = 10 acc: 0.0  \n",
        "정확도는 adam과 epoch이 20 일 때 0.9166666865348816로 가장 높았는데  \n",
        "model1의 RMSprop과 epoch 10일 때의 정확도가 동일 했다. 이로 보아 adam과 RMSprop 중 어느 optimizer가 더 효율적이다라고 말할 수 없고 데이터와 모델의 특성에 맞는 optimizer를 선택해야 하는 것 같습니다.    \n",
        "RMSprop과 epoch이 20 일 때 정확도가 0이 나왔는데 왜 이런 결과가 나왔는지 모르겠습니다.  \n",
        "  \n",
        "또 모델을 돌릴 때마다 결과가 다르게 나와서 일정한 정확도가 나오려면 어떻게 해야하는지 고민해 봐야겠습니다. \n",
        "\n"
      ],
      "metadata": {
        "id": "ZOLdefbe-SjS"
      }
    }
  ]
}
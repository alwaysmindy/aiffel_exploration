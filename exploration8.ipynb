{
 "cells": [
  {
   "cell_type": "markdown",
   "id": "10ea6095",
   "metadata": {},
   "source": [
    "# 뉴스기사 요약하기  \n",
    "뉴스 기사 데이터를 사용해 추상적 요약과 추출적 요약을 모두 해보기  \n",
    "추상적 요약을 하는 경우 text는 본문, headlines는 요약 데이터가 됨  \n",
    "추출적 요약을 하는 경우 text만 사용  \n",
    "  \n",
    "<b>전체 과정</b>  \n",
    "step1. 데이터 수집  \n",
    "step2. 데이터 전처리하기(추상적 요약)  \n",
    "step3. 어텐션 메커니즘 사용하기(추상적 요약)  \n",
    "step4. 실제 결과와 요약문 비교하기(추상적 요약)  \n",
    "step5. Summa을 이용해 추출적 요약해보기  "
   ]
  },
  {
   "cell_type": "code",
   "execution_count": 3,
   "id": "3b14b385",
   "metadata": {},
   "outputs": [
    {
     "name": "stderr",
     "output_type": "stream",
     "text": [
      "[nltk_data] Downloading package stopwords to /aiffel/nltk_data...\n",
      "[nltk_data]   Package stopwords is already up-to-date!\n"
     ]
    }
   ],
   "source": [
    "import nltk\n",
    "nltk.download('stopwords')\n",
    "\n",
    "import numpy as np\n",
    "import pandas as pd\n",
    "import os\n",
    "import re\n",
    "import matplotlib.pyplot as plt\n",
    "from nltk.corpus import stopwords\n",
    "from bs4 import BeautifulSoup \n",
    "from tensorflow.keras.preprocessing.text import Tokenizer \n",
    "from tensorflow.keras.preprocessing.sequence import pad_sequences\n",
    "import warnings\n",
    "warnings.filterwarnings(\"ignore\", category=UserWarning, module='bs4')"
   ]
  },
  {
   "cell_type": "code",
   "execution_count": 4,
   "id": "be894eb3",
   "metadata": {},
   "outputs": [
    {
     "name": "stdout",
     "output_type": "stream",
     "text": [
      "전체 샘플수 : 98401\n"
     ]
    }
   ],
   "source": [
    "#데이터 다운로드 \n",
    "import urllib.request\n",
    "urllib.request.urlretrieve(\"https://raw.githubusercontent.com/sunnysai12345/News_Summary/master/news_summary_more.csv\", filename=\"news_summary_more.csv\")\n",
    "data = pd.read_csv('news_summary_more.csv', encoding='iso-8859-1')\n",
    "print('전체 샘플수 :', (len(data)))"
   ]
  },
  {
   "cell_type": "markdown",
   "id": "b221fdab",
   "metadata": {},
   "source": [
    "전체 샘플수 98401개이고 이는 이전 실습의 십만개 보다 적은 양이므로 그래도 사용하기로 결정했다.  "
   ]
  },
  {
   "cell_type": "code",
   "execution_count": 3,
   "id": "28eb88ce",
   "metadata": {},
   "outputs": [
    {
     "data": {
      "text/html": [
       "<div>\n",
       "<style scoped>\n",
       "    .dataframe tbody tr th:only-of-type {\n",
       "        vertical-align: middle;\n",
       "    }\n",
       "\n",
       "    .dataframe tbody tr th {\n",
       "        vertical-align: top;\n",
       "    }\n",
       "\n",
       "    .dataframe thead th {\n",
       "        text-align: right;\n",
       "    }\n",
       "</style>\n",
       "<table border=\"1\" class=\"dataframe\">\n",
       "  <thead>\n",
       "    <tr style=\"text-align: right;\">\n",
       "      <th></th>\n",
       "      <th>headlines</th>\n",
       "      <th>text</th>\n",
       "    </tr>\n",
       "  </thead>\n",
       "  <tbody>\n",
       "    <tr>\n",
       "      <th>43837</th>\n",
       "      <td>How did Hawking communicate despite motor neur...</td>\n",
       "      <td>World-renowned physicist Stephen Hawking gradu...</td>\n",
       "    </tr>\n",
       "    <tr>\n",
       "      <th>39785</th>\n",
       "      <td>18-yr-old becomes UK's youngest convicted fema...</td>\n",
       "      <td>An 18-year-old woman, Safaa Boular, has become...</td>\n",
       "    </tr>\n",
       "    <tr>\n",
       "      <th>7735</th>\n",
       "      <td>World Bank to raise $200 billion to fight clim...</td>\n",
       "      <td>The World Bank Group on Monday said it will do...</td>\n",
       "    </tr>\n",
       "    <tr>\n",
       "      <th>94516</th>\n",
       "      <td>Why're people questioning Akshay's N'tnl award...</td>\n",
       "      <td>Chairperson of National Film Awards jury Priya...</td>\n",
       "    </tr>\n",
       "    <tr>\n",
       "      <th>37303</th>\n",
       "      <td>Startup unveils world's 1st burger restaurant ...</td>\n",
       "      <td>US-based startup Creator has unveiled a robot-...</td>\n",
       "    </tr>\n",
       "    <tr>\n",
       "      <th>73627</th>\n",
       "      <td>Stalker chops off 15-yr-old girl's hand for re...</td>\n",
       "      <td>A 15-year-old girl's hand was allegedly cut of...</td>\n",
       "    </tr>\n",
       "    <tr>\n",
       "      <th>23458</th>\n",
       "      <td>WhatsApp Pay can't launch in India without off...</td>\n",
       "      <td>The government has clarified that WhatsApp can...</td>\n",
       "    </tr>\n",
       "    <tr>\n",
       "      <th>35651</th>\n",
       "      <td>Caught 29 leakers, 12 of those arrested in 201...</td>\n",
       "      <td>In a recently revealed memo warning employees ...</td>\n",
       "    </tr>\n",
       "    <tr>\n",
       "      <th>4551</th>\n",
       "      <td>I waited for 8-9 months to be part of Kapil Sh...</td>\n",
       "      <td>Comedian Bharti Singh has revealed she waited ...</td>\n",
       "    </tr>\n",
       "    <tr>\n",
       "      <th>37145</th>\n",
       "      <td>After Sachin, Kohli says two new balls 'brutal...</td>\n",
       "      <td>After cricketing legend Sachin Tendulkar slamm...</td>\n",
       "    </tr>\n",
       "  </tbody>\n",
       "</table>\n",
       "</div>"
      ],
      "text/plain": [
       "                                               headlines  \\\n",
       "43837  How did Hawking communicate despite motor neur...   \n",
       "39785  18-yr-old becomes UK's youngest convicted fema...   \n",
       "7735   World Bank to raise $200 billion to fight clim...   \n",
       "94516  Why're people questioning Akshay's N'tnl award...   \n",
       "37303  Startup unveils world's 1st burger restaurant ...   \n",
       "73627  Stalker chops off 15-yr-old girl's hand for re...   \n",
       "23458  WhatsApp Pay can't launch in India without off...   \n",
       "35651  Caught 29 leakers, 12 of those arrested in 201...   \n",
       "4551   I waited for 8-9 months to be part of Kapil Sh...   \n",
       "37145  After Sachin, Kohli says two new balls 'brutal...   \n",
       "\n",
       "                                                    text  \n",
       "43837  World-renowned physicist Stephen Hawking gradu...  \n",
       "39785  An 18-year-old woman, Safaa Boular, has become...  \n",
       "7735   The World Bank Group on Monday said it will do...  \n",
       "94516  Chairperson of National Film Awards jury Priya...  \n",
       "37303  US-based startup Creator has unveiled a robot-...  \n",
       "73627  A 15-year-old girl's hand was allegedly cut of...  \n",
       "23458  The government has clarified that WhatsApp can...  \n",
       "35651  In a recently revealed memo warning employees ...  \n",
       "4551   Comedian Bharti Singh has revealed she waited ...  \n",
       "37145  After cricketing legend Sachin Tendulkar slamm...  "
      ]
     },
     "execution_count": 3,
     "metadata": {},
     "output_type": "execute_result"
    }
   ],
   "source": [
    "data.sample(10)"
   ]
  },
  {
   "cell_type": "markdown",
   "id": "44a2eba9",
   "metadata": {},
   "source": [
    "### 데이터 전처리하기(추상적 요약)  \n",
    "step1. 중복 제거  \n",
    "step2. null 값 제거  \n",
    "step3. 텍스트 정규화 사전과 불용어 사전을 만들고 전처리 함수를 통해 text와 summary 데이터를 전처리 해준다.  "
   ]
  },
  {
   "cell_type": "markdown",
   "id": "e10e9cdc",
   "metadata": {},
   "source": [
    "#### step1. 중복 제거 "
   ]
  },
  {
   "cell_type": "code",
   "execution_count": 4,
   "id": "d421c6bb",
   "metadata": {},
   "outputs": [
    {
     "name": "stdout",
     "output_type": "stream",
     "text": [
      "Text 열에서 중복을 배제한 유일한 샘플의 수 : 98360\n",
      "Summary 열에서 중복을 배제한 유일한 샘플의 수 : 98280\n"
     ]
    }
   ],
   "source": [
    "#중복 샘플 유무 확인\n",
    "print('Text 열에서 중복을 배제한 유일한 샘플의 수 :', data['text'].nunique())\n",
    "print('Summary 열에서 중복을 배제한 유일한 샘플의 수 :', data['headlines'].nunique())"
   ]
  },
  {
   "cell_type": "code",
   "execution_count": 5,
   "id": "2f5ab54b",
   "metadata": {},
   "outputs": [
    {
     "name": "stdout",
     "output_type": "stream",
     "text": [
      "전체 샘플수 : 98360\n"
     ]
    }
   ],
   "source": [
    "#text 데이터에 중복 있으면 제거 \n",
    "data.drop_duplicates(subset = ['text'], inplace=True)\n",
    "print('전체 샘플수 :', (len(data)))"
   ]
  },
  {
   "cell_type": "markdown",
   "id": "55715b24",
   "metadata": {},
   "source": [
    "#### step2. null 값 제거 "
   ]
  },
  {
   "cell_type": "code",
   "execution_count": 6,
   "id": "d187deed",
   "metadata": {},
   "outputs": [
    {
     "name": "stdout",
     "output_type": "stream",
     "text": [
      "headlines    0\n",
      "text         0\n",
      "dtype: int64\n"
     ]
    }
   ],
   "source": [
    "#null 값 없음 \n",
    "print(data.isnull().sum())"
   ]
  },
  {
   "cell_type": "markdown",
   "id": "a3e0b631",
   "metadata": {},
   "source": [
    "#### step3. 텍스트 정규화, 불용어, 전처리 함수 "
   ]
  },
  {
   "cell_type": "code",
   "execution_count": 7,
   "id": "ecc860a6",
   "metadata": {},
   "outputs": [
    {
     "name": "stdout",
     "output_type": "stream",
     "text": [
      "정규화 사전의 수:  120\n"
     ]
    }
   ],
   "source": [
    "#텍스트 정규화 사전 만들기 \n",
    "contractions = {\"ain't\": \"is not\", \"aren't\": \"are not\",\"can't\": \"cannot\", \"'cause\": \"because\", \"could've\": \"could have\", \"couldn't\": \"could not\",\n",
    "                           \"didn't\": \"did not\",  \"doesn't\": \"does not\", \"don't\": \"do not\", \"hadn't\": \"had not\", \"hasn't\": \"has not\", \"haven't\": \"have not\",\n",
    "                           \"he'd\": \"he would\",\"he'll\": \"he will\", \"he's\": \"he is\", \"how'd\": \"how did\", \"how'd'y\": \"how do you\", \"how'll\": \"how will\", \"how's\": \"how is\",\n",
    "                           \"I'd\": \"I would\", \"I'd've\": \"I would have\", \"I'll\": \"I will\", \"I'll've\": \"I will have\",\"I'm\": \"I am\", \"I've\": \"I have\", \"i'd\": \"i would\",\n",
    "                           \"i'd've\": \"i would have\", \"i'll\": \"i will\",  \"i'll've\": \"i will have\",\"i'm\": \"i am\", \"i've\": \"i have\", \"isn't\": \"is not\", \"it'd\": \"it would\",\n",
    "                           \"it'd've\": \"it would have\", \"it'll\": \"it will\", \"it'll've\": \"it will have\",\"it's\": \"it is\", \"let's\": \"let us\", \"ma'am\": \"madam\",\n",
    "                           \"mayn't\": \"may not\", \"might've\": \"might have\",\"mightn't\": \"might not\",\"mightn't've\": \"might not have\", \"must've\": \"must have\",\n",
    "                           \"mustn't\": \"must not\", \"mustn't've\": \"must not have\", \"needn't\": \"need not\", \"needn't've\": \"need not have\",\"o'clock\": \"of the clock\",\n",
    "                           \"oughtn't\": \"ought not\", \"oughtn't've\": \"ought not have\", \"shan't\": \"shall not\", \"sha'n't\": \"shall not\", \"shan't've\": \"shall not have\",\n",
    "                           \"she'd\": \"she would\", \"she'd've\": \"she would have\", \"she'll\": \"she will\", \"she'll've\": \"she will have\", \"she's\": \"she is\",\n",
    "                           \"should've\": \"should have\", \"shouldn't\": \"should not\", \"shouldn't've\": \"should not have\", \"so've\": \"so have\",\"so's\": \"so as\",\n",
    "                           \"this's\": \"this is\",\"that'd\": \"that would\", \"that'd've\": \"that would have\", \"that's\": \"that is\", \"there'd\": \"there would\",\n",
    "                           \"there'd've\": \"there would have\", \"there's\": \"there is\", \"here's\": \"here is\",\"they'd\": \"they would\", \"they'd've\": \"they would have\",\n",
    "                           \"they'll\": \"they will\", \"they'll've\": \"they will have\", \"they're\": \"they are\", \"they've\": \"they have\", \"to've\": \"to have\",\n",
    "                           \"wasn't\": \"was not\", \"we'd\": \"we would\", \"we'd've\": \"we would have\", \"we'll\": \"we will\", \"we'll've\": \"we will have\", \"we're\": \"we are\",\n",
    "                           \"we've\": \"we have\", \"weren't\": \"were not\", \"what'll\": \"what will\", \"what'll've\": \"what will have\", \"what're\": \"what are\",\n",
    "                           \"what's\": \"what is\", \"what've\": \"what have\", \"when's\": \"when is\", \"when've\": \"when have\", \"where'd\": \"where did\", \"where's\": \"where is\",\n",
    "                           \"where've\": \"where have\", \"who'll\": \"who will\", \"who'll've\": \"who will have\", \"who's\": \"who is\", \"who've\": \"who have\",\n",
    "                           \"why's\": \"why is\", \"why've\": \"why have\", \"will've\": \"will have\", \"won't\": \"will not\", \"won't've\": \"will not have\",\n",
    "                           \"would've\": \"would have\", \"wouldn't\": \"would not\", \"wouldn't've\": \"would not have\", \"y'all\": \"you all\",\n",
    "                           \"y'all'd\": \"you all would\",\"y'all'd've\": \"you all would have\",\"y'all're\": \"you all are\",\"y'all've\": \"you all have\",\n",
    "                           \"you'd\": \"you would\", \"you'd've\": \"you would have\", \"you'll\": \"you will\", \"you'll've\": \"you will have\",\n",
    "                           \"you're\": \"you are\", \"you've\": \"you have\"}\n",
    "\n",
    "print(\"정규화 사전의 수: \", len(contractions))"
   ]
  },
  {
   "cell_type": "code",
   "execution_count": 8,
   "id": "7c4df95c",
   "metadata": {},
   "outputs": [
    {
     "name": "stdout",
     "output_type": "stream",
     "text": [
      "불용어 개수 : 179\n",
      "['i', 'me', 'my', 'myself', 'we', 'our', 'ours', 'ourselves', 'you', \"you're\", \"you've\", \"you'll\", \"you'd\", 'your', 'yours', 'yourself', 'yourselves', 'he', 'him', 'his', 'himself', 'she', \"she's\", 'her', 'hers', 'herself', 'it', \"it's\", 'its', 'itself', 'they', 'them', 'their', 'theirs', 'themselves', 'what', 'which', 'who', 'whom', 'this', 'that', \"that'll\", 'these', 'those', 'am', 'is', 'are', 'was', 'were', 'be', 'been', 'being', 'have', 'has', 'had', 'having', 'do', 'does', 'did', 'doing', 'a', 'an', 'the', 'and', 'but', 'if', 'or', 'because', 'as', 'until', 'while', 'of', 'at', 'by', 'for', 'with', 'about', 'against', 'between', 'into', 'through', 'during', 'before', 'after', 'above', 'below', 'to', 'from', 'up', 'down', 'in', 'out', 'on', 'off', 'over', 'under', 'again', 'further', 'then', 'once', 'here', 'there', 'when', 'where', 'why', 'how', 'all', 'any', 'both', 'each', 'few', 'more', 'most', 'other', 'some', 'such', 'no', 'nor', 'not', 'only', 'own', 'same', 'so', 'than', 'too', 'very', 's', 't', 'can', 'will', 'just', 'don', \"don't\", 'should', \"should've\", 'now', 'd', 'll', 'm', 'o', 're', 've', 'y', 'ain', 'aren', \"aren't\", 'couldn', \"couldn't\", 'didn', \"didn't\", 'doesn', \"doesn't\", 'hadn', \"hadn't\", 'hasn', \"hasn't\", 'haven', \"haven't\", 'isn', \"isn't\", 'ma', 'mightn', \"mightn't\", 'mustn', \"mustn't\", 'needn', \"needn't\", 'shan', \"shan't\", 'shouldn', \"shouldn't\", 'wasn', \"wasn't\", 'weren', \"weren't\", 'won', \"won't\", 'wouldn', \"wouldn't\"]\n"
     ]
    }
   ],
   "source": [
    "print('불용어 개수 :', len(stopwords.words('english') ))\n",
    "print(stopwords.words('english'))"
   ]
  },
  {
   "cell_type": "markdown",
   "id": "6045a923",
   "metadata": {},
   "source": [
    "headlines에 불용어를 처리해줄지 결정하기 위해 글자수 평균을 내고 이와 text의 평균 글자수를 비교했다.  \n",
    "headlines의 평균 글자수는 57이고 text의 글자수는 357로 차이가 꽤 나기 때문에 headlines는 불용어 삭제 처리를 하지 않았다.  "
   ]
  },
  {
   "cell_type": "code",
   "execution_count": 9,
   "id": "8f181c7e",
   "metadata": {},
   "outputs": [
    {
     "name": "stdout",
     "output_type": "stream",
     "text": [
      "headlines 평균 글자 수: 57\n",
      "text 평균 글자 수: 357\n"
     ]
    }
   ],
   "source": [
    "#headlines와 text의 평균 글자수 비교 \n",
    "headline_sum = 0\n",
    "for headline in data['headlines']:\n",
    "    headline_sum += len(str(headline))\n",
    "\n",
    "headline_avg = headline_sum // 98360\n",
    "\n",
    "text_sum = 0\n",
    "for text in data['text']:\n",
    "    text_sum += len(str(text))\n",
    "    \n",
    "text_avg = text_sum // 98360  \n",
    "\n",
    "print(\"headlines 평균 글자 수:\", headline_avg)\n",
    "print(\"text 평균 글자 수:\", text_avg)"
   ]
  },
  {
   "cell_type": "markdown",
   "id": "1cb90d01",
   "metadata": {},
   "source": [
    "이전에 실습했던 아마존 리뷰 데이터와는 달리 신문기사의 경우 형식적인 글이므로 \"ummmmmm\" 같은 비형식적인 단어는 없을거라 생각하여 이런 부분에 관해서 별도의 전처리를 하지 않았다.  "
   ]
  },
  {
   "cell_type": "code",
   "execution_count": 10,
   "id": "edb2fb6c",
   "metadata": {},
   "outputs": [],
   "source": [
    "# 데이터 전처리 함수\n",
    "def preprocess_sentence(sentence, remove_stopwords=True):\n",
    "    sentence = sentence.lower() # 텍스트 소문자화\n",
    "    sentence = BeautifulSoup(sentence, \"lxml\").text # <br />, <a href = ...> 등의 html 태그 제거\n",
    "    sentence = re.sub(r'\\([^)]*\\)', '', sentence) # 괄호로 닫힌 문자열 (...) 제거 Ex) my husband (and myself!) for => my husband for\n",
    "    sentence = re.sub('\"','', sentence) # 쌍따옴표 \" 제거\n",
    "    sentence = ' '.join([contractions[t] if t in contractions else t for t in sentence.split(\" \")]) # 약어 정규화\n",
    "    sentence = re.sub(r\"'s\\b\",\"\", sentence) # 소유격 제거. Ex) roland's -> roland\n",
    "    sentence = re.sub(\"[^a-zA-Z]\", \" \", sentence) # 영어 외 문자(숫자, 특수문자 등) 공백으로 변환\n",
    "    #sentence = re.sub('[m]{2,}', 'mm', sentence) # m이 3개 이상이면 2개로 변경. Ex) ummmmmmm yeah -> umm yeah\n",
    "    \n",
    "    # 불용어 제거 (text)\n",
    "    if remove_stopwords:\n",
    "        tokens = ' '.join(word for word in sentence.split() if not word in stopwords.words('english') if len(word) > 1)\n",
    "    # 불용어 미제거 (headline)\n",
    "    else:\n",
    "        tokens = ' '.join(word for word in sentence.split() if len(word) > 1)\n",
    "    return tokens"
   ]
  },
  {
   "cell_type": "markdown",
   "id": "a03ddc03",
   "metadata": {},
   "source": [
    "### 훈련 데이터 전체 전처리(추상적 요약)   \n",
    "step1. 전처리 함수 처리  \n",
    "step2. 훈련 데이터와 테스트 데이터 나누기  \n",
    "-샘플 최대 길이 정하기  \n",
    "-데이터분포 시각화  \n",
    "-headlines에 시작 토큰과 종료 토큰 추가(시작토큰 sostoken, 종료토큰:eostoken)  "
   ]
  },
  {
   "cell_type": "code",
   "execution_count": 11,
   "id": "a73975a9",
   "metadata": {},
   "outputs": [
    {
     "name": "stdout",
     "output_type": "stream",
     "text": [
      "text 전처리 후 결과:  ['saurav kant alumnus upgrad iiit pg program machine learning artificial intelligence sr systems engineer infosys almost years work experience program upgrad degree career support helped transition data scientist tech mahindra salary hike upgrad online power learning powered lakh careers', 'kunal shah credit card bill payment platform cred gave users chance win free food swiggy one year pranav kaushik delhi techie bagged reward spending cred coins users get one cred coin per rupee bill paid used avail rewards brands like ixigo bookmyshow ubereats cult fit', 'new zealand defeated india wickets fourth odi hamilton thursday win first match five match odi series india lost international match rohit sharma captaincy consecutive victories dating back march match witnessed india getting seventh lowest total odi cricket history', 'aegon life iterm insurance plan customers enjoy tax benefits premiums paid save taxes plan provides life cover age years also customers options insure critical illnesses disability accidental death benefit rider life cover age years', 'speaking sexual harassment allegations rajkumar hirani sonam kapoor said known hirani many years true metoo movement get derailed metoo movement always believe woman case need reserve judgment added hirani accused assistant worked sanju']\n"
     ]
    }
   ],
   "source": [
    "#text 데이터 전처리 \n",
    "clean_text = []\n",
    " \n",
    "for s in data['text']:\n",
    "    clean_text.append(preprocess_sentence(s))\n",
    "\n",
    "# 전처리 후 출력\n",
    "print(\"text 전처리 후 결과: \", clean_text[:5])"
   ]
  },
  {
   "cell_type": "code",
   "execution_count": 12,
   "id": "ab763a37",
   "metadata": {},
   "outputs": [
    {
     "name": "stdout",
     "output_type": "stream",
     "text": [
      "headlines 전처리 후 결과:  ['upgrad learner switches to career in ml al with salary hike', 'delhi techie wins free food from swiggy for one year on cred', 'new zealand end rohit sharma led india match winning streak', 'aegon life iterm insurance plan helps customers save tax', 'have known hirani for yrs what if metoo claims are not true sonam']\n"
     ]
    }
   ],
   "source": [
    "#headlines 전처리\n",
    "clean_headlines = []\n",
    " \n",
    "for s in data['headlines']:\n",
    "    clean_headlines.append(preprocess_sentence(s, False))\n",
    "\n",
    "print(\"headlines 전처리 후 결과: \", clean_headlines[:5])"
   ]
  },
  {
   "cell_type": "code",
   "execution_count": 13,
   "id": "3719568e",
   "metadata": {},
   "outputs": [
    {
     "data": {
      "text/plain": [
       "headlines    0\n",
       "text         0\n",
       "dtype: int64"
      ]
     },
     "execution_count": 13,
     "metadata": {},
     "output_type": "execute_result"
    }
   ],
   "source": [
    "#데이터 프레임에 재저장\n",
    "data['text'] = clean_text \n",
    "data['headlines'] = clean_headlines\n",
    "\n",
    "# 빈 값을 Null 값으로 변환\n",
    "data.replace('', np.nan, inplace=True)\n",
    "\n",
    "#null 몇 개인지 확인 \n",
    "data.isnull().sum() "
   ]
  },
  {
   "cell_type": "code",
   "execution_count": 14,
   "id": "ad5e5535",
   "metadata": {},
   "outputs": [
    {
     "name": "stdout",
     "output_type": "stream",
     "text": [
      "전체 샘플수 : 98360\n"
     ]
    }
   ],
   "source": [
    "#null 값 제거 \n",
    "data.dropna(axis=0, inplace=True)  \n",
    "print('전체 샘플수 :', (len(data)))"
   ]
  },
  {
   "cell_type": "markdown",
   "id": "023294fb",
   "metadata": {},
   "source": [
    "전처리 함수를 거치기 이전의 글자수 평균은 headlines는 57이고 text의 글자수는 357이었다.  \n",
    "전처리 함수를 거친 후 글자수 평균은 headlines는 9.299532330215534이고 text의 평균 글자수는 35.09968483123221로 확연히 줄여듦을 확인했다.  "
   ]
  },
  {
   "cell_type": "code",
   "execution_count": 15,
   "id": "ec660f8a",
   "metadata": {},
   "outputs": [
    {
     "name": "stdout",
     "output_type": "stream",
     "text": [
      "텍스트의 최소 길이 : 1\n",
      "텍스트의 최대 길이 : 60\n",
      "텍스트의 평균 길이 : 35.09968483123221\n",
      "요약의 최소 길이 : 1\n",
      "요약의 최대 길이 : 16\n",
      "요약의 평균 길이 : 9.299532330215534\n"
     ]
    },
    {
     "data": {
      "image/png": "[encoded data removed]",
      "text/plain": [
       "<Figure size 432x288 with 2 Axes>"
      ]
     },
     "metadata": {
      "needs_background": "light"
     },
     "output_type": "display_data"
    },
    {
     "data": {
      "image/png": "[encoded data removed]",
      "text/plain": [
       "<Figure size 432x288 with 1 Axes>"
      ]
     },
     "metadata": {
      "needs_background": "light"
     },
     "output_type": "display_data"
    },
    {
     "data": {
      "image/png": "[encoded data removed]",
      "text/plain": [
       "<Figure size 432x288 with 1 Axes>"
      ]
     },
     "metadata": {
      "needs_background": "light"
     },
     "output_type": "display_data"
    }
   ],
   "source": [
    "text_len = [len(s.split()) for s in data['text']]\n",
    "headlines_len = [len(s.split()) for s in data['headlines']]\n",
    "\n",
    "print('텍스트의 최소 길이 : {}'.format(np.min(text_len)))\n",
    "print('텍스트의 최대 길이 : {}'.format(np.max(text_len)))\n",
    "print('텍스트의 평균 길이 : {}'.format(np.mean(text_len)))\n",
    "print('요약의 최소 길이 : {}'.format(np.min(headlines_len)))\n",
    "print('요약의 최대 길이 : {}'.format(np.max(headlines_len)))\n",
    "print('요약의 평균 길이 : {}'.format(np.mean(headlines_len)))\n",
    "\n",
    "plt.subplot(1,2,1)\n",
    "plt.boxplot(text_len)\n",
    "plt.title('text')\n",
    "plt.subplot(1,2,2)\n",
    "plt.boxplot(headlines_len)\n",
    "plt.title('headlines')\n",
    "plt.tight_layout()\n",
    "plt.show()\n",
    "\n",
    "plt.title('text')\n",
    "plt.hist(text_len, bins = 40)\n",
    "plt.xlabel('length of samples')\n",
    "plt.ylabel('number of samples')\n",
    "plt.show()\n",
    "\n",
    "plt.title('headlines')\n",
    "plt.hist(headlines_len, bins = 40)\n",
    "plt.xlabel('length of samples')\n",
    "plt.ylabel('number of samples')\n",
    "plt.show()"
   ]
  },
  {
   "cell_type": "markdown",
   "id": "25da82fc",
   "metadata": {},
   "source": [
    "신문 기사는 text의 맨 앞과 맨 뒤에 핵심 문장이 있을 가능성이 있어 최대 깋이를 그대로 사용했다.  \n",
    "신문 기사의 제목은 리뷰 summary와 다르게 완전한 문장 형식일 가능성이 높아 자르지 않고 그대로 포함시키기로 했다.  "
   ]
  },
  {
   "cell_type": "code",
   "execution_count": 16,
   "id": "6506c973",
   "metadata": {},
   "outputs": [],
   "source": [
    "#최대 길이 임의로 정하기\n",
    "#데이터가 그리 긴 길이가 아니라서 최대 길이를 그대로 사용했다. \n",
    "text_max_len = 60\n",
    "headlines_max_len = 16"
   ]
  },
  {
   "cell_type": "code",
   "execution_count": 18,
   "id": "27400510",
   "metadata": {},
   "outputs": [
    {
     "data": {
      "text/html": [
       "<div>\n",
       "<style scoped>\n",
       "    .dataframe tbody tr th:only-of-type {\n",
       "        vertical-align: middle;\n",
       "    }\n",
       "\n",
       "    .dataframe tbody tr th {\n",
       "        vertical-align: top;\n",
       "    }\n",
       "\n",
       "    .dataframe thead th {\n",
       "        text-align: right;\n",
       "    }\n",
       "</style>\n",
       "<table border=\"1\" class=\"dataframe\">\n",
       "  <thead>\n",
       "    <tr style=\"text-align: right;\">\n",
       "      <th></th>\n",
       "      <th>headlines</th>\n",
       "      <th>text</th>\n",
       "      <th>decoder_input</th>\n",
       "      <th>decoder_target</th>\n",
       "    </tr>\n",
       "  </thead>\n",
       "  <tbody>\n",
       "    <tr>\n",
       "      <th>0</th>\n",
       "      <td>upgrad learner switches to career in ml al wit...</td>\n",
       "      <td>saurav kant alumnus upgrad iiit pg program mac...</td>\n",
       "      <td>sostoken upgrad learner switches to career in ...</td>\n",
       "      <td>upgrad learner switches to career in ml al wit...</td>\n",
       "    </tr>\n",
       "    <tr>\n",
       "      <th>1</th>\n",
       "      <td>delhi techie wins free food from swiggy for on...</td>\n",
       "      <td>kunal shah credit card bill payment platform c...</td>\n",
       "      <td>sostoken delhi techie wins free food from swig...</td>\n",
       "      <td>delhi techie wins free food from swiggy for on...</td>\n",
       "    </tr>\n",
       "    <tr>\n",
       "      <th>2</th>\n",
       "      <td>new zealand end rohit sharma led india match w...</td>\n",
       "      <td>new zealand defeated india wickets fourth odi ...</td>\n",
       "      <td>sostoken new zealand end rohit sharma led indi...</td>\n",
       "      <td>new zealand end rohit sharma led india match w...</td>\n",
       "    </tr>\n",
       "    <tr>\n",
       "      <th>3</th>\n",
       "      <td>aegon life iterm insurance plan helps customer...</td>\n",
       "      <td>aegon life iterm insurance plan customers enjo...</td>\n",
       "      <td>sostoken aegon life iterm insurance plan helps...</td>\n",
       "      <td>aegon life iterm insurance plan helps customer...</td>\n",
       "    </tr>\n",
       "    <tr>\n",
       "      <th>4</th>\n",
       "      <td>have known hirani for yrs what if metoo claims...</td>\n",
       "      <td>speaking sexual harassment allegations rajkuma...</td>\n",
       "      <td>sostoken have known hirani for yrs what if met...</td>\n",
       "      <td>have known hirani for yrs what if metoo claims...</td>\n",
       "    </tr>\n",
       "  </tbody>\n",
       "</table>\n",
       "</div>"
      ],
      "text/plain": [
       "                                           headlines  \\\n",
       "0  upgrad learner switches to career in ml al wit...   \n",
       "1  delhi techie wins free food from swiggy for on...   \n",
       "2  new zealand end rohit sharma led india match w...   \n",
       "3  aegon life iterm insurance plan helps customer...   \n",
       "4  have known hirani for yrs what if metoo claims...   \n",
       "\n",
       "                                                text  \\\n",
       "0  saurav kant alumnus upgrad iiit pg program mac...   \n",
       "1  kunal shah credit card bill payment platform c...   \n",
       "2  new zealand defeated india wickets fourth odi ...   \n",
       "3  aegon life iterm insurance plan customers enjo...   \n",
       "4  speaking sexual harassment allegations rajkuma...   \n",
       "\n",
       "                                       decoder_input  \\\n",
       "0  sostoken upgrad learner switches to career in ...   \n",
       "1  sostoken delhi techie wins free food from swig...   \n",
       "2  sostoken new zealand end rohit sharma led indi...   \n",
       "3  sostoken aegon life iterm insurance plan helps...   \n",
       "4  sostoken have known hirani for yrs what if met...   \n",
       "\n",
       "                                      decoder_target  \n",
       "0  upgrad learner switches to career in ml al wit...  \n",
       "1  delhi techie wins free food from swiggy for on...  \n",
       "2  new zealand end rohit sharma led india match w...  \n",
       "3  aegon life iterm insurance plan helps customer...  \n",
       "4  have known hirani for yrs what if metoo claims...  "
      ]
     },
     "execution_count": 18,
     "metadata": {},
     "output_type": "execute_result"
    }
   ],
   "source": [
    "#시작 토큰과 종료 토큰 추가 \n",
    "data['decoder_input'] = data['headlines'].apply(lambda x : 'sostoken '+ x)\n",
    "data['decoder_target'] = data['headlines'].apply(lambda x : x + ' eostoken')\n",
    "data.head()"
   ]
  },
  {
   "cell_type": "markdown",
   "id": "9ce9b5b3",
   "metadata": {},
   "source": [
    "<b>encoder와 decoder 정의</b>"
   ]
  },
  {
   "cell_type": "code",
   "execution_count": 19,
   "id": "5a9a8e8b",
   "metadata": {},
   "outputs": [],
   "source": [
    "encoder_input = np.array(data['text']) # 인코더의 입력\n",
    "decoder_input = np.array(data['decoder_input']) # 디코더의 입력\n",
    "decoder_target = np.array(data['decoder_target']) #디코더의 레이블"
   ]
  },
  {
   "cell_type": "code",
   "execution_count": 20,
   "id": "daa1da25",
   "metadata": {},
   "outputs": [
    {
     "name": "stdout",
     "output_type": "stream",
     "text": [
      "[56932 25078 94472 ... 38822 82194 95025]\n"
     ]
    }
   ],
   "source": [
    "#encoder_input과 크기와 형태가 같은 순서가 섞인 정수 시퀀스 만들기 \n",
    "indices = np.arange(encoder_input.shape[0])\n",
    "np.random.shuffle(indices)\n",
    "print(indices)"
   ]
  },
  {
   "cell_type": "code",
   "execution_count": 21,
   "id": "7de45a47",
   "metadata": {},
   "outputs": [],
   "source": [
    "#데이터 순서 정의\n",
    "encoder_input = encoder_input[indices]\n",
    "decoder_input = decoder_input[indices]\n",
    "decoder_target = decoder_target[indices]"
   ]
  },
  {
   "cell_type": "markdown",
   "id": "81919ec9",
   "metadata": {},
   "source": [
    "<b>훈련 데이터와 테스트 데이터를 8:2로 분리</b>"
   ]
  },
  {
   "cell_type": "code",
   "execution_count": 22,
   "id": "e2882d78",
   "metadata": {},
   "outputs": [
    {
     "name": "stdout",
     "output_type": "stream",
     "text": [
      "테스트 데이터의 수 : 19672\n"
     ]
    }
   ],
   "source": [
    "n_of_val = int(len(encoder_input)*0.2)\n",
    "print('테스트 데이터의 수 :', n_of_val)"
   ]
  },
  {
   "cell_type": "code",
   "execution_count": 23,
   "id": "33ba87de",
   "metadata": {},
   "outputs": [
    {
     "name": "stdout",
     "output_type": "stream",
     "text": [
      "훈련 데이터의 개수 : 78688\n",
      "훈련 레이블의 개수 : 78688\n",
      "테스트 데이터의 개수 : 19672\n",
      "테스트 레이블의 개수 : 19672\n"
     ]
    }
   ],
   "source": [
    "encoder_input_train = encoder_input[:-n_of_val]\n",
    "decoder_input_train = decoder_input[:-n_of_val]\n",
    "decoder_target_train = decoder_target[:-n_of_val]\n",
    "\n",
    "encoder_input_test = encoder_input[-n_of_val:]\n",
    "decoder_input_test = decoder_input[-n_of_val:]\n",
    "decoder_target_test = decoder_target[-n_of_val:]\n",
    "\n",
    "print('훈련 데이터의 개수 :', len(encoder_input_train))\n",
    "print('훈련 레이블의 개수 :', len(decoder_input_train))\n",
    "print('테스트 데이터의 개수 :', len(encoder_input_test))\n",
    "print('테스트 레이블의 개수 :', len(decoder_input_test))"
   ]
  },
  {
   "cell_type": "markdown",
   "id": "df37d77d",
   "metadata": {},
   "source": [
    "<b>훈련 데이터에 대한 단어집합 만들기</b>  \n",
    "src_tokenizer.word_counts.items():단어와 각 단어의 등장 빈도수가 저장  \n",
    "src_tokenizer.word_index:입력 데이터에 대한 단어 집합과 각 단어에 대한 고유한 정수 저장  \n",
    "tar_tokenizer.word_index:레이블 단어 집합과 각 단어에 대한 고유한 정수 저장  \n",
    "texts_to_sequences():단어 집합에 기반하여 입력으로 주어진 텍스트 데이터의 단어를 모두 정수로 변환하는 정수 인코딩 수행  \n",
    "num_words 값 정해주면 단어 집합 크기 제한  "
   ]
  },
  {
   "cell_type": "code",
   "execution_count": 24,
   "id": "64239ce7",
   "metadata": {},
   "outputs": [],
   "source": [
    "src_tokenizer = Tokenizer() # 토크나이저 정의\n",
    "src_tokenizer.fit_on_texts(encoder_input_train) # 입력된 데이터로부터 단어 집합 생성"
   ]
  },
  {
   "cell_type": "markdown",
   "id": "f0f6758c",
   "metadata": {},
   "source": [
    "<b>빈도수 낮은 단어들은 훈련 데이터에서 제외</b>  \n",
    "빈도수 7회 미만인 단어는 단어 집합에서 68%이상 차지  \n",
    "등장 빈도로 차지하는 비중 3.4% 밖에 되지 않음  \n"
   ]
  },
  {
   "cell_type": "code",
   "execution_count": 25,
   "id": "b1bf74c3",
   "metadata": {},
   "outputs": [
    {
     "name": "stdout",
     "output_type": "stream",
     "text": [
      "단어 집합(vocabulary)의 크기 : 69775\n",
      "등장 빈도가 6번 이하인 희귀 단어의 수: 47579\n",
      "단어 집합에서 희귀 단어를 제외시킬 경우의 단어 집합의 크기 22196\n",
      "단어 집합에서 희귀 단어의 비율: 68.18917950555357\n",
      "전체 등장 빈도에서 희귀 단어 등장 빈도 비율: 3.4869238094203605\n"
     ]
    }
   ],
   "source": [
    "threshold = 7\n",
    "total_cnt = len(src_tokenizer.word_index) # 단어의 수\n",
    "rare_cnt = 0 # 등장 빈도수가 threshold보다 작은 단어의 개수를 카운트\n",
    "total_freq = 0 # 훈련 데이터의 전체 단어 빈도수 총 합\n",
    "rare_freq = 0 # 등장 빈도수가 threshold보다 작은 단어의 등장 빈도수의 총 합\n",
    "\n",
    "# 단어와 빈도수의 쌍(pair)을 key와 value로 받는다.\n",
    "for key, value in src_tokenizer.word_counts.items():\n",
    "    total_freq = total_freq + value\n",
    "\n",
    "    # 단어의 등장 빈도수가 threshold보다 작으면\n",
    "    if(value < threshold):\n",
    "        rare_cnt = rare_cnt + 1\n",
    "        rare_freq = rare_freq + value\n",
    "\n",
    "print('단어 집합(vocabulary)의 크기 :', total_cnt)\n",
    "print('등장 빈도가 %s번 이하인 희귀 단어의 수: %s'%(threshold - 1, rare_cnt))\n",
    "print('단어 집합에서 희귀 단어를 제외시킬 경우의 단어 집합의 크기 %s'%(total_cnt - rare_cnt))\n",
    "print(\"단어 집합에서 희귀 단어의 비율:\", (rare_cnt / total_cnt)*100)\n",
    "print(\"전체 등장 빈도에서 희귀 단어 등장 빈도 비율:\", (rare_freq / total_freq)*100)"
   ]
  },
  {
   "cell_type": "code",
   "execution_count": 26,
   "id": "27e0b8b3",
   "metadata": {},
   "outputs": [],
   "source": [
    "#등장 빈도 6회 이하인 단어 정수 인코딩에서 제외,\n",
    "#단어 집합 8000 크기로 제한 \n",
    "src_vocab = 8000\n",
    "src_tokenizer = Tokenizer(num_words=src_vocab) # 단어 집합의 크기를 8,000으로 제한\n",
    "src_tokenizer.fit_on_texts(encoder_input_train) # 단어 집합 재생성"
   ]
  },
  {
   "cell_type": "code",
   "execution_count": 27,
   "id": "75fba2c0",
   "metadata": {},
   "outputs": [],
   "source": [
    "#텍스트 시퀀스를 정수 시퀀스로 변환 \n",
    "encoder_input_train = src_tokenizer.texts_to_sequences(encoder_input_train) \n",
    "encoder_input_test = src_tokenizer.texts_to_sequences(encoder_input_test)"
   ]
  },
  {
   "cell_type": "markdown",
   "id": "cf67f6be",
   "metadata": {},
   "source": [
    "<b>headlines도 동일하게 단어집합과 정수 인코딩하기</b>"
   ]
  },
  {
   "cell_type": "code",
   "execution_count": 28,
   "id": "383112e9",
   "metadata": {},
   "outputs": [],
   "source": [
    "tar_tokenizer = Tokenizer()\n",
    "tar_tokenizer.fit_on_texts(decoder_input_train)"
   ]
  },
  {
   "cell_type": "code",
   "execution_count": 29,
   "id": "2c13a5b3",
   "metadata": {},
   "outputs": [
    {
     "name": "stdout",
     "output_type": "stream",
     "text": [
      "단어 집합(vocabulary)의 크기 : 30037\n",
      "등장 빈도가 5번 이하인 희귀 단어의 수: 19641\n",
      "단어 집합에서 희귀 단어를 제외시킬 경우의 단어 집합의 크기 10396\n",
      "단어 집합에서 희귀 단어의 비율: 65.38935313113826\n",
      "전체 등장 빈도에서 희귀 단어 등장 빈도 비율: 4.651271849500689\n"
     ]
    }
   ],
   "source": [
    "threshold = 6\n",
    "total_cnt = len(tar_tokenizer.word_index) # 단어의 수\n",
    "rare_cnt = 0 # 등장 빈도수가 threshold보다 작은 단어의 개수를 카운트\n",
    "total_freq = 0 # 훈련 데이터의 전체 단어 빈도수 총 합\n",
    "rare_freq = 0 # 등장 빈도수가 threshold보다 작은 단어의 등장 빈도수의 총 합\n",
    "\n",
    "# 단어와 빈도수의 쌍(pair)을 key와 value로 받는다.\n",
    "for key, value in tar_tokenizer.word_counts.items():\n",
    "    total_freq = total_freq + value\n",
    "\n",
    "    # 단어의 등장 빈도수가 threshold보다 작으면\n",
    "    if(value < threshold):\n",
    "        rare_cnt = rare_cnt + 1\n",
    "        rare_freq = rare_freq + value\n",
    "\n",
    "print('단어 집합(vocabulary)의 크기 :', total_cnt)\n",
    "print('등장 빈도가 %s번 이하인 희귀 단어의 수: %s'%(threshold - 1, rare_cnt))\n",
    "print('단어 집합에서 희귀 단어를 제외시킬 경우의 단어 집합의 크기 %s'%(total_cnt - rare_cnt))\n",
    "print(\"단어 집합에서 희귀 단어의 비율:\", (rare_cnt / total_cnt)*100)\n",
    "print(\"전체 등장 빈도에서 희귀 단어 등장 빈도 비율:\", (rare_freq / total_freq)*100)"
   ]
  },
  {
   "cell_type": "code",
   "execution_count": 30,
   "id": "7d8c3a37",
   "metadata": {
    "scrolled": true
   },
   "outputs": [
    {
     "name": "stdout",
     "output_type": "stream",
     "text": [
      "input\n",
      "input  [[1, 920, 10, 51, 184, 246, 7, 406, 562], [1, 134, 1470, 734, 1346, 25, 5, 352], [1, 210, 29, 5, 866, 475, 7, 531], [1, 40, 1842, 473, 1127, 31, 341], [1, 135, 14, 4, 1442, 463]]\n",
      "target\n",
      "decoder  [[920, 10, 51, 184, 246, 7, 406, 562, 2], [134, 1470, 734, 1346, 25, 5, 352, 2], [210, 29, 5, 866, 475, 7, 531, 2], [40, 1842, 473, 1127, 31, 341, 2], [135, 14, 4, 1442, 463, 2]]\n"
     ]
    }
   ],
   "source": [
    "#단어집합 크기 2000\n",
    "tar_vocab = 2000\n",
    "tar_tokenizer = Tokenizer(num_words=tar_vocab) \n",
    "tar_tokenizer.fit_on_texts(decoder_input_train)\n",
    "tar_tokenizer.fit_on_texts(decoder_target_train)\n",
    "\n",
    "# 텍스트 시퀀스를 정수 시퀀스로 변환\n",
    "decoder_input_train = tar_tokenizer.texts_to_sequences(decoder_input_train) \n",
    "decoder_target_train = tar_tokenizer.texts_to_sequences(decoder_target_train)\n",
    "decoder_input_test = tar_tokenizer.texts_to_sequences(decoder_input_test)\n",
    "decoder_target_test = tar_tokenizer.texts_to_sequences(decoder_target_test)\n",
    "\n",
    "# 잘 변환되었는지 확인\n",
    "print('input')\n",
    "print('input ',decoder_input_train[:5])\n",
    "print('target')\n",
    "print('decoder ',decoder_target_train[:5])"
   ]
  },
  {
   "cell_type": "markdown",
   "id": "d7ff3cba",
   "metadata": {},
   "source": [
    "<b>빈도수 낮은 단어 삭제 후 empty된 샘플 삭제</b>  \n",
    "decoder_input에는 sostoken, decoder_target에는 eostoken만 남아 있기 때문에 길이가 1로 나올 것임  \n",
    "훈련 데이터와 테스트 데이터에 대해서 요약문의 길이가 1인 경우의 인덱스를 각각 drop_train, drop_test 변수에 저장, 이 샘플들은 모두 삭제  \n",
    "  "
   ]
  },
  {
   "cell_type": "code",
   "execution_count": 31,
   "id": "b7f4590d",
   "metadata": {},
   "outputs": [
    {
     "name": "stdout",
     "output_type": "stream",
     "text": [
      "삭제할 훈련 데이터의 개수 : 10\n",
      "삭제할 테스트 데이터의 개수 : 3\n",
      "훈련 데이터의 개수 : 78678\n",
      "훈련 레이블의 개수 : 78678\n",
      "테스트 데이터의 개수 : 19669\n",
      "테스트 레이블의 개수 : 19669\n"
     ]
    }
   ],
   "source": [
    "drop_train = [index for index, sentence in enumerate(decoder_input_train) if len(sentence) == 1]\n",
    "drop_test = [index for index, sentence in enumerate(decoder_input_test) if len(sentence) == 1]\n",
    "\n",
    "print('삭제할 훈련 데이터의 개수 :', len(drop_train))\n",
    "print('삭제할 테스트 데이터의 개수 :', len(drop_test))\n",
    "\n",
    "encoder_input_train = [sentence for index, sentence in enumerate(encoder_input_train) if index not in drop_train]\n",
    "decoder_input_train = [sentence for index, sentence in enumerate(decoder_input_train) if index not in drop_train]\n",
    "decoder_target_train = [sentence for index, sentence in enumerate(decoder_target_train) if index not in drop_train]\n",
    "\n",
    "encoder_input_test = [sentence for index, sentence in enumerate(encoder_input_test) if index not in drop_test]\n",
    "decoder_input_test = [sentence for index, sentence in enumerate(decoder_input_test) if index not in drop_test]\n",
    "decoder_target_test = [sentence for index, sentence in enumerate(decoder_target_test) if index not in drop_test]\n",
    "\n",
    "print('훈련 데이터의 개수 :', len(encoder_input_train))\n",
    "print('훈련 레이블의 개수 :', len(decoder_input_train))\n",
    "print('테스트 데이터의 개수 :', len(encoder_input_test))\n",
    "print('테스트 레이블의 개수 :', len(decoder_input_test))"
   ]
  },
  {
   "cell_type": "markdown",
   "id": "2072ec57",
   "metadata": {},
   "source": [
    "<b>padding</b>  \n",
    "padding은 post로 설정  "
   ]
  },
  {
   "cell_type": "code",
   "execution_count": 32,
   "id": "b0de2b6d",
   "metadata": {},
   "outputs": [],
   "source": [
    "encoder_input_train = pad_sequences(encoder_input_train, maxlen=text_max_len, padding='post')\n",
    "encoder_input_test = pad_sequences(encoder_input_test, maxlen=text_max_len, padding='post')\n",
    "decoder_input_train = pad_sequences(decoder_input_train, maxlen=headlines_max_len, padding='post')\n",
    "decoder_target_train = pad_sequences(decoder_target_train, maxlen=headlines_max_len, padding='post')\n",
    "decoder_input_test = pad_sequences(decoder_input_test, maxlen=headlines_max_len, padding='post')\n",
    "decoder_target_test = pad_sequences(decoder_target_test, maxlen=headlines_max_len, padding='post')"
   ]
  },
  {
   "cell_type": "markdown",
   "id": "e0c1fe3c",
   "metadata": {},
   "source": [
    "### Attention 메커니즘을 사용한 seq2seq 모델 설계  \n",
    "Bahdanau 스타일의 Attention 메커니즘 설계  \n",
    "embedding dimension은 128로 설정, hidden_size=256으로 LSTM의 용량의 크기를 정했음  \n",
    "  \n",
    "<b>step1. encoder 모델 설계</b>  \n",
    "encoder 모델은 크게 input을 입력받는 부분과 임베딩층 그리고 3층의 LSTM층으로 구성  \n",
    "input은 위에서 설정한 text의 최대 길이를 인자로 받음  \n",
    "encoder의 embedding layer는 src_vocan과 embedding_dim을 인자로 받음  \n",
    "encoder 모델 설계시 3개층 LSTM 설계(dropout layer와 recurrent dropout 모두 설정)  \n",
    "recurrent dropout은 dropout을 레이어가 아닌 time step마다 해주는 방식, time step의 입력을 랜덤하게 생략해 준다. regularization 효과 있고 과적합을 방지한다.  \n",
    "recurrent dropout을 사용시 cuDNN을 사용할 수 없어서 recurrent dropout을 사용하지 않을 때보다 학습 시간이 오래 걸리고 warning이 뜬다\n",
    "  \n",
    "<b>step2. decoder 모델 설계</b>  \n",
    "decoder 모델도 마찬가지로 input을 받는 부분, 임베딩층, 1층의 lstm 그리고 output으로 나뉜다.  \n",
    "embeddin layer는 인자로 tar_vocab, embedding_dim를 받음  \n",
    "lstm은 encoder와 마찬가지로 dropout과 recurrent dropout 모두 설정  \n",
    "decoder 출력층 설계시 decoder_lstm의 입력 설정시 initial_state 인자 값으로 hidden state와 cell state 값 넣어줘야한다.  \n",
    "  \n",
    "<b>step3. attention층을 만들어 decoder층 수정한다.</b>  \n",
    "attention layer와 concatenate layer, dense layer로 구성됨  \n",
    "attention layer는 어텐션 함수 정의  \n",
    "concatenate layer는 decoder_outputs와 attn_out를 연결  \n",
    "dense layer는 softmax를 활성화 함수로 정의  "
   ]
  },
  {
   "cell_type": "code",
   "execution_count": 35,
   "id": "b985fb83",
   "metadata": {},
   "outputs": [
    {
     "name": "stdout",
     "output_type": "stream",
     "text": [
      "WARNING:tensorflow:Layer lstm will not use cuDNN kernels since it doesn't meet the criteria. It will use a generic GPU kernel as fallback when running on GPU.\n",
      "WARNING:tensorflow:Layer lstm_1 will not use cuDNN kernels since it doesn't meet the criteria. It will use a generic GPU kernel as fallback when running on GPU.\n",
      "WARNING:tensorflow:Layer lstm_2 will not use cuDNN kernels since it doesn't meet the criteria. It will use a generic GPU kernel as fallback when running on GPU.\n"
     ]
    }
   ],
   "source": [
    "#함수형 API로 모델 설계\n",
    "from tensorflow.keras.layers import Input, LSTM, Embedding, Dense, Concatenate, TimeDistributed\n",
    "from tensorflow.keras.models import Model\n",
    "from tensorflow.keras.callbacks import EarlyStopping, ModelCheckpoint\n",
    "\n",
    "\n",
    "# 인코더 설계 시작\n",
    "embedding_dim = 128\n",
    "hidden_size = 256\n",
    "\n",
    "# 인코더\n",
    "encoder_inputs = Input(shape=(text_max_len,))\n",
    "\n",
    "# 인코더의 임베딩 층\n",
    "enc_emb = Embedding(src_vocab, embedding_dim)(encoder_inputs)\n",
    "\n",
    "# 인코더의 LSTM 1\n",
    "encoder_lstm1 = LSTM(hidden_size, return_sequences=True, return_state=True ,dropout = 0.4, recurrent_dropout = 0.4)\n",
    "encoder_output1, state_h1, state_c1 = encoder_lstm1(enc_emb)\n",
    "\n",
    "# 인코더의 LSTM 2\n",
    "encoder_lstm2 = LSTM(hidden_size, return_sequences=True, return_state=True, dropout=0.4, recurrent_dropout=0.4)\n",
    "encoder_output2, state_h2, state_c2 = encoder_lstm2(encoder_output1)\n",
    "\n",
    "# 인코더의 LSTM 3\n",
    "encoder_lstm3 = LSTM(hidden_size, return_state=True, return_sequences=True, dropout=0.4, recurrent_dropout=0.4)\n",
    "encoder_outputs, state_h, state_c= encoder_lstm3(encoder_output2)"
   ]
  },
  {
   "cell_type": "code",
   "execution_count": 36,
   "id": "e4cf4a59",
   "metadata": {},
   "outputs": [
    {
     "name": "stdout",
     "output_type": "stream",
     "text": [
      "WARNING:tensorflow:Layer lstm_3 will not use cuDNN kernels since it doesn't meet the criteria. It will use a generic GPU kernel as fallback when running on GPU.\n"
     ]
    }
   ],
   "source": [
    "# 디코더 설계\n",
    "decoder_inputs = Input(shape=(None,))\n",
    "\n",
    "# 디코더의 임베딩 층\n",
    "dec_emb_layer = Embedding(tar_vocab, embedding_dim)\n",
    "dec_emb = dec_emb_layer(decoder_inputs)\n",
    "\n",
    "# 디코더의 LSTM\n",
    "decoder_lstm = LSTM(hidden_size, return_sequences=True, return_state=True, dropout=0.4, recurrent_dropout=0.2)\n",
    "decoder_outputs, _, _ = decoder_lstm(dec_emb, initial_state=[state_h, state_c])"
   ]
  },
  {
   "cell_type": "code",
   "execution_count": 37,
   "id": "1cc77a44",
   "metadata": {},
   "outputs": [
    {
     "name": "stdout",
     "output_type": "stream",
     "text": [
      "Model: \"model\"\n",
      "__________________________________________________________________________________________________\n",
      "Layer (type)                    Output Shape         Param #     Connected to                     \n",
      "==================================================================================================\n",
      "input_1 (InputLayer)            [(None, 60)]         0                                            \n",
      "__________________________________________________________________________________________________\n",
      "embedding (Embedding)           (None, 60, 128)      1024000     input_1[0][0]                    \n",
      "__________________________________________________________________________________________________\n",
      "lstm (LSTM)                     [(None, 60, 256), (N 394240      embedding[0][0]                  \n",
      "__________________________________________________________________________________________________\n",
      "input_2 (InputLayer)            [(None, None)]       0                                            \n",
      "__________________________________________________________________________________________________\n",
      "lstm_1 (LSTM)                   [(None, 60, 256), (N 525312      lstm[0][0]                       \n",
      "__________________________________________________________________________________________________\n",
      "embedding_1 (Embedding)         (None, None, 128)    256000      input_2[0][0]                    \n",
      "__________________________________________________________________________________________________\n",
      "lstm_2 (LSTM)                   [(None, 60, 256), (N 525312      lstm_1[0][0]                     \n",
      "__________________________________________________________________________________________________\n",
      "lstm_3 (LSTM)                   [(None, None, 256),  394240      embedding_1[0][0]                \n",
      "                                                                 lstm_2[0][1]                     \n",
      "                                                                 lstm_2[0][2]                     \n",
      "__________________________________________________________________________________________________\n",
      "attention_layer (AdditiveAttent (None, None, 256)    256         lstm_3[0][0]                     \n",
      "                                                                 lstm_2[0][0]                     \n",
      "__________________________________________________________________________________________________\n",
      "concat_layer (Concatenate)      (None, None, 512)    0           lstm_3[0][0]                     \n",
      "                                                                 attention_layer[0][0]            \n",
      "__________________________________________________________________________________________________\n",
      "dense (Dense)                   (None, None, 2000)   1026000     concat_layer[0][0]               \n",
      "==================================================================================================\n",
      "Total params: 4,145,360\n",
      "Trainable params: 4,145,360\n",
      "Non-trainable params: 0\n",
      "__________________________________________________________________________________________________\n"
     ]
    }
   ],
   "source": [
    "#어텐션 층을 만들고 위에서 설계한 디코더의 출력층을 수정 \n",
    "from tensorflow.keras.layers import AdditiveAttention\n",
    "\n",
    "# 어텐션 층(어텐션 함수)\n",
    "attn_layer = AdditiveAttention(name='attention_layer')\n",
    "\n",
    "# 인코더와 디코더의 모든 time step의 hidden state를 어텐션 층에 전달하고 결과를 리턴\n",
    "attn_out = attn_layer([decoder_outputs, encoder_outputs])\n",
    "\n",
    "\n",
    "# 어텐션의 결과와 디코더의 hidden state들을 연결\n",
    "decoder_concat_input = Concatenate(axis=-1, name='concat_layer')([decoder_outputs, attn_out])\n",
    "\n",
    "# 디코더의 출력층\n",
    "decoder_softmax_layer = Dense(tar_vocab, activation='softmax')\n",
    "decoder_softmax_outputs = decoder_softmax_layer(decoder_concat_input)\n",
    "\n",
    "# 모델 정의\n",
    "model = Model([encoder_inputs, decoder_inputs], decoder_softmax_outputs)\n",
    "model.summary()"
   ]
  },
  {
   "cell_type": "markdown",
   "id": "7841a08a",
   "metadata": {},
   "source": [
    "### 모델 훈련  \n",
    "optimizer: RMSprop  \n",
    "loss:sparse_categorical_crossentropy  \n",
    "earlystopping 적용, monitor에 val_loss 인자로 넘겨줌  \n",
    "val_loss:검증 데이터의 손실이 줄어들지 않고 증가하는 현상이 2회 관측되면 학습 멈추도록 설정  \n",
    "총 50 epochs  "
   ]
  },
  {
   "cell_type": "code",
   "execution_count": 38,
   "id": "dde005a3",
   "metadata": {},
   "outputs": [
    {
     "name": "stdout",
     "output_type": "stream",
     "text": [
      "Epoch 1/50\n",
      "308/308 [==============================] - 263s 802ms/step - loss: 2.9480 - val_loss: 2.7042\n",
      "Epoch 2/50\n",
      "308/308 [==============================] - 244s 794ms/step - loss: 2.5586 - val_loss: 2.4387\n",
      "Epoch 3/50\n",
      "308/308 [==============================] - 240s 781ms/step - loss: 2.3626 - val_loss: 2.3059\n",
      "Epoch 4/50\n",
      "308/308 [==============================] - 240s 778ms/step - loss: 2.2279 - val_loss: 2.1950\n",
      "Epoch 5/50\n",
      "308/308 [==============================] - 239s 777ms/step - loss: 2.1231 - val_loss: 2.1088\n",
      "Epoch 6/50\n",
      "308/308 [==============================] - 239s 776ms/step - loss: 2.0376 - val_loss: 2.0557\n",
      "Epoch 7/50\n",
      "308/308 [==============================] - 239s 776ms/step - loss: 1.9672 - val_loss: 2.0039\n",
      "Epoch 8/50\n",
      "308/308 [==============================] - 240s 779ms/step - loss: 1.9070 - val_loss: 1.9611\n",
      "Epoch 9/50\n",
      "308/308 [==============================] - 239s 775ms/step - loss: 1.8556 - val_loss: 1.9267\n",
      "Epoch 10/50\n",
      "308/308 [==============================] - 238s 773ms/step - loss: 1.8104 - val_loss: 1.9022\n",
      "Epoch 11/50\n",
      "308/308 [==============================] - 238s 773ms/step - loss: 1.7702 - val_loss: 1.8839\n",
      "Epoch 12/50\n",
      "308/308 [==============================] - 239s 775ms/step - loss: 1.7340 - val_loss: 1.8651\n",
      "Epoch 13/50\n",
      "308/308 [==============================] - 239s 775ms/step - loss: 1.7001 - val_loss: 1.8442\n",
      "Epoch 14/50\n",
      "308/308 [==============================] - 239s 775ms/step - loss: 1.6700 - val_loss: 1.8371\n",
      "Epoch 15/50\n",
      "308/308 [==============================] - 239s 775ms/step - loss: 1.6424 - val_loss: 1.8239\n",
      "Epoch 16/50\n",
      "308/308 [==============================] - 239s 775ms/step - loss: 1.6162 - val_loss: 1.8106\n",
      "Epoch 17/50\n",
      "308/308 [==============================] - 238s 774ms/step - loss: 1.5920 - val_loss: 1.8061\n",
      "Epoch 18/50\n",
      "308/308 [==============================] - 238s 772ms/step - loss: 1.5693 - val_loss: 1.7995\n",
      "Epoch 19/50\n",
      "308/308 [==============================] - 238s 774ms/step - loss: 1.5484 - val_loss: 1.7878\n",
      "Epoch 20/50\n",
      "308/308 [==============================] - 238s 774ms/step - loss: 1.5288 - val_loss: 1.7864\n",
      "Epoch 21/50\n",
      "308/308 [==============================] - 239s 775ms/step - loss: 1.5106 - val_loss: 1.7811\n",
      "Epoch 22/50\n",
      "308/308 [==============================] - 238s 773ms/step - loss: 1.4926 - val_loss: 1.7789\n",
      "Epoch 23/50\n",
      "308/308 [==============================] - 238s 773ms/step - loss: 1.4768 - val_loss: 1.7774\n",
      "Epoch 24/50\n",
      "308/308 [==============================] - 238s 772ms/step - loss: 1.4605 - val_loss: 1.7770\n",
      "Epoch 25/50\n",
      "308/308 [==============================] - 239s 777ms/step - loss: 1.4455 - val_loss: 1.7731\n",
      "Epoch 26/50\n",
      "308/308 [==============================] - 240s 778ms/step - loss: 1.4309 - val_loss: 1.7728\n",
      "Epoch 27/50\n",
      "308/308 [==============================] - 240s 778ms/step - loss: 1.4185 - val_loss: 1.7696\n",
      "Epoch 28/50\n",
      "308/308 [==============================] - 239s 777ms/step - loss: 1.4051 - val_loss: 1.7664\n",
      "Epoch 29/50\n",
      "308/308 [==============================] - 239s 777ms/step - loss: 1.3927 - val_loss: 1.7685\n",
      "Epoch 30/50\n",
      "308/308 [==============================] - 239s 777ms/step - loss: 1.3816 - val_loss: 1.7715\n",
      "Epoch 00030: early stopping\n"
     ]
    }
   ],
   "source": [
    "model.compile(optimizer='rmsprop', loss='sparse_categorical_crossentropy')\n",
    "es = EarlyStopping(monitor='val_loss', patience=2, verbose=1)\n",
    "history = model.fit(x=[encoder_input_train, decoder_input_train], y=decoder_target_train, \\\n",
    "          validation_data=([encoder_input_test, decoder_input_test], decoder_target_test), \\\n",
    "          batch_size=256, callbacks=[es], epochs=50)"
   ]
  },
  {
   "cell_type": "markdown",
   "id": "a4040a88",
   "metadata": {},
   "source": [
    "#### 훈련 데이터의 손실과 검증 데이터의 손실이 줄어드는 과정 시각화  \n",
    "30 epoch 일 때 학습 멈춤 "
   ]
  },
  {
   "cell_type": "code",
   "execution_count": 39,
   "id": "19735a19",
   "metadata": {},
   "outputs": [
    {
     "data": {
      "image/png": "[encoded data removed]",
      "text/plain": [
       "<Figure size 432x288 with 1 Axes>"
      ]
     },
     "metadata": {
      "needs_background": "light"
     },
     "output_type": "display_data"
    }
   ],
   "source": [
    "plt.plot(history.history['loss'], label='train')\n",
    "plt.plot(history.history['val_loss'], label='test')\n",
    "plt.legend()\n",
    "plt.show()"
   ]
  },
  {
   "cell_type": "markdown",
   "id": "d3264598",
   "metadata": {},
   "source": [
    "### 테스트 단계(인퍼런스 모델 구현)  \n",
    "테스트 단계에서 정수 인덱스를 실제 데이터로 복원해야함  \n",
    "step1. 3개의 사전 준비    \n",
    "step2. 인퍼런스를 위한 모델을 별도로 설계  \n",
    "-encoder model, decoder model 분리해서 설계  \n",
    "step3. 단어 시퀀스를 완성하는 함수  \n",
    "step4. 모델 테스트 "
   ]
  },
  {
   "cell_type": "markdown",
   "id": "82f851f9",
   "metadata": {},
   "source": [
    "<b>step1. 3개의 사전 준비</b>  \n",
    "1. src_index_to_word:원문 단어 집합에서 정수로부터 단어를 얻음  \n",
    "2. tar_word_to_index:headlines 단어 집합에서 단어로부터 정수를 얻음  \n",
    "3. tar_index_to_word:headlines 단어 집합에서 정수로부터 단어를 얻음  "
   ]
  },
  {
   "cell_type": "code",
   "execution_count": 48,
   "id": "1b238f0c",
   "metadata": {},
   "outputs": [],
   "source": [
    "src_index_to_word = src_tokenizer.index_word # 원문 단어 집합에서 정수 -> 단어를 얻음\n",
    "tar_word_to_index = tar_tokenizer.word_index # 요약 단어 집합에서 단어 -> 정수를 얻음\n",
    "tar_index_to_word = tar_tokenizer.index_word # 요약 단어 집합에서 정수 -> 단어를 얻음"
   ]
  },
  {
   "cell_type": "markdown",
   "id": "35ba4432",
   "metadata": {},
   "source": [
    "<b>step2. encoder 설계</b>"
   ]
  },
  {
   "cell_type": "code",
   "execution_count": 49,
   "id": "96ab8729",
   "metadata": {},
   "outputs": [],
   "source": [
    "# 인코더 설계\n",
    "encoder_model = Model(inputs=encoder_inputs, outputs=[encoder_outputs, state_h, state_c])\n",
    "\n",
    "# 이전 시점의 상태들을 저장하는 텐서\n",
    "decoder_state_input_h = Input(shape=(hidden_size,))\n",
    "decoder_state_input_c = Input(shape=(hidden_size,))\n",
    "\n",
    "dec_emb2 = dec_emb_layer(decoder_inputs)\n",
    "\n",
    "# 문장의 다음 단어를 예측하기 위해서 초기 상태(initial_state)를 이전 시점의 상태로 사용. 이는 뒤의 함수 decode_sequence()에 구현\n",
    "# 훈련 과정에서와 달리 LSTM의 리턴하는 은닉 상태와 셀 상태인 state_h와 state_c를 버리지 않음.\n",
    "decoder_outputs2, state_h2, state_c2 = decoder_lstm(dec_emb2, initial_state=[decoder_state_input_h, decoder_state_input_c])\n"
   ]
  },
  {
   "cell_type": "markdown",
   "id": "c325de73",
   "metadata": {},
   "source": [
    "<b>step3. decoder 설계</b>"
   ]
  },
  {
   "cell_type": "code",
   "execution_count": 50,
   "id": "f4217154",
   "metadata": {},
   "outputs": [],
   "source": [
    "# 어텐션 함수\n",
    "decoder_hidden_state_input = Input(shape=(text_max_len, hidden_size))\n",
    "attn_out_inf = attn_layer([decoder_outputs2, decoder_hidden_state_input])\n",
    "decoder_inf_concat = Concatenate(axis=-1, name='concat')([decoder_outputs2, attn_out_inf])\n",
    "\n",
    "# 디코더의 출력층\n",
    "decoder_outputs2 = decoder_softmax_layer(decoder_inf_concat) \n",
    "\n",
    "# 최종 디코더 모델\n",
    "decoder_model = Model(\n",
    "    [decoder_inputs] + [decoder_hidden_state_input,decoder_state_input_h, decoder_state_input_c],\n",
    "    [decoder_outputs2] + [state_h2, state_c2])\n"
   ]
  },
  {
   "cell_type": "markdown",
   "id": "ef1c4742",
   "metadata": {},
   "source": [
    "<b>step4. 단어 시퀀스를 완성하는 함수</b>"
   ]
  },
  {
   "cell_type": "code",
   "execution_count": 56,
   "id": "7dfdd1ba",
   "metadata": {},
   "outputs": [],
   "source": [
    "def decode_sequence(input_seq):\n",
    "    # 입력으로부터 인코더의 상태를 얻음\n",
    "    e_out, e_h, e_c = encoder_model.predict(input_seq)\n",
    "\n",
    "     # <SOS>에 해당하는 토큰 생성\n",
    "    target_seq = np.zeros((1,1))\n",
    "    target_seq[0, 0] = tar_word_to_index['sostoken']\n",
    "\n",
    "    stop_condition = False\n",
    "    decoded_sentence = ''\n",
    "    while not stop_condition: # stop_condition이 True가 될 때까지 루프 반복\n",
    "\n",
    "        output_tokens, h, c = decoder_model.predict([target_seq] + [e_out, e_h, e_c])\n",
    "        sampled_token_index = np.argmax(output_tokens[0, -1, :])\n",
    "        sampled_token = tar_index_to_word[sampled_token_index]\n",
    "\n",
    "        if (sampled_token!='eostoken'):\n",
    "            decoded_sentence += ' '+sampled_token\n",
    "\n",
    "        #  <eos>에 도달하거나 최대 길이를 넘으면 중단.\n",
    "        if (sampled_token == 'eostoken'  or len(decoded_sentence.split()) >= (headlines_max_len-1)):\n",
    "            stop_condition = True\n",
    "\n",
    "        # 길이가 1인 타겟 시퀀스를 업데이트\n",
    "        target_seq = np.zeros((1,1))\n",
    "        target_seq[0, 0] = sampled_token_index\n",
    "\n",
    "        # 상태를 업데이트 합니다.\n",
    "        e_h, e_c = h, c\n",
    "\n",
    "    return decoded_sentence"
   ]
  },
  {
   "cell_type": "markdown",
   "id": "67063a8c",
   "metadata": {},
   "source": [
    "<b>text와 headlines의 정수 시퀀스를 텍스트 시퀀스로 변환</b>  \n",
    "seq2text함수: text의 경우 padding인 0을 제외  \n",
    "seq2headline함수: headlines의 padding인 0과 sostoken(시작토큰), eostoken(종료토큰) 제외"
   ]
  },
  {
   "cell_type": "code",
   "execution_count": 57,
   "id": "6b653598",
   "metadata": {},
   "outputs": [],
   "source": [
    "# 원문의 정수 시퀀스를 텍스트 시퀀스로 변환\n",
    "def seq2text(input_seq):\n",
    "    temp=''\n",
    "    for i in input_seq:\n",
    "        if (i!=0):\n",
    "            temp = temp + src_index_to_word[i]+' '\n",
    "    return temp\n",
    "\n",
    "# 요약문의 정수 시퀀스를 텍스트 시퀀스로 변환\n",
    "def seq2headline(input_seq):\n",
    "    temp=''\n",
    "    for i in input_seq:\n",
    "        if ((i!=0 and i!=tar_word_to_index['sostoken']) and i!=tar_word_to_index['eostoken']):\n",
    "            temp = temp + tar_index_to_word[i] + ' '\n",
    "    return temp"
   ]
  },
  {
   "cell_type": "markdown",
   "id": "040089a5",
   "metadata": {},
   "source": [
    "<b>테스트 데이터 약50개의 샘플에 대해 실제 요약과 예측된요약 비교</b>  "
   ]
  },
  {
   "cell_type": "code",
   "execution_count": 58,
   "id": "867b43d2",
   "metadata": {},
   "outputs": [
    {
     "name": "stdout",
     "output_type": "stream",
     "text": [
      "원문 : rajkummar rao talking film newton india official entry oscars said wants film break country dry spell oscars campaign trying level best hoping best added rajkummar newton compete films foreign language film category oscars \n",
      "실제 요약 : want to break india at rajkummar \n",
      "예측 요약 :  rajkummar rao on india entry into\n",
      "\n",
      "\n",
      "원문 : supreme court tuesday suggested establishment fast track courts trials corrupt mps mlas comes probe income tax department revealed substantial increases assets mps mlas court said inquiry conducted ascertain reason behind increase wealth lawmakers \n",
      "실제 요약 : sc fast track for \n",
      "예측 요약 :  sc to review assets of mlas in days\n",
      "\n",
      "\n",
      "원문 : seven people including year old child killed cylinder blast caused part factory building collapse delhi nagar wednesday said police eight others trapped inside rescued taken hospital delhi fire service said building owner obtained objection certificate fire safety place \n",
      "실제 요약 : killed after blast factory to collapse in delhi \n",
      "예측 요약 :  killed injured in blast at factory factory in delhi\n",
      "\n",
      "\n",
      "원문 : google announced new feature chrome browser would allow users access web without constant internet connection android devices update automatically download articles recommended users based interests location feature rolled countries limited access data including india nigeria indonesia brazil \n",
      "실제 요약 : google to let users the web without internet \n",
      "예측 요약 :  google rolls out feature to let users search pictures\n",
      "\n",
      "\n",
      "원문 : bombay high court thursday ordered protesting doctors resume duties give time government providing security ordered action taken protesting doctors duties government provide security government hospitals doctors work without fear court added \n",
      "실제 요약 : bombay hc orders doctors to work \n",
      "예측 요약 :  hc orders of doctors in strike\n",
      "\n",
      "\n",
      "원문 : following neymar world record move psg barcelona many barcelona football fans burned bearing name number year old forward many barcelona fans commented neymar snake ran money fans said would even go far buy new neymar shirt burn upon purchase \n",
      "실제 요약 : fans bar after world record move \n",
      "예측 요약 :  fans troll fans with fans\n",
      "\n",
      "\n",
      "원문 : traders body urged commerce minister suresh prabhu probe amazon capital acquisition billionaire kumar birla supermarket chain claims deal revised policy commerce wants stay deal till probe conducted comes approved acquisition friday \n",
      "실제 요약 : urges to probe amazon more deal \n",
      "예측 요약 :  amazon billionaire to be billionaire\n",
      "\n",
      "\n",
      "원문 : india muslim sunday wrote president ram nath kovind seeking intervention ayodhya situation thousands hindu activists leaders gathered sabha peace loving muslim community twin cities ayodhya name ram mandir letter read \n",
      "실제 요약 : muslim body seeks prez in ayodhya \n",
      "예측 요약 :  muslim temple should not be in ayodhya\n",
      "\n",
      "\n",
      "원문 : world fourth richest person warren buffett said buying bitcoin investment buy something like bitcoin cryptocurrency really anything produced anything hoping next guy billionaire added buffett earlier said cryptocurrencies come bad ending \n",
      "실제 요약 : bitcoin not investment billionaire \n",
      "예측 요약 :  bitcoin is not real idea\n",
      "\n",
      "\n",
      "원문 : television actress starred revealed abusive relationship man entertainment industry called time abusive physically would get even front friends added said confidence took beating due relationship \n",
      "실제 요약 : ex boyfriend used to beat me in front of my friends actress \n",
      "예측 요약 :  was told to be called man actress\n",
      "\n",
      "\n",
      "원문 : alia bhatt said gets uncomfortable people praising work start comparing actresses like nargis sort changes thought process never allow thoughts come mind added alia said parents always kept grounded \n",
      "실제 요약 : when to alia \n",
      "예측 요약 :  alia bhatt says alia bhatt\n",
      "\n",
      "\n",
      "원문 : rcb batsman ab de villiers smashed biggest six ipl sending csk leg spinner imran delivery distance metres bengaluru stadium wednesday de villiers cleared roof six went smash eight sixes run knock year old hit sixes season \n",
      "실제 요약 : slams to record ipl biggest six \n",
      "예측 요약 :  de to rcb rcb rcb catch\n",
      "\n",
      "\n",
      "원문 : student allegedly raped inside premises government college rajasthan sunday first information report registered accused student private college currently absconding room alleged crime took place sealed cops investigating matter \n",
      "실제 요약 : student raped inside govt college in rajasthan \n",
      "예측 요약 :  raped in rajasthan school in rajasthan\n",
      "\n",
      "\n",
      "원문 : american owner died last month election state tuesday officials said replacement candidate party appointed seat christian backed republican candidate nicknamed trump town lived \n",
      "실제 요약 : owner wins election in us month after his death \n",
      "예측 요약 :  dies aged aged\n",
      "\n",
      "\n",
      "원문 : according reports actress aishwarya rai star opposite actor anil kapoor years upcoming film film titled khan produced directed debutant musical comedy said inspired oscar nominated everybody famous \n",
      "실제 요약 : aishwarya to star with anil in film after years report \n",
      "예측 요약 :  aishwarya to star in anil kapoor film reports\n",
      "\n",
      "\n",
      "원문 : nasa funded researchers florida university developing astronauts would monitor environment keep happy space smart skin happy suit would use wireless sensors monitor blood pressure temperature light exposure light colour oxygen levels reducing stress \n",
      "실제 요약 : nasa funding happy to keep free \n",
      "예측 요약 :  scientists develop to help\n",
      "\n",
      "\n",
      "원문 : indian government friday rejected motion passed canadian province legislative assembly described anti sikh riots motion based limited understanding india constitution society rule law judicial process ministry external affairs spokesperson gopal said \n",
      "실제 요약 : india rejects move to riots as \n",
      "예측 요약 :  rejects plea against anti sikh riots\n",
      "\n",
      "\n",
      "원문 : kkr handed rcb fifth loss ipl despite rcb captain virat kohli slamming unbeaten balls rcb lost second matches indian premier league history kkr rounder became second player ul haq register golden duck birthday ipl \n",
      "실제 요약 : rcb lose match of ipl despite kohli \n",
      "예측 요약 :  rcb defeat rcb to win ipl win over rcb\n",
      "\n",
      "\n",
      "원문 : plastic us army centre successfully new ear year old soldier lost left ear car accident two years ago total ear first kind army involved patient ear placed skin grow \n",
      "실제 요약 : from on her arm \n",
      "예측 요약 :  us air force drug dies after falling off\n",
      "\n",
      "\n",
      "원문 : prime minister narendra modi currently russia met american journalist kelly news referring recent tweet said saw tweet replying pm comment kelly asked twitter modi said yes video incident surfaced various social media platforms \n",
      "실제 요약 : journalist asks modi are you on twitter \n",
      "예측 요약 :  pm modi meets journalist who called him during\n",
      "\n",
      "\n",
      "원문 : building constructed italian city undergo multi million dollar open public first time years expected open host events like previously politicians served headquarters insurance company years \n",
      "실제 요약 : to open to public for st time in years \n",
      "예측 요약 :  to be world largest tourist in\n",
      "\n",
      "\n",
      "원문 : speaking marriage actor ranveer singh actress deepika padukone said exciting see life change added think way excited signing next film marriage definitely something looked forward life would girl actress said \n",
      "실제 요약 : am do not think my life will change deepika on marriage \n",
      "예측 요약 :  deepika and have right to ranveer deepika\n",
      "\n",
      "\n",
      "원문 : india pakistan asia cup match sunday rohit sharma shikhar dhawan shared opening partnership runs set record highest opening partnership india pakistan odi cricket duo broke previous record runs set sachin tendulkar sourav ganguly january \n",
      "실제 요약 : rohit dhawan share run stand vs pak break year old record \n",
      "예측 요약 :  india record of most odi series\n",
      "\n",
      "\n",
      "원문 : fir filed bigg boss khan son law underworld dawood ibrahim sister said member dawood family added fraud misusing dawood title publicity said woman claims married already married businessman \n",
      "실제 요약 : bigg boss he is kin family \n",
      "예측 요약 :  fir against son for son\n",
      "\n",
      "\n",
      "원문 : three day visit poll bound gujarat congress vice president rahul gandhi sunday said team people posts twitter account receiving suggestions added tweets political issues tweeted routine things birthday wishes handled team \n",
      "실제 요약 : my team tweets rahul gandhi \n",
      "예측 요약 :  twitter reacts to rahul gandhi in\n",
      "\n",
      "\n",
      "원문 : indian women hockey team missed chance winning bronze medal losing england bronze medal match commonwealth games saturday earlier india beaten england team pool match indian women team last silver medal edition \n",
      "실제 요약 : indian women hockey team cwg th \n",
      "예측 요약 :  india win silver at asian games\n",
      "\n",
      "\n",
      "원문 : spinners kuldeep yadav ravindra jadeja picked five wickets australia ended third day fourth test sydney saturday trailing india runs overs possible day rain forced early close play opener slammed second test fifty got \n",
      "실제 요약 : take wickets as aus end day at \n",
      "예측 요약 :  yadav takes wickets in day at lord\n",
      "\n",
      "\n",
      "원문 : last day rss three day organisation chief mohan bhagwat said community isolated part society times changing society take call issues bhagwat added also said constructing ram temple ayodhya end tensions hindus muslims \n",
      "실제 요약 : is part of rss chief \n",
      "예측 요약 :  rss chief calls for\n",
      "\n",
      "\n",
      "원문 : according reports actor pandey daughter pandey feature sequel film student year previously reported actor salman khan launch bollywood meanwhile reports actor saif ali khan daughter sara ali khan sridevi daughter kapoor cast film also surfaced online \n",
      "실제 요약 : daughter in student of the year report \n",
      "예측 요약 :  daughter to launch daughter in sequel report\n",
      "\n",
      "\n",
      "원문 : animated film emoji movie released friday one worst films year emoji wrote hindustan times catch news called film wrote film feels nature film rated \n",
      "실제 요약 : the movie hits the theatres \n",
      "예측 요약 :  starrer hits the theatres\n",
      "\n",
      "\n",
      "원문 : russian base set world record jumping mount feet died accident saturday year old jumped foot high mount everest region accident occurred july become first person jump highest peak \n",
      "실제 요약 : record for highest dies in the \n",
      "예측 요약 :  russian man km long tree to be built km\n",
      "\n",
      "\n",
      "원문 : indian spinner ravindra jadeja clean bowled turned ball away middle leg hit top stump offered forward shot turn ball jadeja went take five wicket haul innings eighth innings \n",
      "실제 요약 : ball on hits off to \n",
      "예측 요약 :  bowler takes catch to save six\n",
      "\n",
      "\n",
      "원문 : deep sea fish reportedly missing since scientists australian coast fish mouth located bottom hence eyes seen sides looks like two rear ends fish said lead researcher also described finding amazing \n",
      "실제 요약 : fish missing since years \n",
      "예측 요약 :  sea fish found in india\n",
      "\n",
      "\n",
      "원문 : french village replaced holy water church alcohol immediately cleaned filled traditional holy water ahead festival following day terming act joke village officials said people sense humour \n",
      "실제 요약 : replace water in french with alcohol \n",
      "예측 요약 :  french village celebrates water\n",
      "\n",
      "\n",
      "원문 : indian forest service officer death elephant forest range karnataka world wildlife day saturday senior officer gone range team trace location fire elephant attacked death cm siddaramaiah announced given state honours \n",
      "실제 요약 : officer to death by on day \n",
      "예측 요약 :  death in karnataka\n",
      "\n",
      "\n",
      "원문 : day actor naseeruddin shah said cow given importance policeman fears children india uttar pradesh sena president amit booked shah flight ticket pakistan karachi booked ticket august pakistan independence day india one less said \n",
      "실제 요약 : up books shah flight ticket to pak for \n",
      "예측 요약 :  cow should be held for shah on mumbai polls\n",
      "\n",
      "\n",
      "원문 : reacting pakistani pacer inspired former australian pacer mitchell johnson user tweeted ka mitchell johnson tweets read se johnson ban post retirement career tamil movies order something online receive third copy product \n",
      "실제 요약 : tweets user on \n",
      "예측 요약 :  twitter users to ban on\n",
      "\n",
      "\n",
      "원문 : japan defeated republic australian open women singles final saturday clinch second consecutive grand slam title year old became first ever asian tennis player achieve world number one singles ranking also became youngest female world number one since \n",
      "실제 요약 : wins australian open becomes st ever asian world no \n",
      "예측 요약 :  japan open st to win world title\n",
      "\n",
      "\n",
      "원문 : doctor run hospital andhra pradesh suspended allegedly operated wrong leg accident victim last week incident came light victim friend also doctor realised error board chairman yadav assured mistake victim family raised issue \n",
      "실제 요약 : doctor on wrong of accident victim suspended \n",
      "예측 요약 :  doctor who took to death for delay in andhra\n",
      "\n",
      "\n",
      "원문 : president thursday nominated become country first female first openly gay prime minister believe professional personal prime minister said country seat parliament president progressive party majority vote nomination next week \n",
      "실제 요약 : first female and gay prime minister \n",
      "예측 요약 :  st female president to be st female prime minister\n",
      "\n",
      "\n",
      "원문 : teacher private school uttar pradesh district booked eight year old boy died allegedly beaten police said student admitted hospital died friday fir registered saturday based complaint filed victim family member \n",
      "실제 요약 : yr old beaten up by up private school teacher dies \n",
      "예측 요약 :  teacher accused of raping minor boy in bihar\n",
      "\n",
      "\n",
      "원문 : haryana chief minister manohar lal khattar announced state sex ratio birth touched girls boys march crossing mark first time state districts registered higher sex ratio girls recording respectively haryana sex ratio crossed first time last year \n",
      "실제 요약 : haryana sex at girls to boys for first time \n",
      "예측 요약 :  haryana cm announces sex for girls girls\n",
      "\n",
      "\n",
      "원문 : uk pm theresa may suspended conservative mp described country departure european union without agreed deal real accused racism using word pm may completely unacceptable later apologised remark saying comment totally \n",
      "실제 요약 : uk pm may suspends mp over in the \n",
      "예측 요약 :  uk pm may uk mp over brexit\n",
      "\n",
      "\n",
      "원문 : talking daughter sara ali khan saif ali khan said quite young sara drink together time time like friends little lecture sense added sara making debut film kedarnath \n",
      "실제 요약 : sara and more like friends we also drink together saif \n",
      "예측 요약 :  sara is not sara on sara debut\n",
      "\n",
      "\n",
      "원문 : following india nine run loss england final women world cup actor shah rukh khan tweeted wished give lovely ladies hug amitabh bachchan also congratulated women team tweeting shall never know joy victory well played ladies \n",
      "실제 요약 : wish was there to the srk on wc final \n",
      "예측 요약 :  dhoni is the best tweets user on dhoni\n",
      "\n",
      "\n",
      "원문 : year old man battling rehabilitation centre bengaluru allegedly beaten death staff tuesday initially claimed died natural death however family noticed body final rites confronted staff confessed beaten turned violent \n",
      "실제 요약 : bengaluru staff beats to death \n",
      "예측 요약 :  man kills self after death of him\n",
      "\n",
      "\n",
      "원문 : tesla ceo elon musk taken direct control model electric production company failed meet delivery goals musk tweeted job ceo focus critical currently model production tesla making nearly cars per week compared target \n",
      "실제 요약 : musk takes over model production it most \n",
      "예측 요약 :  tesla model musk shares report\n",
      "\n",
      "\n",
      "원문 : billion views seven months luis become viewed video youtube history surpassed see become viewed video last month said breaking record happy keep others \n",
      "실제 요약 : becomes most video in youtube history \n",
      "예측 요약 :  becomes world most person\n",
      "\n",
      "\n",
      "원문 : singer sung original version ek teen said remake version starring jacqueline fernandez required even though original song item number certain present song madhuri dixit face added said either \n",
      "실제 요약 : do teen was not \n",
      "예측 요약 :  wanted to be called in song\n",
      "\n",
      "\n",
      "원문 : maharashtra government launched scheme cover medical insurance lakh sitting legislators former legislators families reportedly aimed use fake bills medical scheme legislators covered earlier insurance scheme cost state almost crore year \n",
      "실제 요약 : maharashtra announces free scheme for \n",
      "예측 요약 :  maharashtra govt launches scheme for\n",
      "\n",
      "\n"
     ]
    }
   ],
   "source": [
    "for i in range(50, 100):\n",
    "    print(\"원문 :\", seq2text(encoder_input_test[i]))\n",
    "    print(\"실제 요약 :\", seq2headline(decoder_input_test[i]))\n",
    "    print(\"예측 요약 :\", decode_sequence(encoder_input_test[i].reshape(1, text_max_len)))\n",
    "    print(\"\\n\")"
   ]
  },
  {
   "cell_type": "markdown",
   "id": "fd9b1188",
   "metadata": {},
   "source": [
    "### Discussion  \n",
    "위의 결과를 쭉 읽어봤는데 실제 요약과 예측 요약에 차이가 많이 났다.  \n",
    "예를 들어 실제 요약이 bigg boss he is kin family 이고 예측 요약이 fir against son for son인데  \n",
    "예측 요약이 단어의 어순이 문법적으로 맞지 않고 실제 요약에서 한번만 사용됐던 단어가 두번 중복되었다.  \n",
    "신문기사 제목을 보면 대강 그 기사의 내용을 예측할 수 있는데 이렇게 되면 신문 기사의 내용이 무엇일지 추측하기 어렵다.  \n",
    "모델에 많은 수정이 필요해 보인다.  \n",
    "아래는 더 나은 모델을 만드는 방안 몇 개를 수록했다.  \n",
    "  \n",
    "#### 더 나은 모델을 만드는 방법  \n",
    "1. seq2seq와 attention 조합 좀 더 좋게 수정  \n",
    "2. 빔서치(beam search)  \n",
    "3. 사전 훈련된 워드 임베딩(pre-trained word embedding)  \n",
    "4. 인코더 디코더 자체 구조를 새로인 변경한 트랜스포머(transformer)등 새로운 방안이 있음  "
   ]
  },
  {
   "cell_type": "markdown",
   "id": "24d4a20d",
   "metadata": {},
   "source": [
    "## 추출적 요약  \n",
    "summa 패키지에 있는 summarize 모듈 사용해 신문기사 추출적 요약해보기  \n",
    "summarize 모듈은 문장 토큰화를 별도로 하지 않아도 내부적으로 문장 토큰화 사용  \n",
    "  \n",
    "필요한인자  \n",
    "text (str) : 요약할 테스트  \n",
    "ratio (float, optional) – 요약문에서 원본에서 선택되는 문장 비율. 0~1 사이값  \n",
    "words (int or None, optional) – 출력에 포함할 단어 수  \n",
    "만약, ratio와 함께 두 파라미터가 모두 제공되는 경우 ratio는 무시한다  \n",
    "split (bool, optional) – True면 문장 list / False는 조인(join)된 문자열을 반환  \n",
    "  \n",
    "신문기사 데이터는 이미 위에서 데이터 전처리를 거친 data['text]와 data['headlines']를 사용  "
   ]
  },
  {
   "cell_type": "code",
   "execution_count": 13,
   "id": "e7b7d2d7",
   "metadata": {},
   "outputs": [],
   "source": [
    "from summa.summarizer import summarize"
   ]
  },
  {
   "cell_type": "code",
   "execution_count": 14,
   "id": "0a75c2bb",
   "metadata": {},
   "outputs": [],
   "source": [
    "#데이터 다시 불러오기 \n",
    "data = pd.read_csv('news_summary_more.csv', encoding='iso-8859-1')\n",
    "text2 = data['text']"
   ]
  },
  {
   "cell_type": "code",
   "execution_count": 20,
   "id": "e339edeb",
   "metadata": {},
   "outputs": [
    {
     "name": "stdout",
     "output_type": "stream",
     "text": [
      "원문 : Saurav Kant, an alumnus of upGrad and IIIT-B's PG Program in Machine learning and Artificial Intelligence, was a Sr Systems Engineer at Infosys with almost 5 years of work experience. The program and upGrad's 360-degree career support helped him transition to a Data Scientist at Tech Mahindra with 90% salary hike. upGrad's Online Power Learning has powered 3 lakh+ careers.\n",
      "실제 기사제목 : upGrad learner switches to career in ML & Al with 90% salary hike\n",
      "예측 기사제목 : The program and upGrad's 360-degree career support helped him transition to a Data Scientist at Tech Mahindra with 90% salary hike.\n",
      "upGrad's Online Power Learning has powered 3 lakh+ careers.\n",
      "\n",
      "\n",
      "원문 : Kunal Shah's credit card bill payment platform, CRED, gave users a chance to win free food from Swiggy for one year. Pranav Kaushik, a Delhi techie, bagged this reward after spending 2000 CRED coins. Users get one CRED coin per rupee of bill paid, which can be used to avail rewards from brands like Ixigo, BookMyShow, UberEats, Cult.Fit and more.\n",
      "실제 기사제목 : Delhi techie wins free food from Swiggy for one year on CRED\n",
      "예측 기사제목 : Users get one CRED coin per rupee of bill paid, which can be used to avail rewards from brands like Ixigo, BookMyShow, UberEats, Cult.Fit and more.\n",
      "\n",
      "\n",
      "원문 : New Zealand defeated India by 8 wickets in the fourth ODI at Hamilton on Thursday to win their first match of the five-match ODI series. India lost an international match under Rohit Sharma's captaincy after 12 consecutive victories dating back to March 2018. The match witnessed India getting all out for 92, their seventh lowest total in ODI cricket history.\n",
      "실제 기사제목 : New Zealand end Rohit Sharma-led India's 12-match winning streak\n",
      "예측 기사제목 : The match witnessed India getting all out for 92, their seventh lowest total in ODI cricket history.\n",
      "\n",
      "\n",
      "원문 : With Aegon Life iTerm Insurance plan, customers can enjoy tax benefits on your premiums paid and save up to Ã¢ÂÂ¹46,800^ on taxes. The plan provides life cover up to the age of 100 years. Also, customers have options to insure against Critical Illnesses, Disability and Accidental Death Benefit Rider with a life cover up to the age of 80 years.\n",
      "실제 기사제목 : Aegon life iTerm insurance plan helps customers save tax\n",
      "예측 기사제목 : Also, customers have options to insure against Critical Illnesses, Disability and Accidental Death Benefit Rider with a life cover up to the age of 80 years.\n",
      "\n",
      "\n",
      "원문 : Speaking about the sexual harassment allegations against Rajkumar Hirani, Sonam Kapoor said, \"I've known Hirani for many years...What if it's not true, the [#MeToo] movement will get derailed.\" \"In the #MeToo movement, I always believe a woman. But in this case, we need to reserve our judgment,\" she added. Hirani has been accused by an assistant who worked in 'Sanju'.\n",
      "실제 기사제목 : Have known Hirani for yrs, what if MeToo claims are not true: Sonam\n",
      "예측 기사제목 : Speaking about the sexual harassment allegations against Rajkumar Hirani, Sonam Kapoor said, \"I've known Hirani for many years...What if it's not true, the [#MeToo] movement will get derailed.\" \"In the #MeToo movement, I always believe a woman.\n",
      "\n",
      "\n",
      "원문 : Pakistani singer Rahat Fateh Ali Khan has denied receiving any notice from the Enforcement Directorate over allegedly smuggling foreign currency out of India. \"It would have been better if the authorities would have served the notice first if any and then publicised this,\" reads a press release issued on behalf of Rahat. The statement further called the allegation \"bizarre\".\n",
      "실제 기사제목 : Rahat Fateh Ali Khan denies getting notice for smuggling currency\n",
      "예측 기사제목 : Pakistani singer Rahat Fateh Ali Khan has denied receiving any notice from the Enforcement Directorate over allegedly smuggling foreign currency out of India.\n",
      "\n",
      "\n",
      "원문 : India recorded their lowest ODI total in New Zealand after getting all out for 92 runs in 30.5 overs in the fourth ODI at Hamilton on Thursday. Seven of India's batsmen were dismissed for single-digit scores, while their number ten batsman Yuzvendra Chahal top-scored with 18*(37). India's previous lowest ODI total in New Zealand was 108.\n",
      "실제 기사제목 : India get all out for 92, their lowest ODI total in New Zealand\n",
      "예측 기사제목 : India's previous lowest ODI total in New Zealand was 108.\n",
      "\n",
      "\n",
      "원문 : Weeks after ex-CBI Director Alok Verma told the Department of Personnel and Training to consider him retired, the Home Ministry asked him to join work on the last day of his fixed tenure as Director on Thursday. The ministry directed him to immediately join as DG, Fire Services, the post he was transferred to after his removal as CBI chief.\n",
      "실제 기사제목 : Govt directs Alok Verma to join work 1 day before his retirement\n",
      "예측 기사제목 : Weeks after ex-CBI Director Alok Verma told the Department of Personnel and Training to consider him retired, the Home Ministry asked him to join work on the last day of his fixed tenure as Director on Thursday.\n",
      "\n",
      "\n",
      "원문 : Andhra Pradesh CM N Chandrababu Naidu has said, \"When I met then US President Bill Clinton, I addressed him as Mr Clinton, not as 'sir'. (PM Narendra) Modi is my junior in politics...I addressed him as sir 10 times.\" \"I did this...to satisfy his ego in the hope that he will do justice to the state,\" he added.\n",
      "실제 기사제목 : Called PM Modi 'sir' 10 times to satisfy his ego: Andhra CM\n",
      "예측 기사제목 : Andhra Pradesh CM N Chandrababu Naidu has said, \"When I met then US President Bill Clinton, I addressed him as Mr Clinton, not as 'sir'.\n",
      "\n",
      "\n",
      "원문 : Congress candidate Shafia Zubair won the Ramgarh Assembly seat in Rajasthan, by defeating BJP's Sukhwant Singh with a margin of 12,228 votes in the bypoll. With this victory, Congress has taken its total to 100 seats in the 200-member assembly. The election to the Ramgarh seat was delayed due to the death of sitting MLA and BSP candidate Laxman Singh.\n",
      "실제 기사제목 : Cong wins Ramgarh bypoll in Rajasthan, takes total to 100 seats\n",
      "예측 기사제목 : Congress candidate Shafia Zubair won the Ramgarh Assembly seat in Rajasthan, by defeating BJP's Sukhwant Singh with a margin of 12,228 votes in the bypoll.\n",
      "\n",
      "\n",
      "원문 : Two minor cousins in Uttar Pradesh's Gorakhpur were allegedly repeatedly burnt with tongs and forced to eat human excreta by their family for being friends with two boys from the same school. The cousins revealed their ordeal to the police and Child Welfare Committee after being brought back to Gorakhpur from Nepal, where they had fled to escape the torture.\n",
      "실제 기사제목 : UP cousins fed human excreta for friendship with boys\n",
      "예측 기사제목 : Two minor cousins in Uttar Pradesh's Gorakhpur were allegedly repeatedly burnt with tongs and forced to eat human excreta by their family for being friends with two boys from the same school.\n",
      "\n",
      "\n",
      "원문 : Isha Ghosh, an 81-year-old member of Bharat Scouts and Guides (BSG), has been imparting physical and mental training to schoolchildren in Jharkhand for several decades. Chaibasa-based Ghosh reportedly walks seven kilometres daily and spends eight hours conducting physical training, apart from climbing and yoga sessions. She says, \"One should do something for society till one's last breath.\"\n",
      "실제 기사제목 : 81-yr-old woman conducts physical training in J'khand schools\n",
      "예측 기사제목 : Isha Ghosh, an 81-year-old member of Bharat Scouts and Guides (BSG), has been imparting physical and mental training to schoolchildren in Jharkhand for several decades.\n",
      "\n",
      "\n",
      "원문 : Urging saints and seers at the Kumbh Mela to quit smoking, Yoga guru Ramdev said, \"We follow Ram and Krishna who never smoked in their life then why should we?\" Making them take a pledge to quit tobacco, he collected chillum (clay pipe) from several sadhus. He said he will deposit the chillums for display at a museum he'll build.\n",
      "실제 기사제목 : Ram, Krishna didn't smoke, why should we: Ramdev to sadhus at Kumbh\n",
      "예측 기사제목 : \n",
      "\n",
      "\n",
      "원문 : Former stripper and regional sales director of a pharmaceutical company, Sunrise Lee, gave a doctor a lap dance in a nightclub to persuade him to prescribe an addictive fentanyl spray in 2012, the company's sales representative told a US court. She said she saw Lee \"sitting on [doctor's] lap, kind of bouncing around.\" Lee has been accused of bribing doctors.\n",
      "실제 기사제목 : Pharma exec gave doctor a lap dance to sell medicine in US: Witness\n",
      "예측 기사제목 : Former stripper and regional sales director of a pharmaceutical company, Sunrise Lee, gave a doctor a lap dance in a nightclub to persuade him to prescribe an addictive fentanyl spray in 2012, the company's sales representative told a US court.\n",
      "\n",
      "\n",
      "원문 : Reliance Industries' Chairman Mukesh Ambani's daughter Isha Ambani, who got married last month, said she only cried at her 'bidaai' because she felt peer pressure as everyone was crying, especially her parents. \"I was emotional too but everyone around me would cry all the time,\" she added. \"It was a very emotional affair for everyone in my family,\" said Isha.\n",
      "실제 기사제목 :  I only cried at my 'bidaai' as I felt peer pressure: Isha Ambani\n",
      "예측 기사제목 : \"It was a very emotional affair for everyone in my family,\" said Isha.\n",
      "\n",
      "\n",
      "원문 : Louis Vuitton owner LVMH, which makes high-end beverages like MoÃÂ«t & Chandon champagne and Hennessy cognac, said it's stockpiling four months' worth of wine and spirits in UK in preparation for Brexit. \"We're ready for worst case scenario if there are difficulties with deliveries,\" the French luxury giant said. The UK is scheduled to leave the EU on March 29.\n",
      "실제 기사제목 : Louis Vuitton owner to stockpile 4 months of wine, spirits in UK\n",
      "예측 기사제목 : Louis Vuitton owner LVMH, which makes high-end beverages like MoÃÂ«t & Chandon champagne and Hennessy cognac, said it's stockpiling four months' worth of wine and spirits in UK in preparation for Brexit.\n",
      "\n",
      "\n",
      "원문 : Filmmaker Karan Johar and actress Tabu turned showstoppers for Gaurav Gupta on the opening night of LakmÃÂ© Fashion Week Summer/ Resort 2019. While Johar wore a red sequinned jacket with black pants, Tabu walked the ramp in a grey embellished gown. The fashion show, which began on January 29, will continue till February 3.\n",
      "실제 기사제목 : Karan Johar, Tabu turn showstoppers on opening night of LFW\n",
      "예측 기사제목 : Filmmaker Karan Johar and actress Tabu turned showstoppers for Gaurav Gupta on the opening night of LakmÃÂ© Fashion Week Summer/ Resort 2019.\n",
      "\n",
      "\n",
      "원문 : In a jibe at Congress President Rahul Gandhi, PM Narendra Modi on Wednesday said those on \"bail will have to go to jail.\" PM Modi added, \"He is out on bail and his associates too are facing charges...I know they will be convicted one day.\" The PM claimed he'd waged a war on corruption because he's from a common household. \n",
      "실제 기사제목 : Those on bail will go to jail: PM Modi takes jibe at Rahul\n",
      "예측 기사제목 : \n",
      "\n",
      "\n",
      "원문 : Days after he threatened to step down from his post if Congress MLAs continue \"crossing the line,\" Karnataka Chief Minister HD Kumaraswamy accused them of taking potshots and asked, \"How many more days can I tolerate such stuff?\" Kumaraswamy, who made the statements after a Congress MLA demanded that Siddaramaiah be made CM again, said, \"Power is ephemeral.\"\n",
      "실제 기사제목 : How long can I tolerate Congress leaders' potshots: K'taka CM\n",
      "예측 기사제목 : \n",
      "\n",
      "\n",
      "원문 : Union Minister Dharmendra Pradhan on Wednesday claimed the illegal mining mafia in Odisha operates under the control of CM Naveen Patnaik and state Congress chief Niranjan Patnaik. He added, \"The time has come for the people of Odisha to put a full stop to their activities...The time has come for us to ask for an explanation from this corrupt government.\"\n",
      "실제 기사제목 : Odisha CM Patnaik controls mining mafia: Union Minister\n",
      "예측 기사제목 : Union Minister Dharmendra Pradhan on Wednesday claimed the illegal mining mafia in Odisha operates under the control of CM Naveen Patnaik and state Congress chief Niranjan Patnaik.\n",
      "\n",
      "\n",
      "원문 : Claiming there is a dearth of ideas among opposition parties, Prime Minister Narendra Modi on Wednesday said, \"The opposition talks only about Modi the whole day, I suspect they even dream about me.\" PM Modi, who was addressing the New India Youth Conclave inÃ¢ÂÂ Surat, added that the opposition parties have only one agenda which is \"Modi\". \n",
      "실제 기사제목 : I think the opposition even dreams about me: PM Modi\n",
      "예측 기사제목 : \n",
      "\n",
      "\n",
      "원문 : The Indian Space Research Organisation on Wednesday unveiled Human Space Flight Centre in Bengaluru for its Ã¢ÂÂ¹10,000-crore manned space mission 'Gaganyaan' scheduled for 2021. ISRO said the centre will be responsible for development of engineering systems for crew survival in space and crew selection and training. It'll also pursue activities for sustained human space flight missions, ISRO added.\n",
      "실제 기사제목 : ISRO unveils Bengaluru centre for manned space mission \n",
      "예측 기사제목 : It'll also pursue activities for sustained human space flight missions, ISRO added.\n",
      "\n",
      "\n",
      "원문 : At least 12 people have been killed and 170 others have been injured in Saudi Arabia this week due to flooding from heavy rain. The emergency services rescued 271 people from the flooded areas, more than half of them in Tabuk. Heavy rains hit mainly western and northwestern parts of Saudi Arabia, near its border with Jordan.\n",
      "실제 기사제목 : 12 killed, 170 injured in Saudi Arabia floods\n",
      "예측 기사제목 : At least 12 people have been killed and 170 others have been injured in Saudi Arabia this week due to flooding from heavy rain.\n",
      "\n",
      "\n",
      "원문 : Reliance Industries' Chairman Mukesh Ambani's daughter Isha Ambani has featured on the cover of the February edition of Vogue India. She's dressed in a white shirt dress and black ruffled skirt by Australian designer Toni Maticevski, while accessorising her look with a Misho ring. In the cover story on her, Isha has spoken about her work and life after marriage.\n",
      " \n",
      "실제 기사제목 : Isha Ambani features on February cover of Vogue magazine\n",
      "예측 기사제목 : Reliance Industries' Chairman Mukesh Ambani's daughter Isha Ambani has featured on the cover of the February edition of Vogue India.\n",
      "\n",
      "\n",
      "원문 : Indian Oil Corporation on Wednesday said it's looking for an annual deal to buy US crude as it seeks to broaden oil purchasing options. This comes amid uncertainties over Iran imports. The US had in November granted a six-month waiver to India from sanctions against Iran and restricted the country's monthly intake of Iranian oil to 3,00,000 barrels per day.\n",
      "\n",
      "\n",
      "실제 기사제목 : Indian Oil looking for annual deal to buy crude from US\n",
      "예측 기사제목 : The US had in November granted a six-month waiver to India from sanctions against Iran and restricted the country's monthly intake of Iranian oil to 3,00,000 barrels per day.\n",
      "\n",
      "\n",
      "원문 : Former Windies fast bowler Curtly Ambrose dismissed seven Australian batsmen within a span of 32 balls giving away just one run, in a Test match on January 30, 1993. Ambrose's spell helped his team bowl out Australia for 119 in the first innings, after being 85 for 2 at one point. Ambrose ended with first-innings figures of 18-9-25-7.\n",
      "실제 기사제목 : Pacer once took 7 wickets for just 1 run in 32 balls in a Test\n",
      "예측 기사제목 : Ambrose's spell helped his team bowl out Australia for 119 in the first innings, after being 85 for 2 at one point.\n",
      "Ambrose ended with first-innings figures of 18-9-25-7.\n",
      "\n",
      "\n",
      "원문 : A London zoo is offering people to name a cockroach after their exes on Valentine's Day for ÃÂ£1.50 (nearly Ã¢ÂÂ¹140). \"For those that don't quite require revenge, there's another way to make you feel better about getting back at your ex,\" the zoo said in a statement. The names will appear on zoo's 'roach board' on February 14. \n",
      "실제 기사제목 : UK zoo offers people to name cockroach after their ex on Valentine's\n",
      "예측 기사제목 : The names will appear on zoo's 'roach board' on February 14.\n",
      "\n",
      "\n",
      "원문 : Stand-in captain Rohit Sharma has become the 14th Indian cricketer to play 200 ODIs, achieving the feat after taking the field against New Zealand in fourth ODI at Hamilton on Thursday. The 31-year-old had made his ODI debut on June 23, 2007, against Ireland in Belfast. Rohit scored 7,799 runs in his first 199 ODIs at an average of 48.14.\n",
      "실제 기사제목 : Rohit Sharma becomes 14th Indian cricketer to play 200 ODIs\n",
      "예측 기사제목 : Rohit scored 7,799 runs in his first 199 ODIs at an average of 48.14.\n",
      "\n",
      "\n",
      "원문 : Batsman Shubman Gill has become the 227th cricketer to represent India in ODI cricket, achieving the feat against New Zealand in the fourth ODI at Hamilton on Thursday. The 19-year-old received his maiden ODI cap from former captain MS Dhoni. Notably, Shubman was named Player of the Under-19 World Cup in New Zealand last year.\n",
      "실제 기사제목 : 19-year-old Shubman Gill becomes India's 227th ODI cricketer\n",
      "예측 기사제목 : Notably, Shubman was named Player of the Under-19 World Cup in New Zealand last year.\n",
      "\n",
      "\n",
      "원문 : Investigators searching for a lost plane carrying Argentine forward Emiliano Sala found two seat cushions on French coast that \"likely\" belonged to the aircraft. The investigators said they'll now launch an underwater seabed search for aircraft wreckage. The Cardiff City footballer was travelling from France's Nantes to Wales' Cardiff when his plane disappeared over English Channel on January 21.\n",
      "실제 기사제목 : 2 seat cushions from 'missing plane carrying footballer' found\n",
      "예측 기사제목 : Investigators searching for a lost plane carrying Argentine forward Emiliano Sala found two seat cushions on French coast that \"likely\" belonged to the aircraft.\n",
      "\n",
      "\n",
      "원문 : Italian third division football side Lucchese's head coach Giancarlo Favarin has been banned for five months for headbutting Alessandria's assistant coach Gaetano Mancino during a brawl following the teams' 2-2 draw on Sunday. Mancino was caught off-balance and knocked to the ground after the headbutt. Earlier in the match, Favarin had told his own player to break an opponent's legs.\n",
      "실제 기사제목 : Italian coach knocks rival down with headbutt, banned for 5 months\n",
      "예측 기사제목 : Italian third division football side Lucchese's head coach Giancarlo Favarin has been banned for five months for headbutting Alessandria's assistant coach Gaetano Mancino during a brawl following the teams' 2-2 draw on Sunday.\n",
      "\n",
      "\n",
      "원문 : Cyclists taking part in National Track Cycling Championship in Jaipur opted to sleep on the floor inside the stadium instead of hotels over expensive cycles. The organisers had booked hotels but they didn't have the provision for cyclists to keep their bikes inside. A national gold medallist said their cycles cost between Ã¢ÂÂ¹5-9 lakh and once damaged, they become non-repairable. \n",
      "실제 기사제목 : Cyclists sleep on stadium floor instead of hotel over costly cycles\n",
      "예측 기사제목 : Cyclists taking part in National Track Cycling Championship in Jaipur opted to sleep on the floor inside the stadium instead of hotels over expensive cycles.\n",
      "\n",
      "\n",
      "원문 : Silvia Grecco, a 56-year-old Brazilian mother narrates her local football team Palmeiras' matches live to her 12-year-old blind and autistic son Nickollas from the stands. \"I describe details: this player is wearing short sleeves...colour of...football boots, hair colour...Everything I see and feel, I tell him, even when I need to curse the referee!\" Grecco said after a recent match.\n",
      "실제 기사제목 : Brazilian mother narrates football matches to blind son from stands\n",
      "예측 기사제목 : Silvia Grecco, a 56-year-old Brazilian mother narrates her local football team Palmeiras' matches live to her 12-year-old blind and autistic son Nickollas from the stands.\n",
      "\n",
      "\n",
      "원문 : A TechCrunch report has claimed that IndiaÃ¢ÂÂs largest bank SBI secured a passwordless server \"overnight\" on being alerted it allowed anyone to access phone numbers, bank balances, and transactions of millions of its customers. The Mumbai-based server was containing two months of data from SBI Quick, an SMS and call-based system used to request basic information about accounts, TechCrunch revealed.\n",
      "실제 기사제목 : SBI left account data of millions of users unprotected: Report\n",
      "예측 기사제목 : A TechCrunch report has claimed that IndiaÃ¢ÂÂs largest bank SBI secured a passwordless server \"overnight\" on being alerted it allowed anyone to access phone numbers, bank balances, and transactions of millions of its customers.\n",
      "\n",
      "\n",
      "원문 : Rahul Gandhi has replied to Goa CM Manohar Parrikar's letter, which accused the Congress President of using his \"visit to an ailing man for political gains\". \"He's under immense pressure from the PM after our meeting and needs to demonstrate his loyalty by attacking me,\" Gandhi wrote in his letter. Parrikar had clarified he didn't discuss Rafale deal with Rahul.\n",
      "실제 기사제목 : CM Parrikar under pressure from PM after our Goa meet: Rahul\n",
      "예측 기사제목 : Rahul Gandhi has replied to Goa CM Manohar Parrikar's letter, which accused the Congress President of using his \"visit to an ailing man for political gains\".\n",
      "\n",
      "\n",
      "원문 : Twenty-seven-year-old Mohammed Mahuwala was arrested in Indore on Wednesday for allegedly cheating e-commerce giant Amazon of nearly Ã¢ÂÂ¹30 lakh. Mahuwala was a member of a gang who ordered costly gadgets from Amazon. \"[They] used to get refund of the amount paid...by saying the parcel...was empty. In reality, these devices were taken out from parcel and sold...to local shopkeepers,\" said police.\n",
      "실제 기사제목 : Man arrested for cheating Amazon of Ã¢ÂÂ¹30 lakh by taking refunds\n",
      "예측 기사제목 : Mahuwala was a member of a gang who ordered costly gadgets from Amazon.\n",
      "\n",
      "\n",
      "원문 : AgustaWestland chopper scam co-accused Rajiv Saxena was extradited to India from UAE on Wednesday. He had been evading the Enforcement Directorate's summons claiming he was suffering from leukaemia but had moved an anti-money laundering court for anticipatory bail in December, stating he had never been summoned at his Dubai address. Saxena's lawyers alleged he had been \"illegally extradited\". \n",
      "실제 기사제목 : AgustaWestland scam accused Rajiv Saxena extradited to India\n",
      "예측 기사제목 : AgustaWestland chopper scam co-accused Rajiv Saxena was extradited to India from UAE on Wednesday.\n",
      "Saxena's lawyers alleged he had been \"illegally extradited\".\n",
      "\n",
      "\n",
      "원문 : Afghan President Ashraf Ghani has said the \"keys to war\" are in Pakistan's Islamabad, Quetta and Rawalpindi, accusing the country of providing safe havens to militants, including those belonging to the Taliban. Ghani added the \"key to peace was in Afghanistan\". His comments came amid the talks between the US and the Taliban to end the 17-year war in Afghanistan.\n",
      "실제 기사제목 : Pakistan holds 'keys to war': Afghanistan\n",
      "예측 기사제목 : Afghan President Ashraf Ghani has said the \"keys to war\" are in Pakistan's Islamabad, Quetta and Rawalpindi, accusing the country of providing safe havens to militants, including those belonging to the Taliban.\n",
      "\n",
      "\n",
      "원문 : A Singapore-based insurance agent has been jailed for two years and five months for threatening to harm his clients unless they paid him in bitcoins. The 36-year-old set up an email account, and signed the messages as 'Lord Voldemort', a fictional character from the Harry Potter series. Ye Lin Myint targeted about 33 people, including those who cancelled insurance policies.\n",
      "실제 기사제목 : Insurance agent 'Lord Voldemort' jailed for threatening clients\n",
      "예측 기사제목 : A Singapore-based insurance agent has been jailed for two years and five months for threatening to harm his clients unless they paid him in bitcoins.\n",
      "\n",
      "\n",
      "원문 : Gabrielle Reilly, a 22-year-old US woman, created earrings for her Apple AirPods and put it up for sale online for $20 (about Ã¢ÂÂ¹1,500). \"I absolutely refuse to lose them (AirPods)...So I made earrings,\" she explained. The earrings, which took her over an hour to make, debuted in a video on Twitter that has since garnered over three million views.\n",
      "실제 기사제목 : Woman turns Apple AirPods into earrings to avoid losing them\n",
      "예측 기사제목 : \"I absolutely refuse to lose them (AirPods)...So I made earrings,\" she explained.\n",
      "\n",
      "\n",
      "원문 : Ex-ICICI Bank CEO Chanda Kochhar said she's \"utterly disappointed, hurt and shocked\" by the bank's decision to terminate her. Kochhar said she served ICICI for 34 years with utmost honesty and integrity and that ultimately truth will prevail. Adding that she hasn't been given a copy of the independent probe report, Kochhar said none of ICICI's credit decisions are unilateral\n",
      "실제 기사제목 : Shocked, hurt by ICICI's decision, truth will prevail: Kochhar\n",
      "예측 기사제목 : Adding that she hasn't been given a copy of the independent probe report, Kochhar said none of ICICI's credit decisions are unilateral\n",
      "\n",
      "\n",
      "원문 : Swedish multinational fast-fashion brand Hennes & Mauritz AB (H&M) has hired Christopher Wylie, the whistleblower who exposed Facebook's Cambridge Analytica data scandal. WylieÃ¢ÂÂs focus will be to help get better insights on customers, products and markets and support work on sustainable and ethical artificial intelligence, H&M spokesperson said. Wylie is a former employee of Cambridge Analytica.\n",
      "실제 기사제목 : Fashion brand H&M hires Facebook data scandal whistleblower\n",
      "예측 기사제목 : Swedish multinational fast-fashion brand Hennes & Mauritz AB (H&M) has hired Christopher Wylie, the whistleblower who exposed Facebook's Cambridge Analytica data scandal.\n",
      "\n",
      "\n",
      "원문 : Micro-blogging platform Twitter is testing a new feature on Android to put news on the top of a user's timeline. \"With this update, weÃ¢ÂÂre making it easier for people to see news and stories their followers have been discussing,\" Product Manager Walter Gurzynski said. The feature comes alongside a prompt saying, \"Catch up on what's happened while you were away.\"\n",
      "실제 기사제목 : Twitter testing news-first timeline feature on Android\n",
      "예측 기사제목 : Micro-blogging platform Twitter is testing a new feature on Android to put news on the top of a user's timeline.\n",
      "\n",
      "\n",
      "원문 : Samsung has started mass producing its one terabyte 'embedded Universal Flash Storage (eUFS) 2.1' technology for \"use in next-generation mobile applications\", which it claims is the industry's first such eUFS. The company added the new eUFS will let smartphones store 260 10-minute videos shot in 4K UHD format. It'll be sized the same as the previous 512GB version, Samsung said.\n",
      "실제 기사제목 : Samsung builds world's first 1TB storage chip for smartphones \n",
      "예측 기사제목 : Samsung has started mass producing its one terabyte 'embedded Universal Flash Storage (eUFS) 2.1' technology for \"use in next-generation mobile applications\", which it claims is the industry's first such eUFS.\n",
      "\n",
      "\n",
      "원문 : Prime Minister Narendra Modi on Wednesday said the people with 'negative mindset' are questioning him and his government for floating pro-poor schemes. He added negative mindset people are raising doubts about schemes such as building toilets and providing free gas connections to the poor. He further said that negative mentality laced with a vested interest still exists in the country.\n",
      "실제 기사제목 : People with 'negative mindset' quizzing pro-poor schemes: PM\n",
      "예측 기사제목 : Prime Minister Narendra Modi on Wednesday said the people with 'negative mindset' are questioning him and his government for floating pro-poor schemes.\n",
      "\n",
      "\n",
      "원문 : Union Minister Anantkumar Hegde took a dig at Congress President Rahul Gandhi by calling him a \"hybrid specimen\" who has no clue about religion. \"A father who's...Muslim, a mother who's...Christian and the son is supposed to be...Brahmin. How is that even possible?\" he said. He added such \"hybrid specimen\" cannot be found in any laboratory in the world.\n",
      "실제 기사제목 : Rahul is hybrid specimen, has no clue about religion: Hegde\n",
      "예측 기사제목 : Union Minister Anantkumar Hegde took a dig at Congress President Rahul Gandhi by calling him a \"hybrid specimen\" who has no clue about religion.\n",
      "\n",
      "\n",
      "원문 : Several parts of the US are set to experience record low temperatures as the polar vortex hit the Upper Midwest, with more than 200 million people expected to experience below-freezing temperatures this week. Temperatures throughout the Upper Midwest are expected to be at least 20-40Ã¢ÂÂ below zero. Government offices and schools have been closed in several areas.\n",
      "실제 기사제목 : Extreme cold to affect 200 million people as polar vortex hits US\n",
      "예측 기사제목 : Several parts of the US are set to experience record low temperatures as the polar vortex hit the Upper Midwest, with more than 200 million people expected to experience below-freezing temperatures this week.\n",
      "\n",
      "\n",
      "원문 : The police on Wednesday registered cases against 13 persons, including a woman leader of Hindu Mahasabha, in Aligarh for firing at an effigy of Mahatma Gandhi with an air pistol. \"The incident took place in a house in Naurangabad locality of the city,\" Senior Superintendent of Police said. The video of the event went viral on social media, he added.\n",
      "실제 기사제목 : 13 booked for firing air shots at Mahatma Gandhi's effigy\n",
      "예측 기사제목 : The police on Wednesday registered cases against 13 persons, including a woman leader of Hindu Mahasabha, in Aligarh for firing at an effigy of Mahatma Gandhi with an air pistol.\n",
      "\n",
      "\n",
      "원문 : Railway police has rescued a woman travelling on a train in Chennai who got her leg stuck inside the commode of a toilet. After being caught inside the commode hole, she struggled to remove her leg and following failed attempts, she shouted for help, reports said. Railway police used a cutter to pry open the commode and freed her leg.\n",
      "실제 기사제목 : Railway police rescues woman with leg stuck in train toilet\n",
      "예측 기사제목 : Railway police has rescued a woman travelling on a train in Chennai who got her leg stuck inside the commode of a toilet.\n",
      "\n",
      "\n",
      "원문 : The US on Tuesday began returning asylum seekers to Mexico, sending back a migrant from a Central American nation and called the move a \"response to the illegal migration crisis\" faced by it. Under its Migrant Protection Protocols policy, the US will return certain migrants who cross into the country illegally back to Mexico while their asylum requests are processed.\n",
      "실제 기사제목 : US begins sending back asylum seekers to Mexico\n",
      "예측 기사제목 : The US on Tuesday began returning asylum seekers to Mexico, sending back a migrant from a Central American nation and called the move a \"response to the illegal migration crisis\" faced by it.\n",
      "\n",
      "\n"
     ]
    }
   ],
   "source": [
    "for idx, (head, text) in enumerate(zip(data['headlines'], data['text'])):\n",
    "    if idx == 50:\n",
    "        break\n",
    "    print(\"원문 :\", text)\n",
    "    print(\"실제 기사제목 :\", head)\n",
    "    print(\"예측 기사제목 :\", summarize(text, ratio=0.40, words=20))\n",
    "    print(\"\\n\")"
   ]
  },
  {
   "cell_type": "markdown",
   "id": "20a1a1c8",
   "metadata": {},
   "source": [
    "### Discussion  \n",
    "데이터 전처리를 거치지 않은 raw data를 그대로 text로 넘겨줬다.  \n",
    "결과를 보니 예측 요약이 아예 나오지 않은 것도 있었는데 이유는 모르겠다.  \n",
    "예측요약을 보니 대체로 text의 마지막 문장을 그대로 가지고 온 경우가 많아 headline을 제대로 예측한건지 의문스럽다.  \n",
    "전처리 과정과 모델 설계 과정이 복잡하지만 추상적 요약 방식이 더 신문기사 제목을 예측하자는 우리의 의도에 맞는 방법인 것 같다.  \n",
    "추상적 요약 방식은 결과가 문법상 오류가 많았고 의미 전달이 거의 안된다는 단점이 있었으나 이는 모델 설계를 더 정밀하게 하거나 데이터 전처리로 극복할 수 있어 보인다.  \n",
    "반면서 추출적 요약은 개선할 수 있는 부분에 제약이 있어 성능을 올리는데 한계가 있을 수 있다.  \n",
    "아마도 summa 패키지 보다 더 좋은 패키지가 있다면 더 나은 결과가 나타날 것이다.  "
   ]
  },
  {
   "cell_type": "code",
   "execution_count": null,
   "id": "700f8c3d",
   "metadata": {},
   "outputs": [],
   "source": []
  }
 ],
 "metadata": {
  "kernelspec": {
   "display_name": "Python 3 (ipykernel)",
   "language": "python",
   "name": "python3"
  },
  "language_info": {
   "codemirror_mode": {
    "name": "ipython",
    "version": 3
   },
   "file_extension": ".py",
   "mimetype": "text/x-python",
   "name": "python",
   "nbconvert_exporter": "python",
   "pygments_lexer": "ipython3",
   "version": "3.9.7"
  }
 },
 "nbformat": 4,
 "nbformat_minor": 5
}

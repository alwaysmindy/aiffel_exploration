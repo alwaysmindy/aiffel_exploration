{
 "cells": [
  {
   "cell_type": "markdown",
   "id": "2c0b0996",
   "metadata": {},
   "source": [
    "# exploration 16 Session based Recommendation 시스템 제작  \n",
    "***\n",
    "### 데이터 셋: Movielens 1M Dataset \n"
   ]
  },
  {
   "cell_type": "code",
   "execution_count": 1,
   "id": "5ea2f153",
   "metadata": {},
   "outputs": [],
   "source": [
    "import tensorflow as tf\n",
    "import os\n",
    "from pathlib import Path\n",
    "import pandas as pd\n",
    "import numpy as np\n",
    "import warnings\n",
    "warnings.filterwarnings('ignore')"
   ]
  },
  {
   "cell_type": "markdown",
   "id": "f47cbbed",
   "metadata": {},
   "source": [
    "### Loading Data"
   ]
  },
  {
   "cell_type": "code",
   "execution_count": 2,
   "id": "66052b08",
   "metadata": {},
   "outputs": [
    {
     "data": {
      "text/html": [
       "<div>\n",
       "<style scoped>\n",
       "    .dataframe tbody tr th:only-of-type {\n",
       "        vertical-align: middle;\n",
       "    }\n",
       "\n",
       "    .dataframe tbody tr th {\n",
       "        vertical-align: top;\n",
       "    }\n",
       "\n",
       "    .dataframe thead th {\n",
       "        text-align: right;\n",
       "    }\n",
       "</style>\n",
       "<table border=\"1\" class=\"dataframe\">\n",
       "  <thead>\n",
       "    <tr style=\"text-align: right;\">\n",
       "      <th></th>\n",
       "      <th>UserId</th>\n",
       "      <th>ItemId</th>\n",
       "      <th>Rating</th>\n",
       "      <th>Time</th>\n",
       "    </tr>\n",
       "  </thead>\n",
       "  <tbody>\n",
       "    <tr>\n",
       "      <th>31</th>\n",
       "      <td>1</td>\n",
       "      <td>3186</td>\n",
       "      <td>4</td>\n",
       "      <td>978300019</td>\n",
       "    </tr>\n",
       "    <tr>\n",
       "      <th>22</th>\n",
       "      <td>1</td>\n",
       "      <td>1270</td>\n",
       "      <td>5</td>\n",
       "      <td>978300055</td>\n",
       "    </tr>\n",
       "    <tr>\n",
       "      <th>27</th>\n",
       "      <td>1</td>\n",
       "      <td>1721</td>\n",
       "      <td>4</td>\n",
       "      <td>978300055</td>\n",
       "    </tr>\n",
       "    <tr>\n",
       "      <th>37</th>\n",
       "      <td>1</td>\n",
       "      <td>1022</td>\n",
       "      <td>5</td>\n",
       "      <td>978300055</td>\n",
       "    </tr>\n",
       "    <tr>\n",
       "      <th>24</th>\n",
       "      <td>1</td>\n",
       "      <td>2340</td>\n",
       "      <td>3</td>\n",
       "      <td>978300103</td>\n",
       "    </tr>\n",
       "    <tr>\n",
       "      <th>...</th>\n",
       "      <td>...</td>\n",
       "      <td>...</td>\n",
       "      <td>...</td>\n",
       "      <td>...</td>\n",
       "    </tr>\n",
       "    <tr>\n",
       "      <th>1000019</th>\n",
       "      <td>6040</td>\n",
       "      <td>2917</td>\n",
       "      <td>4</td>\n",
       "      <td>997454429</td>\n",
       "    </tr>\n",
       "    <tr>\n",
       "      <th>999988</th>\n",
       "      <td>6040</td>\n",
       "      <td>1921</td>\n",
       "      <td>4</td>\n",
       "      <td>997454464</td>\n",
       "    </tr>\n",
       "    <tr>\n",
       "      <th>1000172</th>\n",
       "      <td>6040</td>\n",
       "      <td>1784</td>\n",
       "      <td>3</td>\n",
       "      <td>997454464</td>\n",
       "    </tr>\n",
       "    <tr>\n",
       "      <th>1000167</th>\n",
       "      <td>6040</td>\n",
       "      <td>161</td>\n",
       "      <td>3</td>\n",
       "      <td>997454486</td>\n",
       "    </tr>\n",
       "    <tr>\n",
       "      <th>1000042</th>\n",
       "      <td>6040</td>\n",
       "      <td>1221</td>\n",
       "      <td>4</td>\n",
       "      <td>998315055</td>\n",
       "    </tr>\n",
       "  </tbody>\n",
       "</table>\n",
       "<p>1000209 rows × 4 columns</p>\n",
       "</div>"
      ],
      "text/plain": [
       "         UserId  ItemId  Rating       Time\n",
       "31            1    3186       4  978300019\n",
       "22            1    1270       5  978300055\n",
       "27            1    1721       4  978300055\n",
       "37            1    1022       5  978300055\n",
       "24            1    2340       3  978300103\n",
       "...         ...     ...     ...        ...\n",
       "1000019    6040    2917       4  997454429\n",
       "999988     6040    1921       4  997454464\n",
       "1000172    6040    1784       3  997454464\n",
       "1000167    6040     161       3  997454486\n",
       "1000042    6040    1221       4  998315055\n",
       "\n",
       "[1000209 rows x 4 columns]"
      ]
     },
     "execution_count": 2,
     "metadata": {},
     "output_type": "execute_result"
    }
   ],
   "source": [
    "data_path = Path(os.getenv('HOME')+'/aiffel/yoochoose/data/') \n",
    "train_path = data_path / 'ratings.dat'\n",
    "\n",
    "def load_data(data_path: Path, nrows=None):\n",
    "    data = pd.read_csv(data_path, sep='::', header=None, usecols=[0, 1, 2, 3], dtype={0: np.int32, 1: np.int32, 2: np.int32}, nrows=nrows)\n",
    "    data.columns = ['UserId', 'ItemId', 'Rating', 'Time']\n",
    "    return data\n",
    "\n",
    "data = load_data(train_path, None)\n",
    "data.sort_values(['UserId', 'Time'], inplace=True)  # data를 id와 시간 순서로 정렬해줍니다.\n",
    "data"
   ]
  },
  {
   "cell_type": "markdown",
   "id": "99802f03",
   "metadata": {},
   "source": [
    "### Preprocess"
   ]
  },
  {
   "cell_type": "markdown",
   "id": "4509a728",
   "metadata": {},
   "source": [
    "- Time 항목에는 UTC time 가 포함되어, 1970년 1월 1일부터 경과된 초단위 시간이 기재되어 datetime 형식으로 바꿈."
   ]
  },
  {
   "cell_type": "code",
   "execution_count": 3,
   "id": "b78de03a",
   "metadata": {},
   "outputs": [
    {
     "data": {
      "text/html": [
       "<div>\n",
       "<style scoped>\n",
       "    .dataframe tbody tr th:only-of-type {\n",
       "        vertical-align: middle;\n",
       "    }\n",
       "\n",
       "    .dataframe tbody tr th {\n",
       "        vertical-align: top;\n",
       "    }\n",
       "\n",
       "    .dataframe thead th {\n",
       "        text-align: right;\n",
       "    }\n",
       "</style>\n",
       "<table border=\"1\" class=\"dataframe\">\n",
       "  <thead>\n",
       "    <tr style=\"text-align: right;\">\n",
       "      <th></th>\n",
       "      <th>UserId</th>\n",
       "      <th>ItemId</th>\n",
       "      <th>Rating</th>\n",
       "      <th>Time</th>\n",
       "    </tr>\n",
       "  </thead>\n",
       "  <tbody>\n",
       "    <tr>\n",
       "      <th>31</th>\n",
       "      <td>1</td>\n",
       "      <td>3186</td>\n",
       "      <td>4</td>\n",
       "      <td>2000-12-31 22:00:19</td>\n",
       "    </tr>\n",
       "    <tr>\n",
       "      <th>22</th>\n",
       "      <td>1</td>\n",
       "      <td>1270</td>\n",
       "      <td>5</td>\n",
       "      <td>2000-12-31 22:00:55</td>\n",
       "    </tr>\n",
       "    <tr>\n",
       "      <th>27</th>\n",
       "      <td>1</td>\n",
       "      <td>1721</td>\n",
       "      <td>4</td>\n",
       "      <td>2000-12-31 22:00:55</td>\n",
       "    </tr>\n",
       "    <tr>\n",
       "      <th>37</th>\n",
       "      <td>1</td>\n",
       "      <td>1022</td>\n",
       "      <td>5</td>\n",
       "      <td>2000-12-31 22:00:55</td>\n",
       "    </tr>\n",
       "    <tr>\n",
       "      <th>24</th>\n",
       "      <td>1</td>\n",
       "      <td>2340</td>\n",
       "      <td>3</td>\n",
       "      <td>2000-12-31 22:01:43</td>\n",
       "    </tr>\n",
       "  </tbody>\n",
       "</table>\n",
       "</div>"
      ],
      "text/plain": [
       "    UserId  ItemId  Rating                Time\n",
       "31       1    3186       4 2000-12-31 22:00:19\n",
       "22       1    1270       5 2000-12-31 22:00:55\n",
       "27       1    1721       4 2000-12-31 22:00:55\n",
       "37       1    1022       5 2000-12-31 22:00:55\n",
       "24       1    2340       3 2000-12-31 22:01:43"
      ]
     },
     "execution_count": 3,
     "metadata": {},
     "output_type": "execute_result"
    }
   ],
   "source": [
    "#Time 데이터(Second)를 Datetime으로 바꾸기\n",
    "import datetime as dt\n",
    "from datetime import date\n",
    "from datetime import timedelta\n",
    "\n",
    "start = '1970-01-01 00:00:00.000000'\n",
    "start = dt.datetime.strptime(start, '%Y-%m-%d %H:%M:%S.%f') #start:1970-01-01 00:00:00\n",
    "\n",
    "date = []\n",
    "for delta in data['Time'] :\n",
    "    date.append(start + timedelta(seconds = delta))\n",
    "    \n",
    "data['Time'] = date\n",
    "data.head()"
   ]
  },
  {
   "cell_type": "code",
   "execution_count": 4,
   "id": "74ae4248",
   "metadata": {},
   "outputs": [
    {
     "data": {
      "text/html": [
       "<style type=\"text/css\">\n",
       "#T_2b160_row0_col0, #T_2b160_row0_col3, #T_2b160_row1_col0, #T_2b160_row1_col3, #T_2b160_row2_col0, #T_2b160_row2_col2, #T_2b160_row2_col3, #T_2b160_row2_col4, #T_2b160_row2_col5, #T_2b160_row2_col6 {\n",
       "  background-color: #f7fcf0;\n",
       "  color: #000000;\n",
       "}\n",
       "#T_2b160_row0_col1 {\n",
       "  background-color: #084081;\n",
       "  color: #f1f1f1;\n",
       "  width: 10em;\n",
       "  height: 80%;\n",
       "  background: linear-gradient(90deg,#00BFC4 100.0%, transparent 100.0%);\n",
       "}\n",
       "#T_2b160_row0_col2, #T_2b160_row0_col4, #T_2b160_row0_col5, #T_2b160_row0_col6 {\n",
       "  background-color: #084081;\n",
       "  color: #f1f1f1;\n",
       "}\n",
       "#T_2b160_row0_col7 {\n",
       "  background-color: #084081;\n",
       "  color: #f1f1f1;\n",
       "  width: 10em;\n",
       "  height: 80%;\n",
       "  background: linear-gradient(90deg,#F8766D 100.0%, transparent 100.0%);\n",
       "}\n",
       "#T_2b160_row1_col1 {\n",
       "  background-color: #51b5d2;\n",
       "  color: #f1f1f1;\n",
       "  width: 10em;\n",
       "  height: 80%;\n",
       "  background: linear-gradient(90deg,#00BFC4 61.6%, transparent 61.6%);\n",
       "}\n",
       "#T_2b160_row1_col2 {\n",
       "  background-color: #4bb0d1;\n",
       "  color: #f1f1f1;\n",
       "}\n",
       "#T_2b160_row1_col4 {\n",
       "  background-color: #3ea1c9;\n",
       "  color: #f1f1f1;\n",
       "}\n",
       "#T_2b160_row1_col5 {\n",
       "  background-color: #58b9d0;\n",
       "  color: #000000;\n",
       "}\n",
       "#T_2b160_row1_col6 {\n",
       "  background-color: #50b4d2;\n",
       "  color: #f1f1f1;\n",
       "}\n",
       "#T_2b160_row1_col7 {\n",
       "  background-color: #46aace;\n",
       "  color: #f1f1f1;\n",
       "  width: 10em;\n",
       "  height: 80%;\n",
       "  background: linear-gradient(90deg,#F8766D 65.4%, transparent 65.4%);\n",
       "}\n",
       "#T_2b160_row2_col1, #T_2b160_row2_col7 {\n",
       "  background-color: #f7fcf0;\n",
       "  color: #000000;\n",
       "  width: 10em;\n",
       "  height: 80%;\n",
       "}\n",
       "</style>\n",
       "<table id=\"T_2b160_\">\n",
       "  <thead>\n",
       "    <tr>\n",
       "      <th class=\"blank level0\" >&nbsp;</th>\n",
       "      <th class=\"col_heading level0 col0\" >count</th>\n",
       "      <th class=\"col_heading level0 col1\" >mean</th>\n",
       "      <th class=\"col_heading level0 col2\" >std</th>\n",
       "      <th class=\"col_heading level0 col3\" >min</th>\n",
       "      <th class=\"col_heading level0 col4\" >25%</th>\n",
       "      <th class=\"col_heading level0 col5\" >50%</th>\n",
       "      <th class=\"col_heading level0 col6\" >75%</th>\n",
       "      <th class=\"col_heading level0 col7\" >max</th>\n",
       "    </tr>\n",
       "  </thead>\n",
       "  <tbody>\n",
       "    <tr>\n",
       "      <th id=\"T_2b160_level0_row0\" class=\"row_heading level0 row0\" >UserId</th>\n",
       "      <td id=\"T_2b160_row0_col0\" class=\"data row0 col0\" >1000209.000000</td>\n",
       "      <td id=\"T_2b160_row0_col1\" class=\"data row0 col1\" >3024.512348</td>\n",
       "      <td id=\"T_2b160_row0_col2\" class=\"data row0 col2\" >1728.412695</td>\n",
       "      <td id=\"T_2b160_row0_col3\" class=\"data row0 col3\" >1.000000</td>\n",
       "      <td id=\"T_2b160_row0_col4\" class=\"data row0 col4\" >1506.000000</td>\n",
       "      <td id=\"T_2b160_row0_col5\" class=\"data row0 col5\" >3070.000000</td>\n",
       "      <td id=\"T_2b160_row0_col6\" class=\"data row0 col6\" >4476.000000</td>\n",
       "      <td id=\"T_2b160_row0_col7\" class=\"data row0 col7\" >6040.000000</td>\n",
       "    </tr>\n",
       "    <tr>\n",
       "      <th id=\"T_2b160_level0_row1\" class=\"row_heading level0 row1\" >ItemId</th>\n",
       "      <td id=\"T_2b160_row1_col0\" class=\"data row1 col0\" >1000209.000000</td>\n",
       "      <td id=\"T_2b160_row1_col1\" class=\"data row1 col1\" >1865.539898</td>\n",
       "      <td id=\"T_2b160_row1_col2\" class=\"data row1 col2\" >1096.040689</td>\n",
       "      <td id=\"T_2b160_row1_col3\" class=\"data row1 col3\" >1.000000</td>\n",
       "      <td id=\"T_2b160_row1_col4\" class=\"data row1 col4\" >1030.000000</td>\n",
       "      <td id=\"T_2b160_row1_col5\" class=\"data row1 col5\" >1835.000000</td>\n",
       "      <td id=\"T_2b160_row1_col6\" class=\"data row1 col6\" >2770.000000</td>\n",
       "      <td id=\"T_2b160_row1_col7\" class=\"data row1 col7\" >3952.000000</td>\n",
       "    </tr>\n",
       "    <tr>\n",
       "      <th id=\"T_2b160_level0_row2\" class=\"row_heading level0 row2\" >Rating</th>\n",
       "      <td id=\"T_2b160_row2_col0\" class=\"data row2 col0\" >1000209.000000</td>\n",
       "      <td id=\"T_2b160_row2_col1\" class=\"data row2 col1\" >3.581564</td>\n",
       "      <td id=\"T_2b160_row2_col2\" class=\"data row2 col2\" >1.117102</td>\n",
       "      <td id=\"T_2b160_row2_col3\" class=\"data row2 col3\" >1.000000</td>\n",
       "      <td id=\"T_2b160_row2_col4\" class=\"data row2 col4\" >3.000000</td>\n",
       "      <td id=\"T_2b160_row2_col5\" class=\"data row2 col5\" >4.000000</td>\n",
       "      <td id=\"T_2b160_row2_col6\" class=\"data row2 col6\" >4.000000</td>\n",
       "      <td id=\"T_2b160_row2_col7\" class=\"data row2 col7\" >5.000000</td>\n",
       "    </tr>\n",
       "  </tbody>\n",
       "</table>\n"
      ],
      "text/plain": [
       "<pandas.io.formats.style.Styler at 0x7f875d9affd0>"
      ]
     },
     "execution_count": 4,
     "metadata": {},
     "output_type": "execute_result"
    }
   ],
   "source": [
    "#데이터의 전체적인 통계확인 \n",
    "data.iloc[:, :-1].describe().T.sort_values(by='std' , ascending = False)\\\n",
    "                     .style.background_gradient(cmap='GnBu')\\\n",
    "                     .bar(subset=[\"max\"], color='#F8766D')\\\n",
    "                     .bar(subset=[\"mean\",], color='#00BFC4')"
   ]
  },
  {
   "cell_type": "code",
   "execution_count": 5,
   "id": "2b48d1f7",
   "metadata": {},
   "outputs": [
    {
     "data": {
      "text/plain": [
       "(6040, 3706)"
      ]
     },
     "execution_count": 5,
     "metadata": {},
     "output_type": "execute_result"
    }
   ],
   "source": [
    "data['UserId'].nunique(), data['ItemId'].nunique() #유저수와 아이템수 확인 "
   ]
  },
  {
   "cell_type": "code",
   "execution_count": 6,
   "id": "c2f0014c",
   "metadata": {},
   "outputs": [
    {
     "data": {
      "text/plain": [
       "UserId\n",
       "1        53\n",
       "2       129\n",
       "3        51\n",
       "4        21\n",
       "5       198\n",
       "       ... \n",
       "6036    888\n",
       "6037    202\n",
       "6038     20\n",
       "6039    123\n",
       "6040    341\n",
       "Length: 6040, dtype: int64"
      ]
     },
     "execution_count": 6,
     "metadata": {},
     "output_type": "execute_result"
    }
   ],
   "source": [
    "user_length = data.groupby('UserId').size() #유저 Id의 session length 확인\n",
    "user_length #동일한 userId를 공유하는 데이터 row 개수 "
   ]
  },
  {
   "cell_type": "code",
   "execution_count": 7,
   "id": "6fd80e08",
   "metadata": {},
   "outputs": [
    {
     "name": "stdout",
     "output_type": "stream",
     "text": [
      "count    6040.000000\n",
      "mean      165.597517\n",
      "std       192.747029\n",
      "min        20.000000\n",
      "25%        44.000000\n",
      "50%        96.000000\n",
      "75%       208.000000\n",
      "max      2314.000000\n",
      "dtype: float64\n",
      "=======================================================\n",
      "user_length median: 96.0, 99.9%: 1343.181000000005\n"
     ]
    }
   ],
   "source": [
    "print(user_length.describe().T)\n",
    "print(\"=======================================================\")\n",
    "print(\"user_length median: {}, 99.9%: {}\".format(user_length.median(), user_length.quantile(0.999)))   "
   ]
  },
  {
   "cell_type": "markdown",
   "id": "cd0ef7c1",
   "metadata": {},
   "source": [
    "- user_id 길이 중앙값 96.0, 한명의 유저가 보통 96개 영화를 시청함/96개의 영화에 대한 평점을 남김 \n",
    "- 6040명의 유저 \n",
    "- 99.9% 1343 요건 어떻게 해석해야할지 아직 모르겠음, 99.9% 유저가 1343개 이하의 영화를 시청했다는 뜻? "
   ]
  },
  {
   "cell_type": "markdown",
   "id": "2d495e2e",
   "metadata": {},
   "source": [
    "- 위의 결과가 납득이 안되서 검색해보고 이전 기수 분의 코드를 참고하여 userid와 time을 기준으로 새로운 데이터 프레임을 합침 \n",
    "- [code reference](https://github.com/YOOHYOJEONG/AIFFEL_LMS_project/blob/master/ex12/ex12_Session_Based_Recommendation.ipynb)"
   ]
  },
  {
   "cell_type": "code",
   "execution_count": 8,
   "id": "a6dcff57",
   "metadata": {},
   "outputs": [
    {
     "data": {
      "text/html": [
       "<div>\n",
       "<style scoped>\n",
       "    .dataframe tbody tr th:only-of-type {\n",
       "        vertical-align: middle;\n",
       "    }\n",
       "\n",
       "    .dataframe tbody tr th {\n",
       "        vertical-align: top;\n",
       "    }\n",
       "\n",
       "    .dataframe thead th {\n",
       "        text-align: right;\n",
       "    }\n",
       "</style>\n",
       "<table border=\"1\" class=\"dataframe\">\n",
       "  <thead>\n",
       "    <tr style=\"text-align: right;\">\n",
       "      <th></th>\n",
       "      <th>index</th>\n",
       "      <th>UserId</th>\n",
       "      <th>Time</th>\n",
       "      <th>ItemId</th>\n",
       "    </tr>\n",
       "  </thead>\n",
       "  <tbody>\n",
       "    <tr>\n",
       "      <th>0</th>\n",
       "      <td>0</td>\n",
       "      <td>1</td>\n",
       "      <td>2000-12-31 22:00:19</td>\n",
       "      <td>1</td>\n",
       "    </tr>\n",
       "    <tr>\n",
       "      <th>1</th>\n",
       "      <td>1</td>\n",
       "      <td>1</td>\n",
       "      <td>2000-12-31 22:00:55</td>\n",
       "      <td>3</td>\n",
       "    </tr>\n",
       "    <tr>\n",
       "      <th>2</th>\n",
       "      <td>2</td>\n",
       "      <td>1</td>\n",
       "      <td>2000-12-31 22:01:43</td>\n",
       "      <td>1</td>\n",
       "    </tr>\n",
       "    <tr>\n",
       "      <th>3</th>\n",
       "      <td>3</td>\n",
       "      <td>1</td>\n",
       "      <td>2000-12-31 22:02:52</td>\n",
       "      <td>1</td>\n",
       "    </tr>\n",
       "    <tr>\n",
       "      <th>4</th>\n",
       "      <td>4</td>\n",
       "      <td>1</td>\n",
       "      <td>2000-12-31 22:04:35</td>\n",
       "      <td>1</td>\n",
       "    </tr>\n",
       "  </tbody>\n",
       "</table>\n",
       "</div>"
      ],
      "text/plain": [
       "   index  UserId                Time  ItemId\n",
       "0      0       1 2000-12-31 22:00:19       1\n",
       "1      1       1 2000-12-31 22:00:55       3\n",
       "2      2       1 2000-12-31 22:01:43       1\n",
       "3      3       1 2000-12-31 22:02:52       1\n",
       "4      4       1 2000-12-31 22:04:35       1"
      ]
     },
     "execution_count": 8,
     "metadata": {},
     "output_type": "execute_result"
    }
   ],
   "source": [
    "#groupby를 이용하여 UserId와 Time을 기준으로 새로운 데이터 프레임을 생성\n",
    "user_time = data.groupby(['UserId', 'Time'])['ItemId'].count().reset_index()\n",
    "user_time.reset_index(inplace = True)\n",
    "user_time.head()"
   ]
  },
  {
   "cell_type": "code",
   "execution_count": 9,
   "id": "9e6066cf",
   "metadata": {},
   "outputs": [
    {
     "data": {
      "text/html": [
       "<div>\n",
       "<style scoped>\n",
       "    .dataframe tbody tr th:only-of-type {\n",
       "        vertical-align: middle;\n",
       "    }\n",
       "\n",
       "    .dataframe tbody tr th {\n",
       "        vertical-align: top;\n",
       "    }\n",
       "\n",
       "    .dataframe thead th {\n",
       "        text-align: right;\n",
       "    }\n",
       "</style>\n",
       "<table border=\"1\" class=\"dataframe\">\n",
       "  <thead>\n",
       "    <tr style=\"text-align: right;\">\n",
       "      <th></th>\n",
       "      <th>UserId</th>\n",
       "      <th>ItemId_x</th>\n",
       "      <th>Rating</th>\n",
       "      <th>Time</th>\n",
       "      <th>index</th>\n",
       "      <th>ItemId_y</th>\n",
       "    </tr>\n",
       "  </thead>\n",
       "  <tbody>\n",
       "    <tr>\n",
       "      <th>0</th>\n",
       "      <td>1</td>\n",
       "      <td>3186</td>\n",
       "      <td>4</td>\n",
       "      <td>2000-12-31 22:00:19</td>\n",
       "      <td>0</td>\n",
       "      <td>1</td>\n",
       "    </tr>\n",
       "    <tr>\n",
       "      <th>1</th>\n",
       "      <td>1</td>\n",
       "      <td>1270</td>\n",
       "      <td>5</td>\n",
       "      <td>2000-12-31 22:00:55</td>\n",
       "      <td>1</td>\n",
       "      <td>3</td>\n",
       "    </tr>\n",
       "    <tr>\n",
       "      <th>2</th>\n",
       "      <td>1</td>\n",
       "      <td>1721</td>\n",
       "      <td>4</td>\n",
       "      <td>2000-12-31 22:00:55</td>\n",
       "      <td>1</td>\n",
       "      <td>3</td>\n",
       "    </tr>\n",
       "    <tr>\n",
       "      <th>3</th>\n",
       "      <td>1</td>\n",
       "      <td>1022</td>\n",
       "      <td>5</td>\n",
       "      <td>2000-12-31 22:00:55</td>\n",
       "      <td>1</td>\n",
       "      <td>3</td>\n",
       "    </tr>\n",
       "    <tr>\n",
       "      <th>4</th>\n",
       "      <td>1</td>\n",
       "      <td>2340</td>\n",
       "      <td>3</td>\n",
       "      <td>2000-12-31 22:01:43</td>\n",
       "      <td>2</td>\n",
       "      <td>1</td>\n",
       "    </tr>\n",
       "    <tr>\n",
       "      <th>...</th>\n",
       "      <td>...</td>\n",
       "      <td>...</td>\n",
       "      <td>...</td>\n",
       "      <td>...</td>\n",
       "      <td>...</td>\n",
       "      <td>...</td>\n",
       "    </tr>\n",
       "    <tr>\n",
       "      <th>1000204</th>\n",
       "      <td>6040</td>\n",
       "      <td>2917</td>\n",
       "      <td>4</td>\n",
       "      <td>2001-08-10 14:40:29</td>\n",
       "      <td>471159</td>\n",
       "      <td>1</td>\n",
       "    </tr>\n",
       "    <tr>\n",
       "      <th>1000205</th>\n",
       "      <td>6040</td>\n",
       "      <td>1921</td>\n",
       "      <td>4</td>\n",
       "      <td>2001-08-10 14:41:04</td>\n",
       "      <td>471160</td>\n",
       "      <td>2</td>\n",
       "    </tr>\n",
       "    <tr>\n",
       "      <th>1000206</th>\n",
       "      <td>6040</td>\n",
       "      <td>1784</td>\n",
       "      <td>3</td>\n",
       "      <td>2001-08-10 14:41:04</td>\n",
       "      <td>471160</td>\n",
       "      <td>2</td>\n",
       "    </tr>\n",
       "    <tr>\n",
       "      <th>1000207</th>\n",
       "      <td>6040</td>\n",
       "      <td>161</td>\n",
       "      <td>3</td>\n",
       "      <td>2001-08-10 14:41:26</td>\n",
       "      <td>471161</td>\n",
       "      <td>1</td>\n",
       "    </tr>\n",
       "    <tr>\n",
       "      <th>1000208</th>\n",
       "      <td>6040</td>\n",
       "      <td>1221</td>\n",
       "      <td>4</td>\n",
       "      <td>2001-08-20 13:44:15</td>\n",
       "      <td>471162</td>\n",
       "      <td>1</td>\n",
       "    </tr>\n",
       "  </tbody>\n",
       "</table>\n",
       "<p>1000209 rows × 6 columns</p>\n",
       "</div>"
      ],
      "text/plain": [
       "         UserId  ItemId_x  Rating                Time   index  ItemId_y\n",
       "0             1      3186       4 2000-12-31 22:00:19       0         1\n",
       "1             1      1270       5 2000-12-31 22:00:55       1         3\n",
       "2             1      1721       4 2000-12-31 22:00:55       1         3\n",
       "3             1      1022       5 2000-12-31 22:00:55       1         3\n",
       "4             1      2340       3 2000-12-31 22:01:43       2         1\n",
       "...         ...       ...     ...                 ...     ...       ...\n",
       "1000204    6040      2917       4 2001-08-10 14:40:29  471159         1\n",
       "1000205    6040      1921       4 2001-08-10 14:41:04  471160         2\n",
       "1000206    6040      1784       3 2001-08-10 14:41:04  471160         2\n",
       "1000207    6040       161       3 2001-08-10 14:41:26  471161         1\n",
       "1000208    6040      1221       4 2001-08-20 13:44:15  471162         1\n",
       "\n",
       "[1000209 rows x 6 columns]"
      ]
     },
     "execution_count": 9,
     "metadata": {},
     "output_type": "execute_result"
    }
   ],
   "source": [
    "#UserId와 Time을 기준으로 merge\n",
    "new_data = pd.merge(data, user_time, on = ['UserId', 'Time'])\n",
    "new_data"
   ]
  },
  {
   "cell_type": "markdown",
   "id": "8c3972ea",
   "metadata": {},
   "source": [
    "- ItemId_y 칼럼 삭제\n",
    "- userid와 time이 하나의 session으로 취급 \n",
    "- index_x를 sessionid로 변경"
   ]
  },
  {
   "cell_type": "code",
   "execution_count": 10,
   "id": "e5f1ac5a",
   "metadata": {},
   "outputs": [
    {
     "data": {
      "text/html": [
       "<div>\n",
       "<style scoped>\n",
       "    .dataframe tbody tr th:only-of-type {\n",
       "        vertical-align: middle;\n",
       "    }\n",
       "\n",
       "    .dataframe tbody tr th {\n",
       "        vertical-align: top;\n",
       "    }\n",
       "\n",
       "    .dataframe thead th {\n",
       "        text-align: right;\n",
       "    }\n",
       "</style>\n",
       "<table border=\"1\" class=\"dataframe\">\n",
       "  <thead>\n",
       "    <tr style=\"text-align: right;\">\n",
       "      <th></th>\n",
       "      <th>UserId</th>\n",
       "      <th>ItemId</th>\n",
       "      <th>Rating</th>\n",
       "      <th>Time</th>\n",
       "      <th>SessionId</th>\n",
       "    </tr>\n",
       "  </thead>\n",
       "  <tbody>\n",
       "    <tr>\n",
       "      <th>0</th>\n",
       "      <td>1</td>\n",
       "      <td>3186</td>\n",
       "      <td>4</td>\n",
       "      <td>2000-12-31 22:00:19</td>\n",
       "      <td>0</td>\n",
       "    </tr>\n",
       "    <tr>\n",
       "      <th>1</th>\n",
       "      <td>1</td>\n",
       "      <td>1270</td>\n",
       "      <td>5</td>\n",
       "      <td>2000-12-31 22:00:55</td>\n",
       "      <td>1</td>\n",
       "    </tr>\n",
       "    <tr>\n",
       "      <th>2</th>\n",
       "      <td>1</td>\n",
       "      <td>1721</td>\n",
       "      <td>4</td>\n",
       "      <td>2000-12-31 22:00:55</td>\n",
       "      <td>1</td>\n",
       "    </tr>\n",
       "    <tr>\n",
       "      <th>3</th>\n",
       "      <td>1</td>\n",
       "      <td>1022</td>\n",
       "      <td>5</td>\n",
       "      <td>2000-12-31 22:00:55</td>\n",
       "      <td>1</td>\n",
       "    </tr>\n",
       "    <tr>\n",
       "      <th>4</th>\n",
       "      <td>1</td>\n",
       "      <td>2340</td>\n",
       "      <td>3</td>\n",
       "      <td>2000-12-31 22:01:43</td>\n",
       "      <td>2</td>\n",
       "    </tr>\n",
       "    <tr>\n",
       "      <th>...</th>\n",
       "      <td>...</td>\n",
       "      <td>...</td>\n",
       "      <td>...</td>\n",
       "      <td>...</td>\n",
       "      <td>...</td>\n",
       "    </tr>\n",
       "    <tr>\n",
       "      <th>1000204</th>\n",
       "      <td>6040</td>\n",
       "      <td>2917</td>\n",
       "      <td>4</td>\n",
       "      <td>2001-08-10 14:40:29</td>\n",
       "      <td>471159</td>\n",
       "    </tr>\n",
       "    <tr>\n",
       "      <th>1000205</th>\n",
       "      <td>6040</td>\n",
       "      <td>1921</td>\n",
       "      <td>4</td>\n",
       "      <td>2001-08-10 14:41:04</td>\n",
       "      <td>471160</td>\n",
       "    </tr>\n",
       "    <tr>\n",
       "      <th>1000206</th>\n",
       "      <td>6040</td>\n",
       "      <td>1784</td>\n",
       "      <td>3</td>\n",
       "      <td>2001-08-10 14:41:04</td>\n",
       "      <td>471160</td>\n",
       "    </tr>\n",
       "    <tr>\n",
       "      <th>1000207</th>\n",
       "      <td>6040</td>\n",
       "      <td>161</td>\n",
       "      <td>3</td>\n",
       "      <td>2001-08-10 14:41:26</td>\n",
       "      <td>471161</td>\n",
       "    </tr>\n",
       "    <tr>\n",
       "      <th>1000208</th>\n",
       "      <td>6040</td>\n",
       "      <td>1221</td>\n",
       "      <td>4</td>\n",
       "      <td>2001-08-20 13:44:15</td>\n",
       "      <td>471162</td>\n",
       "    </tr>\n",
       "  </tbody>\n",
       "</table>\n",
       "<p>1000209 rows × 5 columns</p>\n",
       "</div>"
      ],
      "text/plain": [
       "         UserId  ItemId  Rating                Time  SessionId\n",
       "0             1    3186       4 2000-12-31 22:00:19          0\n",
       "1             1    1270       5 2000-12-31 22:00:55          1\n",
       "2             1    1721       4 2000-12-31 22:00:55          1\n",
       "3             1    1022       5 2000-12-31 22:00:55          1\n",
       "4             1    2340       3 2000-12-31 22:01:43          2\n",
       "...         ...     ...     ...                 ...        ...\n",
       "1000204    6040    2917       4 2001-08-10 14:40:29     471159\n",
       "1000205    6040    1921       4 2001-08-10 14:41:04     471160\n",
       "1000206    6040    1784       3 2001-08-10 14:41:04     471160\n",
       "1000207    6040     161       3 2001-08-10 14:41:26     471161\n",
       "1000208    6040    1221       4 2001-08-20 13:44:15     471162\n",
       "\n",
       "[1000209 rows x 5 columns]"
      ]
     },
     "execution_count": 10,
     "metadata": {},
     "output_type": "execute_result"
    }
   ],
   "source": [
    "#불필요한 칼럼 삭제\n",
    "new_data.drop(columns = 'ItemId_y', inplace = True)\n",
    "\n",
    "#칼럼 명 수정\n",
    "new_data.rename(columns = {'ItemId_x' : 'ItemId'}, inplace = True)\n",
    "new_data.rename(columns = {'index' : 'SessionId'}, inplace = True)\n",
    "\n",
    "new_data"
   ]
  },
  {
   "cell_type": "code",
   "execution_count": 11,
   "id": "d8932a6f",
   "metadata": {},
   "outputs": [
    {
     "name": "stdout",
     "output_type": "stream",
     "text": [
      "471163\n"
     ]
    }
   ],
   "source": [
    "#session length 확인\n",
    "session_length = new_data.groupby('SessionId').size()\n",
    "print(len(session_length))"
   ]
  },
  {
   "cell_type": "code",
   "execution_count": 12,
   "id": "3add1d1b",
   "metadata": {},
   "outputs": [
    {
     "name": "stdout",
     "output_type": "stream",
     "text": [
      "count    471163.000000\n",
      "mean          2.122851\n",
      "std           1.546899\n",
      "min           1.000000\n",
      "25%           1.000000\n",
      "50%           2.000000\n",
      "75%           3.000000\n",
      "max          30.000000\n",
      "dtype: float64\n",
      "=======================================================\n",
      "session_length median: 2.0, 99.9%: 10.0\n"
     ]
    }
   ],
   "source": [
    "print(session_length.describe().T)\n",
    "print(\"=======================================================\")\n",
    "print(\"session_length median: {}, 99.9%: {}\".format(session_length.median(), session_length.quantile(0.999)))   "
   ]
  },
  {
   "cell_type": "markdown",
   "id": "d8e0c83e",
   "metadata": {},
   "source": [
    "- 중앙값과 평균을 바탕으로 세션 하나당 약 2개의 영화를 평가 \n",
    "- 최대 30개 최소 1개 영화를 평가\n",
    "- 99.9&의 세션이 10개 이하의 영화를 평가 "
   ]
  },
  {
   "cell_type": "code",
   "execution_count": 13,
   "id": "d28a8b47",
   "metadata": {},
   "outputs": [
    {
     "data": {
      "text/html": [
       "<div>\n",
       "<style scoped>\n",
       "    .dataframe tbody tr th:only-of-type {\n",
       "        vertical-align: middle;\n",
       "    }\n",
       "\n",
       "    .dataframe tbody tr th {\n",
       "        vertical-align: top;\n",
       "    }\n",
       "\n",
       "    .dataframe thead th {\n",
       "        text-align: right;\n",
       "    }\n",
       "</style>\n",
       "<table border=\"1\" class=\"dataframe\">\n",
       "  <thead>\n",
       "    <tr style=\"text-align: right;\">\n",
       "      <th></th>\n",
       "      <th>UserId</th>\n",
       "      <th>ItemId</th>\n",
       "      <th>Rating</th>\n",
       "      <th>Time</th>\n",
       "      <th>SessionId</th>\n",
       "    </tr>\n",
       "  </thead>\n",
       "  <tbody>\n",
       "    <tr>\n",
       "      <th>112347</th>\n",
       "      <td>731</td>\n",
       "      <td>3044</td>\n",
       "      <td>4</td>\n",
       "      <td>2000-11-29 20:06:42</td>\n",
       "      <td>55117</td>\n",
       "    </tr>\n",
       "    <tr>\n",
       "      <th>112348</th>\n",
       "      <td>731</td>\n",
       "      <td>1455</td>\n",
       "      <td>3</td>\n",
       "      <td>2000-11-29 20:06:42</td>\n",
       "      <td>55117</td>\n",
       "    </tr>\n",
       "    <tr>\n",
       "      <th>112349</th>\n",
       "      <td>731</td>\n",
       "      <td>1639</td>\n",
       "      <td>5</td>\n",
       "      <td>2000-11-29 20:06:42</td>\n",
       "      <td>55117</td>\n",
       "    </tr>\n",
       "    <tr>\n",
       "      <th>112350</th>\n",
       "      <td>731</td>\n",
       "      <td>3244</td>\n",
       "      <td>4</td>\n",
       "      <td>2000-11-29 20:06:42</td>\n",
       "      <td>55117</td>\n",
       "    </tr>\n",
       "    <tr>\n",
       "      <th>112351</th>\n",
       "      <td>731</td>\n",
       "      <td>1656</td>\n",
       "      <td>2</td>\n",
       "      <td>2000-11-29 20:06:42</td>\n",
       "      <td>55117</td>\n",
       "    </tr>\n",
       "    <tr>\n",
       "      <th>112352</th>\n",
       "      <td>731</td>\n",
       "      <td>3426</td>\n",
       "      <td>4</td>\n",
       "      <td>2000-11-29 20:06:42</td>\n",
       "      <td>55117</td>\n",
       "    </tr>\n",
       "    <tr>\n",
       "      <th>112353</th>\n",
       "      <td>731</td>\n",
       "      <td>1829</td>\n",
       "      <td>2</td>\n",
       "      <td>2000-11-29 20:06:42</td>\n",
       "      <td>55117</td>\n",
       "    </tr>\n",
       "    <tr>\n",
       "      <th>112354</th>\n",
       "      <td>731</td>\n",
       "      <td>2675</td>\n",
       "      <td>4</td>\n",
       "      <td>2000-11-29 20:06:42</td>\n",
       "      <td>55117</td>\n",
       "    </tr>\n",
       "    <tr>\n",
       "      <th>112355</th>\n",
       "      <td>731</td>\n",
       "      <td>802</td>\n",
       "      <td>3</td>\n",
       "      <td>2000-11-29 20:06:42</td>\n",
       "      <td>55117</td>\n",
       "    </tr>\n",
       "    <tr>\n",
       "      <th>112356</th>\n",
       "      <td>731</td>\n",
       "      <td>803</td>\n",
       "      <td>5</td>\n",
       "      <td>2000-11-29 20:06:42</td>\n",
       "      <td>55117</td>\n",
       "    </tr>\n",
       "    <tr>\n",
       "      <th>112357</th>\n",
       "      <td>731</td>\n",
       "      <td>1357</td>\n",
       "      <td>4</td>\n",
       "      <td>2000-11-29 20:06:42</td>\n",
       "      <td>55117</td>\n",
       "    </tr>\n",
       "    <tr>\n",
       "      <th>112358</th>\n",
       "      <td>731</td>\n",
       "      <td>838</td>\n",
       "      <td>5</td>\n",
       "      <td>2000-11-29 20:06:42</td>\n",
       "      <td>55117</td>\n",
       "    </tr>\n",
       "    <tr>\n",
       "      <th>112359</th>\n",
       "      <td>731</td>\n",
       "      <td>2171</td>\n",
       "      <td>4</td>\n",
       "      <td>2000-11-29 20:06:42</td>\n",
       "      <td>55117</td>\n",
       "    </tr>\n",
       "    <tr>\n",
       "      <th>112360</th>\n",
       "      <td>731</td>\n",
       "      <td>852</td>\n",
       "      <td>2</td>\n",
       "      <td>2000-11-29 20:06:42</td>\n",
       "      <td>55117</td>\n",
       "    </tr>\n",
       "    <tr>\n",
       "      <th>112361</th>\n",
       "      <td>731</td>\n",
       "      <td>2331</td>\n",
       "      <td>4</td>\n",
       "      <td>2000-11-29 20:06:42</td>\n",
       "      <td>55117</td>\n",
       "    </tr>\n",
       "    <tr>\n",
       "      <th>112362</th>\n",
       "      <td>731</td>\n",
       "      <td>1535</td>\n",
       "      <td>3</td>\n",
       "      <td>2000-11-29 20:06:42</td>\n",
       "      <td>55117</td>\n",
       "    </tr>\n",
       "    <tr>\n",
       "      <th>112363</th>\n",
       "      <td>731</td>\n",
       "      <td>1393</td>\n",
       "      <td>2</td>\n",
       "      <td>2000-11-29 20:06:42</td>\n",
       "      <td>55117</td>\n",
       "    </tr>\n",
       "    <tr>\n",
       "      <th>112364</th>\n",
       "      <td>731</td>\n",
       "      <td>1564</td>\n",
       "      <td>4</td>\n",
       "      <td>2000-11-29 20:06:42</td>\n",
       "      <td>55117</td>\n",
       "    </tr>\n",
       "    <tr>\n",
       "      <th>112365</th>\n",
       "      <td>731</td>\n",
       "      <td>892</td>\n",
       "      <td>5</td>\n",
       "      <td>2000-11-29 20:06:42</td>\n",
       "      <td>55117</td>\n",
       "    </tr>\n",
       "    <tr>\n",
       "      <th>112366</th>\n",
       "      <td>731</td>\n",
       "      <td>151</td>\n",
       "      <td>3</td>\n",
       "      <td>2000-11-29 20:06:42</td>\n",
       "      <td>55117</td>\n",
       "    </tr>\n",
       "    <tr>\n",
       "      <th>112367</th>\n",
       "      <td>731</td>\n",
       "      <td>2715</td>\n",
       "      <td>2</td>\n",
       "      <td>2000-11-29 20:06:42</td>\n",
       "      <td>55117</td>\n",
       "    </tr>\n",
       "    <tr>\n",
       "      <th>112368</th>\n",
       "      <td>731</td>\n",
       "      <td>2570</td>\n",
       "      <td>2</td>\n",
       "      <td>2000-11-29 20:06:42</td>\n",
       "      <td>55117</td>\n",
       "    </tr>\n",
       "    <tr>\n",
       "      <th>112369</th>\n",
       "      <td>731</td>\n",
       "      <td>39</td>\n",
       "      <td>5</td>\n",
       "      <td>2000-11-29 20:06:42</td>\n",
       "      <td>55117</td>\n",
       "    </tr>\n",
       "    <tr>\n",
       "      <th>112370</th>\n",
       "      <td>731</td>\n",
       "      <td>2919</td>\n",
       "      <td>4</td>\n",
       "      <td>2000-11-29 20:06:42</td>\n",
       "      <td>55117</td>\n",
       "    </tr>\n",
       "    <tr>\n",
       "      <th>112371</th>\n",
       "      <td>731</td>\n",
       "      <td>49</td>\n",
       "      <td>4</td>\n",
       "      <td>2000-11-29 20:06:42</td>\n",
       "      <td>55117</td>\n",
       "    </tr>\n",
       "    <tr>\n",
       "      <th>112372</th>\n",
       "      <td>731</td>\n",
       "      <td>58</td>\n",
       "      <td>4</td>\n",
       "      <td>2000-11-29 20:06:42</td>\n",
       "      <td>55117</td>\n",
       "    </tr>\n",
       "    <tr>\n",
       "      <th>112373</th>\n",
       "      <td>731</td>\n",
       "      <td>1210</td>\n",
       "      <td>3</td>\n",
       "      <td>2000-11-29 20:06:42</td>\n",
       "      <td>55117</td>\n",
       "    </tr>\n",
       "    <tr>\n",
       "      <th>112374</th>\n",
       "      <td>731</td>\n",
       "      <td>85</td>\n",
       "      <td>4</td>\n",
       "      <td>2000-11-29 20:06:42</td>\n",
       "      <td>55117</td>\n",
       "    </tr>\n",
       "    <tr>\n",
       "      <th>112375</th>\n",
       "      <td>731</td>\n",
       "      <td>2969</td>\n",
       "      <td>4</td>\n",
       "      <td>2000-11-29 20:06:42</td>\n",
       "      <td>55117</td>\n",
       "    </tr>\n",
       "    <tr>\n",
       "      <th>112376</th>\n",
       "      <td>731</td>\n",
       "      <td>1244</td>\n",
       "      <td>5</td>\n",
       "      <td>2000-11-29 20:06:42</td>\n",
       "      <td>55117</td>\n",
       "    </tr>\n",
       "  </tbody>\n",
       "</table>\n",
       "</div>"
      ],
      "text/plain": [
       "        UserId  ItemId  Rating                Time  SessionId\n",
       "112347     731    3044       4 2000-11-29 20:06:42      55117\n",
       "112348     731    1455       3 2000-11-29 20:06:42      55117\n",
       "112349     731    1639       5 2000-11-29 20:06:42      55117\n",
       "112350     731    3244       4 2000-11-29 20:06:42      55117\n",
       "112351     731    1656       2 2000-11-29 20:06:42      55117\n",
       "112352     731    3426       4 2000-11-29 20:06:42      55117\n",
       "112353     731    1829       2 2000-11-29 20:06:42      55117\n",
       "112354     731    2675       4 2000-11-29 20:06:42      55117\n",
       "112355     731     802       3 2000-11-29 20:06:42      55117\n",
       "112356     731     803       5 2000-11-29 20:06:42      55117\n",
       "112357     731    1357       4 2000-11-29 20:06:42      55117\n",
       "112358     731     838       5 2000-11-29 20:06:42      55117\n",
       "112359     731    2171       4 2000-11-29 20:06:42      55117\n",
       "112360     731     852       2 2000-11-29 20:06:42      55117\n",
       "112361     731    2331       4 2000-11-29 20:06:42      55117\n",
       "112362     731    1535       3 2000-11-29 20:06:42      55117\n",
       "112363     731    1393       2 2000-11-29 20:06:42      55117\n",
       "112364     731    1564       4 2000-11-29 20:06:42      55117\n",
       "112365     731     892       5 2000-11-29 20:06:42      55117\n",
       "112366     731     151       3 2000-11-29 20:06:42      55117\n",
       "112367     731    2715       2 2000-11-29 20:06:42      55117\n",
       "112368     731    2570       2 2000-11-29 20:06:42      55117\n",
       "112369     731      39       5 2000-11-29 20:06:42      55117\n",
       "112370     731    2919       4 2000-11-29 20:06:42      55117\n",
       "112371     731      49       4 2000-11-29 20:06:42      55117\n",
       "112372     731      58       4 2000-11-29 20:06:42      55117\n",
       "112373     731    1210       3 2000-11-29 20:06:42      55117\n",
       "112374     731      85       4 2000-11-29 20:06:42      55117\n",
       "112375     731    2969       4 2000-11-29 20:06:42      55117\n",
       "112376     731    1244       5 2000-11-29 20:06:42      55117"
      ]
     },
     "metadata": {},
     "output_type": "display_data"
    },
    {
     "data": {
      "text/plain": [
       "(30, 5)"
      ]
     },
     "execution_count": 13,
     "metadata": {},
     "output_type": "execute_result"
    }
   ],
   "source": [
    "#30개 영화 평가한 세션 확인 \n",
    "long_session = session_length[session_length==30].index[0]\n",
    "display(new_data[new_data['SessionId']==long_session])\n",
    "new_data[new_data['SessionId']==long_session].shape"
   ]
  },
  {
   "cell_type": "markdown",
   "id": "8e13585f",
   "metadata": {},
   "source": [
    "- 2000-11-29 20:06:42, 1초 안에 30개 영화를 평가했다는 것은 이상치로 판단함 "
   ]
  },
  {
   "cell_type": "code",
   "execution_count": 14,
   "id": "0fb8ca11",
   "metadata": {},
   "outputs": [
    {
     "data": {
      "text/html": [
       "<div>\n",
       "<style scoped>\n",
       "    .dataframe tbody tr th:only-of-type {\n",
       "        vertical-align: middle;\n",
       "    }\n",
       "\n",
       "    .dataframe tbody tr th {\n",
       "        vertical-align: top;\n",
       "    }\n",
       "\n",
       "    .dataframe thead th {\n",
       "        text-align: right;\n",
       "    }\n",
       "</style>\n",
       "<table border=\"1\" class=\"dataframe\">\n",
       "  <thead>\n",
       "    <tr style=\"text-align: right;\">\n",
       "      <th></th>\n",
       "      <th>UserId</th>\n",
       "      <th>ItemId</th>\n",
       "      <th>Rating</th>\n",
       "      <th>Time</th>\n",
       "      <th>SessionId</th>\n",
       "    </tr>\n",
       "  </thead>\n",
       "  <tbody>\n",
       "    <tr>\n",
       "      <th>0</th>\n",
       "      <td>1</td>\n",
       "      <td>3186</td>\n",
       "      <td>4</td>\n",
       "      <td>2000-12-31 22:00:19</td>\n",
       "      <td>0</td>\n",
       "    </tr>\n",
       "    <tr>\n",
       "      <th>1</th>\n",
       "      <td>1</td>\n",
       "      <td>1270</td>\n",
       "      <td>5</td>\n",
       "      <td>2000-12-31 22:00:55</td>\n",
       "      <td>1</td>\n",
       "    </tr>\n",
       "    <tr>\n",
       "      <th>2</th>\n",
       "      <td>1</td>\n",
       "      <td>1721</td>\n",
       "      <td>4</td>\n",
       "      <td>2000-12-31 22:00:55</td>\n",
       "      <td>1</td>\n",
       "    </tr>\n",
       "    <tr>\n",
       "      <th>3</th>\n",
       "      <td>1</td>\n",
       "      <td>1022</td>\n",
       "      <td>5</td>\n",
       "      <td>2000-12-31 22:00:55</td>\n",
       "      <td>1</td>\n",
       "    </tr>\n",
       "    <tr>\n",
       "      <th>4</th>\n",
       "      <td>1</td>\n",
       "      <td>2340</td>\n",
       "      <td>3</td>\n",
       "      <td>2000-12-31 22:01:43</td>\n",
       "      <td>2</td>\n",
       "    </tr>\n",
       "    <tr>\n",
       "      <th>...</th>\n",
       "      <td>...</td>\n",
       "      <td>...</td>\n",
       "      <td>...</td>\n",
       "      <td>...</td>\n",
       "      <td>...</td>\n",
       "    </tr>\n",
       "    <tr>\n",
       "      <th>1000204</th>\n",
       "      <td>6040</td>\n",
       "      <td>2917</td>\n",
       "      <td>4</td>\n",
       "      <td>2001-08-10 14:40:29</td>\n",
       "      <td>471159</td>\n",
       "    </tr>\n",
       "    <tr>\n",
       "      <th>1000205</th>\n",
       "      <td>6040</td>\n",
       "      <td>1921</td>\n",
       "      <td>4</td>\n",
       "      <td>2001-08-10 14:41:04</td>\n",
       "      <td>471160</td>\n",
       "    </tr>\n",
       "    <tr>\n",
       "      <th>1000206</th>\n",
       "      <td>6040</td>\n",
       "      <td>1784</td>\n",
       "      <td>3</td>\n",
       "      <td>2001-08-10 14:41:04</td>\n",
       "      <td>471160</td>\n",
       "    </tr>\n",
       "    <tr>\n",
       "      <th>1000207</th>\n",
       "      <td>6040</td>\n",
       "      <td>161</td>\n",
       "      <td>3</td>\n",
       "      <td>2001-08-10 14:41:26</td>\n",
       "      <td>471161</td>\n",
       "    </tr>\n",
       "    <tr>\n",
       "      <th>1000208</th>\n",
       "      <td>6040</td>\n",
       "      <td>1221</td>\n",
       "      <td>4</td>\n",
       "      <td>2001-08-20 13:44:15</td>\n",
       "      <td>471162</td>\n",
       "    </tr>\n",
       "  </tbody>\n",
       "</table>\n",
       "<p>1000179 rows × 5 columns</p>\n",
       "</div>"
      ],
      "text/plain": [
       "         UserId  ItemId  Rating                Time  SessionId\n",
       "0             1    3186       4 2000-12-31 22:00:19          0\n",
       "1             1    1270       5 2000-12-31 22:00:55          1\n",
       "2             1    1721       4 2000-12-31 22:00:55          1\n",
       "3             1    1022       5 2000-12-31 22:00:55          1\n",
       "4             1    2340       3 2000-12-31 22:01:43          2\n",
       "...         ...     ...     ...                 ...        ...\n",
       "1000204    6040    2917       4 2001-08-10 14:40:29     471159\n",
       "1000205    6040    1921       4 2001-08-10 14:41:04     471160\n",
       "1000206    6040    1784       3 2001-08-10 14:41:04     471160\n",
       "1000207    6040     161       3 2001-08-10 14:41:26     471161\n",
       "1000208    6040    1221       4 2001-08-20 13:44:15     471162\n",
       "\n",
       "[1000179 rows x 5 columns]"
      ]
     },
     "execution_count": 14,
     "metadata": {},
     "output_type": "execute_result"
    }
   ],
   "source": [
    "#이상치 제거\n",
    "new_data = new_data.loc[new_data['SessionId'] != long_session]\n",
    "new_data"
   ]
  },
  {
   "cell_type": "code",
   "execution_count": 15,
   "id": "f54dde2b",
   "metadata": {},
   "outputs": [
    {
     "data": {
      "text/plain": [
       "(Timestamp('2000-04-25 23:05:32'), Timestamp('2003-02-28 17:49:50'))"
      ]
     },
     "execution_count": 15,
     "metadata": {},
     "output_type": "execute_result"
    }
   ],
   "source": [
    "new_data['Time'].min(), new_data['Time'].max()"
   ]
  },
  {
   "cell_type": "code",
   "execution_count": 16,
   "id": "c269d70a",
   "metadata": {},
   "outputs": [
    {
     "name": "stdout",
     "output_type": "stream",
     "text": [
      "2000년 데이터 개수: 904727\n",
      "2001년 데이터 개수: 70230\n",
      "2002년 데이터 개수: 24046\n",
      "2003년 데이터 개수: 3369\n"
     ]
    }
   ],
   "source": [
    "time2000 = new_data[new_data['Time'] < dt.datetime(2001,1,1)]#2000년 데이터\n",
    "time2001 = new_data[(new_data['Time'] > dt.datetime(2000,12,31)) & (new_data['Time'] < dt.datetime(2002,1,1))]#2001년 데이터 \n",
    "time2002 = new_data[(new_data['Time'] >= dt.datetime(2002,1,1)) & (new_data['Time'] < dt.datetime(2003,1,1))]#2002년 데이터 \n",
    "time2003 = new_data[new_data['Time'] > dt.datetime(2002,12,31)] #2003년 데이터 \n",
    "print(\"2000년 데이터 개수: {}\".format(time2000.shape[0]))\n",
    "print(\"2001년 데이터 개수: {}\".format(time2001.shape[0]))\n",
    "print(\"2002년 데이터 개수: {}\".format(time2002.shape[0]))\n",
    "print(\"2003년 데이터 개수: {}\".format(time2003.shape[0]))"
   ]
  },
  {
   "cell_type": "markdown",
   "id": "b4908493",
   "metadata": {},
   "source": [
    "- 2000년에서 2003년으로 갈수록 데이터 적어짐 "
   ]
  },
  {
   "cell_type": "code",
   "execution_count": 17,
   "id": "8dccc24d",
   "metadata": {},
   "outputs": [],
   "source": [
    "#평점 3점 이상인 영화만 남기고 제거 \n",
    "new_data = new_data[new_data['Rating'] >= 3]"
   ]
  },
  {
   "cell_type": "markdown",
   "id": "29f6750f",
   "metadata": {},
   "source": [
    "### Dataset 분리 \n",
    "- test set: last_time에서 100일 전까지\n",
    "- train set: 100일 제외한 나머지 기간 \n",
    "- validation: train set의 last time에서 365일 전까지 "
   ]
  },
  {
   "cell_type": "code",
   "execution_count": 18,
   "id": "ca1451ec",
   "metadata": {},
   "outputs": [],
   "source": [
    "def split_by_date(data: pd.DataFrame, n_days: int):\n",
    "    final_time = data['Time'].max()\n",
    "    session_last_time = data.groupby('SessionId')['Time'].max()\n",
    "    session_in_train = session_last_time[session_last_time < final_time - dt.timedelta(n_days)].index\n",
    "    session_in_test = session_last_time[session_last_time >= final_time - dt.timedelta(n_days)].index\n",
    "\n",
    "    before_date = data[data['SessionId'].isin(session_in_train)]\n",
    "    after_date = data[data['SessionId'].isin(session_in_test)]\n",
    "    after_date = after_date[after_date['ItemId'].isin(before_date['ItemId'])]\n",
    "    return before_date, after_date"
   ]
  },
  {
   "cell_type": "code",
   "execution_count": 19,
   "id": "7552a988",
   "metadata": {},
   "outputs": [],
   "source": [
    "#test dataset 분리\n",
    "train, test = split_by_date(new_data, n_days = 100)\n",
    "#validation dataset 분리\n",
    "train, val = split_by_date(train, n_days = 365)"
   ]
  },
  {
   "cell_type": "code",
   "execution_count": 20,
   "id": "6fc95432",
   "metadata": {},
   "outputs": [],
   "source": [
    "#new_data에 대한 정보.\n",
    "def stats_info(data: pd.DataFrame, status: str):\n",
    "    print(f'* {status} Set Stats Info\\n'\n",
    "          f'\\t Events: {len(data)}\\n'\n",
    "          f'\\t Sessions: {data[\"SessionId\"].nunique()}\\n'\n",
    "          f'\\t Items: {data[\"ItemId\"].nunique()}\\n'\n",
    "          f'\\t First Time : {data[\"Time\"].min()}\\n'\n",
    "          f'\\t Last Time : {data[\"Time\"].max()}\\n')"
   ]
  },
  {
   "cell_type": "code",
   "execution_count": 21,
   "id": "1bbc318c",
   "metadata": {},
   "outputs": [
    {
     "name": "stdout",
     "output_type": "stream",
     "text": [
      "* train Set Stats Info\n",
      "\t Events: 810327\n",
      "\t Sessions: 404871\n",
      "\t Items: 3612\n",
      "\t First Time : 2000-04-25 23:05:32\n",
      "\t Last Time : 2001-11-20 05:13:09\n",
      "\n",
      "* valid Set Stats Info\n",
      "\t Events: 21991\n",
      "\t Sessions: 15450\n",
      "\t Items: 2820\n",
      "\t First Time : 2001-11-20 19:04:49\n",
      "\t Last Time : 2002-11-20 16:38:40\n",
      "\n",
      "* test Set Stats Info\n",
      "\t Events: 4118\n",
      "\t Sessions: 3071\n",
      "\t Items: 1625\n",
      "\t First Time : 2002-11-20 20:30:02\n",
      "\t Last Time : 2003-02-28 17:49:50\n",
      "\n"
     ]
    }
   ],
   "source": [
    "stats_info(train, 'train')\n",
    "stats_info(val, 'valid')\n",
    "stats_info(test, 'test')"
   ]
  },
  {
   "cell_type": "code",
   "execution_count": 22,
   "id": "7c394341",
   "metadata": {},
   "outputs": [],
   "source": [
    "#train data를 기준으로 인덱싱.\n",
    "id2idx = {item_id : index for index, item_id in enumerate(train['ItemId'].unique())}\n",
    "\n",
    "def indexing(df, id2idx):\n",
    "    df['item_idx'] = df['ItemId'].map(lambda x: id2idx.get(x, -1))  #id2idx에 없는 아이템은 모르는 값(-1) 처리.\n",
    "    return df\n",
    "\n",
    "train = indexing(train, id2idx)\n",
    "val = indexing(val, id2idx)\n",
    "test = indexing(test, id2idx)"
   ]
  },
  {
   "cell_type": "code",
   "execution_count": 23,
   "id": "0ac64120",
   "metadata": {},
   "outputs": [],
   "source": [
    "#전처리 완료 된 데이터 저장.\n",
    "save_path = data_path / 'processed'\n",
    "save_path.mkdir(parents=True, exist_ok=True)\n",
    "\n",
    "train.to_pickle(save_path / 'train.pkl')\n",
    "val.to_pickle(save_path / 'valid.pkl')\n",
    "test.to_pickle(save_path / 'test.pkl')"
   ]
  },
  {
   "cell_type": "markdown",
   "id": "f814675f",
   "metadata": {},
   "source": [
    "### Data Pipeline"
   ]
  },
  {
   "cell_type": "code",
   "execution_count": 24,
   "id": "6cf140fa",
   "metadata": {},
   "outputs": [],
   "source": [
    "#데이터가 주어지면 세션이 시작되는 인덱스를 담는 값과 세션을 새로 인덱싱한 값을 갖는 클래스\n",
    "class SessionDataset:\n",
    "    \"\"\"Credit to yhs-968/pyGRU4REC.\"\"\"\n",
    "\n",
    "    def __init__(self, data):\n",
    "        self.df = data\n",
    "        self.click_offsets = self.get_click_offsets()\n",
    "        self.session_idx = np.arange(self.df['SessionId'].nunique())  # indexing to SessionId\n",
    "\n",
    "    def get_click_offsets(self):\n",
    "        \"\"\"\n",
    "        Return the indexes of the first click of each session IDs,\n",
    "        \"\"\"\n",
    "        offsets = np.zeros(self.df['SessionId'].nunique() + 1, dtype=np.int32)\n",
    "        offsets[1:] = self.df.groupby('SessionId').size().cumsum()\n",
    "        return offsets"
   ]
  },
  {
   "cell_type": "code",
   "execution_count": 25,
   "id": "2738a4ae",
   "metadata": {},
   "outputs": [
    {
     "data": {
      "text/html": [
       "<div>\n",
       "<style scoped>\n",
       "    .dataframe tbody tr th:only-of-type {\n",
       "        vertical-align: middle;\n",
       "    }\n",
       "\n",
       "    .dataframe tbody tr th {\n",
       "        vertical-align: top;\n",
       "    }\n",
       "\n",
       "    .dataframe thead th {\n",
       "        text-align: right;\n",
       "    }\n",
       "</style>\n",
       "<table border=\"1\" class=\"dataframe\">\n",
       "  <thead>\n",
       "    <tr style=\"text-align: right;\">\n",
       "      <th></th>\n",
       "      <th>UserId</th>\n",
       "      <th>ItemId</th>\n",
       "      <th>Rating</th>\n",
       "      <th>Time</th>\n",
       "      <th>SessionId</th>\n",
       "      <th>item_idx</th>\n",
       "    </tr>\n",
       "  </thead>\n",
       "  <tbody>\n",
       "    <tr>\n",
       "      <th>0</th>\n",
       "      <td>1</td>\n",
       "      <td>3186</td>\n",
       "      <td>4</td>\n",
       "      <td>2000-12-31 22:00:19</td>\n",
       "      <td>0</td>\n",
       "      <td>0</td>\n",
       "    </tr>\n",
       "    <tr>\n",
       "      <th>1</th>\n",
       "      <td>1</td>\n",
       "      <td>1270</td>\n",
       "      <td>5</td>\n",
       "      <td>2000-12-31 22:00:55</td>\n",
       "      <td>1</td>\n",
       "      <td>1</td>\n",
       "    </tr>\n",
       "  </tbody>\n",
       "</table>\n",
       "</div>"
      ],
      "text/plain": [
       "   UserId  ItemId  Rating                Time  SessionId  item_idx\n",
       "0       1    3186       4 2000-12-31 22:00:19          0         0\n",
       "1       1    1270       5 2000-12-31 22:00:55          1         1"
      ]
     },
     "execution_count": 25,
     "metadata": {},
     "output_type": "execute_result"
    }
   ],
   "source": [
    "#train데이터로 SessionDataset 객체를 만들기.\n",
    "train_dataset = SessionDataset(train)\n",
    "train_dataset.df.head(2)"
   ]
  },
  {
   "cell_type": "code",
   "execution_count": 26,
   "id": "6c8c8f11",
   "metadata": {},
   "outputs": [
    {
     "data": {
      "text/plain": [
       "array([     0,      1,      2, ..., 404868, 404869, 404870])"
      ]
     },
     "execution_count": 26,
     "metadata": {},
     "output_type": "execute_result"
    }
   ],
   "source": [
    "train_dataset.click_offsets #click_offsets : 각 세션이 시작된 인덱스 담고 있음.\n",
    "train_dataset.session_idx #각 세션을 인덱싱한 np.array"
   ]
  },
  {
   "cell_type": "markdown",
   "id": "e4ce81b7",
   "metadata": {},
   "source": [
    "### SessionDataLoader\n",
    "- SessionDataLoader:SessionDataset 객체를 받아서 Session-Parallel mini-batch를 만드는 클래스  \n",
    "- __iter__ 메서드는 모델 인풋, 라벨, 세션이 끝나는 곳의 위치를 yield함\n",
    "- mask는 후에 RNN Cell State를 초기화하는데 사용할 것"
   ]
  },
  {
   "cell_type": "code",
   "execution_count": 27,
   "id": "ec7eee65",
   "metadata": {},
   "outputs": [],
   "source": [
    "class SessionDataLoader:\n",
    "    \"\"\"Credit to yhs-968/pyGRU4REC.\"\"\"\n",
    "\n",
    "    def __init__(self, dataset: SessionDataset, batch_size=50):\n",
    "        self.dataset = dataset\n",
    "        self.batch_size = batch_size\n",
    "\n",
    "    def __iter__(self):\n",
    "        \"\"\" Returns the iterator for producing session-parallel training mini-batches.\n",
    "        Yields:\n",
    "            input (B,):  Item indices that will be encoded as one-hot vectors later.\n",
    "            target (B,): a Variable that stores the target item indices\n",
    "            masks: Numpy array indicating the positions of the sessions to be terminated\n",
    "        \"\"\"\n",
    "\n",
    "        start, end, mask, last_session, finished = self.initialize()  # initialize 메소드에서 확인\n",
    "        \"\"\"\n",
    "        start : Index Where Session Start\n",
    "        end : Index Where Session End\n",
    "        mask : indicator for the sessions to be terminated\n",
    "        \"\"\"\n",
    "\n",
    "        while not finished:\n",
    "            min_len = (end - start).min() - 1  # Shortest Length Among Sessions\n",
    "            for i in range(min_len):\n",
    "                # Build inputs & targets\n",
    "                inp = self.dataset.df['item_idx'].values[start + i]\n",
    "                target = self.dataset.df['item_idx'].values[start + i + 1]\n",
    "                yield inp, target, mask\n",
    "\n",
    "            start, end, mask, last_session, finished = self.update_status(start, end, min_len, last_session, finished)\n",
    "\n",
    "    def initialize(self):\n",
    "        first_iters = np.arange(self.batch_size)    # 첫 배치에 사용할 세션 Index를 가져옴\n",
    "        last_session = self.batch_size - 1    # 마지막으로 다루고 있는 세션 Index를 저장함\n",
    "        start = self.dataset.click_offsets[self.dataset.session_idx[first_iters]]       # data 상에서 session이 시작된 위치를 가져오기\n",
    "        end = self.dataset.click_offsets[self.dataset.session_idx[first_iters] + 1]  # session이 끝난 위치 바로 다음 위치를 가져오기\n",
    "        mask = np.array([])   # session의 모든 아이템을 다 돌은 경우 mask에 추가해줄 것임\n",
    "        finished = False         # data를 전부 돌았는지 기록하기 위한 변수\n",
    "        return start, end, mask, last_session, finished\n",
    "\n",
    "    def update_status(self, start: np.ndarray, end: np.ndarray, min_len: int, last_session: int, finished: bool):  \n",
    "        # 다음 배치 데이터를 생성하기 위해 상태를 update함\n",
    "        \n",
    "        start += min_len   # __iter__에서 min_len 만큼 for문을 돌았으므로 start를 min_len 만큼 더해줌\n",
    "        mask = np.arange(self.batch_size)[(end - start) == 1]  \n",
    "        # end는 다음 세션이 시작되는 위치인데 start와 한 칸 차이난다는 것은 session이 끝났다는 뜻 mask에 기록\n",
    "\n",
    "        for i, idx in enumerate(mask, start=1):  # mask에 추가된 세션 개수만큼 새로운 세션을 돌것\n",
    "            new_session = last_session + i  \n",
    "            if new_session > self.dataset.session_idx[-1]:  # 만약 새로운 세션이 마지막 세션 index보다 크다면 모든 학습데이터를 돈 것\n",
    "                finished = True\n",
    "                break\n",
    "            # update the next starting/ending point\n",
    "            start[idx] = self.dataset.click_offsets[self.dataset.session_idx[new_session]]     # 종료된 세션 대신 새로운 세션의 시작점을 기록\n",
    "            end[idx] = self.dataset.click_offsets[self.dataset.session_idx[new_session] + 1]\n",
    "\n",
    "        last_session += len(mask)  # 마지막 세션의 위치를 기록\n",
    "        return start, end, mask, last_session, finished"
   ]
  },
  {
   "cell_type": "code",
   "execution_count": 28,
   "id": "4dd76745",
   "metadata": {},
   "outputs": [
    {
     "name": "stdout",
     "output_type": "stream",
     "text": [
      "Model Input Item Idx are : [19  1  7  9]\n",
      "Label Item Idx are :       [20  2  8 10]\n",
      "Previous Masked Input Idx are [0]\n"
     ]
    }
   ],
   "source": [
    "train_data_loader = SessionDataLoader(train_dataset, batch_size=4)\n",
    "iter_ex = iter(train_data_loader)\n",
    "inputs, labels, mask =  next(iter_ex)\n",
    "print(f'Model Input Item Idx are : {inputs}')\n",
    "print(f'Label Item Idx are : {\"\":5} {labels}')\n",
    "print(f'Previous Masked Input Idx are {mask}')"
   ]
  },
  {
   "cell_type": "markdown",
   "id": "ccafa7fd",
   "metadata": {},
   "source": [
    "### Modeling \n",
    "- Evaluation Metric\n",
    "MRR과 Recall@k를 사용할 것.\n",
    "MRR은 정답 아이템이 나온 순번의 역수 값으로 정답 아이템이 추천 결과 앞쪽 순번에 나온다면 지표가 높아질 것이고 뒤쪽에 나오거나 안나온다면 지표가 낮아질 것."
   ]
  },
  {
   "cell_type": "code",
   "execution_count": 29,
   "id": "e0a8bc39",
   "metadata": {},
   "outputs": [],
   "source": [
    "#Evaluation Metric\n",
    "\n",
    "def mrr_k(pred, truth: int, k: int):\n",
    "    indexing = np.where(pred[:k] == truth)[0]\n",
    "    if len(indexing) > 0:\n",
    "        return 1 / (indexing[0] + 1)\n",
    "    else:\n",
    "        return 0\n",
    "\n",
    "\n",
    "def recall_k(pred, truth: int, k: int) -> int:\n",
    "    answer = truth in pred[:k]\n",
    "    return int(answer)"
   ]
  },
  {
   "cell_type": "code",
   "execution_count": 30,
   "id": "b686a635",
   "metadata": {},
   "outputs": [],
   "source": [
    "from tensorflow.keras.layers import Input, Dense, Dropout, GRU\n",
    "from tensorflow.keras.losses import categorical_crossentropy\n",
    "from tensorflow.keras.models import Model\n",
    "from tensorflow.keras.optimizers import Adam\n",
    "from tensorflow.keras.optimizers import RMSprop\n",
    "from tensorflow.keras.utils import to_categorical\n",
    "from tqdm import tqdm"
   ]
  },
  {
   "cell_type": "code",
   "execution_count": 31,
   "id": "2a10c309",
   "metadata": {},
   "outputs": [],
   "source": [
    "def create_model(args):\n",
    "    inputs = Input(batch_shape=(args.batch_size, 1, args.num_items))\n",
    "    gru, _ = GRU(args.hsz, stateful=True, return_state=True, name='GRU')(inputs)\n",
    "    dropout = Dropout(args.drop_rate)(gru)\n",
    "    predictions = Dense(args.num_items, activation='softmax')(dropout)\n",
    "    model = Model(inputs=inputs, outputs=[predictions])\n",
    "    model.compile(loss=categorical_crossentropy, optimizer=RMSprop(args.lr), metrics=['accuracy'])\n",
    "    model.summary()\n",
    "    return model"
   ]
  },
  {
   "cell_type": "code",
   "execution_count": 37,
   "id": "02c68d65",
   "metadata": {},
   "outputs": [],
   "source": [
    "#모델에 사용할 hyper-parameter를 class형식으로 관리\n",
    "\n",
    "class Args:\n",
    "    def __init__(self, train, val, test, batch_size, hsz, drop_rate, lr, epochs, k):\n",
    "        self.train = train\n",
    "        self.val = val\n",
    "        self.test = test\n",
    "        self.num_items = train['ItemId'].nunique()\n",
    "        self.num_sessions = train['SessionId'].nunique()\n",
    "        self.batch_size = batch_size\n",
    "        self.hsz = hsz\n",
    "        self.drop_rate = drop_rate\n",
    "        self.lr = lr\n",
    "        self.epochs = epochs\n",
    "        self.k = k\n",
    "\n",
    "#args = Args(train, val, test, batch_size=128, hsz=50, drop_rate=0.1, lr=0.001, epochs=15, k=20)\n",
    "args = Args(train, val, test, batch_size=256, hsz=50, drop_rate=0.1, lr=0.0001, epochs=20, k=20)"
   ]
  },
  {
   "cell_type": "markdown",
   "id": "370799a6",
   "metadata": {},
   "source": [
    "### MRR의 수치가 올라갈수록 추천 결과가 정답 결과와 가깝게 나왔다는 것 \n",
    "### case1.batch_size=128, hsz=50, drop_rate=0.1, lr=0.001, epochs=15, k=20\n",
    "- Recall@20: 0.220982\n",
    "- MRR@20: 0.086334\n",
    "  \n",
    "### case2.batch_size=256, hsz=50, drop_rate=0.1, lr=0.001, epochs=15, k=20\n",
    "- Recall@20: 0.227865\n",
    "- MRR@20: 0.100683\n",
    "       \n",
    "### case3.batch_size=512, hsz=50, drop_rate=0.1, lr=0.001, epochs=15, k=20\n",
    "- Recall@20: 0.236328\n",
    "- MRR@20: 0.073218\n",
    "  \n",
    "### case4.batch_size=256, hsz=50, drop_rate=0.1, lr=0.001, epochs=20, k=20\n",
    "- Recall@20: 0.246094\n",
    "- MRR@20: 0.094746\n",
    "  \n",
    "### case5.batch_size=256, hsz=50, drop_rate=0.1, lr=0.0001, epochs=20, k=20\n",
    "- Recall@20: 0.143229\n",
    "- MRR@20: 0.051592    \n"
   ]
  },
  {
   "cell_type": "code",
   "execution_count": 38,
   "id": "12197556",
   "metadata": {},
   "outputs": [
    {
     "name": "stdout",
     "output_type": "stream",
     "text": [
      "Model: \"model_1\"\n",
      "_________________________________________________________________\n",
      "Layer (type)                 Output Shape              Param #   \n",
      "=================================================================\n",
      "input_2 (InputLayer)         [(256, 1, 3612)]          0         \n",
      "_________________________________________________________________\n",
      "GRU (GRU)                    [(256, 50), (256, 50)]    549600    \n",
      "_________________________________________________________________\n",
      "dropout_1 (Dropout)          (256, 50)                 0         \n",
      "_________________________________________________________________\n",
      "dense_1 (Dense)              (256, 3612)               184212    \n",
      "=================================================================\n",
      "Total params: 733,812\n",
      "Trainable params: 733,812\n",
      "Non-trainable params: 0\n",
      "_________________________________________________________________\n"
     ]
    }
   ],
   "source": [
    "model = create_model(args)"
   ]
  },
  {
   "cell_type": "markdown",
   "id": "01c19b7b",
   "metadata": {},
   "source": [
    "### model 훈련 "
   ]
  },
  {
   "cell_type": "code",
   "execution_count": 39,
   "id": "0960f223",
   "metadata": {},
   "outputs": [],
   "source": [
    "#train 셋으로 학습하면서 valid 셋으로 검증.\n",
    "def train_model(model, args):\n",
    "    train_dataset = SessionDataset(args.train)\n",
    "    train_loader = SessionDataLoader(train_dataset, batch_size=args.batch_size)\n",
    "\n",
    "    for epoch in range(1, args.epochs + 1):\n",
    "        total_step = len(args.train) - args.train['SessionId'].nunique()\n",
    "        tr_loader = tqdm(train_loader, total=total_step // args.batch_size, desc='Train', mininterval=1)\n",
    "        for feat, target, mask in tr_loader:\n",
    "            reset_hidden_states(model, mask)  #종료된 session은 hidden_state를 초기화. 아래 메서드에서 확인할 수 있음.\n",
    "\n",
    "            input_ohe = to_categorical(feat, num_classes=args.num_items)\n",
    "            input_ohe = np.expand_dims(input_ohe, axis=1)\n",
    "            target_ohe = to_categorical(target, num_classes=args.num_items)\n",
    "\n",
    "            result = model.train_on_batch(input_ohe, target_ohe)\n",
    "            tr_loader.set_postfix(train_loss=result[0], accuracy = result[1])\n",
    "\n",
    "        val_recall, val_mrr = get_metrics(args.val, model, args, args.k)  #valid set에 대해 검증.\n",
    "\n",
    "        print(f\"\\t - Recall@{args.k} epoch {epoch}: {val_recall:3f}\")\n",
    "        print(f\"\\t - MRR@{args.k}    epoch {epoch}: {val_mrr:3f}\\n\")\n",
    "\n",
    "def reset_hidden_states(model, mask):\n",
    "    gru_layer = model.get_layer(name='GRU')  #model에서 gru layer를 가져옴.\n",
    "    hidden_states = gru_layer.states[0].numpy()  #gru_layer의 parameter를 가져옴.\n",
    "    for elt in mask:  #mask된 인덱스 즉, 종료된 세션의 인덱스를 돌면서\n",
    "        hidden_states[elt, :] = 0  #parameter를 초기화 함.\n",
    "    gru_layer.reset_states(states=hidden_states)\n",
    "\n",
    "#valid셋과 test셋을 평가하는 코드\n",
    "def get_metrics(data, model, args, k: int): \n",
    "    \n",
    "    #train과 거의 같지만 mrr, recall을 구하는 라인이 있음.\n",
    "    dataset = SessionDataset(data)\n",
    "    loader = SessionDataLoader(dataset, batch_size=args.batch_size)\n",
    "    recall_list, mrr_list = [], []\n",
    "\n",
    "    total_step = len(data) - data['SessionId'].nunique()\n",
    "    for inputs, label, mask in tqdm(loader, total=total_step // args.batch_size, desc='Evaluation', mininterval=1):\n",
    "        reset_hidden_states(model, mask)\n",
    "        input_ohe = to_categorical(inputs, num_classes=args.num_items)\n",
    "        input_ohe = np.expand_dims(input_ohe, axis=1)\n",
    "\n",
    "        pred = model.predict(input_ohe, batch_size=args.batch_size)\n",
    "        pred_arg = tf.argsort(pred, direction='DESCENDING')  #softmax 값이 큰 순서대로 sorting.\n",
    "\n",
    "        length = len(inputs)\n",
    "        recall_list.extend([recall_k(pred_arg[i], label[i], k) for i in range(length)])\n",
    "        mrr_list.extend([mrr_k(pred_arg[i], label[i], k) for i in range(length)])\n",
    "\n",
    "    recall, mrr = np.mean(recall_list), np.mean(mrr_list)\n",
    "    return recall, mrr"
   ]
  },
  {
   "cell_type": "code",
   "execution_count": 40,
   "id": "f76b6b0e",
   "metadata": {},
   "outputs": [
    {
     "name": "stderr",
     "output_type": "stream",
     "text": [
      "Train: 100%|█████████▉| 1582/1583 [00:36<00:00, 43.34it/s, accuracy=0.00391, train_loss=7.44]\n",
      "Evaluation:  96%|█████████▌| 24/25 [00:26<00:01,  1.11s/it]\n"
     ]
    },
    {
     "name": "stdout",
     "output_type": "stream",
     "text": [
      "\t - Recall@20 epoch 1: 0.048665\n",
      "\t - MRR@20    epoch 1: 0.010453\n",
      "\n"
     ]
    },
    {
     "name": "stderr",
     "output_type": "stream",
     "text": [
      "Train: 100%|█████████▉| 1582/1583 [00:34<00:00, 46.22it/s, accuracy=0, train_loss=7.41]      \n",
      "Evaluation:  96%|█████████▌| 24/25 [00:26<00:01,  1.10s/it]\n"
     ]
    },
    {
     "name": "stdout",
     "output_type": "stream",
     "text": [
      "\t - Recall@20 epoch 2: 0.048503\n",
      "\t - MRR@20    epoch 2: 0.010432\n",
      "\n"
     ]
    },
    {
     "name": "stderr",
     "output_type": "stream",
     "text": [
      "Train: 100%|█████████▉| 1582/1583 [00:34<00:00, 46.39it/s, accuracy=0.00391, train_loss=7.4] \n",
      "Evaluation:  96%|█████████▌| 24/25 [00:26<00:01,  1.10s/it]\n"
     ]
    },
    {
     "name": "stdout",
     "output_type": "stream",
     "text": [
      "\t - Recall@20 epoch 3: 0.050618\n",
      "\t - MRR@20    epoch 3: 0.011777\n",
      "\n"
     ]
    },
    {
     "name": "stderr",
     "output_type": "stream",
     "text": [
      "Train: 100%|█████████▉| 1582/1583 [00:33<00:00, 46.54it/s, accuracy=0.0117, train_loss=7.35] \n",
      "Evaluation:  96%|█████████▌| 24/25 [00:26<00:01,  1.10s/it]\n"
     ]
    },
    {
     "name": "stdout",
     "output_type": "stream",
     "text": [
      "\t - Recall@20 epoch 4: 0.054525\n",
      "\t - MRR@20    epoch 4: 0.012821\n",
      "\n"
     ]
    },
    {
     "name": "stderr",
     "output_type": "stream",
     "text": [
      "Train: 100%|█████████▉| 1582/1583 [00:33<00:00, 47.15it/s, accuracy=0.0156, train_loss=7.28] \n",
      "Evaluation:  96%|█████████▌| 24/25 [00:26<00:01,  1.09s/it]\n"
     ]
    },
    {
     "name": "stdout",
     "output_type": "stream",
     "text": [
      "\t - Recall@20 epoch 5: 0.056966\n",
      "\t - MRR@20    epoch 5: 0.013708\n",
      "\n"
     ]
    },
    {
     "name": "stderr",
     "output_type": "stream",
     "text": [
      "Train: 100%|█████████▉| 1582/1583 [00:33<00:00, 46.74it/s, accuracy=0.0156, train_loss=7.24] \n",
      "Evaluation:  96%|█████████▌| 24/25 [00:26<00:01,  1.10s/it]\n"
     ]
    },
    {
     "name": "stdout",
     "output_type": "stream",
     "text": [
      "\t - Recall@20 epoch 6: 0.062174\n",
      "\t - MRR@20    epoch 6: 0.014934\n",
      "\n"
     ]
    },
    {
     "name": "stderr",
     "output_type": "stream",
     "text": [
      "Train: 100%|█████████▉| 1582/1583 [00:33<00:00, 47.42it/s, accuracy=0.0156, train_loss=7.21] \n",
      "Evaluation:  96%|█████████▌| 24/25 [00:26<00:01,  1.09s/it]\n"
     ]
    },
    {
     "name": "stdout",
     "output_type": "stream",
     "text": [
      "\t - Recall@20 epoch 7: 0.065755\n",
      "\t - MRR@20    epoch 7: 0.016128\n",
      "\n"
     ]
    },
    {
     "name": "stderr",
     "output_type": "stream",
     "text": [
      "Train: 100%|█████████▉| 1582/1583 [00:33<00:00, 46.64it/s, accuracy=0.0234, train_loss=7.17] \n",
      "Evaluation:  96%|█████████▌| 24/25 [00:26<00:01,  1.09s/it]\n"
     ]
    },
    {
     "name": "stdout",
     "output_type": "stream",
     "text": [
      "\t - Recall@20 epoch 8: 0.068848\n",
      "\t - MRR@20    epoch 8: 0.017166\n",
      "\n"
     ]
    },
    {
     "name": "stderr",
     "output_type": "stream",
     "text": [
      "Train: 100%|█████████▉| 1582/1583 [00:33<00:00, 47.34it/s, accuracy=0.0312, train_loss=7.11] \n",
      "Evaluation:  96%|█████████▌| 24/25 [00:25<00:01,  1.08s/it]\n"
     ]
    },
    {
     "name": "stdout",
     "output_type": "stream",
     "text": [
      "\t - Recall@20 epoch 9: 0.074056\n",
      "\t - MRR@20    epoch 9: 0.019487\n",
      "\n"
     ]
    },
    {
     "name": "stderr",
     "output_type": "stream",
     "text": [
      "Train: 100%|█████████▉| 1582/1583 [00:32<00:00, 48.25it/s, accuracy=0.0352, train_loss=7.08] \n",
      "Evaluation:  96%|█████████▌| 24/25 [00:25<00:01,  1.08s/it]\n"
     ]
    },
    {
     "name": "stdout",
     "output_type": "stream",
     "text": [
      "\t - Recall@20 epoch 10: 0.081706\n",
      "\t - MRR@20    epoch 10: 0.021995\n",
      "\n"
     ]
    },
    {
     "name": "stderr",
     "output_type": "stream",
     "text": [
      "Train: 100%|█████████▉| 1582/1583 [00:32<00:00, 48.52it/s, accuracy=0.0391, train_loss=7.03] \n",
      "Evaluation:  96%|█████████▌| 24/25 [00:25<00:01,  1.08s/it]\n"
     ]
    },
    {
     "name": "stdout",
     "output_type": "stream",
     "text": [
      "\t - Recall@20 epoch 11: 0.089518\n",
      "\t - MRR@20    epoch 11: 0.023535\n",
      "\n"
     ]
    },
    {
     "name": "stderr",
     "output_type": "stream",
     "text": [
      "Train: 100%|█████████▉| 1582/1583 [00:32<00:00, 48.41it/s, accuracy=0.0352, train_loss=6.99] \n",
      "Evaluation:  96%|█████████▌| 24/25 [00:25<00:01,  1.07s/it]\n"
     ]
    },
    {
     "name": "stdout",
     "output_type": "stream",
     "text": [
      "\t - Recall@20 epoch 12: 0.096517\n",
      "\t - MRR@20    epoch 12: 0.026411\n",
      "\n"
     ]
    },
    {
     "name": "stderr",
     "output_type": "stream",
     "text": [
      "Train: 100%|█████████▉| 1582/1583 [00:32<00:00, 48.10it/s, accuracy=0.0352, train_loss=6.96] \n",
      "Evaluation:  96%|█████████▌| 24/25 [00:25<00:01,  1.07s/it]\n"
     ]
    },
    {
     "name": "stdout",
     "output_type": "stream",
     "text": [
      "\t - Recall@20 epoch 13: 0.104004\n",
      "\t - MRR@20    epoch 13: 0.029072\n",
      "\n"
     ]
    },
    {
     "name": "stderr",
     "output_type": "stream",
     "text": [
      "Train: 100%|█████████▉| 1582/1583 [00:32<00:00, 48.25it/s, accuracy=0.0352, train_loss=6.91] \n",
      "Evaluation:  96%|█████████▌| 24/25 [00:25<00:01,  1.06s/it]\n"
     ]
    },
    {
     "name": "stdout",
     "output_type": "stream",
     "text": [
      "\t - Recall@20 epoch 14: 0.112142\n",
      "\t - MRR@20    epoch 14: 0.030639\n",
      "\n"
     ]
    },
    {
     "name": "stderr",
     "output_type": "stream",
     "text": [
      "Train: 100%|█████████▉| 1582/1583 [00:32<00:00, 48.37it/s, accuracy=0.0391, train_loss=6.89] \n",
      "Evaluation:  96%|█████████▌| 24/25 [00:25<00:01,  1.06s/it]\n"
     ]
    },
    {
     "name": "stdout",
     "output_type": "stream",
     "text": [
      "\t - Recall@20 epoch 15: 0.117513\n",
      "\t - MRR@20    epoch 15: 0.033027\n",
      "\n"
     ]
    },
    {
     "name": "stderr",
     "output_type": "stream",
     "text": [
      "Train: 100%|█████████▉| 1582/1583 [00:32<00:00, 48.24it/s, accuracy=0.0391, train_loss=6.87] \n",
      "Evaluation:  96%|█████████▌| 24/25 [00:25<00:01,  1.05s/it]\n"
     ]
    },
    {
     "name": "stdout",
     "output_type": "stream",
     "text": [
      "\t - Recall@20 epoch 16: 0.124186\n",
      "\t - MRR@20    epoch 16: 0.035462\n",
      "\n"
     ]
    },
    {
     "name": "stderr",
     "output_type": "stream",
     "text": [
      "Train: 100%|█████████▉| 1582/1583 [00:33<00:00, 47.86it/s, accuracy=0.043, train_loss=6.85]  \n",
      "Evaluation:  96%|█████████▌| 24/25 [00:25<00:01,  1.05s/it]\n"
     ]
    },
    {
     "name": "stdout",
     "output_type": "stream",
     "text": [
      "\t - Recall@20 epoch 17: 0.131022\n",
      "\t - MRR@20    epoch 17: 0.038052\n",
      "\n"
     ]
    },
    {
     "name": "stderr",
     "output_type": "stream",
     "text": [
      "Train: 100%|█████████▉| 1582/1583 [00:32<00:00, 48.02it/s, accuracy=0.043, train_loss=6.85]  \n",
      "Evaluation:  96%|█████████▌| 24/25 [00:25<00:01,  1.05s/it]\n"
     ]
    },
    {
     "name": "stdout",
     "output_type": "stream",
     "text": [
      "\t - Recall@20 epoch 18: 0.136882\n",
      "\t - MRR@20    epoch 18: 0.040386\n",
      "\n"
     ]
    },
    {
     "name": "stderr",
     "output_type": "stream",
     "text": [
      "Train: 100%|█████████▉| 1582/1583 [00:32<00:00, 48.22it/s, accuracy=0.043, train_loss=6.82]  \n",
      "Evaluation:  96%|█████████▌| 24/25 [00:25<00:01,  1.04s/it]\n"
     ]
    },
    {
     "name": "stdout",
     "output_type": "stream",
     "text": [
      "\t - Recall@20 epoch 19: 0.140788\n",
      "\t - MRR@20    epoch 19: 0.042779\n",
      "\n"
     ]
    },
    {
     "name": "stderr",
     "output_type": "stream",
     "text": [
      "Train: 100%|█████████▉| 1582/1583 [00:32<00:00, 48.53it/s, accuracy=0.0469, train_loss=6.77] \n",
      "Evaluation:  96%|█████████▌| 24/25 [00:25<00:01,  1.04s/it]"
     ]
    },
    {
     "name": "stdout",
     "output_type": "stream",
     "text": [
      "\t - Recall@20 epoch 20: 0.146322\n",
      "\t - MRR@20    epoch 20: 0.044513\n",
      "\n"
     ]
    },
    {
     "name": "stderr",
     "output_type": "stream",
     "text": [
      "\n"
     ]
    }
   ],
   "source": [
    "train_model(model, args)"
   ]
  },
  {
   "cell_type": "markdown",
   "id": "9d728060",
   "metadata": {},
   "source": [
    "### 최종 성능 확인"
   ]
  },
  {
   "cell_type": "code",
   "execution_count": 41,
   "id": "9e76a479",
   "metadata": {},
   "outputs": [
    {
     "name": "stderr",
     "output_type": "stream",
     "text": [
      "Evaluation:  75%|███████▌  | 3/4 [00:03<00:01,  1.04s/it]"
     ]
    },
    {
     "name": "stdout",
     "output_type": "stream",
     "text": [
      "\t - Recall@20: 0.143229\n",
      "\t - MRR@20: 0.051592\n",
      "\n"
     ]
    },
    {
     "name": "stderr",
     "output_type": "stream",
     "text": [
      "\n"
     ]
    }
   ],
   "source": [
    "def test_model(model, args, test):\n",
    "    test_recall, test_mrr = get_metrics(test, model, args, 20)\n",
    "    print(f\"\\t - Recall@{args.k}: {test_recall:3f}\")\n",
    "    print(f\"\\t - MRR@{args.k}: {test_mrr:3f}\\n\")\n",
    "\n",
    "test_model(model, args, test)"
   ]
  },
  {
   "cell_type": "markdown",
   "id": "e0fcdc46",
   "metadata": {},
   "source": [
    "### Discussion  \n",
    "- movielens 데이터에 장르와 영화 제목, 개봉년도도 있었던 걸로 기억하는데 다음번엔 이런 feature도 함께 사용해 봐야겠다.  \n",
    "- 아직 session baed recommendation에 대한 이해가 부족해 더 깊게 공부해야겠다.  \n",
    "- batch_size=256, hsz=50, drop_rate=0.1, lr=0.001, epochs=20, k=20 일 때 가장 결과가 좋았다. \n",
    "- Recall@20: 0.246094\n",
    "- MRR@20: 0.094746"
   ]
  }
 ],
 "metadata": {
  "kernelspec": {
   "display_name": "Python 3 (ipykernel)",
   "language": "python",
   "name": "python3"
  },
  "language_info": {
   "codemirror_mode": {
    "name": "ipython",
    "version": 3
   },
   "file_extension": ".py",
   "mimetype": "text/x-python",
   "name": "python",
   "nbconvert_exporter": "python",
   "pygments_lexer": "ipython3",
   "version": "3.9.7"
  }
 },
 "nbformat": 4,
 "nbformat_minor": 5
}
